{
 "cells": [
  {
   "cell_type": "markdown",
   "metadata": {},
   "source": [
    "### Reviewing Logging in Python\n",
    "\n",
    "- Logging provides a extra set of eyes to watch the program flow while developing\n",
    "\n",
    "- Get the state of the program before the error occurred\n",
    "\n",
    "- Logging data can be used while scaling up\n",
    "\n",
    "We will be using the Python's logging module for this purpose...\n",
    "\n",
    "There are 5 standard levels of severity \n",
    "\n",
    "1 - DEBUG\n",
    "\n",
    "2 - INFO\n",
    "\n",
    "3 - WARNING\n",
    "\n",
    "4 - ERROR\n",
    "\n",
    "5 - CRITICAL"
   ]
  },
  {
   "cell_type": "code",
   "execution_count": 1,
   "metadata": {},
   "outputs": [
    {
     "name": "stderr",
     "output_type": "stream",
     "text": [
      "WARNING:root:this is warning\n",
      "ERROR:root:this is error\n",
      "CRITICAL:root:this is critical\n"
     ]
    }
   ],
   "source": [
    "import logging\n",
    "\n",
    "logging.debug(\"this is debug\")\n",
    "logging.info(\"this is info\")\n",
    "logging.warning(\"this is warning\")\n",
    "logging.error(\"this is error\")\n",
    "logging.critical(\"this is critical\")\n",
    "\n",
    "# Root is the default name of the logger"
   ]
  },
  {
   "cell_type": "markdown",
   "metadata": {},
   "source": [
    "#### Using basicConfig() to modify the logger\n",
    "\n",
    "\n",
    "level: The root logger will be set for specified security level \n",
    "\n",
    "filename: This specifies the file for logs\n",
    "\n",
    "filemode: The given filename is opened in this mode. Default is 'a'\n",
    "\n",
    "format: This is the format of log message"
   ]
  },
  {
   "cell_type": "code",
   "execution_count": 2,
   "metadata": {},
   "outputs": [],
   "source": [
    "# Creating the basic config for the logger using class. Need to restart the Kernel to work if earlier \n",
    "# cell is executed\n",
    "import logging \n",
    "\n",
    "logging.basicConfig(level='debug', name='newLog', filename='logger.txt', format='%(name)s - %(levelname)s')\n",
    "\n",
    "logging.info(\"this is info\")\n",
    "logging.warning(\"this is warning\")\n",
    "logging.error(\"this is error\")\n",
    "logging.critical(\"this is critical\")"
   ]
  },
  {
   "cell_type": "code",
   "execution_count": 1,
   "metadata": {},
   "outputs": [],
   "source": [
    "# Python locks the file that it is using to log\n",
    "\n",
    "import logging\n",
    "\n",
    "logging.basicConfig(filename='newlogger.txt', format=\"%(name)s - %(message)s\")\n",
    "logging.warning(\"This is warning\")\n",
    "logging.critical(\"This is critical\")"
   ]
  },
  {
   "cell_type": "code",
   "execution_count": null,
   "metadata": {},
   "outputs": [],
   "source": []
  },
  {
   "cell_type": "code",
   "execution_count": null,
   "metadata": {},
   "outputs": [],
   "source": []
  },
  {
   "cell_type": "code",
   "execution_count": null,
   "metadata": {},
   "outputs": [],
   "source": []
  }
 ],
 "metadata": {
  "kernelspec": {
   "display_name": "Python 3",
   "language": "python",
   "name": "python3"
  },
  "language_info": {
   "codemirror_mode": {
    "name": "ipython",
    "version": 3
   },
   "file_extension": ".py",
   "mimetype": "text/x-python",
   "name": "python",
   "nbconvert_exporter": "python",
   "pygments_lexer": "ipython3",
   "version": "3.11.4"
  }
 },
 "nbformat": 4,
 "nbformat_minor": 2
}
