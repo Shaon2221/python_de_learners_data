{
 "cells": [
  {
   "cell_type": "markdown",
   "metadata": {},
   "source": [
    "Inheritance & Composition in Python are two important concepts in Object Oriented programming that model the relation\n",
    "between two classes\n",
    "\n",
    "What to Expect by end of this notebook\n",
    "\n",
    "- Use inheritance in Python\n",
    "\n",
    "- Model class hierarchies using inheritance\n",
    "\n",
    "- Use multiple inheritance in Python and understand its drawbacks\n",
    "\n",
    "- Use composition to create complex objects\n",
    "\n",
    "- Reuse existing code by applying composition\n",
    "\n",
    "- Change application behavior at run-time through composition\n",
    "\n",
    "In an inheritance relationship:\n",
    "\n",
    "* Classes that inherit from another are called derived classes, subclasses, or subtypes.\n",
    "\n",
    "* Classes from which other classes are derived are called base classes or super classes.\n",
    "\n",
    "* A derived class is said to derive, inherit, or extend a base class.\n",
    "\n",
    "* Inheritance models a **is a** relationship\n",
    "\n",
    "### Derived class can replace the Base class in the application\n",
    "\n",
    "**Liskov Substituition principle** states that “in a computer program, if S is a subtype of T, then objects of type T may be replaced with objects of type S without altering any of the desired properties of the program"
   ]
  },
  {
   "attachments": {
    "image.png": {
     "image/png": "[encoded data removed]"
    }
   },
   "cell_type": "markdown",
   "metadata": {},
   "source": [
    "![image.png](attachment:image.png)"
   ]
  },
  {
   "cell_type": "markdown",
   "metadata": {},
   "source": [
    "Composition is a concept that models a **has a** relationship. It enables creating complex types by combining objects of other types. This means that a class Composite can contain an object of another class Component. \n",
    "\n",
    "This relationship means that a Composite has a Component.\n",
    "\n",
    "- Classes that contain objects of other classes are usually referred to as **composites**, \n",
    "\n",
    "- Classes that are used to create more complex types are referred to as **components**."
   ]
  },
  {
   "attachments": {
    "image.png": {
     "image/png": "[encoded data removed]"
    }
   },
   "cell_type": "markdown",
   "metadata": {},
   "source": [
    "![image.png](attachment:image.png)"
   ]
  },
  {
   "cell_type": "code",
   "execution_count": 1,
   "metadata": {},
   "outputs": [
    {
     "data": {
      "text/plain": [
       "['__class__',\n",
       " '__delattr__',\n",
       " '__dict__',\n",
       " '__dir__',\n",
       " '__doc__',\n",
       " '__eq__',\n",
       " '__format__',\n",
       " '__ge__',\n",
       " '__getattribute__',\n",
       " '__getstate__',\n",
       " '__gt__',\n",
       " '__hash__',\n",
       " '__init__',\n",
       " '__init_subclass__',\n",
       " '__le__',\n",
       " '__lt__',\n",
       " '__module__',\n",
       " '__ne__',\n",
       " '__new__',\n",
       " '__reduce__',\n",
       " '__reduce_ex__',\n",
       " '__repr__',\n",
       " '__setattr__',\n",
       " '__sizeof__',\n",
       " '__str__',\n",
       " '__subclasshook__',\n",
       " '__weakref__']"
      ]
     },
     "execution_count": 1,
     "metadata": {},
     "output_type": "execute_result"
    }
   ],
   "source": [
    "# Simplest possible class\n",
    "\n",
    "class MyClass:\n",
    "   pass\n",
    "\n",
    "c = MyClass()\n",
    "\n",
    "dir(c)"
   ]
  },
  {
   "cell_type": "code",
   "execution_count": 2,
   "metadata": {},
   "outputs": [
    {
     "data": {
      "text/plain": [
       "['__class__',\n",
       " '__delattr__',\n",
       " '__dir__',\n",
       " '__doc__',\n",
       " '__eq__',\n",
       " '__format__',\n",
       " '__ge__',\n",
       " '__getattribute__',\n",
       " '__getstate__',\n",
       " '__gt__',\n",
       " '__hash__',\n",
       " '__init__',\n",
       " '__init_subclass__',\n",
       " '__le__',\n",
       " '__lt__',\n",
       " '__ne__',\n",
       " '__new__',\n",
       " '__reduce__',\n",
       " '__reduce_ex__',\n",
       " '__repr__',\n",
       " '__setattr__',\n",
       " '__sizeof__',\n",
       " '__str__',\n",
       " '__subclasshook__']"
      ]
     },
     "execution_count": 2,
     "metadata": {},
     "output_type": "execute_result"
    }
   ],
   "source": [
    "# There are no members declared for MyClass, where are they coming from? Every python class implicitly derives from object.\n",
    "o = object()\n",
    "dir(o)"
   ]
  },
  {
   "cell_type": "code",
   "execution_count": 4,
   "metadata": {},
   "outputs": [
    {
     "ename": "TypeError",
     "evalue": "exceptions must derive from BaseException",
     "output_type": "error",
     "traceback": [
      "\u001b[1;31m---------------------------------------------------------------------------\u001b[0m",
      "\u001b[1;31mTypeError\u001b[0m                                 Traceback (most recent call last)",
      "\u001b[1;32md:\\gitFolders\\python_de_learners_data\\code_script_notebooks\\jupyter_notebooks\\python_inheritance_composition_uml.ipynb Cell 7\u001b[0m line \u001b[0;36m6\n\u001b[0;32m      <a href='vscode-notebook-cell:/d%3A/gitFolders/python_de_learners_data/code_script_notebooks/jupyter_notebooks/python_inheritance_composition_uml.ipynb#X16sZmlsZQ%3D%3D?line=2'>3</a>\u001b[0m \u001b[39mclass\u001b[39;00m \u001b[39mMyError\u001b[39;00m:\n\u001b[0;32m      <a href='vscode-notebook-cell:/d%3A/gitFolders/python_de_learners_data/code_script_notebooks/jupyter_notebooks/python_inheritance_composition_uml.ipynb#X16sZmlsZQ%3D%3D?line=3'>4</a>\u001b[0m     \u001b[39mpass\u001b[39;00m\n\u001b[1;32m----> <a href='vscode-notebook-cell:/d%3A/gitFolders/python_de_learners_data/code_script_notebooks/jupyter_notebooks/python_inheritance_composition_uml.ipynb#X16sZmlsZQ%3D%3D?line=5'>6</a>\u001b[0m \u001b[39mraise\u001b[39;00m MyError()\n",
      "\u001b[1;31mTypeError\u001b[0m: exceptions must derive from BaseException"
     ]
    }
   ],
   "source": [
    "# The exception to this rule are classes used to indicate errors by raising an exception.\n",
    "\n",
    "class MyError:\n",
    "    pass\n",
    "\n",
    "raise MyError()"
   ]
  },
  {
   "cell_type": "code",
   "execution_count": 5,
   "metadata": {},
   "outputs": [
    {
     "ename": "MyError",
     "evalue": "",
     "output_type": "error",
     "traceback": [
      "\u001b[1;31m---------------------------------------------------------------------------\u001b[0m",
      "\u001b[1;31mMyError\u001b[0m                                   Traceback (most recent call last)",
      "\u001b[1;32md:\\gitFolders\\python_de_learners_data\\code_script_notebooks\\jupyter_notebooks\\python_inheritance_composition_uml.ipynb Cell 8\u001b[0m line \u001b[0;36m6\n\u001b[0;32m      <a href='vscode-notebook-cell:/d%3A/gitFolders/python_de_learners_data/code_script_notebooks/jupyter_notebooks/python_inheritance_composition_uml.ipynb#X15sZmlsZQ%3D%3D?line=2'>3</a>\u001b[0m \u001b[39mclass\u001b[39;00m \u001b[39mMyError\u001b[39;00m(\u001b[39mException\u001b[39;00m):\n\u001b[0;32m      <a href='vscode-notebook-cell:/d%3A/gitFolders/python_de_learners_data/code_script_notebooks/jupyter_notebooks/python_inheritance_composition_uml.ipynb#X15sZmlsZQ%3D%3D?line=3'>4</a>\u001b[0m     \u001b[39mpass\u001b[39;00m\n\u001b[1;32m----> <a href='vscode-notebook-cell:/d%3A/gitFolders/python_de_learners_data/code_script_notebooks/jupyter_notebooks/python_inheritance_composition_uml.ipynb#X15sZmlsZQ%3D%3D?line=5'>6</a>\u001b[0m \u001b[39mraise\u001b[39;00m MyError()\n",
      "\u001b[1;31mMyError\u001b[0m: "
     ]
    }
   ],
   "source": [
    "# BaseException is a base class provided for all error types. To create a new error type, you must derive your class from BaseException or one of its derived classes. The convention in Python is to derive your custom error types from Exception, which in turn derives from BaseException.\n",
    "\n",
    "class MyError(Exception):\n",
    "    pass\n",
    "\n",
    "raise MyError()"
   ]
  },
  {
   "cell_type": "markdown",
   "metadata": {},
   "source": [
    "### Creating Class Hierarchies\n",
    "\n",
    "- Related class will have common interface defined in Base Class\n",
    "\n",
    "- Derived class will specialize the interface, for a particular implementation"
   ]
  },
  {
   "cell_type": "code",
   "execution_count": 6,
   "metadata": {},
   "outputs": [],
   "source": [
    "class PayrollSystem:\n",
    "    def calculate_payroll(self, employees):\n",
    "        print(\"calculating payroll\")\n",
    "        print(\"===================\")\n",
    "        for employee in employees:\n",
    "            print(f\"payroll for: {employee.id} - {employee.name}\")\n",
    "            # there is a calculate_payroll method in employee class\n",
    "            print(f\"- check amount: {employee.calculate_payroll()}\")\n",
    "            print(\"\")"
   ]
  },
  {
   "cell_type": "code",
   "execution_count": 7,
   "metadata": {},
   "outputs": [],
   "source": [
    "# implementing base Employee class\n",
    "\n",
    "class Employee:\n",
    "    def __init__(self, id, name):\n",
    "        self.id = id\n",
    "        self.name = name\n",
    "\n",
    "# Employee just needs to have the id and name, at the very basic"
   ]
  },
  {
   "cell_type": "code",
   "execution_count": 8,
   "metadata": {},
   "outputs": [],
   "source": [
    "# HR System requires that every Employee processed must have calculate_payroll() interface\n",
    "# that returns weekly salary. Implementing interface depends on Employee type\n",
    "\n",
    "class SalaryEmployee(Employee):\n",
    "    def __init__(self, id, name, weekly_salary):\n",
    "        # super() helps to initialize the parent class\n",
    "        super().__init__(id, name)\n",
    "        self.weekly_salary = weekly_salary\n",
    "\n",
    "    def calculate_payroll(self):\n",
    "        return self.weekly_salary"
   ]
  },
  {
   "cell_type": "code",
   "execution_count": 9,
   "metadata": {},
   "outputs": [],
   "source": [
    "# There are manufacturing workers who are paid by the hour\n",
    "\n",
    "class HourlyEmployee(Employee):\n",
    "    def __init__(self, id, name, hours_worked, hour_salary):\n",
    "        super().__init__(id, name)\n",
    "        self.hours_worked = hours_worked\n",
    "        self.hour_salary = hour_salary\n",
    "\n",
    "    def calculate_payroll(self):\n",
    "        return self.hour_salary * self.hours_worked"
   ]
  },
  {
   "cell_type": "code",
   "execution_count": 20,
   "metadata": {},
   "outputs": [],
   "source": [
    "# There are associates who are paid fixed. Associate is a Salary Employee. \n",
    "# which means this Associate has to extend SalaryEmployee only\n",
    "\n",
    "\n",
    "class AssociateEmployee(SalaryEmployee):\n",
    "    def __init__(self, id, name, weekly_salary, commision):\n",
    "        super().__init__(id, name, weekly_salary)\n",
    "        self.commision = commision\n",
    "\n",
    "    def calculate_payroll(self):\n",
    "        # do the fixed salary as per the \n",
    "        fixed = super().calculate_payroll()\n",
    "        # .calculate_payroll() leverages the implementation of the base class to retrieve the fixed salary and adds the commission value.\n",
    "        return fixed + self.commision"
   ]
  },
  {
   "cell_type": "markdown",
   "metadata": {},
   "source": [
    "Interfaces are represented similarly to classes with the word interface above the interface name. Interface names are usually prefixed with a capital I.\n",
    "\n",
    "The derived classes implement the IPayrollCalculator interface, which is required by the PayrollSystem."
   ]
  },
  {
   "cell_type": "code",
   "execution_count": 18,
   "metadata": {},
   "outputs": [],
   "source": [
    "import logging\n",
    "\n",
    "# create logger\n",
    "logger = logging.getLogger('payroll')\n",
    "# assign level info to logger\n",
    "logger.setLevel(level=logging.INFO)\n",
    "# create handler\n",
    "streamer = logging.StreamHandler()\n",
    "# setlevel for handler\n",
    "streamer.setLevel(level=logging.ERROR)\n",
    "# create formatter\n",
    "stream_formater = logging.Formatter(fmt='%(name)s : %(levelname)s - %(message)s')\n",
    "# attach formatter to handler\n",
    "streamer.setFormatter(stream_formater)\n",
    "# attach handler to logger\n",
    "logger.addHandler(streamer)"
   ]
  },
  {
   "cell_type": "code",
   "execution_count": 21,
   "metadata": {},
   "outputs": [
    {
     "name": "stdout",
     "output_type": "stream",
     "text": [
      "calculating payroll\n",
      "===================\n",
      "payroll for: 1 - jane smith\n",
      "- check amount: 1588\n",
      "\n",
      "payroll for: 2 - doe smith\n",
      "- check amount: 600\n",
      "\n",
      "payroll for: 3 - danny smith\n",
      "- check amount: 1237\n",
      "\n"
     ]
    }
   ],
   "source": [
    "salary_emp = SalaryEmployee(1, 'jane smith', 1588)\n",
    "hourly_emp = HourlyEmployee(2, 'doe smith', 40, 15)\n",
    "assoc_emp = AssociateEmployee(3, 'danny smith', 658, 579)\n",
    "\n",
    "payroll_system = PayrollSystem()\n",
    "\n",
    "try:\n",
    "    payroll_system.calculate_payroll([\n",
    "        salary_emp,\n",
    "        hourly_emp,\n",
    "        assoc_emp\n",
    "    ])\n",
    "except Exception as e:\n",
    "    logger.exception(\"Something is amiss\")"
   ]
  }
 ],
 "metadata": {
  "kernelspec": {
   "display_name": "Python 3",
   "language": "python",
   "name": "python3"
  },
  "language_info": {
   "codemirror_mode": {
    "name": "ipython",
    "version": 3
   },
   "file_extension": ".py",
   "mimetype": "text/x-python",
   "name": "python",
   "nbconvert_exporter": "python",
   "pygments_lexer": "ipython3",
   "version": "3.11.4"
  }
 },
 "nbformat": 4,
 "nbformat_minor": 2
}
