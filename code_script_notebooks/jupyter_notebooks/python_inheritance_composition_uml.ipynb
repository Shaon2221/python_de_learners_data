{
 "cells": [
  {
   "cell_type": "markdown",
   "metadata": {},
   "source": [
    "Inheritance & Composition in Python are two important concepts in Object Oriented programming that model the relation\n",
    "between two classes\n",
    "\n",
    "What to Expect by end of this notebook\n",
    "\n",
    "- Use inheritance in Python\n",
    "\n",
    "- Model class hierarchies using inheritance\n",
    "\n",
    "- Use multiple inheritance in Python and understand its drawbacks\n",
    "\n",
    "- Use composition to create complex objects\n",
    "\n",
    "- Reuse existing code by applying composition\n",
    "\n",
    "- Change application behavior at run-time through composition\n",
    "\n",
    "In an inheritance relationship:\n",
    "\n",
    "* Classes that inherit from another are called derived classes, subclasses, or subtypes.\n",
    "\n",
    "* Classes from which other classes are derived are called base classes or super classes.\n",
    "\n",
    "* A derived class is said to derive, inherit, or extend a base class.\n",
    "\n",
    "* Inheritance models a **is a** relationship\n",
    "\n",
    "### Derived class can replace the Base class in the application\n",
    "\n",
    "**Liskov Substituition principle** states that “in a computer program, if S is a subtype of T, then objects of type T may be replaced with objects of type S without altering any of the desired properties of the program"
   ]
  },
  {
   "attachments": {
    "image.png": {
     "image/png": "[encoded data removed]"
    }
   },
   "cell_type": "markdown",
   "metadata": {},
   "source": [
    "![image.png](attachment:image.png)"
   ]
  },
  {
   "cell_type": "markdown",
   "metadata": {},
   "source": [
    "Composition is a concept that models a **has a** relationship. It enables creating complex types by combining objects of other types. This means that a class Composite can contain an object of another class Component. \n",
    "\n",
    "This relationship means that a Composite has a Component.\n",
    "\n",
    "- Classes that contain objects of other classes are usually referred to as **composites**, \n",
    "\n",
    "- Classes that are used to create more complex types are referred to as **components**."
   ]
  },
  {
   "attachments": {
    "image.png": {
     "image/png": "[encoded data removed]"
    }
   },
   "cell_type": "markdown",
   "metadata": {},
   "source": [
    "![image.png](attachment:image.png)"
   ]
  },
  {
   "cell_type": "code",
   "execution_count": 1,
   "metadata": {},
   "outputs": [
    {
     "data": {
      "text/plain": [
       "['__class__',\n",
       " '__delattr__',\n",
       " '__dict__',\n",
       " '__dir__',\n",
       " '__doc__',\n",
       " '__eq__',\n",
       " '__format__',\n",
       " '__ge__',\n",
       " '__getattribute__',\n",
       " '__getstate__',\n",
       " '__gt__',\n",
       " '__hash__',\n",
       " '__init__',\n",
       " '__init_subclass__',\n",
       " '__le__',\n",
       " '__lt__',\n",
       " '__module__',\n",
       " '__ne__',\n",
       " '__new__',\n",
       " '__reduce__',\n",
       " '__reduce_ex__',\n",
       " '__repr__',\n",
       " '__setattr__',\n",
       " '__sizeof__',\n",
       " '__str__',\n",
       " '__subclasshook__',\n",
       " '__weakref__']"
      ]
     },
     "execution_count": 1,
     "metadata": {},
     "output_type": "execute_result"
    }
   ],
   "source": [
    "# Simplest possible class\n",
    "\n",
    "class MyClass:\n",
    "   pass\n",
    "\n",
    "c = MyClass()\n",
    "\n",
    "dir(c)"
   ]
  },
  {
   "cell_type": "code",
   "execution_count": 2,
   "metadata": {},
   "outputs": [
    {
     "data": {
      "text/plain": [
       "['__class__',\n",
       " '__delattr__',\n",
       " '__dir__',\n",
       " '__doc__',\n",
       " '__eq__',\n",
       " '__format__',\n",
       " '__ge__',\n",
       " '__getattribute__',\n",
       " '__getstate__',\n",
       " '__gt__',\n",
       " '__hash__',\n",
       " '__init__',\n",
       " '__init_subclass__',\n",
       " '__le__',\n",
       " '__lt__',\n",
       " '__ne__',\n",
       " '__new__',\n",
       " '__reduce__',\n",
       " '__reduce_ex__',\n",
       " '__repr__',\n",
       " '__setattr__',\n",
       " '__sizeof__',\n",
       " '__str__',\n",
       " '__subclasshook__']"
      ]
     },
     "execution_count": 2,
     "metadata": {},
     "output_type": "execute_result"
    }
   ],
   "source": [
    "# There are no members declared for MyClass, where are they coming from? Every python class implicitly derives from object.\n",
    "o = object()\n",
    "dir(o)"
   ]
  },
  {
   "cell_type": "code",
   "execution_count": 4,
   "metadata": {},
   "outputs": [
    {
     "ename": "TypeError",
     "evalue": "exceptions must derive from BaseException",
     "output_type": "error",
     "traceback": [
      "\u001b[1;31m---------------------------------------------------------------------------\u001b[0m",
      "\u001b[1;31mTypeError\u001b[0m                                 Traceback (most recent call last)",
      "\u001b[1;32md:\\gitFolders\\python_de_learners_data\\code_script_notebooks\\jupyter_notebooks\\python_inheritance_composition_uml.ipynb Cell 7\u001b[0m line \u001b[0;36m6\n\u001b[0;32m      <a href='vscode-notebook-cell:/d%3A/gitFolders/python_de_learners_data/code_script_notebooks/jupyter_notebooks/python_inheritance_composition_uml.ipynb#X16sZmlsZQ%3D%3D?line=2'>3</a>\u001b[0m \u001b[39mclass\u001b[39;00m \u001b[39mMyError\u001b[39;00m:\n\u001b[0;32m      <a href='vscode-notebook-cell:/d%3A/gitFolders/python_de_learners_data/code_script_notebooks/jupyter_notebooks/python_inheritance_composition_uml.ipynb#X16sZmlsZQ%3D%3D?line=3'>4</a>\u001b[0m     \u001b[39mpass\u001b[39;00m\n\u001b[1;32m----> <a href='vscode-notebook-cell:/d%3A/gitFolders/python_de_learners_data/code_script_notebooks/jupyter_notebooks/python_inheritance_composition_uml.ipynb#X16sZmlsZQ%3D%3D?line=5'>6</a>\u001b[0m \u001b[39mraise\u001b[39;00m MyError()\n",
      "\u001b[1;31mTypeError\u001b[0m: exceptions must derive from BaseException"
     ]
    }
   ],
   "source": [
    "# The exception to this rule are classes used to indicate errors by raising an exception.\n",
    "\n",
    "class MyError:\n",
    "    pass\n",
    "\n",
    "raise MyError()"
   ]
  },
  {
   "cell_type": "code",
   "execution_count": 5,
   "metadata": {},
   "outputs": [
    {
     "ename": "MyError",
     "evalue": "",
     "output_type": "error",
     "traceback": [
      "\u001b[1;31m---------------------------------------------------------------------------\u001b[0m",
      "\u001b[1;31mMyError\u001b[0m                                   Traceback (most recent call last)",
      "\u001b[1;32md:\\gitFolders\\python_de_learners_data\\code_script_notebooks\\jupyter_notebooks\\python_inheritance_composition_uml.ipynb Cell 8\u001b[0m line \u001b[0;36m6\n\u001b[0;32m      <a href='vscode-notebook-cell:/d%3A/gitFolders/python_de_learners_data/code_script_notebooks/jupyter_notebooks/python_inheritance_composition_uml.ipynb#X15sZmlsZQ%3D%3D?line=2'>3</a>\u001b[0m \u001b[39mclass\u001b[39;00m \u001b[39mMyError\u001b[39;00m(\u001b[39mException\u001b[39;00m):\n\u001b[0;32m      <a href='vscode-notebook-cell:/d%3A/gitFolders/python_de_learners_data/code_script_notebooks/jupyter_notebooks/python_inheritance_composition_uml.ipynb#X15sZmlsZQ%3D%3D?line=3'>4</a>\u001b[0m     \u001b[39mpass\u001b[39;00m\n\u001b[1;32m----> <a href='vscode-notebook-cell:/d%3A/gitFolders/python_de_learners_data/code_script_notebooks/jupyter_notebooks/python_inheritance_composition_uml.ipynb#X15sZmlsZQ%3D%3D?line=5'>6</a>\u001b[0m \u001b[39mraise\u001b[39;00m MyError()\n",
      "\u001b[1;31mMyError\u001b[0m: "
     ]
    }
   ],
   "source": [
    "# BaseException is a base class provided for all error types. To create a new error type, you must derive your class from BaseException or one of its derived classes. The convention in Python is to derive your custom error types from Exception, which in turn derives from BaseException.\n",
    "\n",
    "class MyError(Exception):\n",
    "    pass\n",
    "\n",
    "raise MyError()"
   ]
  },
  {
   "cell_type": "markdown",
   "metadata": {},
   "source": [
    "### Creating Class Hierarchies\n",
    "\n",
    "- Related class will have common interface defined in Base Class\n",
    "\n",
    "- Derived class will specialize the interface, for a particular implementation"
   ]
  },
  {
   "cell_type": "code",
   "execution_count": 4,
   "metadata": {},
   "outputs": [],
   "source": [
    "class PayrollSystem:\n",
    "    def calculate_payroll(self, employees):\n",
    "        print(\"calculating payroll\")\n",
    "        print(\"===================\")\n",
    "        for employee in employees:\n",
    "            print(f\"payroll for: {employee.id} - {employee.name}\")\n",
    "            # there is a calculate_payroll method in employee class\n",
    "            print(f\"- check amount: {employee.calculate_payroll()}\")\n",
    "            print(\"\")"
   ]
  },
  {
   "cell_type": "code",
   "execution_count": 2,
   "metadata": {},
   "outputs": [],
   "source": [
    "# implementing base Employee class\n",
    "\n",
    "class Employee:\n",
    "    def __init__(self, id, name):\n",
    "        self.id = id\n",
    "        self.name = name\n",
    "\n",
    "# Employee just needs to have the id and name, at the very basic"
   ]
  },
  {
   "cell_type": "code",
   "execution_count": 8,
   "metadata": {},
   "outputs": [],
   "source": [
    "# HR System requires that every Employee processed must have calculate_payroll() interface\n",
    "# that returns weekly salary. Implementing interface depends on Employee type\n",
    "\n",
    "class SalaryEmployee(Employee):\n",
    "    def __init__(self, id, name, weekly_salary):\n",
    "        # super() helps to initialize the parent class\n",
    "        super().__init__(id, name)\n",
    "        self.weekly_salary = weekly_salary\n",
    "\n",
    "    def calculate_payroll(self):\n",
    "        return self.weekly_salary"
   ]
  },
  {
   "cell_type": "code",
   "execution_count": 9,
   "metadata": {},
   "outputs": [],
   "source": [
    "# There are manufacturing workers who are paid by the hour\n",
    "\n",
    "class HourlyEmployee(Employee):\n",
    "    def __init__(self, id, name, hours_worked, hour_salary):\n",
    "        super().__init__(id, name)\n",
    "        self.hours_worked = hours_worked\n",
    "        self.hour_salary = hour_salary\n",
    "\n",
    "    def calculate_payroll(self):\n",
    "        return self.hour_salary * self.hours_worked"
   ]
  },
  {
   "cell_type": "code",
   "execution_count": 20,
   "metadata": {},
   "outputs": [],
   "source": [
    "# There are associates who are paid fixed. Associate is a Salary Employee. \n",
    "# which means this Associate has to extend SalaryEmployee only\n",
    "\n",
    "\n",
    "class AssociateEmployee(SalaryEmployee):\n",
    "    def __init__(self, id, name, weekly_salary, commision):\n",
    "        super().__init__(id, name, weekly_salary)\n",
    "        self.commision = commision\n",
    "\n",
    "    def calculate_payroll(self):\n",
    "        # do the fixed salary as per the \n",
    "        fixed = super().calculate_payroll()\n",
    "        # .calculate_payroll() leverages the implementation of the base class to retrieve the fixed salary and adds the commission value.\n",
    "        return fixed + self.commision"
   ]
  },
  {
   "cell_type": "markdown",
   "metadata": {},
   "source": [
    "Interfaces are represented similarly to classes with the word interface above the interface name. Interface names are usually prefixed with a capital I.\n",
    "\n",
    "The derived classes implement the IPayrollCalculator interface, which is required by the PayrollSystem."
   ]
  },
  {
   "cell_type": "code",
   "execution_count": 19,
   "metadata": {},
   "outputs": [],
   "source": [
    "import logging\n",
    "\n",
    "# create logger\n",
    "logger = logging.getLogger('payroll')\n",
    "# assign level info to logger\n",
    "logger.setLevel(level=logging.INFO)\n",
    "# create handler\n",
    "streamer = logging.StreamHandler()\n",
    "# setlevel for handler\n",
    "streamer.setLevel(level=logging.WARNING)\n",
    "# create formatter\n",
    "stream_formater = logging.Formatter(fmt='%(name)s : %(levelname)s - %(message)s')\n",
    "# attach formatter to handler\n",
    "streamer.setFormatter(stream_formater)\n",
    "# attach handler to logger\n",
    "logger.addHandler(streamer)"
   ]
  },
  {
   "cell_type": "code",
   "execution_count": 21,
   "metadata": {},
   "outputs": [
    {
     "name": "stdout",
     "output_type": "stream",
     "text": [
      "calculating payroll\n",
      "===================\n",
      "payroll for: 1 - jane smith\n",
      "- check amount: 1588\n",
      "\n",
      "payroll for: 2 - doe smith\n",
      "- check amount: 600\n",
      "\n",
      "payroll for: 3 - danny smith\n",
      "- check amount: 1237\n",
      "\n"
     ]
    }
   ],
   "source": [
    "salary_emp = SalaryEmployee(1, 'jane smith', 1588)\n",
    "hourly_emp = HourlyEmployee(2, 'doe smith', 40, 15)\n",
    "assoc_emp = AssociateEmployee(3, 'danny smith', 658, 579)\n",
    "\n",
    "payroll_system = PayrollSystem()\n",
    "\n",
    "try:\n",
    "    payroll_system.calculate_payroll([\n",
    "        salary_emp,\n",
    "        hourly_emp,\n",
    "        assoc_emp\n",
    "    ])\n",
    "except Exception as e:\n",
    "    logger.exception(\"Something is amiss\")"
   ]
  },
  {
   "cell_type": "code",
   "execution_count": 24,
   "metadata": {},
   "outputs": [
    {
     "name": "stderr",
     "output_type": "stream",
     "text": [
      "payroll : ERROR - Something is amiss\n",
      "Traceback (most recent call last):\n",
      "  File \"C:\\Users\\kamal\\AppData\\Local\\Temp\\ipykernel_6364\\3088912071.py\", line 6, in <module>\n",
      "    payroll_system.calculate_payroll([\n",
      "  File \"C:\\Users\\kamal\\AppData\\Local\\Temp\\ipykernel_6364\\3797755865.py\", line 7, in calculate_payroll\n",
      "    print(f'- Check amount: {employee.calculate_payroll()}')\n",
      "                             ^^^^^^^^^^^^^^^^^^^^^^^^^^\n",
      "AttributeError: 'Employee' object has no attribute 'calculate_payroll'\n",
      "payroll : ERROR - Something is amiss\n",
      "Traceback (most recent call last):\n",
      "  File \"C:\\Users\\kamal\\AppData\\Local\\Temp\\ipykernel_6364\\3088912071.py\", line 6, in <module>\n",
      "    payroll_system.calculate_payroll([\n",
      "  File \"C:\\Users\\kamal\\AppData\\Local\\Temp\\ipykernel_6364\\3797755865.py\", line 7, in calculate_payroll\n",
      "    print(f'- Check amount: {employee.calculate_payroll()}')\n",
      "                             ^^^^^^^^^^^^^^^^^^^^^^^^^^\n",
      "AttributeError: 'Employee' object has no attribute 'calculate_payroll'\n"
     ]
    },
    {
     "name": "stdout",
     "output_type": "stream",
     "text": [
      "Calculating Payroll\n",
      "===================\n",
      "Payroll for: 3 - Valid smith\n"
     ]
    }
   ],
   "source": [
    "just_emp = Employee(3, 'Valid smith')\n",
    "\n",
    "payroll_system = PayrollSystem()\n",
    "\n",
    "try:\n",
    "    payroll_system.calculate_payroll([\n",
    "        just_emp\n",
    "    ])\n",
    "except Exception as e:\n",
    "    logger.exception(\"Something is amiss\")"
   ]
  },
  {
   "cell_type": "markdown",
   "metadata": {},
   "source": [
    "Notice how the **Employee base class** doesn’t define a .calculate_payroll() method. This means that if you were to create a plain Employee object and pass it to the PayrollSystem, then **you’d get an error.** "
   ]
  },
  {
   "cell_type": "markdown",
   "metadata": {},
   "source": [
    " To meet the requirements of PayrollSystem, you’ll want to convert the Employee class, which is currently a **concrete class**, to an **abstract class.** The Abstract classes in Python are there to \"Inherited\" and **never instantiated** ABC module in python enforces this, if you need a class to be a ABC\n"
   ]
  },
  {
   "cell_type": "code",
   "execution_count": 7,
   "metadata": {},
   "outputs": [],
   "source": [
    "from abc import ABC, abstractmethod\n",
    "\n",
    "class Employee(ABC):\n",
    "    def __init__(self, id, name):\n",
    "        self.id = id\n",
    "        self.name = name\n",
    "\n",
    "    @abstractmethod\n",
    "    def calculate_payroll(self):\n",
    "        self\n",
    "\n",
    "# above code tells to devs that, one cannot instantiate Employee class\n",
    "# if Employee is inherited, then they have to override calculate_payroll method "
   ]
  },
  {
   "cell_type": "code",
   "execution_count": 25,
   "metadata": {},
   "outputs": [],
   "source": [
    "# try creating employee\n",
    "try:\n",
    "    abc_emp = Employee(5,'nowork')\n",
    "except Exception as e:\n",
    "    logger.exception(\"Look at the stack trace...\")"
   ]
  },
  {
   "cell_type": "markdown",
   "metadata": {},
   "source": [
    "### what happens when inherit?\n",
    "\n",
    "The base class interface: The derived class inherits all the methods, properties, and attributes of the base class.\n",
    "\n",
    "The base class implementation: The derived class inherits the code that implements the class interface.\n"
   ]
  },
  {
   "cell_type": "code",
   "execution_count": 10,
   "metadata": {},
   "outputs": [
    {
     "name": "stdout",
     "output_type": "stream",
     "text": [
      "calculating payroll\n",
      "===================\n",
      "payroll for: 7 - Tman\n",
      "- check amount: 100000\n",
      "\n"
     ]
    }
   ],
   "source": [
    "# We can avoid inheriting Employee and still create objects that can be used by PayrollSystem\n",
    "# Created object must have id, name and calculate_payroll method\n",
    "\n",
    "class TroubledEmployee:\n",
    "    def __init__(self, id, name):\n",
    "        self.id = id\n",
    "        self.name = name\n",
    "    \n",
    "    def calculate_payroll(self):\n",
    "        return 100000\n",
    "\n",
    "temp = TroubledEmployee(7,'Tman')\n",
    "\n",
    "newPayroll = PayrollSystem()\n",
    "\n",
    "payroll_system.calculate_payroll([\n",
    "    temp\n",
    "])"
   ]
  },
  {
   "cell_type": "markdown",
   "metadata": {},
   "source": [
    "### Use Inheritance only when \"is a\" relation is present between two Classes\n",
    "\n",
    "### You can provide just the interface (method) in your class, for it to be used by the system. There is no need to inherit another class\n",
    "\n",
    "Lets cleanup"
   ]
  },
  {
   "cell_type": "code",
   "execution_count": 11,
   "metadata": {},
   "outputs": [],
   "source": [
    "class PayrollSystem:\n",
    "    def calculate_payroll(self, employees):\n",
    "        print('Calculating Payroll')\n",
    "        print('===================')\n",
    "        for employee in employees:\n",
    "            print(f'Payroll for: {employee.id} - {employee.name}')\n",
    "            print(f'- Check amount: {employee.calculate_payroll()}')\n",
    "            print('')\n",
    "\n",
    "class Employee:\n",
    "    def __init__(self, id, name):\n",
    "        self.id = id\n",
    "        self.name = name\n",
    "\n",
    "class SalaryEmployee(Employee):\n",
    "    def __init__(self, id, name, weekly_salary):\n",
    "        super().__init__(id, name)\n",
    "        self.weekly_salary = weekly_salary\n",
    "\n",
    "    def calculate_payroll(self):\n",
    "        return self.weekly_salary\n",
    "\n",
    "class HourlyEmployee(Employee):\n",
    "    def __init__(self, id, name, hours_worked, hour_rate):\n",
    "        super().__init__(id, name)\n",
    "        self.hours_worked = hours_worked\n",
    "        self.hour_rate = hour_rate\n",
    "\n",
    "    def calculate_payroll(self):\n",
    "        return self.hours_worked * self.hour_rate\n",
    "\n",
    "class CommissionEmployee(SalaryEmployee):\n",
    "    def __init__(self, id, name, weekly_salary, commission):\n",
    "        super().__init__(id, name, weekly_salary)\n",
    "        self.commission = commission\n",
    "\n",
    "    def calculate_payroll(self):\n",
    "        fixed = super().calculate_payroll()\n",
    "        return fixed + self.commission\n",
    "\n",
    "# Basically, you are inheriting the implementation of the id and name attributes of the Employee class in your derived classes. Since .calculate_payroll() is just an interface to the PayrollSystem.calculate_payroll() method, you don’t need to implement it in the Employee base class."
   ]
  },
  {
   "cell_type": "markdown",
   "metadata": {},
   "source": [
    "#### This is known as the class explosion problem. See how it happens when implementing ProductivitySystem\n",
    "\n",
    "\n",
    "- Managers: They walk around yelling at people telling them what to do. They are salaried employees and make more money.\n",
    "\n",
    "- Secretaries: They do all the paper work for managers and ensure that everything gets billed and payed on time. They are also salaried employees but make less money.\n",
    "\n",
    "- Sales employees: They make a lot of phone calls to sell products. They have a salary, but they also get commissions for sales.\n",
    "\n",
    "- Factory workers: They manufacture the products for the company. They are paid by the hour."
   ]
  },
  {
   "cell_type": "code",
   "execution_count": 30,
   "metadata": {},
   "outputs": [],
   "source": [
    "# Implementing Types of employee depending on their work. But why? \n",
    "# Check the type of work they do. Can't this work and hours, provided during instantiation?\n",
    "# The number of parameters could increase... \n",
    "\n",
    "class Manager(SalaryEmployee):\n",
    "    def work(self, hours):\n",
    "        print(f\"{self.name} is manager, screams for {hours} hours.\") \n",
    "\n",
    "class Secretary(SalaryEmployee):\n",
    "    def work(self, hours):\n",
    "        print(f\"{self.name} is secretary, expends {hours} hours for office work.\") \n",
    "\n",
    "class SalesPerson(CommissionEmployee):\n",
    "    def work(self, hours):\n",
    "        print(f\"{self.name} is Sales Person, who makes calls for {hours} hours.\") \n",
    "\n",
    "class FactoryWorker(HourlyEmployee):\n",
    "    def work(self, hours):\n",
    "        print(f\"{self.name} is factory worker, who is paid by hour for {hours} hours of work.\") "
   ]
  },
  {
   "cell_type": "code",
   "execution_count": 31,
   "metadata": {},
   "outputs": [],
   "source": [
    "class ProductivitySystem:\n",
    "    def track(self, employees, hours):\n",
    "        print(\"Tracking employee productivity\")\n",
    "        print(\"==============================\")\n",
    "        for emp in employees:\n",
    "            emp.work(hours)\n",
    "        print(' ')"
   ]
  },
  {
   "cell_type": "code",
   "execution_count": 32,
   "metadata": {},
   "outputs": [],
   "source": [
    "manager = Manager(1, 'Mary Poppins', 3000)\n",
    "secretary = Secretary(2, 'John Smith', 1500)\n",
    "sales_guy = SalesPerson(3, 'Kevin Bacon', 1000, 250)\n",
    "factory_worker = FactoryWorker(2, 'Jane Doe', 40, 15)\n",
    "employees = [\n",
    "    manager,\n",
    "    secretary,\n",
    "    sales_guy,\n",
    "    factory_worker,\n",
    "]"
   ]
  },
  {
   "cell_type": "code",
   "execution_count": 33,
   "metadata": {},
   "outputs": [
    {
     "name": "stdout",
     "output_type": "stream",
     "text": [
      "Tracking employee productivity\n",
      "==============================\n",
      "Mary Poppins is manager, screams for 40 hours.\n",
      "John Smith is secretary, expends 40 hours for office work.\n",
      "Kevin Bacon is Sales Person, who makes calls for 40 hours.\n",
      "Jane Doe is factory worker, who is paid by hour for 40 hours of work.\n",
      " \n",
      "Calculating Payroll\n",
      "===================\n",
      "Payroll for: 1 - Mary Poppins\n",
      "- Check amount: 3000\n",
      "\n",
      "Payroll for: 2 - John Smith\n",
      "- Check amount: 1500\n",
      "\n",
      "Payroll for: 3 - Kevin Bacon\n",
      "- Check amount: 1250\n",
      "\n",
      "Payroll for: 2 - Jane Doe\n",
      "- Check amount: 600\n",
      "\n"
     ]
    }
   ],
   "source": [
    "productivity = ProductivitySystem()\n",
    "productivity.track(employees, 40)\n",
    "payroll_system = PayrollSystem()\n",
    "payroll_system.calculate_payroll(employees)"
   ]
  },
  {
   "cell_type": "markdown",
   "metadata": {},
   "source": [
    "Multiple inheritance is the ability to derive a class from multiple base classes at the same time.\n",
    "\n",
    "Modern programming languages support the concept of interfaces. \n",
    "\n",
    "In those languages, you inherit from a single base class and then implement multiple interfaces, so your class can be re-used in different situations."
   ]
  },
  {
   "cell_type": "markdown",
   "metadata": {},
   "source": [
    "#### Implementing a temporary secretary\n",
    "\n",
    "It seems you have two options to implement the TemporarySecretary class:\n",
    "\n",
    "Derive from Secretary: You can derive from Secretary to inherit the .work() method for the role, and then override the .calculate_payroll() method to implement it as an HourlyEmployee.\n",
    "\n",
    "Derive from HourlyEmployee: You can derive from HourlyEmployee to inherit the .calculate_payroll() method, and then override the .work() method to implement it as a Secretary\n",
    "\n",
    "Okay, why not use the multiple inheritance, derive from Secretary and HourlyEmployee?"
   ]
  },
  {
   "cell_type": "code",
   "execution_count": 37,
   "metadata": {},
   "outputs": [
    {
     "ename": "TypeError",
     "evalue": "SalaryEmployee.__init__() takes 4 positional arguments but 5 were given",
     "output_type": "error",
     "traceback": [
      "\u001b[1;31m---------------------------------------------------------------------------\u001b[0m",
      "\u001b[1;31mTypeError\u001b[0m                                 Traceback (most recent call last)",
      "\u001b[1;32md:\\gitFolders\\python_de_learners_data\\code_script_notebooks\\jupyter_notebooks\\python_inheritance_composition_uml.ipynb Cell 34\u001b[0m line \u001b[0;36m4\n\u001b[0;32m      <a href='vscode-notebook-cell:/d%3A/gitFolders/python_de_learners_data/code_script_notebooks/jupyter_notebooks/python_inheritance_composition_uml.ipynb#X52sZmlsZQ%3D%3D?line=1'>2</a>\u001b[0m     \u001b[39mpass\u001b[39;00m\n\u001b[0;32m      <a href='vscode-notebook-cell:/d%3A/gitFolders/python_de_learners_data/code_script_notebooks/jupyter_notebooks/python_inheritance_composition_uml.ipynb#X52sZmlsZQ%3D%3D?line=2'>3</a>\u001b[0m \u001b[39m# If you try to create a temporary secretary, you will face errors\u001b[39;00m\n\u001b[1;32m----> <a href='vscode-notebook-cell:/d%3A/gitFolders/python_de_learners_data/code_script_notebooks/jupyter_notebooks/python_inheritance_composition_uml.ipynb#X52sZmlsZQ%3D%3D?line=3'>4</a>\u001b[0m temporary_secretary \u001b[39m=\u001b[39m TemporarySecretary(\u001b[39m5\u001b[39;49m, \u001b[39m'\u001b[39;49m\u001b[39mRobin Williams\u001b[39;49m\u001b[39m'\u001b[39;49m, \u001b[39m40\u001b[39;49m, \u001b[39m9\u001b[39;49m)\n",
      "\u001b[1;31mTypeError\u001b[0m: SalaryEmployee.__init__() takes 4 positional arguments but 5 were given"
     ]
    }
   ],
   "source": [
    "class TemporarySecretary(Secretary, HourlyEmployee):\n",
    "    pass\n",
    "# If you try to create a temporary secretary, you will face errors\n",
    "temporary_secretary = TemporarySecretary(5, 'Robin Williams', 40, 9)"
   ]
  },
  {
   "cell_type": "code",
   "execution_count": 38,
   "metadata": {},
   "outputs": [
    {
     "ename": "TypeError",
     "evalue": "SalaryEmployee.__init__() missing 1 required positional argument: 'weekly_salary'",
     "output_type": "error",
     "traceback": [
      "\u001b[1;31m---------------------------------------------------------------------------\u001b[0m",
      "\u001b[1;31mTypeError\u001b[0m                                 Traceback (most recent call last)",
      "\u001b[1;32md:\\gitFolders\\python_de_learners_data\\code_script_notebooks\\jupyter_notebooks\\python_inheritance_composition_uml.ipynb Cell 35\u001b[0m line \u001b[0;36m4\n\u001b[0;32m      <a href='vscode-notebook-cell:/d%3A/gitFolders/python_de_learners_data/code_script_notebooks/jupyter_notebooks/python_inheritance_composition_uml.ipynb#X53sZmlsZQ%3D%3D?line=1'>2</a>\u001b[0m     \u001b[39mpass\u001b[39;00m\n\u001b[0;32m      <a href='vscode-notebook-cell:/d%3A/gitFolders/python_de_learners_data/code_script_notebooks/jupyter_notebooks/python_inheritance_composition_uml.ipynb#X53sZmlsZQ%3D%3D?line=2'>3</a>\u001b[0m \u001b[39m# If you try to create a temporary secretary, you will face errors\u001b[39;00m\n\u001b[1;32m----> <a href='vscode-notebook-cell:/d%3A/gitFolders/python_de_learners_data/code_script_notebooks/jupyter_notebooks/python_inheritance_composition_uml.ipynb#X53sZmlsZQ%3D%3D?line=3'>4</a>\u001b[0m temporary_secretary \u001b[39m=\u001b[39m TemporarySecretary(\u001b[39m5\u001b[39;49m, \u001b[39m'\u001b[39;49m\u001b[39mRobin Williams\u001b[39;49m\u001b[39m'\u001b[39;49m, \u001b[39m40\u001b[39;49m, \u001b[39m9\u001b[39;49m)\n",
      "\u001b[1;32md:\\gitFolders\\python_de_learners_data\\code_script_notebooks\\jupyter_notebooks\\python_inheritance_composition_uml.ipynb Cell 35\u001b[0m line \u001b[0;36m2\n\u001b[0;32m     <a href='vscode-notebook-cell:/d%3A/gitFolders/python_de_learners_data/code_script_notebooks/jupyter_notebooks/python_inheritance_composition_uml.ipynb#X53sZmlsZQ%3D%3D?line=23'>24</a>\u001b[0m \u001b[39mdef\u001b[39;00m \u001b[39m__init__\u001b[39m(\u001b[39mself\u001b[39m, \u001b[39mid\u001b[39m, name, hours_worked, hour_rate):\n\u001b[1;32m---> <a href='vscode-notebook-cell:/d%3A/gitFolders/python_de_learners_data/code_script_notebooks/jupyter_notebooks/python_inheritance_composition_uml.ipynb#X53sZmlsZQ%3D%3D?line=24'>25</a>\u001b[0m     \u001b[39msuper\u001b[39;49m()\u001b[39m.\u001b[39;49m\u001b[39m__init__\u001b[39;49m(\u001b[39mid\u001b[39;49m, name)\n\u001b[0;32m     <a href='vscode-notebook-cell:/d%3A/gitFolders/python_de_learners_data/code_script_notebooks/jupyter_notebooks/python_inheritance_composition_uml.ipynb#X53sZmlsZQ%3D%3D?line=25'>26</a>\u001b[0m     \u001b[39mself\u001b[39m\u001b[39m.\u001b[39mhours_worked \u001b[39m=\u001b[39m hours_worked\n\u001b[0;32m     <a href='vscode-notebook-cell:/d%3A/gitFolders/python_de_learners_data/code_script_notebooks/jupyter_notebooks/python_inheritance_composition_uml.ipynb#X53sZmlsZQ%3D%3D?line=26'>27</a>\u001b[0m     \u001b[39mself\u001b[39m\u001b[39m.\u001b[39mhour_rate \u001b[39m=\u001b[39m hour_rate\n",
      "\u001b[1;31mTypeError\u001b[0m: SalaryEmployee.__init__() missing 1 required positional argument: 'weekly_salary'"
     ]
    }
   ],
   "source": [
    "class TemporarySecretary(HourlyEmployee, Secretary):\n",
    "    pass\n",
    "# If you try to create a temporary secretary, you will face errors\n",
    "temporary_secretary = TemporarySecretary(5, 'Robin Williams', 40, 9)"
   ]
  },
  {
   "cell_type": "markdown",
   "metadata": {},
   "source": [
    "### Time to dive into MRO"
   ]
  },
  {
   "cell_type": "code",
   "execution_count": 40,
   "metadata": {},
   "outputs": [
    {
     "data": {
      "text/plain": [
       "(__main__.TemporarySecretary,\n",
       " __main__.HourlyEmployee,\n",
       " __main__.Secretary,\n",
       " __main__.SalaryEmployee,\n",
       " __main__.Employee,\n",
       " object)"
      ]
     },
     "execution_count": 40,
     "metadata": {},
     "output_type": "execute_result"
    }
   ],
   "source": [
    "# When a method or attribute of a class is accessed, Python uses the class MRO to find it. The MRO is also used by super() to determine which method or attribute to invoke. You can learn more about super() in Supercharge Your Classes With Python super().\n",
    "\n",
    "TemporarySecretary.__mro__\n",
    "# This leads to the **diamond problem** in python multiple inheritance"
   ]
  },
  {
   "cell_type": "markdown",
   "metadata": {},
   "source": [
    "### Diamond Problem\n",
    "\n",
    "Diamond problem appears when you’re using multiple inheritance and deriving from two classes that have a common base class. \n",
    "\n",
    "This causes two paths to reach the Employee base class, which is something you want to avoid in your designs.\n",
    "\n",
    "\n",
    "The Employee derived classes are used by two different systems:\n",
    "\n",
    "- The productivity system that tracks employee productivity.\n",
    "\n",
    "- The payroll system that calculates the employee payroll."
   ]
  },
  {
   "cell_type": "code",
   "execution_count": 41,
   "metadata": {},
   "outputs": [],
   "source": [
    "# In productivity.py\n",
    "\n",
    "class ProductivitySystem:\n",
    "    def track(self, employees, hours):\n",
    "        print('Tracking Employee Productivity')\n",
    "        print('==============================')\n",
    "        for employee in employees:\n",
    "            result = employee.work(hours)\n",
    "            print(f'{employee.name}: {result}')\n",
    "        print('')\n",
    "\n",
    "class ManagerRole:\n",
    "    def work(self, hours):\n",
    "        return f'screams and yells for {hours} hours.'\n",
    "\n",
    "class SecretaryRole:\n",
    "    def work(self, hours):\n",
    "        return f'expends {hours} hours doing office paperwork.'\n",
    "\n",
    "class SalesRole:\n",
    "    def work(self, hours):\n",
    "        return f'expends {hours} hours on the phone.'\n",
    "\n",
    "class FactoryRole:\n",
    "    def work(self, hours):\n",
    "        return f'manufactures gadgets for {hours} hours.'"
   ]
  },
  {
   "cell_type": "code",
   "execution_count": 48,
   "metadata": {},
   "outputs": [],
   "source": [
    "# In hr.py\n",
    "\n",
    "class PayrollSystem:\n",
    "    def calculate_payroll(self, employees):\n",
    "        print('Calculating Payroll')\n",
    "        print('===================')\n",
    "        for employee in employees:\n",
    "            print(f'Payroll for: {employee.id} - {employee.name}')\n",
    "            print(f'- Check amount: {employee.calculate_payroll()}')\n",
    "            if employee.address:\n",
    "                print('- Sent to:')\n",
    "                print(employee.address)\n",
    "            print('')\n",
    "\n",
    "class SalaryPolicy:\n",
    "    def __init__(self, weekly_salary):\n",
    "        self.weekly_salary = weekly_salary\n",
    "\n",
    "    def calculate_payroll(self):\n",
    "        return self.weekly_salary\n",
    "\n",
    "class HourlyPolicy:\n",
    "    def __init__(self, hours_worked, hour_rate):\n",
    "        self.hours_worked = hours_worked\n",
    "        self.hour_rate = hour_rate\n",
    "\n",
    "    def calculate_payroll(self):\n",
    "        return self.hours_worked * self.hour_rate\n",
    "\n",
    "class CommissionPolicy(SalaryPolicy):\n",
    "    def __init__(self, weekly_salary, commission):\n",
    "        super().__init__(weekly_salary)\n",
    "        self.commission = commission\n",
    "\n",
    "    def calculate_payroll(self):\n",
    "        fixed = super().calculate_payroll()\n",
    "        return fixed + self.commission"
   ]
  },
  {
   "cell_type": "code",
   "execution_count": 51,
   "metadata": {},
   "outputs": [],
   "source": [
    "class Employee:\n",
    "    def __init__(self, id, name):\n",
    "        self.id = id\n",
    "        self.name = name\n",
    "\n",
    "class Manager(Employee, ManagerRole, SalaryPolicy):\n",
    "    def __init__(self, id, name, weekly_salary):\n",
    "        SalaryPolicy.__init__(self, weekly_salary)\n",
    "        super().__init__(id, name)\n",
    "\n",
    "class Secretary(Employee, SecretaryRole, SalaryPolicy):\n",
    "    def __init__(self, id, name, weekly_salary):\n",
    "        SalaryPolicy.__init__(self, weekly_salary)\n",
    "        super().__init__(id, name)\n",
    "\n",
    "class SalesPerson(Employee, SalesRole, CommissionPolicy):\n",
    "    def __init__(self, id, name, weekly_salary, commission):\n",
    "        CommissionPolicy.__init__(self, weekly_salary, commission)\n",
    "        super().__init__(id, name)\n",
    "\n",
    "class FactoryWorker(Employee, FactoryRole, HourlyPolicy):\n",
    "    def __init__(self, id, name, hours_worked, hour_rate):\n",
    "        HourlyPolicy.__init__(self, hours_worked, hour_rate)\n",
    "        super().__init__(id, name)\n",
    "\n",
    "class TemporarySecretary(Employee, SecretaryRole, HourlyPolicy):\n",
    "    def __init__(self, id, name, hours_worked, hour_rate):\n",
    "        HourlyPolicy.__init__(self, hours_worked, hour_rate)\n",
    "        super().__init__(id, name)"
   ]
  },
  {
   "attachments": {
    "image.png": {
     "image/png": "[encoded data removed]"
    }
   },
   "cell_type": "markdown",
   "metadata": {},
   "source": [
    "![image.png](attachment:image.png)"
   ]
  },
  {
   "cell_type": "markdown",
   "metadata": {},
   "source": [
    "#### Composition in Python (has a/ have a)\n",
    "\n",
    "Composition is an object oriented design concept that models a has a relationship. In composition, a class known as composite contains an object of another class known to as component.\n",
    "\n",
    "The composition relation between two classes is considered loosely coupled. That means that changes to the component class rarely affect the composite class, and changes to the composite class never affect the component class.\n",
    "\n",
    "Implemented Employee Class \"has a\" name and \"has a\" id. Also the Employee can \"have a\" address. So lets create a Address class"
   ]
  },
  {
   "cell_type": "code",
   "execution_count": 44,
   "metadata": {},
   "outputs": [],
   "source": [
    "# In contacts.py\n",
    "\n",
    "class Address:\n",
    "    def __init__(self, street, city, state, zipcode, street2=''):\n",
    "        self.street = street\n",
    "        self.street2 = street2\n",
    "        self.city = city\n",
    "        self.state = state\n",
    "        self.zipcode = zipcode\n",
    "\n",
    "    def __str__(self):\n",
    "        lines = [self.street]\n",
    "        if self.street2:\n",
    "            lines.append(self.street2)\n",
    "        lines.append(f'{self.city}, {self.state} {self.zipcode}')\n",
    "        return '\\n'.join(lines)"
   ]
  },
  {
   "cell_type": "code",
   "execution_count": 46,
   "metadata": {},
   "outputs": [
    {
     "name": "stdout",
     "output_type": "stream",
     "text": [
      "55 main\n",
      "concord, NH 03858\n"
     ]
    }
   ],
   "source": [
    "addr = Address('55 main', 'concord', 'NH', '03858')\n",
    "print(addr)"
   ]
  },
  {
   "cell_type": "code",
   "execution_count": 54,
   "metadata": {},
   "outputs": [],
   "source": [
    "# In employees.py\n",
    "\n",
    "class Employee:\n",
    "    def __init__(self, id, name):\n",
    "        self.id = id\n",
    "        self.name = name\n",
    "        self.address = None"
   ]
  },
  {
   "cell_type": "code",
   "execution_count": 55,
   "metadata": {},
   "outputs": [],
   "source": [
    "class Manager(Employee, ManagerRole, SalaryPolicy):\n",
    "    def __init__(self, id, name, weekly_salary):\n",
    "        SalaryPolicy.__init__(self, weekly_salary)\n",
    "        super().__init__(id, name)\n",
    "\n",
    "class Secretary(Employee, SecretaryRole, SalaryPolicy):\n",
    "    def __init__(self, id, name, weekly_salary):\n",
    "        SalaryPolicy.__init__(self, weekly_salary)\n",
    "        super().__init__(id, name)\n",
    "\n",
    "class SalesPerson(Employee, SalesRole, CommissionPolicy):\n",
    "    def __init__(self, id, name, weekly_salary, commission):\n",
    "        CommissionPolicy.__init__(self, weekly_salary, commission)\n",
    "        super().__init__(id, name)\n",
    "\n",
    "class FactoryWorker(Employee, FactoryRole, HourlyPolicy):\n",
    "    def __init__(self, id, name, hours_worked, hour_rate):\n",
    "        HourlyPolicy.__init__(self, hours_worked, hour_rate)\n",
    "        super().__init__(id, name)\n",
    "\n",
    "class TemporarySecretary(Employee, SecretaryRole, HourlyPolicy):\n",
    "    def __init__(self, id, name, hours_worked, hour_rate):\n",
    "        HourlyPolicy.__init__(self, hours_worked, hour_rate)\n",
    "        super().__init__(id, name)"
   ]
  },
  {
   "cell_type": "code",
   "execution_count": 56,
   "metadata": {},
   "outputs": [
    {
     "name": "stdout",
     "output_type": "stream",
     "text": [
      "Tracking Employee Productivity\n",
      "==============================\n",
      "Mary Poppins: screams and yells for 40 hours.\n",
      "John Smith: expends 40 hours doing office paperwork.\n",
      "Kevin Bacon: expends 40 hours on the phone.\n",
      "Jane Doe: manufactures gadgets for 40 hours.\n",
      "Robin Williams: expends 40 hours doing office paperwork.\n",
      "\n",
      "Calculating Payroll\n",
      "===================\n",
      "Payroll for: 1 - Mary Poppins\n",
      "- Check amount: 3000\n",
      "- Sent to:\n",
      "121 Admin Rd\n",
      "Concord, NH 03301\n",
      "\n",
      "Payroll for: 2 - John Smith\n",
      "- Check amount: 1500\n",
      "- Sent to:\n",
      "67 Paperwork Ave.\n",
      "Manchester, NH 03101\n",
      "\n",
      "Payroll for: 3 - Kevin Bacon\n",
      "- Check amount: 1250\n",
      "\n",
      "Payroll for: 4 - Jane Doe\n",
      "- Check amount: 600\n",
      "\n",
      "Payroll for: 5 - Robin Williams\n",
      "- Check amount: 360\n",
      "\n"
     ]
    }
   ],
   "source": [
    "# In program.py\n",
    "\n",
    "manager = Manager(1, 'Mary Poppins', 3000)\n",
    "manager.address = Address(\n",
    "    '121 Admin Rd', \n",
    "    'Concord', \n",
    "    'NH', \n",
    "    '03301'\n",
    ")\n",
    "secretary = Secretary(2, 'John Smith', 1500)\n",
    "secretary.address = Address(\n",
    "    '67 Paperwork Ave.', \n",
    "    'Manchester', \n",
    "    'NH', \n",
    "    '03101'\n",
    ")\n",
    "sales_guy = SalesPerson(3, 'Kevin Bacon', 1000, 250)\n",
    "factory_worker = FactoryWorker(4, 'Jane Doe', 40, 15)\n",
    "temporary_secretary = TemporarySecretary(5, 'Robin Williams', 40, 9)\n",
    "employees = [\n",
    "    manager,\n",
    "    secretary,\n",
    "    sales_guy,\n",
    "    factory_worker,\n",
    "    temporary_secretary,\n",
    "]\n",
    "productivity_system = ProductivitySystem()\n",
    "productivity_system.track(employees, 40)\n",
    "payroll_system = PayrollSystem()\n",
    "payroll_system.calculate_payroll(employees)"
   ]
  },
  {
   "cell_type": "markdown",
   "metadata": {},
   "source": [
    "### Starting Composition "
   ]
  },
  {
   "cell_type": "markdown",
   "metadata": {},
   "source": [
    "Composition is more flexible than inheritance because it models a loosely coupled relationship. Changes to a component class have minimal or no effects on the composite class. Designs based on composition are more suitable to change."
   ]
  },
  {
   "cell_type": "code",
   "execution_count": 57,
   "metadata": {},
   "outputs": [],
   "source": [
    "# In productivity.py\n",
    "\n",
    "class ProductivitySystem:\n",
    "    def __init__(self):\n",
    "        self._roles = {\n",
    "            'manager': ManagerRole,\n",
    "            'secretary': SecretaryRole,\n",
    "            'sales': SalesRole,\n",
    "            'factory': FactoryRole,\n",
    "        }\n",
    "\n",
    "    def get_role(self, role_id):\n",
    "        role_type = self._roles.get(role_id)\n",
    "        if not role_type:\n",
    "            raise ValueError('role_id')\n",
    "        return role_type()\n",
    "\n",
    "    def track(self, employees, hours):\n",
    "        print('Tracking Employee Productivity')\n",
    "        print('==============================')\n",
    "        for employee in employees:\n",
    "            employee.work(hours)\n",
    "        print('')"
   ]
  },
  {
   "cell_type": "code",
   "execution_count": 58,
   "metadata": {},
   "outputs": [],
   "source": [
    "# In productivity.py\n",
    "# Roles have same methodss, they are common interfaces\n",
    "class ManagerRole:\n",
    "    def perform_duties(self, hours):\n",
    "        return f'screams and yells for {hours} hours.'\n",
    "\n",
    "class SecretaryRole:\n",
    "    def perform_duties(self, hours):\n",
    "        return f'does paperwork for {hours} hours.'\n",
    "\n",
    "class SalesRole:\n",
    "    def perform_duties(self, hours):\n",
    "        return f'expends {hours} hours on the phone.'\n",
    "\n",
    "class FactoryRole:\n",
    "    def perform_duties(self, hours):\n",
    "        return f'manufactures gadgets for {hours} hours.'"
   ]
  },
  {
   "cell_type": "code",
   "execution_count": 60,
   "metadata": {},
   "outputs": [],
   "source": [
    "# In hr.py\n",
    "\n",
    "class PayrollPolicy:\n",
    "    def __init__(self):\n",
    "        self.hours_worked = 0\n",
    "\n",
    "    def track_work(self, hours):\n",
    "        self.hours_worked += hours\n",
    "\n",
    "class SalaryPolicy(PayrollPolicy):\n",
    "    def __init__(self, weekly_salary):\n",
    "        super().__init__()\n",
    "        self.weekly_salary = weekly_salary\n",
    "\n",
    "    def calculate_payroll(self):\n",
    "        return self.weekly_salary\n",
    "\n",
    "class HourlyPolicy(PayrollPolicy):\n",
    "    def __init__(self, hour_rate):\n",
    "        super().__init__()\n",
    "        self.hour_rate = hour_rate\n",
    "\n",
    "    def calculate_payroll(self):\n",
    "        return self.hours_worked * self.hour_rate\n",
    "\n",
    "class CommissionPolicy(SalaryPolicy):\n",
    "    def __init__(self, weekly_salary, commission_per_sale):\n",
    "        super().__init__(weekly_salary)\n",
    "        self.commission_per_sale = commission_per_sale\n",
    "\n",
    "    @property\n",
    "    def commission(self):\n",
    "        sales = self.hours_worked / 5\n",
    "        return sales * self.commission_per_sale\n",
    "\n",
    "    def calculate_payroll(self):\n",
    "        fixed = super().calculate_payroll()\n",
    "        return fixed + self.commission"
   ]
  },
  {
   "cell_type": "code",
   "execution_count": 74,
   "metadata": {},
   "outputs": [],
   "source": [
    "# In hr.py\n",
    "\n",
    "class PayrollSystem:\n",
    "    def __init__(self):\n",
    "        self._employee_policies = {\n",
    "            1: SalaryPolicy(3000),\n",
    "            2: SalaryPolicy(1500),\n",
    "            3: CommissionPolicy(1000, 100),\n",
    "            4: HourlyPolicy(15),\n",
    "            5: HourlyPolicy(9),\n",
    "            8: CommissionPolicy(500,100),\n",
    "        }\n",
    "\n",
    "    def get_policy(self, employee_id):\n",
    "        policy = self._employee_policies.get(employee_id)\n",
    "        if not policy:\n",
    "            return ValueError(employee_id)\n",
    "        return policy\n",
    "\n",
    "    def calculate_payroll(self, employees):\n",
    "        print('Calculating Payroll')\n",
    "        print('===================')\n",
    "        for employee in employees:\n",
    "            print(f'Payroll for: {employee.id} - {employee.name}')\n",
    "            print(f'- Check amount: {employee.calculate_payroll()}')\n",
    "            if employee.address:\n",
    "                print('- Sent to:')\n",
    "                print(employee.address)\n",
    "            print('')"
   ]
  },
  {
   "cell_type": "code",
   "execution_count": 72,
   "metadata": {},
   "outputs": [],
   "source": [
    "# In contacts.py\n",
    "\n",
    "class AddressBook:\n",
    "    def __init__(self):\n",
    "        self._employee_addresses = {\n",
    "            1: Address('121 Admin Rd.', 'Concord', 'NH', '03301'),\n",
    "            2: Address('67 Paperwork Ave', 'Manchester', 'NH', '03101'),\n",
    "            3: Address('15 Rose St', 'Concord', 'NH', '03301', 'Apt. B-1'),\n",
    "            4: Address('39 Sole St.', 'Concord', 'NH', '03301'),\n",
    "            5: Address('99 Mountain Rd.', 'Concord', 'NH', '03301'),\n",
    "            8: Address('88 Eight Cross Rd.', 'Coonoor', 'TN', '603301'),\n",
    "        }\n",
    "\n",
    "    def get_employee_address(self, employee_id):\n",
    "        address = self._employee_addresses.get(employee_id)\n",
    "        if not address:\n",
    "            raise ValueError(employee_id)\n",
    "        return address"
   ]
  },
  {
   "cell_type": "code",
   "execution_count": 75,
   "metadata": {},
   "outputs": [],
   "source": [
    "# In employees.py\n",
    "\n",
    "class EmployeeDatabase:\n",
    "    def __init__(self):\n",
    "        self._employees = [\n",
    "            {\n",
    "                'id': 1,\n",
    "                'name': 'Mary Poppins',\n",
    "                'role': 'manager'\n",
    "            },\n",
    "            {\n",
    "                'id': 2,\n",
    "                'name': 'John Smith',\n",
    "                'role': 'secretary'\n",
    "            },\n",
    "            {\n",
    "                'id': 3,\n",
    "                'name': 'Kevin Bacon',\n",
    "                'role': 'sales'\n",
    "            },\n",
    "            {\n",
    "                'id': 4,\n",
    "                'name': 'Jane Doe',\n",
    "                'role': 'factory'\n",
    "            },\n",
    "            {\n",
    "                'id': 5,\n",
    "                'name': 'Robin Williams',\n",
    "                'role': 'secretary'\n",
    "            },\n",
    "            {\n",
    "                'id': 8,\n",
    "                'name': 'Will',\n",
    "                'role': 'sales' \n",
    "            },\n",
    "        ]\n",
    "        self.productivity = ProductivitySystem()\n",
    "        self.payroll = PayrollSystem()\n",
    "        self.employee_addresses = AddressBook()\n",
    "\n",
    "    @property\n",
    "    def employees(self):\n",
    "        return [self._create_employee(**data) for data in self._employees]\n",
    "\n",
    "    def _create_employee(self, id, name, role):\n",
    "        address = self.employee_addresses.get_employee_address(id)\n",
    "        employee_role = self.productivity.get_role(role)\n",
    "        payroll_policy = self.payroll.get_policy(id)\n",
    "        return Employee(id, name, address, employee_role, payroll_policy) # Employee is composed using the components and minimal input into the database"
   ]
  },
  {
   "cell_type": "code",
   "execution_count": 76,
   "metadata": {},
   "outputs": [
    {
     "data": {
      "text/plain": [
       "[{'id': 1, 'name': 'Mary Poppins', 'role': 'manager'},\n",
       " {'id': 2, 'name': 'John Smith', 'role': 'secretary'},\n",
       " {'id': 3, 'name': 'Kevin Bacon', 'role': 'sales'},\n",
       " {'id': 4, 'name': 'Jane Doe', 'role': 'factory'},\n",
       " {'id': 5, 'name': 'Robin Williams', 'role': 'secretary'},\n",
       " {'id': 8, 'name': 'Will', 'role': 'sales'}]"
      ]
     },
     "execution_count": 76,
     "metadata": {},
     "output_type": "execute_result"
    }
   ],
   "source": [
    "explore_db = EmployeeDatabase()\n",
    "explore_db._employees"
   ]
  },
  {
   "cell_type": "code",
   "execution_count": 80,
   "metadata": {},
   "outputs": [
    {
     "data": {
      "text/plain": [
       "'Will'"
      ]
     },
     "execution_count": 80,
     "metadata": {},
     "output_type": "execute_result"
    }
   ],
   "source": [
    "explore_db.employees[-1].name"
   ]
  },
  {
   "cell_type": "code",
   "execution_count": 63,
   "metadata": {},
   "outputs": [],
   "source": [
    "# In employees.py\n",
    "\n",
    "class Employee:\n",
    "    def __init__(self, id, name, address, role, payroll):\n",
    "        self.id = id\n",
    "        self.name = name\n",
    "        self.address = address\n",
    "        self.role = role\n",
    "        self.payroll = payroll\n",
    "\n",
    "    def work(self, hours):\n",
    "        duties = self.role.perform_duties(hours)\n",
    "        print(f'Employee {self.id} - {self.name}:')\n",
    "        print(f'- {duties}')\n",
    "        print('')\n",
    "        self.payroll.track_work(hours)\n",
    "\n",
    "    def calculate_payroll(self):\n",
    "        return self.payroll.calculate_payroll()"
   ]
  },
  {
   "cell_type": "code",
   "execution_count": 81,
   "metadata": {},
   "outputs": [
    {
     "name": "stdout",
     "output_type": "stream",
     "text": [
      "Employee 8 - Will:\n",
      "- expends 5 hours on the phone.\n",
      "\n"
     ]
    }
   ],
   "source": [
    "explore_db.employees[-1].work(5)"
   ]
  },
  {
   "cell_type": "code",
   "execution_count": 82,
   "metadata": {},
   "outputs": [
    {
     "name": "stdout",
     "output_type": "stream",
     "text": [
      "Tracking Employee Productivity\n",
      "==============================\n",
      "Employee 1 - Mary Poppins:\n",
      "- screams and yells for 40 hours.\n",
      "\n",
      "Employee 2 - John Smith:\n",
      "- does paperwork for 40 hours.\n",
      "\n",
      "Employee 3 - Kevin Bacon:\n",
      "- expends 40 hours on the phone.\n",
      "\n",
      "Employee 4 - Jane Doe:\n",
      "- manufactures gadgets for 40 hours.\n",
      "\n",
      "Employee 5 - Robin Williams:\n",
      "- does paperwork for 40 hours.\n",
      "\n",
      "Employee 8 - Will:\n",
      "- expends 40 hours on the phone.\n",
      "\n",
      "\n",
      "Calculating Payroll\n",
      "===================\n",
      "Payroll for: 1 - Mary Poppins\n",
      "- Check amount: 3000\n",
      "- Sent to:\n",
      "121 Admin Rd.\n",
      "Concord, NH 03301\n",
      "\n",
      "Payroll for: 2 - John Smith\n",
      "- Check amount: 1500\n",
      "- Sent to:\n",
      "67 Paperwork Ave\n",
      "Manchester, NH 03101\n",
      "\n",
      "Payroll for: 3 - Kevin Bacon\n",
      "- Check amount: 1800.0\n",
      "- Sent to:\n",
      "15 Rose St\n",
      "Apt. B-1\n",
      "Concord, NH 03301\n",
      "\n",
      "Payroll for: 4 - Jane Doe\n",
      "- Check amount: 600\n",
      "- Sent to:\n",
      "39 Sole St.\n",
      "Concord, NH 03301\n",
      "\n",
      "Payroll for: 5 - Robin Williams\n",
      "- Check amount: 360\n",
      "- Sent to:\n",
      "99 Mountain Rd.\n",
      "Concord, NH 03301\n",
      "\n",
      "Payroll for: 8 - Will\n",
      "- Check amount: 1300.0\n",
      "- Sent to:\n",
      "88 Eight Cross Rd.\n",
      "Coonoor, TN 603301\n",
      "\n"
     ]
    }
   ],
   "source": [
    "productivity_system = ProductivitySystem()\n",
    "payroll_system = PayrollSystem()\n",
    "employee_database = EmployeeDatabase()\n",
    "employees = employee_database.employees\n",
    "productivity_system.track(employees, 40)\n",
    "payroll_system.calculate_payroll(employees)"
   ]
  },
  {
   "cell_type": "code",
   "execution_count": 66,
   "metadata": {},
   "outputs": [
    {
     "name": "stdout",
     "output_type": "stream",
     "text": [
      "Tracking Employee Productivity\n",
      "==============================\n",
      "Employee 1 - Mary Poppins:\n",
      "- screams and yells for 40 hours.\n",
      "\n",
      "Employee 2 - John Smith:\n",
      "- does paperwork for 40 hours.\n",
      "\n",
      "Employee 3 - Kevin Bacon:\n",
      "- expends 40 hours on the phone.\n",
      "\n",
      "Employee 4 - Jane Doe:\n",
      "- manufactures gadgets for 40 hours.\n",
      "\n",
      "Employee 5 - Robin Williams:\n",
      "- does paperwork for 40 hours.\n",
      "\n",
      "\n",
      "Calculating Payroll\n",
      "===================\n",
      "Payroll for: 1 - Mary Poppins\n",
      "- Check amount: 2200\n",
      "- Sent to:\n",
      "121 Admin Rd.\n",
      "Concord, NH 03301\n",
      "\n",
      "Payroll for: 2 - John Smith\n",
      "- Check amount: 1500\n",
      "- Sent to:\n",
      "67 Paperwork Ave\n",
      "Manchester, NH 03101\n",
      "\n",
      "Payroll for: 3 - Kevin Bacon\n",
      "- Check amount: 1800.0\n",
      "- Sent to:\n",
      "15 Rose St\n",
      "Apt. B-1\n",
      "Concord, NH 03301\n",
      "\n",
      "Payroll for: 4 - Jane Doe\n",
      "- Check amount: 600\n",
      "- Sent to:\n",
      "39 Sole St.\n",
      "Concord, NH 03301\n",
      "\n",
      "Payroll for: 5 - Robin Williams\n",
      "- Check amount: 360\n",
      "- Sent to:\n",
      "99 Mountain Rd.\n",
      "Concord, NH 03301\n",
      "\n"
     ]
    }
   ],
   "source": [
    "# In program.py\n",
    "\n",
    "productivity_system = ProductivitySystem()\n",
    "payroll_system = PayrollSystem()\n",
    "employee_database = EmployeeDatabase()\n",
    "\n",
    "employees = employee_database.employees\n",
    "manager = employees[0]\n",
    "\n",
    "# Changing the policy of one employee during the run-time\n",
    "manager.payroll = HourlyPolicy(55)\n",
    "\n",
    "productivity_system.track(employees, 40)\n",
    "payroll_system.calculate_payroll(employees)"
   ]
  },
  {
   "cell_type": "markdown",
   "metadata": {},
   "source": [
    "## Problem is : Reusing the code & implementation of one class inside another class\n",
    "### Why use another class: Because we are modifying its behaviour in someway\n",
    "### Behaviour is coded in the methods of the class\n",
    "\n",
    "Composition does it by initialising the Objects of the class from which the code has to be used, inside another class. Uses the \"has a\" relationship.\n",
    "\n",
    "While inheritance does it by becoming a subType of another class, using \"is a\" relationship. We need to use Method Over-riding to change te behaviour. No other choice \n",
    "\n",
    "### Completed both Inheritance & Composition: Problems they solve are same.\n"
   ]
  },
  {
   "cell_type": "markdown",
   "metadata": {},
   "source": [
    "Where to use Inheritance or not? Follow theses steps:\n",
    "\n",
    "Evaluate B is an A: Think about this relationship and justify it. Does it make sense?\n",
    "\n",
    "Evaluate A is a B: Reverse the relationship and justify it. Does it also make sense?\n",
    "\n",
    "If you can justify both relationships, then you should never inherit those classes from one another. Let’s look at a more concrete example"
   ]
  },
  {
   "cell_type": "markdown",
   "metadata": {},
   "source": [
    "#### A mixin is a class that provides methods to other classes but are not considered a base class.\n",
    "A mixin allows other classes to reuse its interface and implementation without becoming a super class. "
   ]
  },
  {
   "cell_type": "code",
   "execution_count": 83,
   "metadata": {},
   "outputs": [],
   "source": [
    "# Creating the AsDictionaryMixin class\n",
    "\n",
    "class AsDictionaryMixin:\n",
    "    def to_dict(self):\n",
    "        return {\n",
    "            prop: self._represent(value)\n",
    "            for prop, value in self.__dict__.items()\n",
    "            if not self._is_internal(prop)\n",
    "        }\n",
    "\n",
    "    def _represent(self, value):\n",
    "        if isinstance(value, object):\n",
    "            if hasattr(value, 'to_dict'):\n",
    "                return value.to_dict()\n",
    "            else:\n",
    "                return str(value)\n",
    "        else:\n",
    "            return value\n",
    "\n",
    "    def _is_internal(self, prop):\n",
    "        return prop.startswith('_')"
   ]
  },
  {
   "cell_type": "code",
   "execution_count": 84,
   "metadata": {},
   "outputs": [],
   "source": [
    "# making the role and payroll private with an _\n",
    "# We are using AsDictionaryMixin with employee also\n",
    "class Employee(AsDictionaryMixin):\n",
    "    def __init__(self, id, name, address, role, payroll):\n",
    "        self.id = id\n",
    "        self.name = name\n",
    "        self.address = address\n",
    "        self._role = role\n",
    "        self._payroll = payroll\n",
    "\n",
    "    def work(self, hours):\n",
    "        duties = self._role.perform_duties(hours)\n",
    "        print(f'Employee {self.id} - {self.name}:')\n",
    "        print(f'- {duties}')\n",
    "        print('')\n",
    "        self._payroll.track_work(hours)\n",
    "\n",
    "    def calculate_payroll(self):\n",
    "        return self._payroll.calculate_payroll()"
   ]
  },
  {
   "cell_type": "code",
   "execution_count": 85,
   "metadata": {},
   "outputs": [],
   "source": [
    "# we are extending AsDictionaryMixin\n",
    "class Address(AsDictionaryMixin):\n",
    "    def __init__(self, street, city, state, zipcode, street2=''):\n",
    "        self.street = street\n",
    "        self.street2 = street2\n",
    "        self.city = city\n",
    "        self.state = state\n",
    "        self.zipcode = zipcode\n",
    "\n",
    "    def __str__(self):\n",
    "        lines = [self.street]\n",
    "        if self.street2:\n",
    "            lines.append(self.street2)\n",
    "        lines.append(f'{self.city}, {self.state} {self.zipcode}')\n",
    "        return '\\n'.join(lines)"
   ]
  },
  {
   "cell_type": "code",
   "execution_count": 86,
   "metadata": {},
   "outputs": [],
   "source": [
    "# re-initialising the AddressBook\n",
    "class AddressBook:\n",
    "    def __init__(self):\n",
    "        self._employee_addresses = {\n",
    "            1: Address('121 Admin Rd.', 'Concord', 'NH', '03301'),\n",
    "            2: Address('67 Paperwork Ave', 'Manchester', 'NH', '03101'),\n",
    "            3: Address('15 Rose St', 'Concord', 'NH', '03301', 'Apt. B-1'),\n",
    "            4: Address('39 Sole St.', 'Concord', 'NH', '03301'),\n",
    "            5: Address('99 Mountain Rd.', 'Concord', 'NH', '03301'),\n",
    "            8: Address('88 Eight Cross Rd.', 'Coonoor', 'TN', '603301'),\n",
    "        }\n",
    "\n",
    "    def get_employee_address(self, employee_id):\n",
    "        address = self._employee_addresses.get(employee_id)\n",
    "        if not address:\n",
    "            raise ValueError(employee_id)\n",
    "        return address"
   ]
  },
  {
   "cell_type": "code",
   "execution_count": 87,
   "metadata": {},
   "outputs": [
    {
     "name": "stdout",
     "output_type": "stream",
     "text": [
      "{\n",
      "  \"id\": \"1\",\n",
      "  \"name\": \"Mary Poppins\",\n",
      "  \"address\": {\n",
      "    \"street\": \"121 Admin Rd.\",\n",
      "    \"street2\": \"\",\n",
      "    \"city\": \"Concord\",\n",
      "    \"state\": \"NH\",\n",
      "    \"zipcode\": \"03301\"\n",
      "  }\n",
      "}\n",
      "{\n",
      "  \"id\": \"2\",\n",
      "  \"name\": \"John Smith\",\n",
      "  \"address\": {\n",
      "    \"street\": \"67 Paperwork Ave\",\n",
      "    \"street2\": \"\",\n",
      "    \"city\": \"Manchester\",\n",
      "    \"state\": \"NH\",\n",
      "    \"zipcode\": \"03101\"\n",
      "  }\n",
      "}\n",
      "{\n",
      "  \"id\": \"3\",\n",
      "  \"name\": \"Kevin Bacon\",\n",
      "  \"address\": {\n",
      "    \"street\": \"15 Rose St\",\n",
      "    \"street2\": \"Apt. B-1\",\n",
      "    \"city\": \"Concord\",\n",
      "    \"state\": \"NH\",\n",
      "    \"zipcode\": \"03301\"\n",
      "  }\n",
      "}\n",
      "{\n",
      "  \"id\": \"4\",\n",
      "  \"name\": \"Jane Doe\",\n",
      "  \"address\": {\n",
      "    \"street\": \"39 Sole St.\",\n",
      "    \"street2\": \"\",\n",
      "    \"city\": \"Concord\",\n",
      "    \"state\": \"NH\",\n",
      "    \"zipcode\": \"03301\"\n",
      "  }\n",
      "}\n",
      "{\n",
      "  \"id\": \"5\",\n",
      "  \"name\": \"Robin Williams\",\n",
      "  \"address\": {\n",
      "    \"street\": \"99 Mountain Rd.\",\n",
      "    \"street2\": \"\",\n",
      "    \"city\": \"Concord\",\n",
      "    \"state\": \"NH\",\n",
      "    \"zipcode\": \"03301\"\n",
      "  }\n",
      "}\n",
      "{\n",
      "  \"id\": \"8\",\n",
      "  \"name\": \"Will\",\n",
      "  \"address\": {\n",
      "    \"street\": \"88 Eight Cross Rd.\",\n",
      "    \"street2\": \"\",\n",
      "    \"city\": \"Coonoor\",\n",
      "    \"state\": \"TN\",\n",
      "    \"zipcode\": \"603301\"\n",
      "  }\n",
      "}\n"
     ]
    }
   ],
   "source": [
    "# In program.py\n",
    "import json\n",
    "def print_dict(d):\n",
    "    print(json.dumps(d, indent=2))\n",
    "\n",
    "for employee in EmployeeDatabase().employees:\n",
    "    print_dict(employee.to_dict())"
   ]
  },
  {
   "cell_type": "markdown",
   "metadata": {},
   "source": [
    "You leveraged the implementation of AsDictionaryMixin in both Employee and Address classes even when they are not related. Because AsDictionaryMixin only provides behavior, it is easy to reuse with other classes without causing problems."
   ]
  }
 ],
 "metadata": {
  "kernelspec": {
   "display_name": "Python 3",
   "language": "python",
   "name": "python3"
  },
  "language_info": {
   "codemirror_mode": {
    "name": "ipython",
    "version": 3
   },
   "file_extension": ".py",
   "mimetype": "text/x-python",
   "name": "python",
   "nbconvert_exporter": "python",
   "pygments_lexer": "ipython3",
   "version": "3.11.4"
  }
 },
 "nbformat": 4,
 "nbformat_minor": 2
}
