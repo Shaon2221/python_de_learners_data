{
 "cells": [
  {
   "cell_type": "markdown",
   "metadata": {},
   "source": [
    "#### Practicing variable typing in Python \n",
    "\n",
    "Based on the tutorial at [Real Python](https://realpython.com/python-type-checking/)\n",
    "\n",
    "We will see the following in the below code cells:\n",
    "\n",
    "- Type annotations and Type hints\n",
    "\n",
    "- Adding static types to your code, and code of others\n",
    "\n",
    "- Running static type checker (This will be interesting)\n",
    "\n",
    "- Enforcing types at runtime\n",
    "\n",
    "### Python is dynamically Typed, which means interpreter checks type of variable when code runs and variable's type can change over the code execution"
   ]
  },
  {
   "cell_type": "code",
   "execution_count": 4,
   "metadata": {},
   "outputs": [
    {
     "name": "stdout",
     "output_type": "stream",
     "text": [
      "99\n"
     ]
    }
   ],
   "source": [
    "if False:\n",
    "    print(57 + 'new') # No error, as this line is not checked nor executed by interpreter\n",
    "else:\n",
    "    print(57 + 42)"
   ]
  },
  {
   "cell_type": "code",
   "execution_count": 7,
   "metadata": {},
   "outputs": [
    {
     "name": "stdout",
     "output_type": "stream",
     "text": [
      "<class 'str'>\n"
     ]
    },
    {
     "data": {
      "text/plain": [
       "str"
      ]
     },
     "execution_count": 7,
     "metadata": {},
     "output_type": "execute_result"
    }
   ],
   "source": [
    "thing = \"elosk\"\n",
    "\n",
    "print(type(thing))\n",
    "\n",
    "type(thing)"
   ]
  },
  {
   "cell_type": "markdown",
   "metadata": {},
   "source": [
    "### Static typing language the variable types are checked without running the program, usually when the code is compiled"
   ]
  },
  {
   "cell_type": "code",
   "execution_count": 8,
   "metadata": {},
   "outputs": [],
   "source": [
    "# Type hints were introduced in https://www.python.org/dev/peps/pep-0484/ \n",
    "\n",
    "# Type hints only suggest the types, not enforce them\n",
    "\n",
    "# Type or Class of an object is less important than the method it defines in its implementation. "
   ]
  },
  {
   "cell_type": "code",
   "execution_count": 9,
   "metadata": {},
   "outputs": [
    {
     "data": {
      "text/plain": [
       "85022"
      ]
     },
     "execution_count": 9,
     "metadata": {},
     "output_type": "execute_result"
    }
   ],
   "source": [
    "# Duck Typing : if it walks like a duck, quack like a duck then it must be a duck \n",
    "\n",
    "class Hobbit:\n",
    "    def __len__(self):\n",
    "        return 85022\n",
    "\n",
    "newHobbit = Hobbit()\n",
    "len(newHobbit)"
   ]
  },
  {
   "cell_type": "code",
   "execution_count": 12,
   "metadata": {},
   "outputs": [
    {
     "name": "stdout",
     "output_type": "stream",
     "text": [
      "This Is Left Aligned \n",
      " --------------------\n",
      "ooooooooooooo This Is Center Aligned ooooooooooooo\n",
      "This Is A Test Line \n",
      " -------------------\n"
     ]
    }
   ],
   "source": [
    "def headline(text: str, align: bool = True) -> str: # first example of type hints\n",
    "    if align:\n",
    "        return f\"{text.title()} \\n {'-' * len(text)}\"\n",
    "\n",
    "    else:\n",
    "        return f\" {text.title()} \".center(50, \"o\")\n",
    "\n",
    "print(headline(\"This is left aligned\"))\n",
    "\n",
    "print(headline(\"This is center aligned\", align=False))\n",
    "\n",
    "print(headline(\"this is a test line\", align=\"right\"))\n"
   ]
  },
  {
   "cell_type": "markdown",
   "metadata": {},
   "source": [
    "In his excellent article [The State of Type Hints in Python](https://bernat.tech/posts/the-state-of-type-hints-in-python/) Bernát Gábor recommends that “type hints should be used whenever unit tests are worth writing.”\n",
    "\n",
    "Should you use annotations or type comments when adding type hints to your own code? In short: Use annotations if you can, use type comments if you must.\n",
    "\n",
    "- The type of sequences and mappings like tuples, lists and dictionaries\n",
    "\n",
    "- Type aliases that make code easier to read\n",
    "\n",
    "- That functions and methods do not return anything\n",
    "\n",
    "- Objects that may be of any type"
   ]
  },
  {
   "cell_type": "code",
   "execution_count": 9,
   "metadata": {},
   "outputs": [],
   "source": [
    "from typing import Tuple, List, Dict"
   ]
  },
  {
   "cell_type": "code",
   "execution_count": 2,
   "metadata": {},
   "outputs": [],
   "source": [
    "import random \n",
    "\n",
    "SUITS = \"♠ ♡ ♢ ♣\".split()\n",
    "RANKS = \"2 3 4 5 6 7 8 9 10 J Q K A\".split()"
   ]
  },
  {
   "cell_type": "code",
   "execution_count": 3,
   "metadata": {},
   "outputs": [],
   "source": [
    "def create_deck(shuffle: bool = False) -> List[Tuple(str, str)]:\n",
    "    \"\"\"Create a new 52 deck cards\"\"\"\n",
    "    # list of tuple of suit, rank \n",
    "    deck  = [(s, r) for r in RANKS for s in SUITS]\n",
    "    # check if shuffle is True \n",
    "    if shuffle:\n",
    "        # Shuffle the deck\n",
    "        random.shuffle(deck)\n",
    "    # Return the shuffled deck\n",
    "    return deck"
   ]
  },
  {
   "cell_type": "code",
   "execution_count": 7,
   "metadata": {},
   "outputs": [
    {
     "data": {
      "text/plain": [
       "[('♠', '2'), ('♡', '2')]"
      ]
     },
     "execution_count": 7,
     "metadata": {},
     "output_type": "execute_result"
    }
   ],
   "source": [
    "get_deck = create_deck()\n",
    "shuffled_deck = create_deck(shuffle=True)\n",
    "get_deck[:2]"
   ]
  },
  {
   "cell_type": "code",
   "execution_count": 8,
   "metadata": {},
   "outputs": [
    {
     "name": "stdout",
     "output_type": "stream",
     "text": [
      "[('♠', '2'), ('♠', '3'), ('♠', '4'), ('♠', '5'), ('♠', '6'), ('♠', '7'), ('♠', '8'), ('♠', '9'), ('♠', '10'), ('♠', 'J'), ('♠', 'Q'), ('♠', 'K'), ('♠', 'A')] : unshuffled\n",
      "[('♢', 'K'), ('♢', 'J'), ('♣', '3'), ('♣', '8'), ('♢', '5'), ('♢', 'A'), ('♢', '10'), ('♢', '9'), ('♢', '4'), ('♣', 'K'), ('♠', '4'), ('♡', '3'), ('♡', '10')] : shuffled\n"
     ]
    }
   ],
   "source": [
    "# understanding the :: syntax\n",
    "print(get_deck[0::4], ': unshuffled')  # default start index, default stop index, step size is two—take every fourth element\n",
    "print(shuffled_deck[0::4], \": shuffled\")"
   ]
  },
  {
   "cell_type": "code",
   "execution_count": 10,
   "metadata": {},
   "outputs": [],
   "source": [
    "def deal_hands(deck: List[Tuple[str, str]]):\n",
    "    \"\"\"Deal the cards in the deck into four hands\"\"\"\n",
    "    return (deck[0::4], deck[1::4], deck[2::4], deck[3::4])"
   ]
  },
  {
   "cell_type": "code",
   "execution_count": 11,
   "metadata": {},
   "outputs": [],
   "source": [
    "def play():\n",
    "    \"\"\"Play a 4 player card game\"\"\"\n",
    "    # Create the deck of cards\n",
    "    deck = create_deck(shuffle=True)\n",
    "    # Decide the name of the players\n",
    "    names = \"P1 P2 P3 P4\".split()\n",
    "    # Deal the hands to the players\n",
    "    hands = {n:h for n, h in zip(names, deal_hands(deck))}\n",
    "    # Print the hands dealt\n",
    "    for name, cards in hands.items():\n",
    "        card_str = \" \".join(f\"{s}{r}\" for (s, r) in cards)\n",
    "        print(card_str)"
   ]
  },
  {
   "cell_type": "code",
   "execution_count": 26,
   "metadata": {},
   "outputs": [
    {
     "name": "stdout",
     "output_type": "stream",
     "text": [
      "♡4 ♢3 ♣K ♢9 ♢7 ♣4 ♠Q ♡5 ♢5 ♣7 ♣A ♣5 ♢4\n",
      "♢K ♠4 ♢J ♣2 ♡9 ♢6 ♣J ♡J ♠8 ♡2 ♡6 ♠10 ♣3\n",
      "♣6 ♣8 ♡Q ♡3 ♠K ♠3 ♠A ♡K ♢10 ♡8 ♣9 ♠2 ♢8\n",
      "♠6 ♠5 ♢2 ♣Q ♢Q ♠J ♣10 ♡7 ♠9 ♡10 ♠7 ♡A ♢A\n"
     ]
    }
   ],
   "source": [
    "play()"
   ]
  },
  {
   "cell_type": "code",
   "execution_count": 31,
   "metadata": {},
   "outputs": [],
   "source": [
    "### Adding types is as easy as using them\n",
    "name: str = \"Supers\"\n",
    "pi: float = 3.142\n",
    "center: bool = False\n",
    "\n",
    "### Some composite types. Note the letters are not capitalized.\n",
    "\n",
    "names: list = [\"rocket\", \"spaceship\", \"shuttle\"]\n",
    "version: tuple = (6,2,1)\n",
    "options: dict = {\"dent\": False, \"capitalize\": True}\n",
    "\n",
    "### The composite types above don't tell much about the contents of the variable. Need to use the typing modules Classes\n",
    "\n",
    "names: List[str] = [\"rocket\", \"spaceship\", \"shuttle\"]\n",
    "version: Tuple[int, int, int] = (6,2,1)\n",
    "# Dict is having two types, one for the key and the other for value\n",
    "options: Dict[str, bool] = {\"dent\": False, \"capitalize\": True}\n",
    "\n",
    "### There other composite types including Counter, Deque, FrozenSet, NamedTuple, Set also other kinds of types"
   ]
  },
  {
   "cell_type": "code",
   "execution_count": 32,
   "metadata": {},
   "outputs": [],
   "source": [
    "## When the sequences is what we care about\n",
    "\n",
    "from typing import Sequence\n",
    "\n",
    "def square(elems: Sequence[float]) -> List[float]:\n",
    "    return [x ** 2 for x in elems]"
   ]
  },
  {
   "cell_type": "code",
   "execution_count": 33,
   "metadata": {},
   "outputs": [],
   "source": [
    "def deal_hands(deck: List[Tuple[str, str]]) -> Tuple[\n",
    "    List[Tuple[str,str]],\n",
    "    List[Tuple[str,str]],\n",
    "    List[Tuple[str,str]],\n",
    "    List[Tuple[str,str]]\n",
    "    ]:\n",
    "    \"\"\"Deal a deck of cards into four hands\"\"\"\n",
    "    return (deck[0::4], deck[1::4], deck[2::4], deck[3::4])"
   ]
  },
  {
   "cell_type": "code",
   "execution_count": 34,
   "metadata": {},
   "outputs": [
    {
     "data": {
      "text/plain": [
       "typing.List[typing.Tuple[str, str]]"
      ]
     },
     "execution_count": 34,
     "metadata": {},
     "output_type": "execute_result"
    }
   ],
   "source": [
    "## Hold on, I can define my own Type Aliases \n",
    "\n",
    "Card = Tuple[str, str]\n",
    "Deck = List[Card]\n",
    "\n",
    "Deck\n"
   ]
  },
  {
   "cell_type": "code",
   "execution_count": 40,
   "metadata": {},
   "outputs": [
    {
     "name": "stdout",
     "output_type": "stream",
     "text": [
      "super_hero deals...\n",
      "None\n"
     ]
    }
   ],
   "source": [
    "def play(player_name):\n",
    "    print(f\"{player_name} deals...\")\n",
    "\n",
    "ret_val = play(\"super_hero\")\n",
    "\n",
    "print(ret_val) # function that without explicit return, still returns None\n"
   ]
  },
  {
   "cell_type": "code",
   "execution_count": 41,
   "metadata": {},
   "outputs": [
    {
     "name": "stdout",
     "output_type": "stream",
     "text": [
      "Rossum plays...\n"
     ]
    }
   ],
   "source": [
    "def play_wtyp(player_name: str) -> None:\n",
    "    print(f\"{player_name} plays...\")\n",
    "\n",
    "ret_val = play_wtyp(player_name=\"Rossum\")"
   ]
  },
  {
   "cell_type": "code",
   "execution_count": 42,
   "metadata": {},
   "outputs": [],
   "source": [
    "## There are function that never return normally\n",
    "\n",
    "from typing import NoReturn\n",
    "\n",
    "def black_hole() -> NoReturn:\n",
    "    raise Exception(\"Forget going back now...\")"
   ]
  },
  {
   "cell_type": "code",
   "execution_count": 43,
   "metadata": {},
   "outputs": [
    {
     "name": "stdout",
     "output_type": "stream",
     "text": [
      "Forget going back now...\n"
     ]
    }
   ],
   "source": [
    "# Looking at the output of above NoReturn function\n",
    "try:\n",
    "    black_hole()\n",
    "\n",
    "except Exception as e:\n",
    "    print(e)"
   ]
  },
  {
   "cell_type": "code",
   "execution_count": 46,
   "metadata": {},
   "outputs": [],
   "source": [
    "### updated game script\n",
    "\n",
    "# game.py\n",
    "\n",
    "import random\n",
    "from typing import List, Tuple\n",
    "\n",
    "SUITS = \"♠ ♡ ♢ ♣\".split()\n",
    "RANKS = \"2 3 4 5 6 7 8 9 10 J Q K A\".split()\n",
    "\n",
    "Card = Tuple[str, str]\n",
    "Deck = List[Card]\n",
    "\n",
    "def create_deck(shuffle: bool = False) -> Deck:\n",
    "    \"\"\"Create a new deck of 52 cards\"\"\"\n",
    "    deck = [(s, r) for r in RANKS for s in SUITS]\n",
    "    if shuffle:\n",
    "        random.shuffle(deck)\n",
    "    return deck\n",
    "\n",
    "def deal_hands(deck: Deck) -> Tuple[Deck, Deck, Deck, Deck]:\n",
    "    \"\"\"Deal the cards in the deck into four hands\"\"\"\n",
    "    return (deck[0::4], deck[1::4], deck[2::4], deck[3::4])\n",
    "\n",
    "# The below two functions are not typed yet. We will see \n",
    "# how they are typed in next cells \n",
    "def choose(items):\n",
    "    \"\"\"Choose and return a random item\"\"\"\n",
    "    return random.choice(items)\n",
    "\n",
    "def player_order(names, start=None):\n",
    "    \"\"\"Rotate player order so that start goes first\"\"\"\n",
    "    if start is None:\n",
    "        start = choose(names)\n",
    "    start_idx = names.index(start)\n",
    "    return names[start_idx:] + names[:start_idx]\n",
    "\n",
    "def play() -> None:\n",
    "    \"\"\"Play a 4-player card game\"\"\"\n",
    "    deck = create_deck(shuffle=True)\n",
    "    names = \"P1 P2 P3 P4\".split()\n",
    "    hands = {n: h for n, h in zip(names, deal_hands(deck))}\n",
    "    start_player = choose(names)\n",
    "    turn_order = player_order(names, start=start_player)\n",
    "\n",
    "    # Randomly play cards from each player's hand until empty\n",
    "    while hands[start_player]:\n",
    "        for name in turn_order:\n",
    "            card = choose(hands[name])\n",
    "            hands[name].remove(card)\n",
    "            print(f\"{name}: {card[0] + card[1]:<3}  \", end=\"\")\n",
    "        print()"
   ]
  },
  {
   "cell_type": "code",
   "execution_count": 59,
   "metadata": {},
   "outputs": [
    {
     "name": "stdout",
     "output_type": "stream",
     "text": [
      "P4: ♣8   P1: ♡2   P2: ♣3   P3: ♣2   \n",
      "P4: ♠J   P1: ♣10  P2: ♠7   P3: ♠4   \n",
      "P4: ♡5   P1: ♠5   P2: ♡7   P3: ♡9   \n",
      "P4: ♠10  P1: ♠3   P2: ♠A   P3: ♣4   \n",
      "P4: ♡10  P1: ♠6   P2: ♣Q   P3: ♡K   \n",
      "P4: ♢6   P1: ♣A   P2: ♠9   P3: ♢7   \n",
      "P4: ♣5   P1: ♡Q   P2: ♣J   P3: ♠K   \n",
      "P4: ♣7   P1: ♡3   P2: ♢K   P3: ♡6   \n",
      "P4: ♡4   P1: ♣K   P2: ♢9   P3: ♢Q   \n",
      "P4: ♢8   P1: ♡J   P2: ♢5   P3: ♣6   \n",
      "P4: ♢4   P1: ♠2   P2: ♢3   P3: ♢A   \n",
      "P4: ♡8   P1: ♠8   P2: ♠Q   P3: ♡A   \n",
      "P4: ♢2   P1: ♢J   P2: ♣9   P3: ♢10  \n"
     ]
    }
   ],
   "source": [
    "play()"
   ]
  },
  {
   "cell_type": "code",
   "execution_count": 60,
   "metadata": {},
   "outputs": [],
   "source": [
    "# choose function retuns any type of object\n",
    "\n",
    "import random\n",
    "from typing import Any, Sequence\n",
    "\n",
    "def choose(items: Sequence[Any]) -> Any:\n",
    "    return random.choice(items)\n",
    "\n",
    "# lets look at Any's special role https://www.python.org/dev/peps/pep-0483/"
   ]
  },
  {
   "cell_type": "markdown",
   "metadata": {},
   "source": [
    "#### We say that type T is subtype of U if the following conditions hold \n",
    "\n",
    "- Every value from T is also in the set of value of U type\n",
    "\n",
    "- Every function from U type is also in the set of functions of T Type\n",
    "\n",
    "If above conditions hold, then even if type T is different from U, variables of type T can always pretend to be U."
   ]
  },
  {
   "cell_type": "code",
   "execution_count": 1,
   "metadata": {},
   "outputs": [
    {
     "data": {
      "text/plain": [
       "2"
      ]
     },
     "execution_count": 1,
     "metadata": {},
     "output_type": "execute_result"
    }
   ],
   "source": [
    " True + True"
   ]
  },
  {
   "cell_type": "markdown",
   "metadata": {},
   "source": [
    "- The bool type takes only two values. Usually these are denoted True and False, but these names are just aliases for the integer values 1 and 0, respectively\n",
    "\n",
    "- All subclasses corresponds to subtypes, and bool is a subtype of int because bool is a subclass of int."
   ]
  },
  {
   "cell_type": "markdown",
   "metadata": {},
   "source": [
    "### Covariant, ContraVariant, Invariant\n",
    "\n",
    "Tuple is Covariant : **Covariant** means, it maintains the type hierarchy of its item types: Tuple[bool] is subtype of Tuple[int] because bool is subtype of int\n",
    "\n",
    "List is Invariant : **Invariant** types give no guarantee about the subtypes\n",
    "\n",
    "Callable is Contravariant : **Contravariant** means, it reverses the type hierarchy. Think of Callable[T] as a function with only one argument T\n",
    "\n",
    "**Gradual typing** is essentially made possible by the Any type.\n",
    "\n",
    "Somehow Any sits both at the top and at the bottom of the type hierarchy of subtypes. Any type behaves as if it is a subtype of Any, and Any behaves as if it is a subtype of any other type\n",
    "Any type can be a fall back to Python's dynamic type system, and when you are lazy to provide the return type"
   ]
  },
  {
   "cell_type": "markdown",
   "metadata": {},
   "source": [
    "#### Using Any will needlessly make the programmer lose the type information. There is alternate\n",
    "\n",
    "Duck types and protocols\n",
    "\n",
    "Arguments with None as default value\n",
    "\n",
    "Class methods\n",
    "\n",
    "The type of your own classes\n",
    "\n",
    "Variable number of arguments"
   ]
  },
  {
   "cell_type": "code",
   "execution_count": 4,
   "metadata": {},
   "outputs": [],
   "source": [
    "# Using TypeVar\n",
    "\n",
    "from typing import Sequence, TypeVar\n",
    "\n",
    "Choosable = TypeVar(\"Choosable\")\n",
    "\n",
    "def choose(items: Sequence[Choosable]) -> Choosable:\n",
    "    return random.choice(items)\n",
    "\n",
    "# reveal_type(names)"
   ]
  },
  {
   "cell_type": "markdown",
   "metadata": {},
   "source": [
    "One way to categorize type systems is by whether they are nominal or structural:\n",
    "\n",
    "In a nominal system, comparisons between types are based on names and declarations. The Python type system is mostly nominal, where an int can be used in place of a float because of their subtype relationship.\n",
    "\n",
    "In a structural system, comparisons between types are based on structure. You could define a structural type Sized that includes all instances that define .__len__(), irrespective of their nominal type."
   ]
  },
  {
   "cell_type": "code",
   "execution_count": 7,
   "metadata": {},
   "outputs": [],
   "source": [
    "# A protocol specifies one or more methods that must be implemented. For example, all classes defining .__len__() fulfill the typing.Sized protocol. We can therefore annotate len() as follows:\n",
    "\n",
    "from typing import Sized\n",
    "\n",
    "def len(obj: Sized) -> int:\n",
    "    return obj.__len__()\n",
    "\n",
    "# Other examples of protocols defined in the typing module include Container, Iterable, Awaitable, and ContextManager.\n",
    "\n",
    "from typing_extensions import Protocol\n",
    "\n",
    "class Sized(Protocol):\n",
    "    def __len__(self) -> int: ...\n",
    "\n",
    "def len(obj: Sized) -> int:\n",
    "    return obj.__len__()"
   ]
  },
  {
   "cell_type": "code",
   "execution_count": 8,
   "metadata": {},
   "outputs": [],
   "source": [
    "def player_order(names, start=None):\n",
    "    \"\"\"Rotate player order so that start goes first\"\"\"\n",
    "    if start is None:\n",
    "        start = choose(names)\n",
    "    start_idx = names.index(start)\n",
    "    return names[start_idx:] + names[:start_idx]"
   ]
  },
  {
   "cell_type": "code",
   "execution_count": null,
   "metadata": {},
   "outputs": [],
   "source": [
    "from typing import Sequence, Optional\n",
    "\n",
    "def player_order(\n",
    "    names: Sequence[str], start: Optional[str] = None\n",
    ") -> Sequence[str]:\n",
    "    ...\n",
    "\n",
    "# The Optional type simply says that a variable either has the type specified or is None. An equivalent way of specifying the same would be using the Union type: Union[None, str]"
   ]
  },
  {
   "cell_type": "code",
   "execution_count": 9,
   "metadata": {},
   "outputs": [],
   "source": [
    "### Creating the object oriented Game\n",
    "\n",
    "import random\n",
    "import sys\n",
    "\n",
    "class Card:\n",
    "    SUITS = \"♠ ♡ ♢ ♣\".split()\n",
    "    RANKS = \"2 3 4 5 6 7 8 9 10 J Q K A\".split()\n",
    "\n",
    "    def __init__(self, suit, rank):\n",
    "        self.suit = suit\n",
    "        self.rank = rank\n",
    "\n",
    "    def __repr__(self):\n",
    "        return f\"{self.suit}{self.rank}\""
   ]
  },
  {
   "cell_type": "code",
   "execution_count": 11,
   "metadata": {},
   "outputs": [],
   "source": [
    "class Deck:\n",
    "    def __init__(self, cards) -> None:\n",
    "        self.cards = cards\n",
    "\n",
    "    @classmethod\n",
    "    def create(cls, shuffle=False):\n",
    "        \"\"\"Create a new deck of 52 cards\"\"\"\n",
    "        cards = [Card(s, r) for r in Card.RANKS for s in Card.SUITS]\n",
    "        if shuffle:\n",
    "            random.shuffle(cards)\n",
    "        return cls(cards)\n",
    "\n",
    "    def deal(self, num_hands):\n",
    "        \"\"\"Deal the card in the deck in the number of hands\"\"\"\n",
    "        cls = self.__class__  # This is new\n",
    "        return tuple(cls(self.cards[1::num_hands]) for i in range(num_hands)) "
   ]
  },
  {
   "cell_type": "code",
   "execution_count": null,
   "metadata": {},
   "outputs": [],
   "source": [
    "class Player:\n",
    "    def __init__(self, name, hand):\n",
    "        self.name = name\n",
    "        self.hand = hand\n",
    "\n",
    "    def play_card(self):\n",
    "        \"\"\"Play a card from the player's hand\"\"\"\n",
    "        card = random.choice(self.hand.cards)\n",
    "        self.hand.cards.remove(card)\n",
    "        print(f\"{self.name}: {card!r:<3} \", end=\"\")"
   ]
  },
  {
   "cell_type": "code",
   "execution_count": 12,
   "metadata": {},
   "outputs": [],
   "source": [
    "class Game:\n",
    "    def __init__(self, *names):\n",
    "        \"\"\"Set up deck and deal cards to 4 players\"\"\"\n",
    "        deck = Deck.create(shuffle=True)\n",
    "        self.names = (list(names) + \"P1 P2 P3 P4\".split())[:4]\n",
    "        self.hands = {\n",
    "            n: Player(n, h) for n, h in zip(self.names, deck.deal(4))\n",
    "        }\n",
    "\n",
    "    def play(self):\n",
    "        \"\"\"play a card game\"\"\"\n",
    "        start_player = random.choice(self.names)\n",
    "        turn_order = self.player_order(start=start_player)\n",
    "\n",
    "        while self.hands[start_player].hand.cards:\n",
    "            for name in turn_order:\n",
    "                self.hands[name].play_card()\n",
    "            print()\n",
    "\n",
    "    def player_order(self, start=None):\n",
    "        \"\"\"Rotate player order so start goes first\"\"\"\n",
    "        if start is None:\n",
    "            start = random.choice(self.names)\n",
    "        start_idx = self.names.index(start)\n",
    "        return self.names[start_idx:] + self.names[:start_idx]"
   ]
  },
  {
   "cell_type": "markdown",
   "metadata": {},
   "source": [
    "### Annotating the types for the above code\n",
    "\n",
    "Main difference is that the self argument need not be annotated, as it always will be a class instance. \n",
    "\n",
    "Note that the .__init__() method always should have None as its return type.\n",
    "\n",
    "To use classes as types you simply use the name of the class. A Deck essentially consists of a list of Card objects\n",
    "\n",
    "you can’t simply add -> Deck as the Deck **class is not yet fully defined.** Instead, you are allowed to use string literals in annotations. These strings will only be evaluated by the type checker later,"
   ]
  },
  {
   "cell_type": "code",
   "execution_count": 13,
   "metadata": {},
   "outputs": [],
   "source": [
    "class Card:\n",
    "    SUITS = \"♠ ♡ ♢ ♣\".split()\n",
    "    RANKS = \"2 3 4 5 6 7 8 9 10 J Q K A\".split()\n",
    "\n",
    "    def __init__(self, suit: str, rank: str) -> None:\n",
    "        self.suit = suit\n",
    "        self.rank = rank\n",
    "\n",
    "    def __repr__(self) -> str:\n",
    "        return f\"{self.suit}{self.rank}\""
   ]
  },
  {
   "cell_type": "code",
   "execution_count": null,
   "metadata": {},
   "outputs": [],
   "source": [
    "class Deck:\n",
    "    def __init__(self, cards: List[Card]) -> None:\n",
    "        self.cards = cards"
   ]
  },
  {
   "cell_type": "code",
   "execution_count": null,
   "metadata": {},
   "outputs": [],
   "source": [
    "class Deck:\n",
    "    @classmethod\n",
    "    def create(cls, shuffle: bool = False) -> \"Deck\":\n",
    "        \"\"\"Create a new deck of 52 cards\"\"\"\n",
    "        cards = [Card(s, r) for r in Card.RANKS for s in Card.SUITS]\n",
    "        if shuffle:\n",
    "            random.shuffle(cards)\n",
    "        return cls(cards)"
   ]
  },
  {
   "cell_type": "code",
   "execution_count": 14,
   "metadata": {},
   "outputs": [
    {
     "name": "stdout",
     "output_type": "stream",
     "text": [
      "Fido says woof!\n",
      "Pluto says woof!\n"
     ]
    }
   ],
   "source": [
    "# dogs.py\n",
    "\n",
    "from datetime import date\n",
    "\n",
    "class Animal:\n",
    "    def __init__(self, name: str, birthday: date) -> None:\n",
    "        self.name = name\n",
    "        self.birthday = birthday\n",
    "\n",
    "    @classmethod\n",
    "    def newborn(cls, name: str) -> \"Animal\":\n",
    "        return cls(name, date.today())\n",
    "\n",
    "    def twin(self, name: str) -> \"Animal\":\n",
    "        cls = self.__class__\n",
    "        return cls(name, self.birthday)\n",
    "\n",
    "class Dog(Animal):\n",
    "    def bark(self) -> None:\n",
    "        print(f\"{self.name} says woof!\")\n",
    "\n",
    "fido = Dog.newborn(\"Fido\")\n",
    "pluto = fido.twin(\"Pluto\")\n",
    "fido.bark()\n",
    "pluto.bark()"
   ]
  },
  {
   "cell_type": "code",
   "execution_count": 15,
   "metadata": {},
   "outputs": [
    {
     "name": "stdout",
     "output_type": "stream",
     "text": [
      "Fido says woof!\n",
      "Pluto says woof!\n"
     ]
    }
   ],
   "source": [
    "# dogs.py\n",
    "\n",
    "from datetime import date\n",
    "from typing import Type, TypeVar\n",
    "\n",
    "TAnimal = TypeVar(\"TAnimal\", bound=\"Animal\")\n",
    "\n",
    "class Animal:\n",
    "    def __init__(self, name: str, birthday: date) -> None:\n",
    "        self.name = name\n",
    "        self.birthday = birthday\n",
    "\n",
    "    @classmethod\n",
    "    def newborn(cls: Type[TAnimal], name: str) -> TAnimal:\n",
    "        return cls(name, date.today())\n",
    "\n",
    "    def twin(self: TAnimal, name: str) -> TAnimal:\n",
    "        cls = self.__class__\n",
    "        return cls(name, self.birthday)\n",
    "\n",
    "class Dog(Animal):\n",
    "    def bark(self) -> None:\n",
    "        print(f\"{self.name} says woof!\")\n",
    "\n",
    "fido = Dog.newborn(\"Fido\")\n",
    "pluto = fido.twin(\"Pluto\")\n",
    "fido.bark()\n",
    "pluto.bark()"
   ]
  },
  {
   "cell_type": "code",
   "execution_count": 16,
   "metadata": {},
   "outputs": [],
   "source": [
    "# Observe the *names is given the type \"str\" only\n",
    "class Game:\n",
    "    def __init__(self, *names: str) -> None:\n",
    "        \"\"\"Set up the deck and deal cards to 4 players\"\"\"\n",
    "        deck = Deck.create(shuffle=True)\n",
    "        self.names = (list(names) + \"P1 P2 P3 P4\".split())[:4]\n",
    "        self.hands = {\n",
    "            n: Player(n, h) for n, h in zip(self.names, deck.deal(4))\n",
    "        }"
   ]
  },
  {
   "cell_type": "code",
   "execution_count": 18,
   "metadata": {},
   "outputs": [
    {
     "name": "stdout",
     "output_type": "stream",
     "text": [
      "Hello Jekyll\n",
      "Hello Jekyll\n"
     ]
    }
   ],
   "source": [
    "# do_twice.py\n",
    "\n",
    "from typing import Callable\n",
    "\n",
    "def do_twice(func: Callable[[str], str], argument: str) -> None:\n",
    "    print(func(argument))\n",
    "    print(func(argument))\n",
    "\n",
    "def create_greeting(name: str) -> str:\n",
    "    return f\"Hello {name}\"\n",
    "\n",
    "do_twice(create_greeting, \"Jekyll\")"
   ]
  },
  {
   "cell_type": "code",
   "execution_count": 19,
   "metadata": {},
   "outputs": [
    {
     "name": "stdout",
     "output_type": "stream",
     "text": [
      "\n",
      "Starting new round:\n",
      "P3 -> ♣2\n",
      "  0: ♣6  1: ♣10  2: ♣Q  3: ♣K  4: ♣A  (Rest: ♡7 ♢3 ♠4 ♡9 ♡4 ♠3 ♡A ♠K)\n"
     ]
    }
   ],
   "source": [
    "# hearts.py\n",
    "\n",
    "from collections import Counter\n",
    "import random\n",
    "import sys\n",
    "from typing import Any, Dict, List, Optional, Sequence, Tuple, Union\n",
    "from typing import overload\n",
    "\n",
    "class Card:\n",
    "    SUITS = \"♠ ♡ ♢ ♣\".split()\n",
    "    RANKS = \"2 3 4 5 6 7 8 9 10 J Q K A\".split()\n",
    "\n",
    "    def __init__(self, suit: str, rank: str) -> None:\n",
    "        self.suit = suit\n",
    "        self.rank = rank\n",
    "\n",
    "    @property\n",
    "    def value(self) -> int:\n",
    "        \"\"\"The value of a card is rank as a number\"\"\"\n",
    "        return self.RANKS.index(self.rank)\n",
    "\n",
    "    @property\n",
    "    def points(self) -> int:\n",
    "        \"\"\"Points this card is worth\"\"\"\n",
    "        if self.suit == \"♠\" and self.rank == \"Q\":\n",
    "            return 13\n",
    "        if self.suit == \"♡\":\n",
    "            return 1\n",
    "        return 0\n",
    "\n",
    "    def __eq__(self, other: Any) -> Any:\n",
    "        return self.suit == other.suit and self.rank == other.rank\n",
    "\n",
    "    def __lt__(self, other: Any) -> Any:\n",
    "        return self.value < other.value\n",
    "\n",
    "    def __repr__(self) -> str:\n",
    "        return f\"{self.suit}{self.rank}\"\n",
    "\n",
    "class Deck(Sequence[Card]):\n",
    "    def __init__(self, cards: List[Card]) -> None:\n",
    "        self.cards = cards\n",
    "\n",
    "    @classmethod\n",
    "    def create(cls, shuffle: bool = False) -> \"Deck\":\n",
    "        \"\"\"Create a new deck of 52 cards\"\"\"\n",
    "        cards = [Card(s, r) for r in Card.RANKS for s in Card.SUITS]\n",
    "        if shuffle:\n",
    "            random.shuffle(cards)\n",
    "        return cls(cards)\n",
    "\n",
    "    def play(self, card: Card) -> None:\n",
    "        \"\"\"Play one card by removing it from the deck\"\"\"\n",
    "        self.cards.remove(card)\n",
    "\n",
    "    def deal(self, num_hands: int) -> Tuple[\"Deck\", ...]:\n",
    "        \"\"\"Deal the cards in the deck into a number of hands\"\"\"\n",
    "        return tuple(self[i::num_hands] for i in range(num_hands))\n",
    "\n",
    "    def add_cards(self, cards: List[Card]) -> None:\n",
    "        \"\"\"Add a list of cards to the deck\"\"\"\n",
    "        self.cards += cards\n",
    "\n",
    "    def __len__(self) -> int:\n",
    "        return len(self.cards)\n",
    "\n",
    "    @overload\n",
    "    def __getitem__(self, key: int) -> Card: ...\n",
    "\n",
    "    @overload\n",
    "    def __getitem__(self, key: slice) -> \"Deck\": ...\n",
    "\n",
    "    def __getitem__(self, key: Union[int, slice]) -> Union[Card, \"Deck\"]:\n",
    "        if isinstance(key, int):\n",
    "            return self.cards[key]\n",
    "        elif isinstance(key, slice):\n",
    "            cls = self.__class__\n",
    "            return cls(self.cards[key])\n",
    "        else:\n",
    "            raise TypeError(\"Indices must be integers or slices\")\n",
    "\n",
    "    def __repr__(self) -> str:\n",
    "        return \" \".join(repr(c) for c in self.cards)\n",
    "\n",
    "class Player:\n",
    "    def __init__(self, name: str, hand: Optional[Deck] = None) -> None:\n",
    "        self.name = name\n",
    "        self.hand = Deck([]) if hand is None else hand\n",
    "\n",
    "    def playable_cards(self, played: List[Card], hearts_broken: bool) -> Deck:\n",
    "        \"\"\"List which cards in hand are playable this round\"\"\"\n",
    "        if Card(\"♣\", \"2\") in self.hand:\n",
    "            return Deck([Card(\"♣\", \"2\")])\n",
    "\n",
    "        lead = played[0].suit if played else None\n",
    "        playable = Deck([c for c in self.hand if c.suit == lead]) or self.hand\n",
    "        if lead is None and not hearts_broken:\n",
    "            playable = Deck([c for c in playable if c.suit != \"♡\"])\n",
    "        return playable or Deck(self.hand.cards)\n",
    "\n",
    "    def non_winning_cards(self, played: List[Card], playable: Deck) -> Deck:\n",
    "        \"\"\"List playable cards that are guaranteed to not win the trick\"\"\"\n",
    "        if not played:\n",
    "            return Deck([])\n",
    "\n",
    "        lead = played[0].suit\n",
    "        best_card = max(c for c in played if c.suit == lead)\n",
    "        return Deck([c for c in playable if c < best_card or c.suit != lead])\n",
    "\n",
    "    def play_card(self, played: List[Card], hearts_broken: bool) -> Card:\n",
    "        \"\"\"Play a card from a cpu player's hand\"\"\"\n",
    "        playable = self.playable_cards(played, hearts_broken)\n",
    "        non_winning = self.non_winning_cards(played, playable)\n",
    "\n",
    "        # Strategy\n",
    "        if non_winning:\n",
    "            # Highest card not winning the trick, prefer points\n",
    "            card = max(non_winning, key=lambda c: (c.points, c.value))\n",
    "        elif len(played) < 3:\n",
    "            # Lowest card maybe winning, avoid points\n",
    "            card = min(playable, key=lambda c: (c.points, c.value))\n",
    "        else:\n",
    "            # Highest card guaranteed winning, avoid points\n",
    "            card = max(playable, key=lambda c: (-c.points, c.value))\n",
    "        self.hand.cards.remove(card)\n",
    "        print(f\"{self.name} -> {card}\")\n",
    "        return card\n",
    "\n",
    "    def has_card(self, card: Card) -> bool:\n",
    "        return card in self.hand\n",
    "\n",
    "    def __repr__(self) -> str:\n",
    "        return f\"{self.__class__.__name__}({self.name!r}, {self.hand})\"\n",
    "\n",
    "class HumanPlayer(Player):\n",
    "    def play_card(self, played: List[Card], hearts_broken: bool) -> Card:\n",
    "        \"\"\"Play a card from a human player's hand\"\"\"\n",
    "        playable = sorted(self.playable_cards(played, hearts_broken))\n",
    "        p_str = \"  \".join(f\"{n}: {c}\" for n, c in enumerate(playable))\n",
    "        np_str = \" \".join(repr(c) for c in self.hand if c not in playable)\n",
    "        print(f\"  {p_str}  (Rest: {np_str})\")\n",
    "        while True:\n",
    "            try:\n",
    "                card_num = int(input(f\"  {self.name}, choose card: \"))\n",
    "                card = playable[card_num]\n",
    "            except (ValueError, IndexError):\n",
    "                pass\n",
    "            else:\n",
    "                break\n",
    "        self.hand.play(card)\n",
    "        print(f\"{self.name} => {card}\")\n",
    "        return card\n",
    "\n",
    "class HeartsGame:\n",
    "    def __init__(self, *names: str) -> None:\n",
    "        self.names = (list(names) + \"P1 P2 P3 P4\".split())[:4]\n",
    "        self.players = [Player(n) for n in self.names[1:]]\n",
    "        self.players.append(HumanPlayer(self.names[0]))\n",
    "\n",
    "    def play(self) -> None:\n",
    "        \"\"\"Play a game of Hearts until one player go bust\"\"\"\n",
    "        score = Counter({n: 0 for n in self.names})\n",
    "        while all(s < 100 for s in score.values()):\n",
    "            print(\"\\nStarting new round:\")\n",
    "            round_score = self.play_round()\n",
    "            score.update(Counter(round_score))\n",
    "            print(\"Scores:\")\n",
    "            for name, total_score in score.most_common(4):\n",
    "                print(f\"{name:<15} {round_score[name]:>3} {total_score:>3}\")\n",
    "\n",
    "        winners = [n for n in self.names if score[n] == min(score.values())]\n",
    "        print(f\"\\n{' and '.join(winners)} won the game\")\n",
    "\n",
    "    def play_round(self) -> Dict[str, int]:\n",
    "        \"\"\"Play a round of the Hearts card game\"\"\"\n",
    "        deck = Deck.create(shuffle=True)\n",
    "        for player, hand in zip(self.players, deck.deal(4)):\n",
    "            player.hand.add_cards(hand.cards)\n",
    "        start_player = next(\n",
    "            p for p in self.players if p.has_card(Card(\"♣\", \"2\"))\n",
    "        )\n",
    "        tricks = {p.name: Deck([]) for p in self.players}\n",
    "        hearts = False\n",
    "\n",
    "        # Play cards from each player's hand until empty\n",
    "        while start_player.hand:\n",
    "            played: List[Card] = []\n",
    "            turn_order = self.player_order(start=start_player)\n",
    "            for player in turn_order:\n",
    "                card = player.play_card(played, hearts_broken=hearts)\n",
    "                played.append(card)\n",
    "            start_player = self.trick_winner(played, turn_order)\n",
    "            tricks[start_player.name].add_cards(played)\n",
    "            print(f\"{start_player.name} wins the trick\\n\")\n",
    "            hearts = hearts or any(c.suit == \"♡\" for c in played)\n",
    "        return self.count_points(tricks)\n",
    "\n",
    "    def player_order(self, start: Optional[Player] = None) -> List[Player]:\n",
    "        \"\"\"Rotate player order so that start goes first\"\"\"\n",
    "        if start is None:\n",
    "            start = random.choice(self.players)\n",
    "        start_idx = self.players.index(start)\n",
    "        return self.players[start_idx:] + self.players[:start_idx]\n",
    "\n",
    "    @staticmethod\n",
    "    def trick_winner(trick: List[Card], players: List[Player]) -> Player:\n",
    "        lead = trick[0].suit\n",
    "        valid = [\n",
    "            (c.value, p) for c, p in zip(trick, players) if c.suit == lead\n",
    "        ]\n",
    "        return max(valid)[1]\n",
    "\n",
    "    @staticmethod\n",
    "    def count_points(tricks: Dict[str, Deck]) -> Dict[str, int]:\n",
    "        return {n: sum(c.points for c in cards) for n, cards in tricks.items()}\n"
   ]
  },
  {
   "cell_type": "code",
   "execution_count": null,
   "metadata": {},
   "outputs": [],
   "source": [
    "player_names = \"sys.argv[1:]\"\n",
    "game = HeartsGame(*player_names)\n",
    "game.play()"
   ]
  }
 ],
 "metadata": {
  "kernelspec": {
   "display_name": "Python 3",
   "language": "python",
   "name": "python3"
  },
  "language_info": {
   "codemirror_mode": {
    "name": "ipython",
    "version": 3
   },
   "file_extension": ".py",
   "mimetype": "text/x-python",
   "name": "python",
   "nbconvert_exporter": "python",
   "pygments_lexer": "ipython3",
   "version": "3.11.4"
  }
 },
 "nbformat": 4,
 "nbformat_minor": 2
}
