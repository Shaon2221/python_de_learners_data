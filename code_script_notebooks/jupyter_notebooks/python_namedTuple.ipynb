{
 "cells": [
  {
   "cell_type": "code",
   "execution_count": 1,
   "metadata": {},
   "outputs": [],
   "source": [
    "# This notebook contains the details of NamedTuple RP tutorial https://realpython.com/python-namedtuple/#using-namedtuple-to-write-pythonic-code\n",
    "# Python’s namedtuple() is a factory function available in collections. \n",
    "# You can access the values in a given named tuple using the dot notation and the field names, like in obj.attr. The reason is accessing through indices can be confusing"
   ]
  },
  {
   "cell_type": "markdown",
   "metadata": {},
   "source": [
    "# Features of NamedTuple\n",
    "\n",
    "- Are immutable data structures\n",
    "\n",
    "- Have a consistent hash value\n",
    "\n",
    "- Can work as dictionary keys\n",
    "\n",
    "- Can be stored in sets\n",
    "\n",
    "- Have a helpful docstring based on the type and field names\n",
    "\n",
    "- Provide a helpful string representation that prints the tuple content in a name=value format\n",
    "\n",
    "- Support indexing\n",
    "\n",
    "- Provide additional methods and attributes, such as ._make(), _asdict(), ._fields, and so on\n",
    "\n",
    "- Are backward compatible with regular tuples\n",
    "\n",
    "- Have similar memory consumption to regular tuples\n"
   ]
  },
  {
   "cell_type": "code",
   "execution_count": 2,
   "metadata": {},
   "outputs": [
    {
     "ename": "TypeError",
     "evalue": "'tuple' object does not support item assignment",
     "output_type": "error",
     "traceback": [
      "\u001b[1;31m---------------------------------------------------------------------------\u001b[0m",
      "\u001b[1;31mTypeError\u001b[0m                                 Traceback (most recent call last)",
      "\u001b[1;32md:\\gitFolders\\python_de_learners_data\\code_script_notebooks\\jupyter_notebooks\\python_namedTuple.ipynb Cell 3\u001b[0m line \u001b[0;36m3\n\u001b[0;32m      <a href='vscode-notebook-cell:/d%3A/gitFolders/python_de_learners_data/code_script_notebooks/jupyter_notebooks/python_namedTuple.ipynb#W2sZmlsZQ%3D%3D?line=0'>1</a>\u001b[0m \u001b[39m# regular tuple\u001b[39;00m\n\u001b[0;32m      <a href='vscode-notebook-cell:/d%3A/gitFolders/python_de_learners_data/code_script_notebooks/jupyter_notebooks/python_namedTuple.ipynb#W2sZmlsZQ%3D%3D?line=1'>2</a>\u001b[0m point \u001b[39m=\u001b[39m (\u001b[39m5\u001b[39m, \u001b[39m8\u001b[39m)\n\u001b[1;32m----> <a href='vscode-notebook-cell:/d%3A/gitFolders/python_de_learners_data/code_script_notebooks/jupyter_notebooks/python_namedTuple.ipynb#W2sZmlsZQ%3D%3D?line=2'>3</a>\u001b[0m point[\u001b[39m1\u001b[39;49m] \u001b[39m=\u001b[39m \u001b[39m8\u001b[39m\n",
      "\u001b[1;31mTypeError\u001b[0m: 'tuple' object does not support item assignment"
     ]
    }
   ],
   "source": [
    "# regular tuple\n",
    "point = (5, 8)\n",
    "point[1] = 8"
   ]
  },
  {
   "cell_type": "code",
   "execution_count": 3,
   "metadata": {},
   "outputs": [
    {
     "data": {
      "text/plain": [
       "True"
      ]
     },
     "execution_count": 3,
     "metadata": {},
     "output_type": "execute_result"
    }
   ],
   "source": [
    "from collections import namedtuple\n",
    "\n",
    "Point = namedtuple(\"Point\", \"x y\") \n",
    "issubclass(Point, tuple)"
   ]
  },
  {
   "cell_type": "code",
   "execution_count": 4,
   "metadata": {},
   "outputs": [
    {
     "data": {
      "text/plain": [
       "2"
      ]
     },
     "execution_count": 4,
     "metadata": {},
     "output_type": "execute_result"
    }
   ],
   "source": [
    "newpt = Point(2, 3)\n",
    "# dot notation access\n",
    "newpt.x"
   ]
  },
  {
   "cell_type": "code",
   "execution_count": 6,
   "metadata": {},
   "outputs": [
    {
     "ename": "AttributeError",
     "evalue": "can't set attribute",
     "output_type": "error",
     "traceback": [
      "\u001b[1;31m---------------------------------------------------------------------------\u001b[0m",
      "\u001b[1;31mAttributeError\u001b[0m                            Traceback (most recent call last)",
      "\u001b[1;32md:\\gitFolders\\python_de_learners_data\\code_script_notebooks\\jupyter_notebooks\\python_namedTuple.ipynb Cell 6\u001b[0m line \u001b[0;36m4\n\u001b[0;32m      <a href='vscode-notebook-cell:/d%3A/gitFolders/python_de_learners_data/code_script_notebooks/jupyter_notebooks/python_namedTuple.ipynb#X13sZmlsZQ%3D%3D?line=0'>1</a>\u001b[0m \u001b[39m# access through indices\u001b[39;00m\n\u001b[0;32m      <a href='vscode-notebook-cell:/d%3A/gitFolders/python_de_learners_data/code_script_notebooks/jupyter_notebooks/python_namedTuple.ipynb#X13sZmlsZQ%3D%3D?line=1'>2</a>\u001b[0m newpt[\u001b[39m1\u001b[39m]\n\u001b[1;32m----> <a href='vscode-notebook-cell:/d%3A/gitFolders/python_de_learners_data/code_script_notebooks/jupyter_notebooks/python_namedTuple.ipynb#X13sZmlsZQ%3D%3D?line=3'>4</a>\u001b[0m newpt\u001b[39m.\u001b[39;49my \u001b[39m=\u001b[39m \u001b[39m57\u001b[39m\n",
      "\u001b[1;31mAttributeError\u001b[0m: can't set attribute"
     ]
    }
   ],
   "source": [
    "# access through indices\n",
    "newpt[1]\n",
    "\n",
    "newpt.y = 57  # its still immutable"
   ]
  },
  {
   "cell_type": "code",
   "execution_count": 8,
   "metadata": {},
   "outputs": [
    {
     "name": "stdout",
     "output_type": "stream",
     "text": [
      "Person(name='John Doe', children=['Timmy', 'Jimmy'])\n",
      "1916921884160\n"
     ]
    },
    {
     "ename": "TypeError",
     "evalue": "unhashable type: 'list'",
     "output_type": "error",
     "traceback": [
      "\u001b[1;31m---------------------------------------------------------------------------\u001b[0m",
      "\u001b[1;31mTypeError\u001b[0m                                 Traceback (most recent call last)",
      "\u001b[1;32md:\\gitFolders\\python_de_learners_data\\code_script_notebooks\\jupyter_notebooks\\python_namedTuple.ipynb Cell 7\u001b[0m line \u001b[0;36m1\n\u001b[0;32m     <a href='vscode-notebook-cell:/d%3A/gitFolders/python_de_learners_data/code_script_notebooks/jupyter_notebooks/python_namedTuple.ipynb#X14sZmlsZQ%3D%3D?line=12'>13</a>\u001b[0m john\u001b[39m.\u001b[39mchildren\u001b[39m.\u001b[39mappend(\u001b[39m\"\u001b[39m\u001b[39mTina\u001b[39m\u001b[39m\"\u001b[39m)\n\u001b[0;32m     <a href='vscode-notebook-cell:/d%3A/gitFolders/python_de_learners_data/code_script_notebooks/jupyter_notebooks/python_namedTuple.ipynb#X14sZmlsZQ%3D%3D?line=14'>15</a>\u001b[0m \u001b[39mprint\u001b[39m(\u001b[39mid\u001b[39m(john\u001b[39m.\u001b[39mchildren))\n\u001b[1;32m---> <a href='vscode-notebook-cell:/d%3A/gitFolders/python_de_learners_data/code_script_notebooks/jupyter_notebooks/python_namedTuple.ipynb#X14sZmlsZQ%3D%3D?line=16'>17</a>\u001b[0m \u001b[39mhash\u001b[39;49m(john)\n",
      "\u001b[1;31mTypeError\u001b[0m: unhashable type: 'list'"
     ]
    }
   ],
   "source": [
    "# the values held inside the tuple can be mutable. Note that tuples or named tuples with mutable values aren’t hashable, as you saw in the above example.\n",
    "\n",
    "from collections import namedtuple\n",
    "\n",
    "Person = namedtuple(\"Person\", \"name children\")  # the instantiation doesn't say anything about the attr types\n",
    "\n",
    "john = Person(\"John Doe\", [\"Timmy\", \"Jimmy\"])\n",
    "\n",
    "print(john)\n",
    "\n",
    "id(john.children)\n",
    "\n",
    "john.children.append(\"Tina\")\n",
    "\n",
    "print(id(john.children))\n",
    "\n",
    "hash(john)"
   ]
  },
  {
   "cell_type": "markdown",
   "metadata": {},
   "source": [
    "To create a new namedtuple, you need to provide two positional arguments to the function: (namedTuple is a factory_function)\n",
    "\n",
    "typename provides the class name for the namedtuple returned by namedtuple(). You need to pass a string with a valid Python identifier to this argument.\n",
    "field_names provides the field names that you’ll use to access the values in the tuple. You can provide the field names using:\n",
    "\n",
    "An iterable of strings, such as [\"field1\", \"field2\", ..., \"fieldN\"]\n",
    "\n",
    "A string with each field name separated by whitespace, such as \"field1 field2 ... fieldN\"\n",
    "\n",
    "A string with each field name separated by commas, such as \"field1, field2, ..., fieldN\""
   ]
  },
  {
   "cell_type": "code",
   "execution_count": 9,
   "metadata": {},
   "outputs": [
    {
     "data": {
      "text/plain": [
       "Point(x=8, y=16)"
      ]
     },
     "execution_count": 9,
     "metadata": {},
     "output_type": "execute_result"
    }
   ],
   "source": [
    "# A list of strings for the field names\n",
    "Point = namedtuple(\"Point\", [\"x\", \"y\"])\n",
    "Point(2, 4)\n",
    "# same as Point(x=2, y=4)\n",
    "\n",
    "# A string with comma-separated field names\n",
    "Point = namedtuple(\"Point\", \"x, y\")\n",
    "Point\n",
    "\n",
    "Point(4, 8)\n",
    "\n",
    "# A generator expression for the field names\n",
    "Point = namedtuple(\"Point\", (field for field in \"xy\"))\n",
    "Point\n",
    "Point(8, 16)"
   ]
  },
  {
   "cell_type": "markdown",
   "metadata": {},
   "source": [
    "When you use an unordered iterable to provide the fields to a namedtuple, you can get unexpected results. In the above example, the coordinate names are swapped, which might not be right for your use case.\n",
    "\n",
    "```\n",
    ">>> from collections import namedtuple\n",
    "\n",
    ">>> Point = namedtuple(\"Point\", {\"x\", \"y\"})\n",
    ">>> Point(2, 4)\n",
    "Point(y=2, x=4)\n",
    "```"
   ]
  },
  {
   "cell_type": "code",
   "execution_count": 10,
   "metadata": {},
   "outputs": [
    {
     "ename": "TypeError",
     "evalue": "Developer.__new__() missing 2 required positional arguments: 'level' and 'lang'",
     "output_type": "error",
     "traceback": [
      "\u001b[1;31m---------------------------------------------------------------------------\u001b[0m",
      "\u001b[1;31mTypeError\u001b[0m                                 Traceback (most recent call last)",
      "\u001b[1;32md:\\gitFolders\\python_de_learners_data\\code_script_notebooks\\jupyter_notebooks\\python_namedTuple.ipynb Cell 11\u001b[0m line \u001b[0;36m4\n\u001b[0;32m      <a href='vscode-notebook-cell:/d%3A/gitFolders/python_de_learners_data/code_script_notebooks/jupyter_notebooks/python_namedTuple.ipynb#X16sZmlsZQ%3D%3D?line=0'>1</a>\u001b[0m \u001b[39m# using defaults in namedTuple\u001b[39;00m\n\u001b[0;32m      <a href='vscode-notebook-cell:/d%3A/gitFolders/python_de_learners_data/code_script_notebooks/jupyter_notebooks/python_namedTuple.ipynb#X16sZmlsZQ%3D%3D?line=2'>3</a>\u001b[0m Dev \u001b[39m=\u001b[39m namedtuple(\u001b[39m\"\u001b[39m\u001b[39mDeveloper\u001b[39m\u001b[39m\"\u001b[39m, \u001b[39m\"\u001b[39m\u001b[39mname level lang\u001b[39m\u001b[39m\"\u001b[39m)\n\u001b[1;32m----> <a href='vscode-notebook-cell:/d%3A/gitFolders/python_de_learners_data/code_script_notebooks/jupyter_notebooks/python_namedTuple.ipynb#X16sZmlsZQ%3D%3D?line=3'>4</a>\u001b[0m john \u001b[39m=\u001b[39m Dev(\u001b[39m'\u001b[39;49m\u001b[39mjohn\u001b[39;49m\u001b[39m'\u001b[39;49m)\n\u001b[0;32m      <a href='vscode-notebook-cell:/d%3A/gitFolders/python_de_learners_data/code_script_notebooks/jupyter_notebooks/python_namedTuple.ipynb#X16sZmlsZQ%3D%3D?line=4'>5</a>\u001b[0m john\n",
      "\u001b[1;31mTypeError\u001b[0m: Developer.__new__() missing 2 required positional arguments: 'level' and 'lang'"
     ]
    }
   ],
   "source": [
    "# Not having any defaults in namedTuple\n",
    "\n",
    "Dev = namedtuple(\"Developer\", \"name level lang\")\n",
    "john = Dev('john')\n",
    "john"
   ]
  },
  {
   "cell_type": "code",
   "execution_count": 11,
   "metadata": {},
   "outputs": [
    {
     "data": {
      "text/plain": [
       "Developer(name='john', level='junior', lang='JavaScript')"
      ]
     },
     "execution_count": 11,
     "metadata": {},
     "output_type": "execute_result"
    }
   ],
   "source": [
    "# using defaults in namedTuple\n",
    "\n",
    "Dev = namedtuple(\"Developer\", \"name level lang\", defaults=[\"junior\", \"JavaScript\"])\n",
    "john = Dev('john')\n",
    "john"
   ]
  },
  {
   "cell_type": "code",
   "execution_count": 12,
   "metadata": {},
   "outputs": [
    {
     "data": {
      "text/plain": [
       "custom.Point"
      ]
     },
     "execution_count": 12,
     "metadata": {},
     "output_type": "execute_result"
    }
   ],
   "source": [
    "# .__module__ attribute of the resulting namedtuple is set to that value. This attribute holds the name of the module in which a given function or callable is defined:\n",
    "modPoint = namedtuple(\"Point\", \"x y\", module='custom')\n",
    "modPoint"
   ]
  },
  {
   "cell_type": "markdown",
   "metadata": {},
   "source": [
    "Besides the methods inherited from tuple, such as .count() and .index(), namedtuple classes also provide three additional methods and two attributes. To prevent name conflicts with custom fields, the names of these attributes and methods start with an underscore. "
   ]
  },
  {
   "cell_type": "code",
   "execution_count": 14,
   "metadata": {},
   "outputs": [
    {
     "data": {
      "text/plain": [
       "newPerson(name='doe', age=25, height=87, weight=86)"
      ]
     },
     "execution_count": 14,
     "metadata": {},
     "output_type": "execute_result"
    }
   ],
   "source": [
    "person = namedtuple('newPerson', \"name age height weight\")\n",
    "\n",
    "person._make(['doe',25, 87, 86])"
   ]
  },
  {
   "cell_type": "code",
   "execution_count": 17,
   "metadata": {},
   "outputs": [],
   "source": [
    "# Regular tuple creation is as below\n",
    "aneu = person('aneu', 65, 86, 75)"
   ]
  },
  {
   "cell_type": "code",
   "execution_count": 18,
   "metadata": {},
   "outputs": [
    {
     "data": {
      "text/plain": [
       "{'name': 'aneu', 'age': 65, 'height': 86, 'weight': 75}"
      ]
     },
     "execution_count": 18,
     "metadata": {},
     "output_type": "execute_result"
    }
   ],
   "source": [
    "# convert to dictionaries\n",
    "aneu._asdict()"
   ]
  },
  {
   "cell_type": "code",
   "execution_count": 19,
   "metadata": {},
   "outputs": [
    {
     "data": {
      "text/plain": [
       "newPerson(name='aneu', age=65, height=86, weight=26)"
      ]
     },
     "execution_count": 19,
     "metadata": {},
     "output_type": "execute_result"
    }
   ],
   "source": [
    "# this tuple is modifiable... ;)\n",
    "aneu._replace(weight=26)"
   ]
  },
  {
   "cell_type": "code",
   "execution_count": 20,
   "metadata": {},
   "outputs": [
    {
     "data": {
      "text/plain": [
       "{}"
      ]
     },
     "execution_count": 20,
     "metadata": {},
     "output_type": "execute_result"
    }
   ],
   "source": [
    "aneu._field_defaults"
   ]
  },
  {
   "cell_type": "code",
   "execution_count": 21,
   "metadata": {},
   "outputs": [
    {
     "data": {
      "text/plain": [
       "('name', 'age', 'height', 'weight')"
      ]
     },
     "execution_count": 21,
     "metadata": {},
     "output_type": "execute_result"
    }
   ],
   "source": [
    "aneu._fields"
   ]
  },
  {
   "cell_type": "markdown",
   "metadata": {},
   "source": [
    "Opportunities to create Pythonic Namedtuple code"
   ]
  },
  {
   "cell_type": "code",
   "execution_count": 22,
   "metadata": {},
   "outputs": [],
   "source": [
    "pen = (5, 'liquid', False)\n",
    "# line weight, style and beveled edges"
   ]
  },
  {
   "cell_type": "code",
   "execution_count": 23,
   "metadata": {},
   "outputs": [
    {
     "data": {
      "text/plain": [
       "Pen(weight=5, style='liquid', edges=False)"
      ]
     },
     "execution_count": 23,
     "metadata": {},
     "output_type": "execute_result"
    }
   ],
   "source": [
    "Pen = namedtuple('Pen', 'weight style edges')\n",
    "newPen = Pen(weight=5, style='liquid', edges=False)\n",
    "newPen"
   ]
  },
  {
   "cell_type": "code",
   "execution_count": 24,
   "metadata": {},
   "outputs": [],
   "source": [
    "# when you need to return multiple values from a given function\n",
    "\n",
    "def custom_divmod(a, b):\n",
    "    DivMod = namedtuple('DivMod', 'quot remd')\n",
    "    return DivMod(*divmod(a, b))"
   ]
  },
  {
   "cell_type": "code",
   "execution_count": 25,
   "metadata": {},
   "outputs": [
    {
     "data": {
      "text/plain": [
       "DivMod(quot=1, remd=2)"
      ]
     },
     "execution_count": 25,
     "metadata": {},
     "output_type": "execute_result"
    }
   ],
   "source": [
    "custom_divmod(8, 6)"
   ]
  },
  {
   "cell_type": "markdown",
   "metadata": {},
   "source": [
    "Reducing the number of arguments a function can take is considered a best programming practice. This makes your function’s signature more concise and optimizes your testing process because of the reduced number of arguments and possible combinations between them."
   ]
  },
  {
   "cell_type": "code",
   "execution_count": 26,
   "metadata": {},
   "outputs": [],
   "source": [
    "User = namedtuple(\"User\", \"username client_name plan\")\n",
    "user = User(\"john\", \"John Doe\", \"Premium\")\n",
    "\n",
    "def create_user(db, user):\n",
    "    db.add_user(user.username)\n",
    "    db.complete_user_profile(\n",
    "        user.username,\n",
    "        user.client_name,\n",
    "        user.plan\n",
    "    )"
   ]
  },
  {
   "cell_type": "code",
   "execution_count": null,
   "metadata": {},
   "outputs": [],
   "source": [
    "import csv\n",
    "\n",
    "from collections import namedtuple\n",
    "\n",
    "with open(\"employees.csv\", \"r\") as csv_file:\n",
    "\n",
    "    reader = csv.reader(csv_file)\n",
    "\n",
    "    Employee = namedtuple(\"Employee\", next(reader), rename=True)\n",
    "\n",
    "    for row in reader:\n",
    "\n",
    "        employee = Employee(*row)\n",
    "\n",
    "        print(employee.name, employee.job, employee.email)"
   ]
  },
  {
   "cell_type": "code",
   "execution_count": null,
   "metadata": {},
   "outputs": [],
   "source": []
  },
  {
   "cell_type": "markdown",
   "metadata": {},
   "source": [
    "In this section, you’ll take a general look at the similarities and differences between namedtuple classes and other Python data structures, such as dictionaries, data classes, and typed named tuples. You’ll compare named tuples with other data structures regarding the following characteristics:\n",
    "\n",
    "Readability\n",
    "\n",
    "Mutability\n",
    "\n",
    "Memory usage\n",
    "\n",
    "Performance\n",
    "\n",
    "### shortcomings of namedTuples compared to Dictionary \n",
    "\n",
    "You can update the value of an existing key in a dictionary, but you can’t do something similar in a named tuple. You can add new key-value pairs to existing dictionaries, but you can’t add field-value pairs to existing named tuples.\n",
    "\n",
    "\n",
    "### shortcoming of namedTuples compared to DataClasses\n",
    "\n",
    "Data Classes can be thought of as “mutable namedtuples with defaults.” \n",
    "Mutability-wise, data classes are mutable by definition, so you can change the value of their attributes when needed. However, they have an ace up their sleeve. You can set the dataclass() decorator’s frozen argument to True and make them immutabl\n",
    "\n",
    "### namedTuples Vs typing.NamedTuples\n",
    "Python 3.5 introduced a provisional module called typing to support function type annotations or type hints. This module provides NamedTuple, which is a typed version of namedtuple. With NamedTuple, you can create namedtuple classes with type hints\n",
    "\n",
    "With NamedTuple, you can create tuple subclasses that support type hints and attribute access through the dot notation. Since the resulting class is a tuple subclass, it’s immutable as well.\n",
    "\n",
    "A subtle detail to notice in the above example is that NamedTuple subclasses look even more similar to data classes than named tuples.\n",
    "\n",
    "When it comes to memory consumption, both namedtuple and NamedTuple instances use the same amount of memory."
   ]
  },
  {
   "cell_type": "code",
   "execution_count": 28,
   "metadata": {},
   "outputs": [
    {
     "name": "stdout",
     "output_type": "stream",
     "text": [
      "namedtuple: 921.25 ns (1.18x faster)\n",
      "dict:       1088.13 ns\n"
     ]
    }
   ],
   "source": [
    "# namedtuple_dict_time.py\n",
    "\n",
    "from collections import namedtuple\n",
    "from time import perf_counter\n",
    "\n",
    "def average_time(structure, test_func):\n",
    "    time_measurements = []\n",
    "    for _ in range(1_000_000):\n",
    "        start = perf_counter()\n",
    "        test_func(structure)\n",
    "        end = perf_counter()\n",
    "        time_measurements.append(end - start)\n",
    "    return sum(time_measurements) / len(time_measurements) * int(1e9)\n",
    "\n",
    "def time_dict(dictionary):\n",
    "    \"x\" in dictionary\n",
    "    \"missing_key\" in dictionary\n",
    "    2 in dictionary.values()\n",
    "    \"missing_value\" in dictionary.values()\n",
    "    dictionary[\"y\"]\n",
    "\n",
    "def time_namedtuple(named_tuple):\n",
    "    \"x\" in named_tuple._fields\n",
    "    \"missing_field\" in named_tuple._fields\n",
    "    2 in named_tuple\n",
    "    \"missing_value\" in named_tuple\n",
    "    named_tuple.y\n",
    "\n",
    "Point = namedtuple(\"Point\", \"x y z\")\n",
    "point = Point(x=1, y=2, z=3)\n",
    "\n",
    "namedtuple_time = average_time(point, time_namedtuple)\n",
    "dict_time = average_time(point._asdict(), time_dict)\n",
    "gain = dict_time / namedtuple_time\n",
    "\n",
    "print(f\"namedtuple: {namedtuple_time:.2f} ns ({gain:.2f}x faster)\")\n",
    "print(f\"dict:       {dict_time:.2f} ns\")"
   ]
  },
  {
   "cell_type": "code",
   "execution_count": 29,
   "metadata": {},
   "outputs": [],
   "source": [
    "from datetime import date\n",
    "\n",
    "BasePerson = namedtuple(\n",
    "    \"BasePerson\",\n",
    "    \"name birthdate country\",\n",
    "    defaults=[\"Canada\"]\n",
    ")\n",
    "\n",
    "class Person(BasePerson):\n",
    "    \"\"\"A namedtuple subclass to hold a person's data.\"\"\"\n",
    "    __slots__ = ()\n",
    "    def __repr__(self):\n",
    "        return f\"Name: {self.name}, age: {self.age} years old.\"\n",
    "    @property\n",
    "    def age(self):\n",
    "        return (date.today() - self.birthdate).days // 365\n",
    "\n",
    "jane = Person(\"Jane\", date(1996, 3, 5))"
   ]
  },
  {
   "cell_type": "code",
   "execution_count": 30,
   "metadata": {},
   "outputs": [
    {
     "data": {
      "text/plain": [
       "Name: Jane, age: 27 years old."
      ]
     },
     "execution_count": 30,
     "metadata": {},
     "output_type": "execute_result"
    }
   ],
   "source": [
    "jane"
   ]
  },
  {
   "cell_type": "code",
   "execution_count": 31,
   "metadata": {},
   "outputs": [
    {
     "name": "stdout",
     "output_type": "stream",
     "text": [
      "tuple:      11784.00 ns (7.01x faster)\n",
      "namedtuple: 82586.20 ns\n"
     ]
    }
   ],
   "source": [
    "# tuple_namedtuple_time.py\n",
    "\n",
    "from collections import namedtuple\n",
    "from time import perf_counter\n",
    "\n",
    "def average_time(test_func):\n",
    "    time_measurements = []\n",
    "    for _ in range(1_000):\n",
    "        start = perf_counter()\n",
    "        test_func()\n",
    "        end = perf_counter()\n",
    "        time_measurements.append(end - start)\n",
    "    return sum(time_measurements) / len(time_measurements) * int(1e9)\n",
    "\n",
    "def time_tuple():\n",
    "    tuple([1] * 1000)\n",
    "\n",
    "fields = [f\"a{n}\" for n in range(1000)]\n",
    "TestNamedTuple = namedtuple(\"TestNamedTuple\", fields)\n",
    "\n",
    "def time_namedtuple():\n",
    "    TestNamedTuple(*([1] * 1000))\n",
    "\n",
    "namedtuple_time = average_time(time_namedtuple)\n",
    "tuple_time = average_time(time_tuple)\n",
    "gain = namedtuple_time / tuple_time\n",
    "\n",
    "print(f\"tuple:      {tuple_time:.2f} ns ({gain:.2f}x faster)\")\n",
    "print(f\"namedtuple: {namedtuple_time:.2f} ns\")"
   ]
  }
 ],
 "metadata": {
  "kernelspec": {
   "display_name": "Python 3",
   "language": "python",
   "name": "python3"
  },
  "language_info": {
   "codemirror_mode": {
    "name": "ipython",
    "version": 3
   },
   "file_extension": ".py",
   "mimetype": "text/x-python",
   "name": "python",
   "nbconvert_exporter": "python",
   "pygments_lexer": "ipython3",
   "version": "3.11.4"
  }
 },
 "nbformat": 4,
 "nbformat_minor": 2
}
