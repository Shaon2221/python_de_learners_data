{
 "cells": [
  {
   "cell_type": "markdown",
   "id": "7194aa8c-e1c9-4d01-9c16-fb2a6d8f4199",
   "metadata": {},
   "source": [
    "Notebook dives into variety of metrics, measurement and comparison functions available in evaluate library "
   ]
  },
  {
   "cell_type": "markdown",
   "id": "0297aefe-809a-4ae8-bfc1-93181fad1009",
   "metadata": {},
   "source": [
    "### Guidelines for choosing the metrics \n",
    "\n",
    "1. Generic metrics : Applied to variety of Datasets, like Accuracy and precision\n",
    "\n",
    "2. Task specific metrics : BLEU for translation / ROUGE for generation / seqeval for NER\n",
    "\n",
    "3. Dataset specific metrics : Each GLUE task has its own metric "
   ]
  },
  {
   "cell_type": "code",
   "execution_count": null,
   "id": "bdea1e72-b7b1-4253-b974-8c9e0a0465ca",
   "metadata": {},
   "outputs": [],
   "source": []
  },
  {
   "cell_type": "code",
   "execution_count": null,
   "id": "07c6d361-fcba-4f8d-ae45-f63ec6ec6ed1",
   "metadata": {},
   "outputs": [],
   "source": []
  },
  {
   "cell_type": "code",
   "execution_count": null,
   "id": "642d4b0c-d460-48a1-b9bc-6d3f22687043",
   "metadata": {},
   "outputs": [],
   "source": []
  }
 ],
 "metadata": {
  "kernelspec": {
   "display_name": "Python 3 (ipykernel)",
   "language": "python",
   "name": "python3"
  },
  "language_info": {
   "codemirror_mode": {
    "name": "ipython",
    "version": 3
   },
   "file_extension": ".py",
   "mimetype": "text/x-python",
   "name": "python",
   "nbconvert_exporter": "python",
   "pygments_lexer": "ipython3",
   "version": "3.11.7"
  }
 },
 "nbformat": 4,
 "nbformat_minor": 5
}
