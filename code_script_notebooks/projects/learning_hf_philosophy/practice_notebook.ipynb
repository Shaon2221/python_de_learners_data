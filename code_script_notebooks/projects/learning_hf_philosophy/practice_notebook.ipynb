{
 "cells": [
  {
   "cell_type": "markdown",
   "metadata": {},
   "source": [
    "- Load a dataset\n",
    "\n",
    "- Make it as a iterator\n",
    "\n",
    "- Load a tokeniser\n",
    "\n",
    "- Write a processing function \n",
    "\n",
    "- Map it to the dataset \n",
    "\n",
    "- Create a new tokeniser\n",
    "\n",
    "- Train it with the dataset\n",
    "\n",
    "- Write the post processing function\n",
    "\n",
    "- Run the evaluation "
   ]
  }
 ],
 "metadata": {
  "kernelspec": {
   "display_name": "Python 3 (ipykernel)",
   "language": "python",
   "name": "python3"
  },
  "language_info": {
   "codemirror_mode": {
    "name": "ipython",
    "version": 3
   },
   "file_extension": ".py",
   "mimetype": "text/x-python",
   "name": "python",
   "nbconvert_exporter": "python",
   "pygments_lexer": "ipython3",
   "version": "3.11.7"
  }
 },
 "nbformat": 4,
 "nbformat_minor": 4
}
