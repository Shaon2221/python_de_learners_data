{
 "cells": [
  {
   "cell_type": "code",
   "execution_count": 1,
   "id": "20c16eca-00bd-4a6f-9b4f-bfa29bf4434b",
   "metadata": {},
   "outputs": [],
   "source": [
    "import os\n",
    "from transformers import (\n",
    "    AutoModelForCausalLM,\n",
    "    AutoTokenizer,\n",
    "    BitsAndBytesConfig\n",
    ")\n",
    "import torch"
   ]
  },
  {
   "cell_type": "code",
   "execution_count": 2,
   "id": "d2571e17-e437-48b3-b128-2e2ee7a0dab7",
   "metadata": {},
   "outputs": [
    {
     "data": {
      "text/plain": [
       "'4.39.0.dev0'"
      ]
     },
     "execution_count": 2,
     "metadata": {},
     "output_type": "execute_result"
    }
   ],
   "source": [
    "import transformers\n",
    "transformers.__version__"
   ]
  },
  {
   "cell_type": "code",
   "execution_count": 3,
   "id": "cf6ff299-82bf-41c4-a701-9cb49620a019",
   "metadata": {},
   "outputs": [],
   "source": [
    "starcoder_7b = \"bigcode/starcoder2-7b\""
   ]
  },
  {
   "cell_type": "code",
   "execution_count": 4,
   "id": "6b534a32-bd6f-44a3-bd8e-60528ff59d84",
   "metadata": {
    "scrolled": true
   },
   "outputs": [],
   "source": [
    "coder_tokenizer = AutoTokenizer.from_pretrained(starcoder_7b)"
   ]
  },
  {
   "cell_type": "code",
   "execution_count": 5,
   "id": "7b9ddb20-1ae6-4b31-bd2f-80aeb8d3f6da",
   "metadata": {},
   "outputs": [],
   "source": [
    "quant_config = BitsAndBytesConfig(load_in_4bit=True,\n",
    "                                  bnb_4bit_compute_dtype=torch.bfloat16,\n",
    "                                  bnb_4bit_quant_type='nf4')"
   ]
  },
  {
   "cell_type": "code",
   "execution_count": 6,
   "id": "835d6174-3634-42c6-96c3-50aaa99c4203",
   "metadata": {},
   "outputs": [
    {
     "data": {
      "application/vnd.jupyter.widget-view+json": {
       "model_id": "e6a26aa255e4424faf5961f33f3c6a22",
       "version_major": 2,
       "version_minor": 0
      },
      "text/plain": [
       "model.safetensors.index.json:   0%|          | 0.00/41.6k [00:00<?, ?B/s]"
      ]
     },
     "metadata": {},
     "output_type": "display_data"
    },
    {
     "data": {
      "application/vnd.jupyter.widget-view+json": {
       "model_id": "0984a755ac174e738bafe8ea702e1126",
       "version_major": 2,
       "version_minor": 0
      },
      "text/plain": [
       "Downloading shards:   0%|          | 0/3 [00:00<?, ?it/s]"
      ]
     },
     "metadata": {},
     "output_type": "display_data"
    },
    {
     "data": {
      "application/vnd.jupyter.widget-view+json": {
       "model_id": "a280582c023b4049bc7496fdde104475",
       "version_major": 2,
       "version_minor": 0
      },
      "text/plain": [
       "model-00001-of-00003.safetensors:   0%|          | 0.00/4.89G [00:00<?, ?B/s]"
      ]
     },
     "metadata": {},
     "output_type": "display_data"
    },
    {
     "data": {
      "application/vnd.jupyter.widget-view+json": {
       "model_id": "59fd913401ff42bda0da53c11a35a7a2",
       "version_major": 2,
       "version_minor": 0
      },
      "text/plain": [
       "model-00002-of-00003.safetensors:   0%|          | 0.00/4.95G [00:00<?, ?B/s]"
      ]
     },
     "metadata": {},
     "output_type": "display_data"
    },
    {
     "data": {
      "application/vnd.jupyter.widget-view+json": {
       "model_id": "7e6d6167ffcf41c189a5278d42b21316",
       "version_major": 2,
       "version_minor": 0
      },
      "text/plain": [
       "model-00003-of-00003.safetensors:   0%|          | 0.00/4.51G [00:00<?, ?B/s]"
      ]
     },
     "metadata": {},
     "output_type": "display_data"
    },
    {
     "data": {
      "application/vnd.jupyter.widget-view+json": {
       "model_id": "2aca2d393e1e44239a26a1545776bae1",
       "version_major": 2,
       "version_minor": 0
      },
      "text/plain": [
       "Loading checkpoint shards:   0%|          | 0/3 [00:00<?, ?it/s]"
      ]
     },
     "metadata": {},
     "output_type": "display_data"
    },
    {
     "data": {
      "application/vnd.jupyter.widget-view+json": {
       "model_id": "5673d0018d274b01b648c378828b623f",
       "version_major": 2,
       "version_minor": 0
      },
      "text/plain": [
       "generation_config.json:   0%|          | 0.00/124 [00:00<?, ?B/s]"
      ]
     },
     "metadata": {},
     "output_type": "display_data"
    }
   ],
   "source": [
    "coder_model = AutoModelForCausalLM.from_pretrained(starcoder_7b,\n",
    "                                                   quantization_config=quant_config,\n",
    "                                                  device_map=\"auto\",\n",
    "                                                  resume_download=True)"
   ]
  },
  {
   "cell_type": "code",
   "execution_count": 7,
   "id": "c8e640c8-67f3-4bf9-bec1-04bce6d065fd",
   "metadata": {},
   "outputs": [],
   "source": [
    "device = 'cuda' if torch.cuda.is_available() else 'cpu'"
   ]
  },
  {
   "cell_type": "code",
   "execution_count": 20,
   "id": "127180d4-45d9-4a9c-a453-da8c9b921c18",
   "metadata": {},
   "outputs": [],
   "source": [
    "def generate_output(text, tokens):\n",
    "    tokenized = coder_tokenizer(text, return_tensors='pt')\n",
    "    logits = coder_model.generate(**tokenized.to(device),\n",
    "                                  max_new_tokens=tokens,\n",
    "                                 temperature=0.5,\n",
    "                                 do_sample=True)\n",
    "    return coder_tokenizer.decode(logits[0])\n",
    "    "
   ]
  },
  {
   "cell_type": "code",
   "execution_count": 21,
   "id": "a3bd59e5-883c-45eb-8e06-70e336602e13",
   "metadata": {
    "collapsed": true,
    "jupyter": {
     "outputs_hidden": true
    }
   },
   "outputs": [
    {
     "name": "stderr",
     "output_type": "stream",
     "text": [
      "Setting `pad_token_id` to `eos_token_id`:49152 for open-end generation.\n"
     ]
    },
    {
     "name": "stdout",
     "output_type": "stream",
     "text": [
      "provide the code for connecting youtube API via python\n",
      "\n",
      "# + id=\"4U04aE1K4q2v\"\n",
      "from google.colab import drive\n",
      "drive.mount('/content/drive')\n",
      "\n",
      "# + id=\"r32s86114q2w\"\n",
      "#!pip install google-api-python-client\n",
      "\n",
      "# + id=\"c5n6h34z4q2w\"\n",
      "import os\n",
      "import json\n",
      "from googleapiclient.discovery import build\n",
      "from googleapiclient.errors import HttpError\n",
      "from google_auth_oauthlib.flow import InstalledAppFlow\n",
      "\n",
      "# + id=\"5q2-d1l34q2w\"\n",
      "api_service_name = 'youtube'\n",
      "api_version = 'v3'\n",
      "client_secrets_file = '/content/drive/My Drive/Data/youtube_api/client_secret.json'\n",
      "\n",
      "# + id=\"dC6h_g_K4q2w\"\n",
      "# Get credentials and create an API client\n",
      "scopes = ['https://www.googleapis.com/auth/youtube.readonly']\n",
      "flow = InstalledAppFlow.from_client_secrets_file(client_secrets_file, scopes)\n",
      "credentials = flow.run_console()\n",
      "youtube = build(api_service_name, api_version, credentials = credentials)\n",
      "\n",
      "# + id=\"o8t6g_Y44q2w\"\n",
      "# To retrieve the channel ID, run the following command:\n",
      "# $ youtube-dl --get-id https://www.youtube.com/watch?v=x3U10E0_U1A\n",
      "channel_id = 'UC-lHJZR3Gqxm24_Vd_AJ5Yw'\n",
      "\n",
      "# + id=\"969u7q3G4q2w\"\n",
      "# Retrieve the contentDetails part of the channel resource for the authenticated user's channel.\n",
      "# https://developers.google.com/youtube/v3/docs/channels/list\n",
      "request = youtube.channels().list(\n",
      "    part = 'contentDetails',\n",
      "    forUsername = 'GoogleDevelopers'\n",
      ")\n",
      "response = request.execute()\n",
      "\n",
      "# + id=\"085wH24I4q2w\"\n",
      "# Retrieve the contentDetails part of the channel resource for the authenticated user's\n"
     ]
    }
   ],
   "source": [
    "test_stmt = \"provide the code for connecting youtube API via python\"\n",
    "gen_output = generate_output(test_stmt, 500)\n",
    "print(gen_output)"
   ]
  },
  {
   "cell_type": "code",
   "execution_count": null,
   "id": "2f22ede0-30f2-4d16-a610-925c5aaaf983",
   "metadata": {},
   "outputs": [],
   "source": []
  }
 ],
 "metadata": {
  "kernelspec": {
   "display_name": "Python 3 (ipykernel)",
   "language": "python",
   "name": "python3"
  },
  "language_info": {
   "codemirror_mode": {
    "name": "ipython",
    "version": 3
   },
   "file_extension": ".py",
   "mimetype": "text/x-python",
   "name": "python",
   "nbconvert_exporter": "python",
   "pygments_lexer": "ipython3",
   "version": "3.10.12"
  }
 },
 "nbformat": 4,
 "nbformat_minor": 5
}
