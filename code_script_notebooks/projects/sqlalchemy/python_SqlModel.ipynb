{
 "cells": [
  {
   "cell_type": "markdown",
   "id": "7edab4e6",
   "metadata": {},
   "source": [
    "#### Sql Alchemy and Python Execution Environment"
   ]
  },
  {
   "cell_type": "markdown",
   "id": "515ab907",
   "metadata": {},
   "source": [
    "https://github.com/tiangolo/sqlmodel\n",
    "\n",
    "https://github.com/tiangolo/fastapi/discussions/8295"
   ]
  },
  {
   "cell_type": "code",
   "execution_count": 14,
   "id": "60d51416",
   "metadata": {},
   "outputs": [
    {
     "name": "stdout",
     "output_type": "stream",
     "text": [
      ",datetime,host,src,proto,type,spt,dpt,srcstr,cc,country,locale,localeabbr,postalcode,latitude,longitude\r\n",
      "272410,7/9/13 6:08,groucho-sa,1017973657,TCP,unknown,6000.0,80.0,60.173.11.153,CN,China,Anhui Sheng,34,unknown,31.8639,117.2808\r\n",
      "406083,8/26/13 23:41,groucho-tokyo,2945632252,UDP,unknown,25416.0,56338.0,175.146.199.252,CN,China,Liaoning,21,unknown,41.7922,123.4328\r\n",
      "411946,8/26/13 23:59,groucho-tokyo,2945632252,UDP,unknown,25416.0,56338.0,175.146.199.252,CN,China,Liaoning,21,unknown,41.7922,123.4328\r\n",
      "398065,8/24/13 15:41,groucho-tokyo,3076878818,UDP,unknown,50785.0,20029.0,183.101.113.226,KR,South Korea,unknown,unknown,unknown,37.57,126.98\r\n",
      "cat: write error: Broken pipe\r\n"
     ]
    }
   ],
   "source": [
    "!cat sample_data.csv | head -n 5"
   ]
  },
  {
   "cell_type": "code",
   "execution_count": 1,
   "id": "a002ae12",
   "metadata": {},
   "outputs": [],
   "source": [
    "import pandas as pd\n",
    "import sqlite3\n",
    "\n",
    "def load_data(database_loc, data_file,table_name):\n",
    "    \"\"\"Database located at best in the same location as the file.\n",
    "    When the data is provided, ensure the full path is provided.\n",
    "    The table with the given name will be created.\"\"\"\n",
    "    conn = sqlite3.connect(database_loc)  # connect to database\n",
    "    dataframe = pd.read_csv(data_file)  # read csv file\n",
    "    dataframe.drop('Unnamed: 0',axis=1,inplace=True)  # drop unwanted axes\n",
    "    dataframe.to_sql(table_name, conn, if_exists='append',index=True)\n",
    "    # use to_sql method to write data to database\n",
    "    print(f'Data uploaded into {database_loc}')  # acknowledge"
   ]
  },
  {
   "cell_type": "code",
   "execution_count": 3,
   "id": "af3c124b",
   "metadata": {},
   "outputs": [
    {
     "name": "stdout",
     "output_type": "stream",
     "text": [
      "Data uploaded into base_data.db\n"
     ]
    }
   ],
   "source": [
    "db_loc = 'base_data.db'  # create sqlite db file\n",
    "data_loc = 'sample_data.csv'\n",
    "table_name = 'hack_data'  # creating table in database\n",
    "\n",
    "load_data(db_loc, data_loc, table_name)"
   ]
  },
  {
   "cell_type": "code",
   "execution_count": null,
   "id": "48131ece",
   "metadata": {},
   "outputs": [],
   "source": [
    "# !pip install sqlmodel"
   ]
  },
  {
   "cell_type": "code",
   "execution_count": 2,
   "id": "16d8c27b",
   "metadata": {},
   "outputs": [],
   "source": [
    "from sqlmodel import Field, Session, SQLModel, create_engine, select\n",
    "from typing import Optional"
   ]
  },
  {
   "cell_type": "code",
   "execution_count": 3,
   "id": "c617ddfa",
   "metadata": {},
   "outputs": [],
   "source": [
    "db_conn = create_engine('sqlite:///trial_data.db')"
   ]
  },
  {
   "cell_type": "code",
   "execution_count": 4,
   "id": "da8b64dc",
   "metadata": {},
   "outputs": [],
   "source": [
    "class hack_data(SQLModel, table=True):\n",
    "    Index : Optional[int] = Field(default=None,primary_key=True)\n",
    "    Datetime : str\n",
    "    Host : str\n",
    "    Src : int\n",
    "    Proto : str\n",
    "    Type : str\n",
    "    Spt : float\n",
    "    Dpt : float\n",
    "    Srcstr : str\n",
    "    Cc : str\n",
    "    Country : str\n",
    "    Locale : str\n",
    "    Localeabbr : str\n",
    "    Postalcode : str\n",
    "    Latitude : float\n",
    "    Longitude : float"
   ]
  },
  {
   "cell_type": "code",
   "execution_count": 5,
   "id": "355ef40d",
   "metadata": {},
   "outputs": [],
   "source": [
    "with Session(db_conn) as session:\n",
    "    statement = select(hack_data).limit(10)"
   ]
  },
  {
   "cell_type": "code",
   "execution_count": 6,
   "id": "d1d24324",
   "metadata": {},
   "outputs": [
    {
     "data": {
      "text/plain": [
       "hack_data(Datetime='7/9/13 6:08', Index=0, Src=1017973657, Proto='TCP', Dpt=80.0, Cc='CN', Locale='Anhui Sheng', Postalcode='unknown', Latitude=31.8639, Host='groucho-sa', Type='unknown', Spt=6000.0, Srcstr='60.173.11.153', Country='China', Localeabbr='34', Longitude=117.2808)"
      ]
     },
     "execution_count": 6,
     "metadata": {},
     "output_type": "execute_result"
    }
   ],
   "source": [
    "hack_row_data = session.exec(statement).first()\n",
    "hack_row_data"
   ]
  },
  {
   "cell_type": "code",
   "execution_count": 7,
   "id": "084dc573",
   "metadata": {},
   "outputs": [
    {
     "data": {
      "text/plain": [
       "[hack_data(Datetime='7/9/13 6:08', Index=0, Src=1017973657, Proto='TCP', Dpt=80.0, Cc='CN', Locale='Anhui Sheng', Postalcode='unknown', Latitude=31.8639, Host='groucho-sa', Type='unknown', Spt=6000.0, Srcstr='60.173.11.153', Country='China', Localeabbr='34', Longitude=117.2808),\n",
       " hack_data(Datetime='8/26/13 23:41', Index=1, Src=2945632252, Proto='UDP', Dpt=56338.0, Cc='CN', Locale='Liaoning', Postalcode='unknown', Latitude=41.7922, Host='groucho-tokyo', Type='unknown', Spt=25416.0, Srcstr='175.146.199.252', Country='China', Localeabbr='21', Longitude=123.4328),\n",
       " hack_data(Datetime='8/26/13 23:59', Index=2, Src=2945632252, Proto='UDP', Dpt=56338.0, Cc='CN', Locale='Liaoning', Postalcode='unknown', Latitude=41.7922, Host='groucho-tokyo', Type='unknown', Spt=25416.0, Srcstr='175.146.199.252', Country='China', Localeabbr='21', Longitude=123.4328),\n",
       " hack_data(Datetime='8/24/13 15:41', Index=3, Src=3076878818, Proto='UDP', Dpt=20029.0, Cc='KR', Locale='unknown', Postalcode='unknown', Latitude=37.57, Host='groucho-tokyo', Type='unknown', Spt=50785.0, Srcstr='183.101.113.226', Country='South Korea', Localeabbr='unknown', Longitude=126.98),\n",
       " hack_data(Datetime='7/4/13 13:05', Index=4, Src=3639888355, Proto='TCP', Dpt=3389.0, Cc='US', Locale='Washington', Postalcode='98168', Latitude=47.4891, Host='groucho-eu', Type='unknown', Spt=47672.0, Srcstr='216.244.73.227', Country='United States', Localeabbr='WA', Longitude=-122.2908),\n",
       " hack_data(Datetime='5/31/13 15:59', Index=5, Src=3363543193, Proto='TCP', Dpt=445.0, Cc='AR', Locale='Buenos Aires F.D.', Postalcode='unknown', Latitude=-34.5875, Host='zeppo-norcal', Type='unknown', Spt=2539.0, Srcstr='200.123.152.153', Country='Argentina', Localeabbr='C', Longitude=-58.6725),\n",
       " hack_data(Datetime='8/11/13 8:38', Index=6, Src=1150395419, Proto='TCP', Dpt=80.0, Cc='CA', Locale='Alberta', Postalcode='unknown', Latitude=51.0833, Host='groucho-us-east', Type='unknown', Spt=4955.0, Srcstr='68.145.164.27', Country='Canada', Localeabbr='AB', Longitude=-114.0833),\n",
       " hack_data(Datetime='9/2/13 13:35', Index=7, Src=3416049639, Proto='TCP', Dpt=1433.0, Cc='CN', Locale='unknown', Postalcode='unknown', Latitude=35.0, Host='groucho-oregon', Type='unknown', Spt=60702.0, Srcstr='203.156.199.231', Country='China', Localeabbr='unknown', Longitude=105.0),\n",
       " hack_data(Datetime='5/30/13 5:02', Index=8, Src=710979555, Proto='TCP', Dpt=1433.0, Cc='CN', Locale='Beijing Shi', Postalcode='unknown', Latitude=39.9289, Host='groucho-oregon', Type='unknown', Spt=6000.0, Srcstr='42.96.175.227', Country='China', Localeabbr='11', Longitude=116.3883),\n",
       " hack_data(Datetime='7/2/13 20:33', Index=9, Src=620788592, Proto='UDP', Dpt=5060.0, Cc='RU', Locale='Moscow', Postalcode='unknown', Latitude=55.7522, Host='groucho-tokyo', Type='unknown', Spt=5085.0, Srcstr='37.0.123.112', Country='Russia', Localeabbr='MOW', Longitude=37.6156)]"
      ]
     },
     "execution_count": 7,
     "metadata": {},
     "output_type": "execute_result"
    }
   ],
   "source": [
    "hack_ten_data = session.exec(statement).all()\n",
    "hack_ten_data"
   ]
  },
  {
   "cell_type": "code",
   "execution_count": 8,
   "id": "7d348aee",
   "metadata": {},
   "outputs": [
    {
     "data": {
      "text/plain": [
       "{'Datetime': '7/9/13 6:08',\n",
       " 'Index': 0,\n",
       " 'Src': 1017973657,\n",
       " 'Proto': 'TCP',\n",
       " 'Dpt': 80.0,\n",
       " 'Cc': 'CN',\n",
       " 'Locale': 'Anhui Sheng',\n",
       " 'Postalcode': 'unknown',\n",
       " 'Latitude': 31.8639,\n",
       " 'Host': 'groucho-sa',\n",
       " 'Type': 'unknown',\n",
       " 'Spt': 6000.0,\n",
       " 'Srcstr': '60.173.11.153',\n",
       " 'Country': 'China',\n",
       " 'Localeabbr': '34',\n",
       " 'Longitude': 117.2808}"
      ]
     },
     "execution_count": 8,
     "metadata": {},
     "output_type": "execute_result"
    }
   ],
   "source": [
    "hack_row_data.model_dump()"
   ]
  },
  {
   "cell_type": "code",
   "execution_count": 11,
   "id": "dedeed4f",
   "metadata": {},
   "outputs": [
    {
     "data": {
      "text/plain": [
       "10"
      ]
     },
     "execution_count": 11,
     "metadata": {},
     "output_type": "execute_result"
    }
   ],
   "source": [
    "len(hack_ten_data)"
   ]
  },
  {
   "cell_type": "code",
   "execution_count": 12,
   "id": "d1028101",
   "metadata": {},
   "outputs": [
    {
     "name": "stdout",
     "output_type": "stream",
     "text": [
      "Datetime='7/9/13 6:08' Host='groucho-sa' Proto='TCP' Spt=6000.0 Srcstr='60.173.11.153' Country='China' Localeabbr='34' Latitude=31.8639 Src=1017973657 Index=0 Type='unknown' Dpt=80.0 Cc='CN' Locale='Anhui Sheng' Postalcode='unknown' Longitude=117.2808\n",
      "Datetime='8/26/13 23:41' Host='groucho-tokyo' Proto='UDP' Spt=25416.0 Srcstr='175.146.199.252' Country='China' Localeabbr='21' Latitude=41.7922 Src=2945632252 Index=1 Type='unknown' Dpt=56338.0 Cc='CN' Locale='Liaoning' Postalcode='unknown' Longitude=123.4328\n",
      "Datetime='8/26/13 23:59' Host='groucho-tokyo' Proto='UDP' Spt=25416.0 Srcstr='175.146.199.252' Country='China' Localeabbr='21' Latitude=41.7922 Src=2945632252 Index=2 Type='unknown' Dpt=56338.0 Cc='CN' Locale='Liaoning' Postalcode='unknown' Longitude=123.4328\n",
      "Datetime='8/24/13 15:41' Host='groucho-tokyo' Proto='UDP' Spt=50785.0 Srcstr='183.101.113.226' Country='South Korea' Localeabbr='unknown' Latitude=37.57 Src=3076878818 Index=3 Type='unknown' Dpt=20029.0 Cc='KR' Locale='unknown' Postalcode='unknown' Longitude=126.98\n",
      "Datetime='7/4/13 13:05' Host='groucho-eu' Proto='TCP' Spt=47672.0 Srcstr='216.244.73.227' Country='United States' Localeabbr='WA' Latitude=47.4891 Src=3639888355 Index=4 Type='unknown' Dpt=3389.0 Cc='US' Locale='Washington' Postalcode='98168' Longitude=-122.2908\n",
      "Datetime='5/31/13 15:59' Host='zeppo-norcal' Proto='TCP' Spt=2539.0 Srcstr='200.123.152.153' Country='Argentina' Localeabbr='C' Latitude=-34.5875 Src=3363543193 Index=5 Type='unknown' Dpt=445.0 Cc='AR' Locale='Buenos Aires F.D.' Postalcode='unknown' Longitude=-58.6725\n",
      "Datetime='8/11/13 8:38' Host='groucho-us-east' Proto='TCP' Spt=4955.0 Srcstr='68.145.164.27' Country='Canada' Localeabbr='AB' Latitude=51.0833 Src=1150395419 Index=6 Type='unknown' Dpt=80.0 Cc='CA' Locale='Alberta' Postalcode='unknown' Longitude=-114.0833\n",
      "Datetime='9/2/13 13:35' Host='groucho-oregon' Proto='TCP' Spt=60702.0 Srcstr='203.156.199.231' Country='China' Localeabbr='unknown' Latitude=35.0 Src=3416049639 Index=7 Type='unknown' Dpt=1433.0 Cc='CN' Locale='unknown' Postalcode='unknown' Longitude=105.0\n",
      "Datetime='5/30/13 5:02' Host='groucho-oregon' Proto='TCP' Spt=6000.0 Srcstr='42.96.175.227' Country='China' Localeabbr='11' Latitude=39.9289 Src=710979555 Index=8 Type='unknown' Dpt=1433.0 Cc='CN' Locale='Beijing Shi' Postalcode='unknown' Longitude=116.3883\n",
      "Datetime='7/2/13 20:33' Host='groucho-tokyo' Proto='UDP' Spt=5085.0 Srcstr='37.0.123.112' Country='Russia' Localeabbr='MOW' Latitude=55.7522 Src=620788592 Index=9 Type='unknown' Dpt=5060.0 Cc='RU' Locale='Moscow' Postalcode='unknown' Longitude=37.6156\n"
     ]
    }
   ],
   "source": [
    "for data in hack_ten_data:\n",
    "    print(data)"
   ]
  },
  {
   "cell_type": "code",
   "execution_count": 9,
   "id": "a5754307",
   "metadata": {},
   "outputs": [
    {
     "name": "stdout",
     "output_type": "stream",
     "text": [
      "{'Datetime': '7/9/13 6:08', 'Index': 0, 'Src': 1017973657, 'Proto': 'TCP', 'Dpt': 80.0, 'Cc': 'CN', 'Locale': 'Anhui Sheng', 'Postalcode': 'unknown', 'Latitude': 31.8639, 'Host': 'groucho-sa', 'Type': 'unknown', 'Spt': 6000.0, 'Srcstr': '60.173.11.153', 'Country': 'China', 'Localeabbr': '34', 'Longitude': 117.2808}\n",
      "{'Datetime': '8/26/13 23:41', 'Index': 1, 'Src': 2945632252, 'Proto': 'UDP', 'Dpt': 56338.0, 'Cc': 'CN', 'Locale': 'Liaoning', 'Postalcode': 'unknown', 'Latitude': 41.7922, 'Host': 'groucho-tokyo', 'Type': 'unknown', 'Spt': 25416.0, 'Srcstr': '175.146.199.252', 'Country': 'China', 'Localeabbr': '21', 'Longitude': 123.4328}\n",
      "{'Datetime': '8/26/13 23:59', 'Index': 2, 'Src': 2945632252, 'Proto': 'UDP', 'Dpt': 56338.0, 'Cc': 'CN', 'Locale': 'Liaoning', 'Postalcode': 'unknown', 'Latitude': 41.7922, 'Host': 'groucho-tokyo', 'Type': 'unknown', 'Spt': 25416.0, 'Srcstr': '175.146.199.252', 'Country': 'China', 'Localeabbr': '21', 'Longitude': 123.4328}\n",
      "{'Datetime': '8/24/13 15:41', 'Index': 3, 'Src': 3076878818, 'Proto': 'UDP', 'Dpt': 20029.0, 'Cc': 'KR', 'Locale': 'unknown', 'Postalcode': 'unknown', 'Latitude': 37.57, 'Host': 'groucho-tokyo', 'Type': 'unknown', 'Spt': 50785.0, 'Srcstr': '183.101.113.226', 'Country': 'South Korea', 'Localeabbr': 'unknown', 'Longitude': 126.98}\n",
      "{'Datetime': '7/4/13 13:05', 'Index': 4, 'Src': 3639888355, 'Proto': 'TCP', 'Dpt': 3389.0, 'Cc': 'US', 'Locale': 'Washington', 'Postalcode': '98168', 'Latitude': 47.4891, 'Host': 'groucho-eu', 'Type': 'unknown', 'Spt': 47672.0, 'Srcstr': '216.244.73.227', 'Country': 'United States', 'Localeabbr': 'WA', 'Longitude': -122.2908}\n",
      "{'Datetime': '5/31/13 15:59', 'Index': 5, 'Src': 3363543193, 'Proto': 'TCP', 'Dpt': 445.0, 'Cc': 'AR', 'Locale': 'Buenos Aires F.D.', 'Postalcode': 'unknown', 'Latitude': -34.5875, 'Host': 'zeppo-norcal', 'Type': 'unknown', 'Spt': 2539.0, 'Srcstr': '200.123.152.153', 'Country': 'Argentina', 'Localeabbr': 'C', 'Longitude': -58.6725}\n",
      "{'Datetime': '8/11/13 8:38', 'Index': 6, 'Src': 1150395419, 'Proto': 'TCP', 'Dpt': 80.0, 'Cc': 'CA', 'Locale': 'Alberta', 'Postalcode': 'unknown', 'Latitude': 51.0833, 'Host': 'groucho-us-east', 'Type': 'unknown', 'Spt': 4955.0, 'Srcstr': '68.145.164.27', 'Country': 'Canada', 'Localeabbr': 'AB', 'Longitude': -114.0833}\n",
      "{'Datetime': '9/2/13 13:35', 'Index': 7, 'Src': 3416049639, 'Proto': 'TCP', 'Dpt': 1433.0, 'Cc': 'CN', 'Locale': 'unknown', 'Postalcode': 'unknown', 'Latitude': 35.0, 'Host': 'groucho-oregon', 'Type': 'unknown', 'Spt': 60702.0, 'Srcstr': '203.156.199.231', 'Country': 'China', 'Localeabbr': 'unknown', 'Longitude': 105.0}\n",
      "{'Datetime': '5/30/13 5:02', 'Index': 8, 'Src': 710979555, 'Proto': 'TCP', 'Dpt': 1433.0, 'Cc': 'CN', 'Locale': 'Beijing Shi', 'Postalcode': 'unknown', 'Latitude': 39.9289, 'Host': 'groucho-oregon', 'Type': 'unknown', 'Spt': 6000.0, 'Srcstr': '42.96.175.227', 'Country': 'China', 'Localeabbr': '11', 'Longitude': 116.3883}\n",
      "{'Datetime': '7/2/13 20:33', 'Index': 9, 'Src': 620788592, 'Proto': 'UDP', 'Dpt': 5060.0, 'Cc': 'RU', 'Locale': 'Moscow', 'Postalcode': 'unknown', 'Latitude': 55.7522, 'Host': 'groucho-tokyo', 'Type': 'unknown', 'Spt': 5085.0, 'Srcstr': '37.0.123.112', 'Country': 'Russia', 'Localeabbr': 'MOW', 'Longitude': 37.6156}\n"
     ]
    }
   ],
   "source": [
    "for data in hack_ten_data:\n",
    "    print(data.model_dump())"
   ]
  },
  {
   "cell_type": "code",
   "execution_count": 10,
   "id": "1907a730",
   "metadata": {},
   "outputs": [],
   "source": [
    "add_host1 = hack_data(Host='groucho-ne')\n",
    "add_host2 = hack_data(Host='groucho-or')\n",
    "add_host3 = hack_data(Host='groucho-es')"
   ]
  },
  {
   "cell_type": "markdown",
   "id": "0b126549",
   "metadata": {},
   "source": [
    "# below code errors out, so markingdown\n",
    "```\n",
    "session.add_all([add_host1,add_host2,add_host3])\n",
    "\n",
    "session.commit()\n",
    "```"
   ]
  },
  {
   "cell_type": "code",
   "execution_count": 35,
   "id": "1083e2cc",
   "metadata": {},
   "outputs": [],
   "source": [
    "session.add(add_host3)  # add_all is erroing out, so using add\n",
    "session.commit()"
   ]
  },
  {
   "cell_type": "code",
   "execution_count": 33,
   "id": "8883391a",
   "metadata": {},
   "outputs": [
    {
     "name": "stderr",
     "output_type": "stream",
     "text": [
      "C:\\Users\\kamal\\AppData\\Local\\Temp\\ipykernel_9964\\1760783211.py:1: SAWarning: Session's state has been changed on a non-active transaction - this state will be discarded.\n",
      "  session.rollback()\n"
     ]
    }
   ],
   "source": [
    "session.rollback()"
   ]
  },
  {
   "cell_type": "code",
   "execution_count": 36,
   "id": "8ddb9832",
   "metadata": {},
   "outputs": [],
   "source": [
    "with Session(db_conn) as session:\n",
    "    last_ten = select(hack_data).limit(5)"
   ]
  },
  {
   "cell_type": "code",
   "execution_count": 38,
   "id": "b1279de2",
   "metadata": {},
   "outputs": [
    {
     "ename": "AttributeError",
     "evalue": "'ScalarResult' object has no attribute 'last'",
     "output_type": "error",
     "traceback": [
      "\u001b[1;31m---------------------------------------------------------------------------\u001b[0m",
      "\u001b[1;31mAttributeError\u001b[0m                            Traceback (most recent call last)",
      "\u001b[1;32md:\\gitFolders\\python_de_learners_data\\code_script_notebooks\\projects\\sqlalchemy\\python_SqlModel.ipynb Cell 22\u001b[0m line \u001b[0;36m1\n\u001b[1;32m----> <a href='vscode-notebook-cell:/d%3A/gitFolders/python_de_learners_data/code_script_notebooks/projects/sqlalchemy/python_SqlModel.ipynb#X45sZmlsZQ%3D%3D?line=0'>1</a>\u001b[0m data_last_ten \u001b[39m=\u001b[39m session\u001b[39m.\u001b[39;49mexec(last_ten)\u001b[39m.\u001b[39;49mlast()\n\u001b[0;32m      <a href='vscode-notebook-cell:/d%3A/gitFolders/python_de_learners_data/code_script_notebooks/projects/sqlalchemy/python_SqlModel.ipynb#X45sZmlsZQ%3D%3D?line=1'>2</a>\u001b[0m data_last_ten\n",
      "\u001b[1;31mAttributeError\u001b[0m: 'ScalarResult' object has no attribute 'last'"
     ]
    }
   ],
   "source": [
    "data_last_ten = session.exec(last_ten)\n",
    "data_last_ten"
   ]
  },
  {
   "cell_type": "code",
   "execution_count": 12,
   "id": "3768843d",
   "metadata": {},
   "outputs": [],
   "source": [
    "class tutorial_sqlm(SQLModel, table=True):\n",
    "    Index : Optional[int] = Field(default=None,primary_key=True)\n",
    "    Host : str\n",
    "    Student : str\n",
    "    Country : str\n",
    "    Postalcode : int\n",
    "    Latitude : float\n",
    "    Longitude : float"
   ]
  },
  {
   "cell_type": "code",
   "execution_count": 27,
   "id": "65a0a655",
   "metadata": {},
   "outputs": [
    {
     "data": {
      "text/plain": [
       "FacadeDict({'hack_data': Table('hack_data', MetaData(), Column('Index', Integer(), table=<hack_data>, primary_key=True, nullable=False), Column('Datetime', AutoString(), table=<hack_data>, nullable=False), Column('Host', AutoString(), table=<hack_data>, nullable=False), Column('Src', Integer(), table=<hack_data>, nullable=False), Column('Proto', AutoString(), table=<hack_data>, nullable=False), Column('Type', AutoString(), table=<hack_data>, nullable=False), Column('Spt', Float(), table=<hack_data>, nullable=False), Column('Dpt', Float(), table=<hack_data>, nullable=False), Column('Srcstr', AutoString(), table=<hack_data>, nullable=False), Column('Cc', AutoString(), table=<hack_data>, nullable=False), Column('Country', AutoString(), table=<hack_data>, nullable=False), Column('Locale', AutoString(), table=<hack_data>, nullable=False), Column('Localeabbr', AutoString(), table=<hack_data>, nullable=False), Column('Postalcode', AutoString(), table=<hack_data>, nullable=False), Column('Latitude', Float(), table=<hack_data>, nullable=False), Column('Longitude', Float(), table=<hack_data>, nullable=False), schema=None), 'tutorial_sqlm': Table('tutorial_sqlm', MetaData(), Column('Index', Integer(), table=<tutorial_sqlm>, primary_key=True, nullable=False), Column('Host', AutoString(), table=<tutorial_sqlm>, nullable=False), Column('Student', AutoString(), table=<tutorial_sqlm>, nullable=False), Column('Country', AutoString(), table=<tutorial_sqlm>, nullable=False), Column('Postalcode', Integer(), table=<tutorial_sqlm>, nullable=False), Column('Latitude', Float(), table=<tutorial_sqlm>, nullable=False), Column('Longitude', Float(), table=<tutorial_sqlm>, nullable=False), schema=None)})"
      ]
     },
     "execution_count": 27,
     "metadata": {},
     "output_type": "execute_result"
    }
   ],
   "source": [
    "SQLModel.metadata.tables"
   ]
  },
  {
   "cell_type": "code",
   "execution_count": 29,
   "id": "a601f400",
   "metadata": {},
   "outputs": [
    {
     "data": {
      "text/plain": [
       "FacadeDict({'hack_data': Table('hack_data', MetaData(), Column('Index', Integer(), table=<hack_data>, primary_key=True, nullable=False), Column('Datetime', AutoString(), table=<hack_data>, nullable=False), Column('Host', AutoString(), table=<hack_data>, nullable=False), Column('Src', Integer(), table=<hack_data>, nullable=False), Column('Proto', AutoString(), table=<hack_data>, nullable=False), Column('Type', AutoString(), table=<hack_data>, nullable=False), Column('Spt', Float(), table=<hack_data>, nullable=False), Column('Dpt', Float(), table=<hack_data>, nullable=False), Column('Srcstr', AutoString(), table=<hack_data>, nullable=False), Column('Cc', AutoString(), table=<hack_data>, nullable=False), Column('Country', AutoString(), table=<hack_data>, nullable=False), Column('Locale', AutoString(), table=<hack_data>, nullable=False), Column('Localeabbr', AutoString(), table=<hack_data>, nullable=False), Column('Postalcode', AutoString(), table=<hack_data>, nullable=False), Column('Latitude', Float(), table=<hack_data>, nullable=False), Column('Longitude', Float(), table=<hack_data>, nullable=False), schema=None), 'tutorial_sqlm': Table('tutorial_sqlm', MetaData(), Column('Index', Integer(), table=<tutorial_sqlm>, primary_key=True, nullable=False), Column('Host', AutoString(), table=<tutorial_sqlm>, nullable=False), Column('Student', AutoString(), table=<tutorial_sqlm>, nullable=False), Column('Country', AutoString(), table=<tutorial_sqlm>, nullable=False), Column('Postalcode', Integer(), table=<tutorial_sqlm>, nullable=False), Column('Latitude', Float(), table=<tutorial_sqlm>, nullable=False), Column('Longitude', Float(), table=<tutorial_sqlm>, nullable=False), schema=None)})"
      ]
     },
     "execution_count": 29,
     "metadata": {},
     "output_type": "execute_result"
    }
   ],
   "source": [
    "tutorial_sqlm.metadata.tables  # provides all the tables, like above"
   ]
  },
  {
   "cell_type": "code",
   "execution_count": 13,
   "id": "b6af320e",
   "metadata": {},
   "outputs": [],
   "source": [
    "SQLModel.metadata.create_all(db_conn)"
   ]
  },
  {
   "cell_type": "code",
   "execution_count": 16,
   "id": "b612531d",
   "metadata": {},
   "outputs": [],
   "source": [
    "std1 = tutorial_sqlm(Host='Martian',Student='Venusian',\n",
    "                Country='Tiberi',Postalcode=1578689,\n",
    "               Latitude=576.68,Longitude=265.79)\n",
    "session.add(std1)\n",
    "session.commit()"
   ]
  },
  {
   "cell_type": "code",
   "execution_count": 18,
   "id": "ede0f9d7",
   "metadata": {},
   "outputs": [],
   "source": [
    "with Session(db_conn) as session:\n",
    "    student = select(tutorial_sqlm).limit(10)\n",
    "    student_query = session.exec(student).first()\n",
    "    student_data = student_query.model_dump()"
   ]
  },
  {
   "cell_type": "code",
   "execution_count": 19,
   "id": "42bebeca",
   "metadata": {},
   "outputs": [
    {
     "data": {
      "text/plain": [
       "{'Postalcode': 1578689,\n",
       " 'Country': 'Tiberi',\n",
       " 'Longitude': 265.79,\n",
       " 'Host': 'Martian',\n",
       " 'Student': 'Venusian',\n",
       " 'Index': 1,\n",
       " 'Latitude': 576.68}"
      ]
     },
     "execution_count": 19,
     "metadata": {},
     "output_type": "execute_result"
    }
   ],
   "source": [
    "student_data"
   ]
  },
  {
   "cell_type": "code",
   "execution_count": 20,
   "id": "5e9a8328",
   "metadata": {},
   "outputs": [],
   "source": [
    "session.delete(student_query)"
   ]
  },
  {
   "cell_type": "code",
   "execution_count": 21,
   "id": "517c73c7",
   "metadata": {},
   "outputs": [],
   "source": [
    "session.commit()"
   ]
  }
 ],
 "metadata": {
  "kernelspec": {
   "display_name": "Python 3 (ipykernel)",
   "language": "python",
   "name": "python3"
  },
  "language_info": {
   "codemirror_mode": {
    "name": "ipython",
    "version": 3
   },
   "file_extension": ".py",
   "mimetype": "text/x-python",
   "name": "python",
   "nbconvert_exporter": "python",
   "pygments_lexer": "ipython3",
   "version": "3.11.4"
  }
 },
 "nbformat": 4,
 "nbformat_minor": 5
}
