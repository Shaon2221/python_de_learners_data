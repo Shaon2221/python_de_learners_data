{
 "cells": [
  {
   "cell_type": "code",
   "execution_count": null,
   "metadata": {},
   "outputs": [],
   "source": [
    "import pandas as pd\n",
    "\n",
    "def get_data(csv_path):\n",
    "    return pd.read_csv(csv_path)\n",
    "\n",
    "\n",
    "def get_book_by_publisher(data, ascending=True):\n",
    "    return data.groupby(\"publisher\").size().sort_values(ascending=ascending)\n",
    "\n",
    "\n",
    "def get_author_by_publisher(data, ascending=True):\n",
    "    return (\n",
    "        data.assign(name=data.first_name.str.cat(data.last_name, sep=' '))\n",
    "        .groupby('publisher')\n",
    "        .nunique()\n",
    "        .loc[:, \"name\"]\n",
    "        .sort_values(ascending=ascending)\n",
    "    )\n",
    "\n",
    "def add_new_book(data, author_name, book_title, publisher_name):\n",
    "    \"\"\"Adds a new book to the system\"\"\"\n",
    "    # Does the book exist?\n",
    "    first_name, _, last_name = author_name.partition(\" \")\n",
    "    if any(\n",
    "        (data.first_name == first_name)\n",
    "        & (data.last_name == last_name)\n",
    "        & (data.title == book_title)\n",
    "        & (data.publisher == publisher_name)\n",
    "    ):\n",
    "        return data\n",
    "    # Add the new book\n",
    "    return data.append(\n",
    "        {\n",
    "            \"first_name\": first_name,\n",
    "            \"last_name\": last_name,\n",
    "            \"title\": book_title,\n",
    "            \"publisher\": publisher_name,\n",
    "        },\n",
    "        ignore_index=True,\n",
    "    )\n",
    "\n",
    "\n",
    "from treelib import Tree\n",
    "\n",
    "def output_author_hierarchy(data):\n",
    "    \"\"\"Output the data as a hierarchy list of authors\"\"\"\n",
    "    authors = data.assign(\n",
    "        name=data.first_name.str.cat(data.last_name, sep=\" \")\n",
    "    )\n",
    "    authors_tree = Tree()\n",
    "    authors_tree.create_node(\"Authors\", \"authors\")\n",
    "    for author, books in authors.groupby(\"name\"):\n",
    "        authors_tree.create_node(author, author, parent=\"authors\")\n",
    "        for book, publishers in books.groupby(\"title\")[\"publisher\"]:\n",
    "            book_id = f\"{author}:{book}\"\n",
    "            authors_tree.create_node(book, book_id, parent=author)\n",
    "            for publisher in publishers:\n",
    "                authors_tree.create_node(publisher, parent=book_id)\n",
    "\n",
    "    # Output the hierarchical authors data\n",
    "    authors_tree.show()"
   ]
  },
  {
   "cell_type": "code",
   "execution_count": null,
   "metadata": {},
   "outputs": [],
   "source": [
    "data = get_data(\"author_book_publisher.csv\")"
   ]
  },
  {
   "cell_type": "code",
   "execution_count": null,
   "metadata": {},
   "outputs": [],
   "source": [
    "books_by_publisher = get_book_by_publisher(data, ascending=False)"
   ]
  },
  {
   "cell_type": "code",
   "execution_count": null,
   "metadata": {},
   "outputs": [],
   "source": [
    "# Get the number of books printed by each publishe\n",
    "for publisher, total_books in books_by_publisher.items():\n",
    "    print(f\"Publisher: {publisher}, total books: {total_books}\")"
   ]
  },
  {
   "cell_type": "code",
   "execution_count": null,
   "metadata": {},
   "outputs": [],
   "source": [
    "authors_by_publisher = get_author_by_publisher(data, ascending=False)\n",
    "for publisher, total_authors in authors_by_publisher.items():\n",
    "    print(f\"Publisher: {publisher}, total authors: {total_authors}\")\n"
   ]
  },
  {
   "cell_type": "code",
   "execution_count": null,
   "metadata": {},
   "outputs": [],
   "source": [
    "# Output hierarchical authors data\n",
    "output_author_hierarchy(data)"
   ]
  },
  {
   "cell_type": "code",
   "execution_count": null,
   "metadata": {},
   "outputs": [],
   "source": [
    "# Add a new book to the data structure\n",
    "data = add_new_book(\n",
    "    data,\n",
    "    author_name=\"Stephen King\",\n",
    "    book_title=\"The Stand\",\n",
    "    publisher_name=\"Random House\",\n",
    ")\n",
    "\n",
    "# Output the updated hierarchical authors data\n",
    "output_author_hierarchy(data)"
   ]
  },
  {
   "cell_type": "code",
   "execution_count": null,
   "metadata": {},
   "outputs": [],
   "source": [
    "%%sql\n",
    "\n",
    "CREATE TABLE author (\n",
    "    author_id INTEGER NOT NULL PRIMARY KEY,\n",
    "    first_name VARCHAR,\n",
    "    last_name VARCHAR\n",
    ")\n",
    "\n",
    "CREATE TABLE book (\n",
    "    book_id INTEGER NOT NULL PRIMARY KEY,\n",
    "    author_id INTEGER REFERENCES author,\n",
    "    title VARCHAR\n",
    ")\n",
    "\n",
    "CREATE TABLE publisher (\n",
    "    pub_id INTEGER NOT NULL PRIMARY KEY,\n",
    "    name VARCHAR\n",
    ")\n",
    "\n",
    "INSERT INTO author\n",
    "    (first_name, last_name)\n",
    "VALUES ('Paul', 'Mendez');\n",
    "\n",
    "UPDATE author\n",
    "SET first_name = 'Richard', last_name = 'Bachman'\n",
    "WHERE first_name = 'Stephen' AND last_name = 'King';\n",
    "\n",
    "DELETE FROM author\n",
    "WHERE first_name = 'Paul'\n",
    "AND last_name = 'Mendez';\n"
   ]
  },
  {
   "cell_type": "markdown",
   "metadata": {},
   "source": [
    "The data in the author_book_publisher.csv file represents the data and relationships by duplicating data. A database handles this by breaking the data up into three tables—author, book, and publisher—and establishing relationships between them.\n",
    "\n",
    "\n",
    "But how does the one-to-many relationship between these two tables get implemented? Using the Primary Key referencing\n",
    "\n",
    "Many-to-many relationships are created by an association table acting as a bridge between the two related tables."
   ]
  },
  {
   "cell_type": "markdown",
   "metadata": {},
   "source": [
    "### OR Impedance Mismatch:\n",
    "\n",
    "It’s possible to map the results returned by SQL queries to objects, but doing so works against the grain of how the database works. Sticking with the scalar results provided by SQL works against the grain of how Python developers work"
   ]
  },
  {
   "cell_type": "code",
   "execution_count": 1,
   "metadata": {},
   "outputs": [],
   "source": [
    "from sqlalchemy import Column, Integer, String, ForeignKey, Table\n",
    "from sqlalchemy.orm import relationship, backref, declarative_base\n",
    "# from sqlalchemy.ext.declarative import declarative_base\n",
    "\n",
    "Base = declarative_base()\n",
    "\n",
    "# association table between author & publisher\n",
    "author_publisher = Table(\n",
    "    \"author_publisher\",\n",
    "    Base.metadata,  # provides the connection between the SQLAlchemy functionality and the database engine.\n",
    "    Column(\"author_id\", Integer, ForeignKey(\"author.author_id\")),\n",
    "    Column(\"publisher_id\", Integer, ForeignKey(\"publisher.publisher_id\"))\n",
    ")\n",
    "# This table is different, as it is not the model. \n",
    "# As mentioned above, it creates the association between the tables\n",
    "book_publisher = Table(\n",
    "    \"book_publisher\",\n",
    "    Base.metadata,\n",
    "    Column(\"book_id\", Integer, ForeignKey(\"book.book_id\")),\n",
    "    Column(\"publisher_id\", Integer, ForeignKey(\"publisher.publisher_id\"))\n",
    ")"
   ]
  },
  {
   "cell_type": "code",
   "execution_count": 2,
   "metadata": {},
   "outputs": [],
   "source": [
    "class Author(Base):\n",
    "    __tablename__ = \"author\"\n",
    "    __table_args__ = {'extend_existing': True}\n",
    "    author_id = Column(Integer, primary_key=True)\n",
    "    first_name = Column(String)\n",
    "    last_name = Column(String)\n",
    "    books = relationship(\"Book\", backref=backref('author'))  # Creates an author attribute for each Book instance.\n",
    "    publishers = relationship(\n",
    "        \"Publisher\", secondary=author_publisher, back_populates='authors'\n",
    "    )  # secondary tells SQLAlchemy that the relationship to the Publisher class is through a secondary table,\n",
    "    "
   ]
  },
  {
   "cell_type": "code",
   "execution_count": 3,
   "metadata": {},
   "outputs": [],
   "source": [
    "class Book(Base):\n",
    "    __tablename__ = \"book\"\n",
    "    __table_args__ = {\"extend_existing\": True}\n",
    "    book_id = Column(Integer, primary_key=True)\n",
    "    author_id = Column(Integer, ForeignKey('author.author_id'))\n",
    "    title = Column(String)\n",
    "    publishers = relationship(\n",
    "        \"Publisher\", secondary=book_publisher, back_populates='books'\n",
    "    )"
   ]
  },
  {
   "cell_type": "code",
   "execution_count": 4,
   "metadata": {},
   "outputs": [],
   "source": [
    "class Publisher(Base):\n",
    "    __tablename__ = \"publisher\"\n",
    "    __table_args__ = {\"extend_existing\": True}\n",
    "    publisher_id = Column(Integer, primary_key=True)\n",
    "    name = Column(String)\n",
    "    authors = relationship(\n",
    "        \"Author\", secondary=author_publisher, back_populates='publishers'\n",
    "    )\n",
    "    books = relationship(\n",
    "        'Book', secondary=book_publisher, back_populates='publishers'\n",
    "    )"
   ]
  },
  {
   "cell_type": "code",
   "execution_count": 5,
   "metadata": {},
   "outputs": [],
   "source": [
    "from sqlalchemy import create_engine\n",
    "from sqlalchemy.orm import sessionmaker\n",
    "from sqlalchemy.sql import asc, desc, func\n",
    "\n",
    "engine = create_engine(\"sqlite:///author_book_publisher.db\")\n",
    "Session = sessionmaker()\n",
    "Session.configure(bind=engine)\n",
    "session = Session()"
   ]
  },
  {
   "cell_type": "code",
   "execution_count": 6,
   "metadata": {},
   "outputs": [],
   "source": [
    "test = session.query(Author).all()"
   ]
  },
  {
   "cell_type": "code",
   "execution_count": 8,
   "metadata": {},
   "outputs": [
    {
     "name": "stdout",
     "output_type": "stream",
     "text": [
      "1\n",
      "Isaac\n",
      "Asimov\n"
     ]
    }
   ],
   "source": [
    "for aut in test:\n",
    "    print(aut.author_id)\n",
    "    print(aut.first_name)\n",
    "    print(aut.last_name)\n",
    "    break"
   ]
  },
  {
   "cell_type": "code",
   "execution_count": 9,
   "metadata": {},
   "outputs": [
    {
     "name": "stdout",
     "output_type": "stream",
     "text": [
      "Foundation\n"
     ]
    }
   ],
   "source": [
    "books = session.query(Book).all()\n",
    "for bo in books:\n",
    "    print(bo.title)\n",
    "    break"
   ]
  },
  {
   "cell_type": "code",
   "execution_count": 19,
   "metadata": {},
   "outputs": [
    {
     "data": {
      "text/plain": [
       "'It'"
      ]
     },
     "execution_count": 19,
     "metadata": {},
     "output_type": "execute_result"
    }
   ],
   "source": [
    "book_01 = session.query(Book)\n",
    "book_02 = book_01.filter_by(title='It')\n",
    "book_02.one_or_none().title\n",
    "\n",
    "# The session is an SQLAlchemy object used to communicate with SQLite in the Python example programs"
   ]
  },
  {
   "cell_type": "code",
   "execution_count": 20,
   "metadata": {},
   "outputs": [],
   "source": [
    "book_tots = (\n",
    "    session.query(\n",
    "        Author.first_name,\n",
    "        Author.last_name,\n",
    "        func.count(Book.title).label('book_total')\n",
    "    ).join(Book)\n",
    "    .group_by(Author.last_name)\n",
    "    .order_by(desc('book_total'))\n",
    "    .all()\n",
    ")"
   ]
  },
  {
   "cell_type": "code",
   "execution_count": 21,
   "metadata": {},
   "outputs": [
    {
     "data": {
      "text/plain": [
       "[('Stephen', 'King', 3),\n",
       " ('Tom', 'Clancy', 2),\n",
       " ('Carol', 'Shaben', 1),\n",
       " ('Alex', 'Michaelides', 1),\n",
       " ('John', 'Le Carre', 1),\n",
       " ('Pearl', 'Buck', 1),\n",
       " ('Isaac', 'Asimov', 1)]"
      ]
     },
     "execution_count": 21,
     "metadata": {},
     "output_type": "execute_result"
    }
   ],
   "source": [
    "book_tots"
   ]
  },
  {
   "cell_type": "code",
   "execution_count": 23,
   "metadata": {},
   "outputs": [
    {
     "data": {
      "text/plain": [
       "[('Simon & Schuster', 4),\n",
       " ('Random House', 4),\n",
       " ('Penguin Random House', 2),\n",
       " ('Berkley', 2)]"
      ]
     },
     "execution_count": 23,
     "metadata": {},
     "output_type": "execute_result"
    }
   ],
   "source": [
    "book_by_pubs = (\n",
    "    session.query(\n",
    "        Publisher.name, func.count(Book.title).label('tot_books')\n",
    "    ).join(Publisher.books)\n",
    "    .group_by(Publisher.name)\n",
    "    .order_by(desc('tot_books'))\n",
    ")\n",
    "book_by_pubs.all()"
   ]
  },
  {
   "cell_type": "code",
   "execution_count": 24,
   "metadata": {},
   "outputs": [
    {
     "data": {
      "text/plain": [
       "[('Stephen', 4, 3),\n",
       " ('Tom', 3, 2),\n",
       " ('Carol', 7, 1),\n",
       " ('Alex', 6, 1),\n",
       " ('John', 5, 1),\n",
       " ('Pearl', 2, 1),\n",
       " ('Isaac', 1, 1)]"
      ]
     },
     "execution_count": 24,
     "metadata": {},
     "output_type": "execute_result"
    }
   ],
   "source": [
    "book_by_auth = (\n",
    "    session.query(\n",
    "        Author.first_name,\n",
    "        Author.author_id,\n",
    "        func.count(Book.title).label('tot_books')\n",
    "    ).join(Book)\n",
    "    .group_by(Author.author_id)\n",
    "    .order_by(desc('tot_books'))\n",
    "    .all()\n",
    ")\n",
    "book_by_auth"
   ]
  },
  {
   "cell_type": "code",
   "execution_count": 30,
   "metadata": {},
   "outputs": [
    {
     "data": {
      "text/plain": [
       "[(1, 'Isaac', 'Asimov'),\n",
       " (2, 'Pearl', 'Buck'),\n",
       " (3, 'Tom', 'Clancy'),\n",
       " (4, 'Stephen', 'King'),\n",
       " (5, 'John', 'Le Carre'),\n",
       " (8, 'Rajr', 'Maleu'),\n",
       " (6, 'Alex', 'Michaelides'),\n",
       " (7, 'Carol', 'Shaben')]"
      ]
     },
     "execution_count": 30,
     "metadata": {},
     "output_type": "execute_result"
    }
   ],
   "source": [
    "get_authors = (\n",
    "    session.query(\n",
    "        Author.author_id,\n",
    "        Author.first_name,\n",
    "        Author.last_name\n",
    "    ).order_by(Author.last_name)\n",
    ").all()\n",
    "get_authors"
   ]
  },
  {
   "cell_type": "code",
   "execution_count": 29,
   "metadata": {},
   "outputs": [],
   "source": [
    "new_author = Author(first_name='Rajr', last_name=\"Maleu\")\n",
    "session.add(new_author)  # inserting the data is simple"
   ]
  },
  {
   "cell_type": "code",
   "execution_count": 38,
   "metadata": {},
   "outputs": [],
   "source": [
    "session.commit()"
   ]
  },
  {
   "cell_type": "code",
   "execution_count": 35,
   "metadata": {},
   "outputs": [
    {
     "data": {
      "text/plain": [
       "'Rajr'"
      ]
     },
     "execution_count": 35,
     "metadata": {},
     "output_type": "execute_result"
    }
   ],
   "source": [
    "filter_auth = session.query(Author).filter_by(first_name='Rajr').all()\n",
    "filter_auth[0].first_name"
   ]
  },
  {
   "cell_type": "code",
   "execution_count": 37,
   "metadata": {},
   "outputs": [
    {
     "data": {
      "text/plain": [
       "'Asimov'"
      ]
     },
     "execution_count": 37,
     "metadata": {},
     "output_type": "execute_result"
    }
   ],
   "source": [
    "filter_auth = session.query(Author).filter(Author.last_name == 'Asimov').one_or_none()\n",
    "filter_auth.last_name"
   ]
  },
  {
   "cell_type": "code",
   "execution_count": null,
   "metadata": {},
   "outputs": [],
   "source": []
  },
  {
   "cell_type": "code",
   "execution_count": null,
   "metadata": {},
   "outputs": [],
   "source": []
  }
 ],
 "metadata": {
  "kernelspec": {
   "display_name": "Python 3",
   "language": "python",
   "name": "python3"
  },
  "language_info": {
   "codemirror_mode": {
    "name": "ipython",
    "version": 3
   },
   "file_extension": ".py",
   "mimetype": "text/x-python",
   "name": "python",
   "nbconvert_exporter": "python",
   "pygments_lexer": "ipython3",
   "version": "3.11.4"
  }
 },
 "nbformat": 4,
 "nbformat_minor": 2
}
