{
 "cells": [
  {
   "cell_type": "markdown",
   "metadata": {},
   "source": [
    "### Functools module helps to work with Higher Order functions. The most used functions in modules are \n",
    "\n",
    "- reduce :  The input function is applied on the next iterable element with the result from the last run, which results in an output which is cumulative.\n",
    "\n",
    "    ^ Python’s reduce() operates on any iterable—not just lists—and performs the following steps:\n",
    "\n",
    "    * Apply a function (or callable) to the first two items in an iterable and generate a partial result.\n",
    "    \n",
    "    * Use that partial result, together with the third item in the iterable, to generate another partial result.\n",
    "    \n",
    "    * Repeat the process until the iterable is exhausted and then return a single cumulative value.\n",
    "\n",
    "    ### you can pass any Python callable to reduce() as long as the callable accepts two arguments.\n",
    "\n",
    "- partial : returns an object which behaves like a partially initialized target function with given arguments and keyword arguments. Object returned can be called like a normal function with the remaining arguments\n",
    "\n",
    "- cache : is used as a decorator and is able to cache the return values of a function based on inputs\n",
    "\n",
    "- lru_cache : better alternative to the @cache is @lru_cache because the latter can be bounded to a specific size using the keyword argument maxsize. New entries arrive the oldest cache entries get discarded.\n",
    "\n",
    "- wraps : When a decorator is used on a function, the function loses information about itself. Wraps resolves this issue."
   ]
  },
  {
   "cell_type": "markdown",
   "metadata": {},
   "source": [
    "Functional programming tries to avoid mutable data types and state changes as much as possible. It works with the data that flow between functions.\n",
    "\n",
    "There are several important concepts in this list. Here’s a closer look to some of them:\n",
    "\n",
    "Recursion is a technique in which functions call themselves, either directly or indirectly, in order to loop. It allows a program to loop over data structures that have unknown or unpredictable lengths.\n",
    "\n",
    "Pure functions are functions that have no side effects at all. In other words, they’re functions that do not update or modify any global variable, object, or data structure in the program. These functions produce an output that depends only on the input, which is closer to the concept of a mathematical function.\n",
    "\n",
    "Higher-order functions are functions that operate on other functions by taking functions as arguments, returning functions, or both, as with Python decorators."
   ]
  },
  {
   "cell_type": "code",
   "execution_count": 24,
   "metadata": {},
   "outputs": [
    {
     "name": "stdout",
     "output_type": "stream",
     "text": [
      "1\n",
      "3\n",
      "7\n",
      "12\n"
     ]
    }
   ],
   "source": [
    "# reduce in action\n",
    "\n",
    "from functools import reduce\n",
    "\n",
    "def cumlate(x, y):  # The first argument is provided by the reduce function\n",
    "    print(x)\n",
    "    return x + y\n",
    "\n",
    "print(reduce(cumlate, [1, 2, 4, 5]))"
   ]
  },
  {
   "cell_type": "code",
   "execution_count": 25,
   "metadata": {},
   "outputs": [
    {
     "name": "stdout",
     "output_type": "stream",
     "text": [
      "15\n",
      "16\n",
      "18\n",
      "21\n",
      "25\n",
      "30\n"
     ]
    }
   ],
   "source": [
    "print(reduce(cumlate, [1, 2, 3, 4, 5], 15))  # Python’s reduce() will use Initialiser value as its default return value when iterable is empty"
   ]
  },
  {
   "cell_type": "code",
   "execution_count": 27,
   "metadata": {},
   "outputs": [
    {
     "name": "stdout",
     "output_type": "stream",
     "text": [
      "30\n"
     ]
    }
   ],
   "source": [
    "print(sum([1, 2, 3, 4, 5]) + 15)"
   ]
  },
  {
   "cell_type": "code",
   "execution_count": 30,
   "metadata": {},
   "outputs": [
    {
     "name": "stdout",
     "output_type": "stream",
     "text": [
      "120\n"
     ]
    }
   ],
   "source": [
    "from operator import mul\n",
    "\n",
    "# print(mul([1, 2, 3, 4, 5]) + 15)  # mul expected 2 arguments, got 1\n",
    "print(reduce(mul, [1, 2, 3, 4, 5]))"
   ]
  },
  {
   "cell_type": "code",
   "execution_count": 34,
   "metadata": {},
   "outputs": [
    {
     "data": {
      "text/plain": [
       "1"
      ]
     },
     "execution_count": 34,
     "metadata": {},
     "output_type": "execute_result"
    }
   ],
   "source": [
    "nums = [1, 6, 7, 8, 9, 10, 5]\n",
    "\n",
    "minval, *rest = nums\n",
    "# enumerate on each of remaining numbers \n",
    "for num in rest:\n",
    "    # check if num is less than minval \n",
    "    if num < minval:\n",
    "        # true then assign num to minval\n",
    "        minval = num\n",
    "\n",
    "minval"
   ]
  },
  {
   "cell_type": "code",
   "execution_count": 36,
   "metadata": {},
   "outputs": [
    {
     "name": "stdout",
     "output_type": "stream",
     "text": [
      "10\n",
      "1\n"
     ]
    }
   ],
   "source": [
    "def my_max(a, b):\n",
    "    \"Returns the max of the two values.\"\n",
    "    return a if a > b else b\n",
    "\n",
    "def my_min(a, b):\n",
    "    \"Returns the min of two values\"\n",
    "    return a if a < b else b\n",
    "\n",
    "print(reduce(my_max, nums)) \n",
    "print(reduce(my_min, nums)) "
   ]
  },
  {
   "cell_type": "markdown",
   "metadata": {},
   "source": [
    "In Python, the following objects are considered false:\n",
    "\n",
    "- Constants like None and False\n",
    "\n",
    "- Numeric types with a zero value like 0, 0.0, 0j, Decimal(0), and Fraction(0, 1)\n",
    "\n",
    "- Empty sequences and collections like \"\", (), [], {}, set(), and range(0)\n",
    "\n",
    "- Objects that implement __bool__() with a return value of False or __len__() with a return value of 0"
   ]
  },
  {
   "cell_type": "code",
   "execution_count": 37,
   "metadata": {},
   "outputs": [
    {
     "data": {
      "text/plain": [
       "False"
      ]
     },
     "execution_count": 37,
     "metadata": {},
     "output_type": "execute_result"
    }
   ],
   "source": [
    "reduce(lambda a, b: bool(a and b), [0, 0, 1, 0, 0])"
   ]
  },
  {
   "cell_type": "markdown",
   "metadata": {},
   "source": [
    "Use a dedicated function to solve use cases for Python’s reduce() whenever possible. Functions such as sum(), all(), any(), max(), min(), len(), math.prod(), and so on will make your code faster and more readable, maintainable, and Pythonic.\n",
    "\n",
    "Avoid complex user-defined functions when using reduce(). These kinds of functions can make your code difficult to read and understand. You can use an explicit and readable for loop instead.\n",
    "\n",
    "Avoid complex lambda functions when using reduce(). They can also make your code unreadable and confusing."
   ]
  },
  {
   "cell_type": "code",
   "execution_count": 2,
   "metadata": {},
   "outputs": [
    {
     "name": "stdout",
     "output_type": "stream",
     "text": [
      "arg1 =part1 & arg2 = awesome\n",
      "arg1 =Hello & arg2 = part2\n"
     ]
    }
   ],
   "source": [
    "from functools import partial\n",
    "\n",
    "def target(arg1, arg2):\n",
    "    print(f\"arg1 ={arg1} & arg2 = {arg2}\")\n",
    "\n",
    "part1 = partial(target, arg1 = 'part1')  # returns a partly initialized function\n",
    "part2 = partial(target, arg2 = 'part2')\n",
    "\n",
    "part1(arg2='awesome')  # which is called here with rest of arguments\n",
    "part2(arg1='Hello')  # which is called here with rest of arguments"
   ]
  },
  {
   "cell_type": "code",
   "execution_count": 13,
   "metadata": {},
   "outputs": [
    {
     "name": "stdout",
     "output_type": "stream",
     "text": [
      "89\n",
      "89\n"
     ]
    }
   ],
   "source": [
    "from functools import cache, lru_cache\n",
    "\n",
    "@cache\n",
    "def fibo(n):\n",
    "    if n in [0, 1]:\n",
    "        return n\n",
    "    else:\n",
    "        return fibo(n - 1) + fibo(n - 2)\n",
    "\n",
    "@lru_cache(maxsize=2)\n",
    "def fibo_l(n):\n",
    "    if n in [0, 1]:\n",
    "        return n\n",
    "    else:\n",
    "        return fibo_l(n - 1) + fibo_l(n - 2)\n",
    "\n",
    "\n",
    "print(fibo(11))\n",
    "print(fibo_l(11))"
   ]
  },
  {
   "cell_type": "code",
   "execution_count": 17,
   "metadata": {},
   "outputs": [
    {
     "name": "stdout",
     "output_type": "stream",
     "text": [
      "inner_timer\n",
      "Function that returns the exec time of another func\n"
     ]
    }
   ],
   "source": [
    "# creating a decorator\n",
    "from time import time\n",
    "\n",
    "def timeit(func):\n",
    "    def inner_timer(*args, **kwargs):\n",
    "        \"\"\"Function that returns the exec time of another func\"\"\"\n",
    "        print(*args, **kwargs)\n",
    "        start = time()\n",
    "        func(*args, **kwargs)\n",
    "        print(f\"Function ran in {time() - start} seconds\")\n",
    "    return inner_timer\n",
    "\n",
    "@timeit\n",
    "def fibo_l(n):\n",
    "    \"\"\"Return fibonacci summation\"\"\"\n",
    "    if n in [0, 1]:\n",
    "        return n\n",
    "    else:\n",
    "        return fibo(n - 1) + fibo(n - 2)\n",
    "        \n",
    "print(fibo_l.__name__)  # inner_timer (it has to be fibo_l)\n",
    "print(fibo_l.__doc__)  # doc of fibonacci has to be returned"
   ]
  },
  {
   "cell_type": "code",
   "execution_count": 22,
   "metadata": {},
   "outputs": [
    {
     "name": "stdout",
     "output_type": "stream",
     "text": [
      "fibo_l\n"
     ]
    }
   ],
   "source": [
    "from functools import wraps\n",
    "\n",
    "def timeit(func):\n",
    "    @wraps(func)  # has to wrap the incoming function\n",
    "    def inner_timer(*args, **kwargs):\n",
    "        \"\"\"Function that returns the exec time of another func\"\"\"\n",
    "        print(*args, **kwargs)\n",
    "        start = time()\n",
    "        func(*args, **kwargs)\n",
    "        print(f\"Function ran in {time() - start} seconds\")\n",
    "    return inner_timer\n",
    "\n",
    "@timeit\n",
    "def fibo_l(n):\n",
    "    \"\"\"Return fibonacci summation\"\"\"\n",
    "    if n in [0, 1]:\n",
    "        return n\n",
    "    else:\n",
    "        return fibo(n - 1) + fibo(n - 2)\n",
    "\n",
    "print(fibo_l.__name__)"
   ]
  }
 ],
 "metadata": {
  "kernelspec": {
   "display_name": "Python 3",
   "language": "python",
   "name": "python3"
  },
  "language_info": {
   "codemirror_mode": {
    "name": "ipython",
    "version": 3
   },
   "file_extension": ".py",
   "mimetype": "text/x-python",
   "name": "python",
   "nbconvert_exporter": "python",
   "pygments_lexer": "ipython3",
   "version": "3.11.4"
  }
 },
 "nbformat": 4,
 "nbformat_minor": 2
}
