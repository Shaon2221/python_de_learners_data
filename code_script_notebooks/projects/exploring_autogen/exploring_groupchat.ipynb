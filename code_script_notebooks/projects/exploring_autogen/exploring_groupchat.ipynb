{
 "cells": [
  {
   "cell_type": "code",
   "execution_count": 1,
   "metadata": {},
   "outputs": [],
   "source": [
    "import openai\n",
    "from dotenv import load_dotenv\n",
    "import autogen"
   ]
  },
  {
   "cell_type": "code",
   "execution_count": 2,
   "metadata": {},
   "outputs": [],
   "source": [
    "config_list = autogen.config_list_from_dotenv(\n",
    "    dotenv_file_path=\"D:\\\\gitFolders\\\\python_de_learners_data\\\\.env\",\n",
    "    filter_dict={\n",
    "        \"model\": {\n",
    "            \"gpt-3.5-turbo\",\n",
    "        }\n",
    "    }\n",
    ")\n",
    "# config_list\n",
    "\n",
    "gpt4_configList = autogen.config_list_from_dotenv(\n",
    "    dotenv_file_path=\"D:\\\\gitFolders\\\\python_de_learners_data\\\\.env\",\n",
    "    filter_dict={\n",
    "        \"model\": {\n",
    "            \"gpt-4\"\n",
    "        }\n",
    "    }\n",
    ")\n"
   ]
  },
  {
   "cell_type": "code",
   "execution_count": 3,
   "metadata": {},
   "outputs": [],
   "source": [
    "llm_config = {\"config_list\": config_list,\n",
    "              \"cache_seed\": 42}\n",
    "gpt4_config = {\"config_list\": gpt4_configList,\n",
    "               \"cache_seed\": 42}"
   ]
  },
  {
   "cell_type": "code",
   "execution_count": 4,
   "metadata": {},
   "outputs": [],
   "source": [
    "from autogen import (\n",
    "    UserProxyAgent,\n",
    "    AssistantAgent\n",
    ")\n",
    "\n",
    "user_proxy = UserProxyAgent(\n",
    "    name=\"user_proxy\",\n",
    "    system_message=\"a human admin\",\n",
    "    code_execution_config={\n",
    "        \"last_n_messages\": 2,\n",
    "        \"work_dir\": \"groupchat\",\n",
    "        \"use_docker\": False,\n",
    "    },\n",
    "    human_input_mode=\"TERMINATE\"\n",
    ")"
   ]
  },
  {
   "cell_type": "code",
   "execution_count": 5,
   "metadata": {},
   "outputs": [],
   "source": [
    "coder = autogen.AssistantAgent(\n",
    "    name=\"coder\",\n",
    "    llm_config=gpt4_config\n",
    ")"
   ]
  },
  {
   "cell_type": "code",
   "execution_count": 6,
   "metadata": {},
   "outputs": [],
   "source": [
    "manager = autogen.AssistantAgent(\n",
    "    name=\"Expert real estate agent\",\n",
    "    system_message=\"Expert in real estate supply and demand\",\n",
    "    llm_config=gpt4_config\n",
    ")"
   ]
  },
  {
   "cell_type": "code",
   "execution_count": 7,
   "metadata": {},
   "outputs": [],
   "source": [
    "from autogen import GroupChat, GroupChatManager\n",
    "\n",
    "groupchat = GroupChat(agents=[user_proxy,\n",
    "                              coder,\n",
    "                              manager],\n",
    "                              messages=[],\n",
    "                              max_round=8)"
   ]
  },
  {
   "cell_type": "code",
   "execution_count": 8,
   "metadata": {},
   "outputs": [],
   "source": [
    "general = GroupChatManager(groupchat=groupchat,\n",
    "                           llm_config=gpt4_config)"
   ]
  },
  {
   "cell_type": "code",
   "execution_count": null,
   "metadata": {},
   "outputs": [],
   "source": [
    "user_proxy.initiate_chat(\n",
    "    general,message=\"\"\"Write an interactive program that will gather the messages from the user, and then parse into a meaningful\n",
    "    datastructure. The message will contain real estate details like plots, apartments and properties for sale and rent alike. Use the support of \n",
    "    the coder for coding, and work with the manager for getting details about the real estate messages. You can \n",
    "    ask for clarification to the user if necessary.\"\"\"\n",
    ")"
   ]
  },
  {
   "cell_type": "code",
   "execution_count": null,
   "metadata": {},
   "outputs": [],
   "source": []
  },
  {
   "cell_type": "code",
   "execution_count": null,
   "metadata": {},
   "outputs": [],
   "source": []
  },
  {
   "cell_type": "code",
   "execution_count": null,
   "metadata": {},
   "outputs": [],
   "source": []
  },
  {
   "cell_type": "code",
   "execution_count": null,
   "metadata": {},
   "outputs": [],
   "source": []
  }
 ],
 "metadata": {
  "kernelspec": {
   "display_name": "Python 3",
   "language": "python",
   "name": "python3"
  },
  "language_info": {
   "codemirror_mode": {
    "name": "ipython",
    "version": 3
   },
   "file_extension": ".py",
   "mimetype": "text/x-python",
   "name": "python",
   "nbconvert_exporter": "python",
   "pygments_lexer": "ipython3",
   "version": "3.11.4"
  }
 },
 "nbformat": 4,
 "nbformat_minor": 2
}
