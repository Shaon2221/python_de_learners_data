{
 "cells": [
  {
   "cell_type": "code",
   "execution_count": 1,
   "metadata": {},
   "outputs": [
    {
     "data": {
      "text/plain": [
       "True"
      ]
     },
     "execution_count": 1,
     "metadata": {},
     "output_type": "execute_result"
    }
   ],
   "source": [
    "from dotenv import load_dotenv\n",
    "load_dotenv(\"D:\\\\gitFolders\\\\python_de_learners_data\\\\.env\")"
   ]
  },
  {
   "cell_type": "code",
   "execution_count": 2,
   "metadata": {},
   "outputs": [],
   "source": [
    "import openai\n",
    "import os\n",
    "openai.api_key = os.environ['OPENAI_API_KEY']"
   ]
  },
  {
   "cell_type": "code",
   "execution_count": null,
   "metadata": {},
   "outputs": [],
   "source": [
    "# reference to function calling\n",
    "\n",
    "functions = [\n",
    "    {\n",
    "        \"name\": \"get_genre\",\n",
    "        \"description\": \"Generates a Genre of fiction for the next story\",\n",
    "        \"parameters\": {\n",
    "            \"type\": \"object\",\n",
    "            \"properties\": {\n",
    "                \"genre\": {\n",
    "                    \"type\": \"string\",\n",
    "                    \"description\": \"the genre of fiction\"\n",
    "                }\n",
    "            },\n",
    "            \"required\": [\"genre\"]\n",
    "        }\n",
    "    },\n",
    "    {\n",
    "        \"name\": \"gen_char_names\",\n",
    "        \"description\": \"Generates a list of 10 character names for the story.\",\n",
    "        \"parameters\": {\n",
    "            \"type\": \"object\",\n",
    "            \"properties\": {\n",
    "                \"char_list\": {\n",
    "                    \"type\": \"string\",\n",
    "                    \"description\": f\"this is a list of 10 character names.\"\n",
    "                }\n",
    "            },\n",
    "            \"required\": [\"char_list\"]\n",
    "        }\n",
    "    },\n",
    "    {\n",
    "        \"name\": \"get_title\",\n",
    "        \"description\": \"Generates a title for the story.\",\n",
    "        \"parameters\": {\n",
    "            \"type\": \"object\",\n",
    "            \"properties\": {\n",
    "                \"title\": {\n",
    "                    \"type\": \"string\",\n",
    "                    \"description\": \"this is the title of the story based on the plot outline provided\"\n",
    "                }\n",
    "            },\n",
    "            \"required\": [\"title\"]\n",
    "        }\n",
    "    },\n",
    "    {\n",
    "        \"name\": \"get_author\",\n",
    "        \"description\": \"Generates an author for the story.\",\n",
    "        \"parameters\": {\n",
    "            \"type\": \"object\",\n",
    "            \"properties\": {\n",
    "                \"choice\": {\n",
    "                    \"type\": \"string\",\n",
    "                    \"description\": \"this is the author whos voice will inspire the story based on the plot outline provided\"\n",
    "                }\n",
    "            },\n",
    "            \"required\": [\"choice\"]\n",
    "        }\n",
    "    },\n",
    "]\n"
   ]
  },
  {
   "cell_type": "code",
   "execution_count": null,
   "metadata": {},
   "outputs": [],
   "source": [
    "response = openai.chat.completions.create(\n",
    "                model=\"gpt-3.5-turbo\",\n",
    "                messages=[\n",
    "                    {\n",
    "                        \"role\": \"system\",\n",
    "                        \"content\": f\"you are a helpful assistant. Follow the prompt directions exactly. \"\n",
    "                    },\n",
    "                    {\n",
    "                        \"role\": \"user\",\n",
    "                        \"content\": f\"develop a list of 10 character names that are different from the following list of names\" #Use this prompt as inspiration: {prompt}..\"                       \n",
    "                    }\n",
    "                ],\n",
    "                functions=functions,\n",
    "                function_call={\n",
    "                    \"name\": functions[1][\"name\"]\n",
    "                },\n",
    "                temperature=0.9,\n",
    "                max_tokens=100,\n",
    "                top_p=1,\n",
    "                frequency_penalty=1,\n",
    "                presence_penalty=1,\n",
    "                n=1,\n",
    "            )"
   ]
  },
  {
   "cell_type": "markdown",
   "metadata": {},
   "source": [
    "Define Task\n",
    "\n",
    "Define Pipeline\n",
    "\n",
    "Explore examples\n",
    "\n",
    "Define Data\n",
    "\n",
    "Define Metric\n",
    "\n",
    "Collect Zero-shot evals \n",
    "\n",
    "Compile DSPy optimizer\n",
    "\n",
    "Iterate"
   ]
  },
  {
   "cell_type": "code",
   "execution_count": null,
   "metadata": {},
   "outputs": [],
   "source": [
    "import dspy\n",
    "from dspy.datasets.gsm8k import GSM8K, gsm8k_metric\n",
    "\n",
    "turbo = dspy.OpenAI(model='gpt-3.5-turbo',\n",
    "                    max_tokens=100)\n",
    "\n",
    "dspy.settings.configure(lm=turbo)"
   ]
  },
  {
   "cell_type": "code",
   "execution_count": 4,
   "metadata": {},
   "outputs": [
    {
     "name": "stderr",
     "output_type": "stream",
     "text": [
      "100%|██████████| 7473/7473 [00:00<00:00, 8971.20it/s] \n",
      "100%|██████████| 1319/1319 [00:00<00:00, 11882.90it/s]\n"
     ]
    }
   ],
   "source": [
    "gsm8k = GSM8K()\n",
    "\n",
    "gsm_train, gsm_dev = gsm8k.train[:10], gsm8k.dev[:10]"
   ]
  },
  {
   "cell_type": "code",
   "execution_count": 5,
   "metadata": {},
   "outputs": [],
   "source": [
    "class CoT(dspy.Module):\n",
    "    def __init__(self):\n",
    "        super().__init__()\n",
    "        self.prog = dspy.ChainOfThought(signature=\"question -> answer\")\n",
    "\n",
    "    def forward(self, question):\n",
    "        return self.prog(question=question)"
   ]
  },
  {
   "cell_type": "code",
   "execution_count": 7,
   "metadata": {},
   "outputs": [
    {
     "data": {
      "text/html": [
       "<pre style=\"white-space:pre;overflow-x:auto;line-height:normal;font-family:Menlo,'DejaVu Sans Mono',consolas,'Courier New',monospace\"><span style=\"font-weight: bold\">[</span>\n",
       "    <span style=\"font-weight: bold\">(</span>\n",
       "        <span style=\"color: #008000; text-decoration-color: #008000\">'question'</span>,\n",
       "        <span style=\"color: #008000; text-decoration-color: #008000\">'20 birds migrate on a seasonal basis from one lake to another, searching for food. If they fly from lake </span>\n",
       "<span style=\"color: #008000; text-decoration-color: #008000\">Jim to lake Disney in one season, which is 50 miles apart, then the next season they fly from lake Disney to lake </span>\n",
       "<span style=\"color: #008000; text-decoration-color: #008000\">London, 60 miles apart, calculate the combined distance all of the birds have traveled in the two seasons.'</span>\n",
       "    <span style=\"font-weight: bold\">)</span>,\n",
       "    <span style=\"font-weight: bold\">(</span>\n",
       "        <span style=\"color: #008000; text-decoration-color: #008000\">'gold_reasoning'</span>,\n",
       "        <span style=\"color: #008000; text-decoration-color: #008000\">\"The birds' flying distance between Lake Jim through lake Disney to lake London is 50+60 = &lt;&lt;50+60=110&gt;&gt;110</span>\n",
       "<span style=\"color: #008000; text-decoration-color: #008000\">miles. Since each bird flies the 110 miles distance while migrating, the combined distance they fly together is </span>\n",
       "<span style=\"color: #008000; text-decoration-color: #008000\">110*20 = &lt;&lt;110*20=2200&gt;&gt;2200 miles.\"</span>\n",
       "    <span style=\"font-weight: bold\">)</span>,\n",
       "    <span style=\"font-weight: bold\">(</span><span style=\"color: #008000; text-decoration-color: #008000\">'answer'</span>, <span style=\"color: #008000; text-decoration-color: #008000\">'2200'</span><span style=\"font-weight: bold\">)</span>\n",
       "<span style=\"font-weight: bold\">]</span>\n",
       "</pre>\n"
      ],
      "text/plain": [
       "\u001b[1m[\u001b[0m\n",
       "    \u001b[1m(\u001b[0m\n",
       "        \u001b[32m'question'\u001b[0m,\n",
       "        \u001b[32m'20 birds migrate on a seasonal basis from one lake to another, searching for food. If they fly from lake \u001b[0m\n",
       "\u001b[32mJim to lake Disney in one season, which is 50 miles apart, then the next season they fly from lake Disney to lake \u001b[0m\n",
       "\u001b[32mLondon, 60 miles apart, calculate the combined distance all of the birds have traveled in the two seasons.'\u001b[0m\n",
       "    \u001b[1m)\u001b[0m,\n",
       "    \u001b[1m(\u001b[0m\n",
       "        \u001b[32m'gold_reasoning'\u001b[0m,\n",
       "        \u001b[32m\"The birds' flying distance between Lake Jim through lake Disney to lake London is 50+60 = \u001b[0m\u001b[32m<\u001b[0m\u001b[32m<50+\u001b[0m\u001b[32m60\u001b[0m\u001b[32m=\u001b[0m\u001b[32m110\u001b[0m\u001b[32m>>110\u001b[0m\n",
       "\u001b[32mmiles. Since each bird flies the 110 miles distance while migrating, the combined distance they fly together is \u001b[0m\n",
       "\u001b[32m110*20 = <<110*\u001b[0m\u001b[32m20\u001b[0m\u001b[32m=\u001b[0m\u001b[32m2200\u001b[0m\u001b[32m>\u001b[0m\u001b[32m>\u001b[0m\u001b[32m2200 miles.\"\u001b[0m\n",
       "    \u001b[1m)\u001b[0m,\n",
       "    \u001b[1m(\u001b[0m\u001b[32m'answer'\u001b[0m, \u001b[32m'2200'\u001b[0m\u001b[1m)\u001b[0m\n",
       "\u001b[1m]\u001b[0m\n"
      ]
     },
     "metadata": {},
     "output_type": "display_data"
    }
   ],
   "source": [
    "from rich import print\n",
    "\n",
    "print(gsm_dev[0].items())"
   ]
  },
  {
   "cell_type": "code",
   "execution_count": null,
   "metadata": {},
   "outputs": [],
   "source": [
    "print(gsm_dev[0].keys())"
   ]
  },
  {
   "cell_type": "code",
   "execution_count": 6,
   "metadata": {},
   "outputs": [
    {
     "data": {
      "text/plain": [
       "Prediction(\n",
       "    rationale='produce the answer. We know that there are more than 20 cows, and each cow can eat 1 square meter of grass in a day. Therefore, the minimum number of square meters of grass required for the cows would be the number of cows multiplied by the amount of grass each cow can eat in a day.',\n",
       "    answer='The minimum number of square meters of grass required for the cows would be more than 20 square meters.'\n",
       ")"
      ]
     },
     "execution_count": 6,
     "metadata": {},
     "output_type": "execute_result"
    }
   ],
   "source": [
    "cot = CoT()\n",
    "cot(question=\"\"\"There is more than 20 cows in the vicinity.\n",
    "    Each cow can eat 1 square meter of grass in a day. Minimum \n",
    "    how many square meter of grass is required for the cows?\"\"\")"
   ]
  },
  {
   "cell_type": "code",
   "execution_count": 11,
   "metadata": {},
   "outputs": [
    {
     "data": {
      "text/html": [
       "<pre style=\"white-space:pre;overflow-x:auto;line-height:normal;font-family:Menlo,'DejaVu Sans Mono',consolas,'Courier New',monospace\">def <span style=\"color: #800080; text-decoration-color: #800080; font-weight: bold\">gsm8k_metric</span><span style=\"font-weight: bold\">(</span>gold, pred, <span style=\"color: #808000; text-decoration-color: #808000\">trace</span>=<span style=\"color: #800080; text-decoration-color: #800080; font-style: italic\">None</span><span style=\"font-weight: bold\">)</span>:\n",
       "    return <span style=\"color: #800080; text-decoration-color: #800080; font-weight: bold\">int</span><span style=\"font-weight: bold\">(</span><span style=\"color: #800080; text-decoration-color: #800080; font-weight: bold\">parse_integer_answer</span><span style=\"font-weight: bold\">(</span><span style=\"color: #800080; text-decoration-color: #800080; font-weight: bold\">str</span><span style=\"font-weight: bold\">(</span>gold.answer<span style=\"font-weight: bold\">)))</span> == <span style=\"color: #800080; text-decoration-color: #800080; font-weight: bold\">int</span><span style=\"font-weight: bold\">(</span><span style=\"color: #800080; text-decoration-color: #800080; font-weight: bold\">parse_integer_answer</span><span style=\"font-weight: bold\">(</span><span style=\"color: #800080; text-decoration-color: #800080; font-weight: bold\">str</span><span style=\"font-weight: bold\">(</span>pred.answer<span style=\"font-weight: bold\">)))</span>\n",
       "\n",
       "</pre>\n"
      ],
      "text/plain": [
       "def \u001b[1;35mgsm8k_metric\u001b[0m\u001b[1m(\u001b[0mgold, pred, \u001b[33mtrace\u001b[0m=\u001b[3;35mNone\u001b[0m\u001b[1m)\u001b[0m:\n",
       "    return \u001b[1;35mint\u001b[0m\u001b[1m(\u001b[0m\u001b[1;35mparse_integer_answer\u001b[0m\u001b[1m(\u001b[0m\u001b[1;35mstr\u001b[0m\u001b[1m(\u001b[0mgold.answer\u001b[1m)\u001b[0m\u001b[1m)\u001b[0m\u001b[1m)\u001b[0m == \u001b[1;35mint\u001b[0m\u001b[1m(\u001b[0m\u001b[1;35mparse_integer_answer\u001b[0m\u001b[1m(\u001b[0m\u001b[1;35mstr\u001b[0m\u001b[1m(\u001b[0mpred.answer\u001b[1m)\u001b[0m\u001b[1m)\u001b[0m\u001b[1m)\u001b[0m\n",
       "\n"
      ]
     },
     "metadata": {},
     "output_type": "display_data"
    }
   ],
   "source": [
    "import inspect\n",
    "print(inspect.getsource(gsm8k_metric))"
   ]
  },
  {
   "cell_type": "code",
   "execution_count": null,
   "metadata": {},
   "outputs": [],
   "source": [
    "gold = dict()\n",
    "pred = dict()\n",
    "\n",
    "gold[\"answer\"] =\"'produce the answer. We know that there are more than 20 cows, and each cow can eat 1 square meter of grass in a day. Therefore, the minimum number of square meters of grass required for the cows would be the number of cows multiplied by the amount of grass each cow can eat in a day.\",\n",
    "pred['answer'] =\"We cannot reliably find the answer with the data given\"\n",
    "\n",
    "gsm8k_metric(gold, pred)"
   ]
  },
  {
   "cell_type": "code",
   "execution_count": 13,
   "metadata": {},
   "outputs": [],
   "source": [
    "# using teleprompt to optimize\n",
    "from dspy.teleprompt import BootstrapFewShot\n",
    "\n",
    "config = dict(max_bootstrapped_demos=2,\n",
    "              max_labeled_demos=2)\n",
    "\n",
    "optimizer = BootstrapFewShot(metric=gsm8k_metric,\n",
    "                             **config)\n"
   ]
  },
  {
   "cell_type": "code",
   "execution_count": 14,
   "metadata": {},
   "outputs": [
    {
     "name": "stderr",
     "output_type": "stream",
     "text": [
      " 20%|██        | 2/10 [00:06<00:26,  3.32s/it]"
     ]
    },
    {
     "name": "stdout",
     "output_type": "stream",
     "text": [
      "Bootstrapped 2 full traces after 3 examples in round 0.\n"
     ]
    },
    {
     "name": "stderr",
     "output_type": "stream",
     "text": [
      "\n"
     ]
    }
   ],
   "source": [
    "optimized_cot = optimizer.compile(CoT(), trainset=gsm_train, valset=gsm_dev)"
   ]
  },
  {
   "cell_type": "code",
   "execution_count": 15,
   "metadata": {},
   "outputs": [
    {
     "name": "stderr",
     "output_type": "stream",
     "text": [
      "Average Metric: 7 / 10  (70.0): 100%|██████████| 10/10 [00:08<00:00,  1.16it/s]"
     ]
    },
    {
     "name": "stdout",
     "output_type": "stream",
     "text": [
      "Average Metric: 7 / 10  (70.0%)\n"
     ]
    },
    {
     "name": "stderr",
     "output_type": "stream",
     "text": [
      "\n",
      "d:\\dspyenv\\Lib\\site-packages\\dspy\\evaluate\\evaluate.py:143: FutureWarning: DataFrame.applymap has been deprecated. Use DataFrame.map instead.\n",
      "  df = df.applymap(truncate_cell)\n"
     ]
    },
    {
     "data": {
      "text/plain": [
       "70.0"
      ]
     },
     "execution_count": 15,
     "metadata": {},
     "output_type": "execute_result"
    }
   ],
   "source": [
    "from dspy.evaluate import Evaluate\n",
    "\n",
    "# Set up the evaluator, which can be used multiple times.\n",
    "evaluate = Evaluate(devset=gsm_dev,\n",
    "                    metric=gsm8k_metric,\n",
    "                    num_threads=4,\n",
    "                    display_progress=True,\n",
    "                    display_table=0)\n",
    "\n",
    "# Evaluate our `optimized_cot` program.\n",
    "evaluate(optimized_cot)"
   ]
  },
  {
   "cell_type": "code",
   "execution_count": 2,
   "metadata": {},
   "outputs": [
    {
     "data": {
      "text/plain": [
       "['__add__',\n",
       " '__class__',\n",
       " '__contains__',\n",
       " '__delattr__',\n",
       " '__dir__',\n",
       " '__doc__',\n",
       " '__eq__',\n",
       " '__format__',\n",
       " '__ge__',\n",
       " '__getattribute__',\n",
       " '__getitem__',\n",
       " '__getnewargs__',\n",
       " '__getstate__',\n",
       " '__gt__',\n",
       " '__hash__',\n",
       " '__init__',\n",
       " '__init_subclass__',\n",
       " '__iter__',\n",
       " '__le__',\n",
       " '__len__',\n",
       " '__lt__',\n",
       " '__mod__',\n",
       " '__mul__',\n",
       " '__ne__',\n",
       " '__new__',\n",
       " '__reduce__',\n",
       " '__reduce_ex__',\n",
       " '__repr__',\n",
       " '__rmod__',\n",
       " '__rmul__',\n",
       " '__setattr__',\n",
       " '__sizeof__',\n",
       " '__str__',\n",
       " '__subclasshook__',\n",
       " 'capitalize',\n",
       " 'casefold',\n",
       " 'center',\n",
       " 'count',\n",
       " 'encode',\n",
       " 'endswith',\n",
       " 'expandtabs',\n",
       " 'find',\n",
       " 'format',\n",
       " 'format_map',\n",
       " 'index',\n",
       " 'isalnum',\n",
       " 'isalpha',\n",
       " 'isascii',\n",
       " 'isdecimal',\n",
       " 'isdigit',\n",
       " 'isidentifier',\n",
       " 'islower',\n",
       " 'isnumeric',\n",
       " 'isprintable',\n",
       " 'isspace',\n",
       " 'istitle',\n",
       " 'isupper',\n",
       " 'join',\n",
       " 'ljust',\n",
       " 'lower',\n",
       " 'lstrip',\n",
       " 'maketrans',\n",
       " 'partition',\n",
       " 'removeprefix',\n",
       " 'removesuffix',\n",
       " 'replace',\n",
       " 'rfind',\n",
       " 'rindex',\n",
       " 'rjust',\n",
       " 'rpartition',\n",
       " 'rsplit',\n",
       " 'rstrip',\n",
       " 'split',\n",
       " 'splitlines',\n",
       " 'startswith',\n",
       " 'strip',\n",
       " 'swapcase',\n",
       " 'title',\n",
       " 'translate',\n",
       " 'upper',\n",
       " 'zfill']"
      ]
     },
     "execution_count": 2,
     "metadata": {},
     "output_type": "execute_result"
    }
   ],
   "source": [
    "dir('str')"
   ]
  },
  {
   "cell_type": "code",
   "execution_count": 16,
   "metadata": {},
   "outputs": [
    {
     "name": "stdout",
     "output_type": "stream",
     "text": [
      "\n",
      "\n",
      "\n",
      "\n",
      "Given the fields `question`, produce the fields `answer`.\n",
      "\n",
      "---\n",
      "\n",
      "Follow the following format.\n",
      "\n",
      "Question: ${question}\n",
      "Reasoning: Let's think step by step in order to ${produce the answer}. We ...\n",
      "Answer: ${answer}\n",
      "\n",
      "---\n",
      "\n",
      "Question: The result from the 40-item Statistics exam Marion and Ella took already came out. Ella got 4 incorrect answers while Marion got 6 more than half the score of Ella. What is Marion's score?\n",
      "Reasoning: Let's think step by step in order to produce the answer. We know that Ella got 4 incorrect answers out of 40, so she got 36 correct answers. Half of 36 is 18, and 6 more than that is 24. Therefore, Marion got 24 correct answers out of 40.\n",
      "Answer: 24\n",
      "\n",
      "---\n",
      "\n",
      "Question: Stephen made 10 round trips up and down a 40,000 foot tall mountain. If he reached 3/4 of the mountain's height on each of his trips, calculate the total distance he covered.\n",
      "Reasoning: Let's think step by step in order to produce the answer. We know that Stephen made 10 round trips up and down the mountain, reaching 3/4 of the mountain's height each time. This means he covered 3/4 * 40,000 feet = 30,000 feet on each trip. Since he made 10 round trips, the total distance he covered is 30,000 feet * 10 trips * 2 (up and down) = 600,000 feet.\n",
      "Answer: 600,000\n",
      "\n",
      "---\n",
      "\n",
      "Question: Burt spent $2.00 on a packet of basil seeds and $8.00 on potting soil. The packet of seeds yielded 20 basil plants. He sells each basil plant for $5.00 at the local farmer's market. What is the net profit from his basil plants?\n",
      "Reasoning: Let's think step by step in order to\u001b[32m produce the answer. We know that Burt spent $2.00 on basil seeds and $8.00 on potting soil, totaling $10.00. He then sold 20 basil plants for $5.00 each, making $100.00. To find the net profit, we subtract the total cost from the total revenue: $100.00 - $10.00 = $90.00.\n",
      "Answer: $90.00\u001b[0m\n",
      "\n",
      "\n",
      "\n",
      "\n",
      "\n",
      "\n",
      "\n",
      "Given the fields `question`, produce the fields `answer`.\n",
      "\n",
      "---\n",
      "\n",
      "Follow the following format.\n",
      "\n",
      "Question: ${question}\n",
      "Reasoning: Let's think step by step in order to ${produce the answer}. We ...\n",
      "Answer: ${answer}\n",
      "\n",
      "---\n",
      "\n",
      "Question: The result from the 40-item Statistics exam Marion and Ella took already came out. Ella got 4 incorrect answers while Marion got 6 more than half the score of Ella. What is Marion's score?\n",
      "Reasoning: Let's think step by step in order to produce the answer. We know that Ella got 4 incorrect answers out of 40, so she got 36 correct answers. Half of 36 is 18, and 6 more than that is 24. Therefore, Marion got 24 correct answers out of 40.\n",
      "Answer: 24\n",
      "\n",
      "---\n",
      "\n",
      "Question: Stephen made 10 round trips up and down a 40,000 foot tall mountain. If he reached 3/4 of the mountain's height on each of his trips, calculate the total distance he covered.\n",
      "Reasoning: Let's think step by step in order to produce the answer. We know that Stephen made 10 round trips up and down the mountain, reaching 3/4 of the mountain's height each time. This means he covered 3/4 * 40,000 feet = 30,000 feet on each trip. Since he made 10 round trips, the total distance he covered is 30,000 feet * 10 trips * 2 (up and down) = 600,000 feet.\n",
      "Answer: 600,000\n",
      "\n",
      "---\n",
      "\n",
      "Question: Trey is raising money for a new bike that costs $112. He plans to spend the next two weeks selling bracelets for $1 each. On average, how many bracelets does he need to sell each day?\n",
      "Reasoning: Let's think step by step in order to\u001b[32m produce the answer. We know that Trey needs to raise $112 and plans to sell bracelets for $1 each. Therefore, he needs to sell 112 bracelets in total. Since he has two weeks to sell them, which is 14 days, he needs to sell 112 bracelets / 14 days = 8 bracelets per day on average.\n",
      "Answer: 8\u001b[0m\n",
      "\n",
      "\n",
      "\n"
     ]
    }
   ],
   "source": [
    "turbo.inspect_history(n=2)"
   ]
  }
 ],
 "metadata": {
  "kernelspec": {
   "display_name": "dspyenv",
   "language": "python",
   "name": "python3"
  },
  "language_info": {
   "codemirror_mode": {
    "name": "ipython",
    "version": 3
   },
   "file_extension": ".py",
   "mimetype": "text/x-python",
   "name": "python",
   "nbconvert_exporter": "python",
   "pygments_lexer": "ipython3",
   "version": "3.11.4"
  }
 },
 "nbformat": 4,
 "nbformat_minor": 2
}
