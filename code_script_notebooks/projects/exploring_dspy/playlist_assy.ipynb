{
 "cells": [
  {
   "cell_type": "markdown",
   "metadata": {},
   "source": [
    "- Demonstrate-Search-Predict (DSP), with 'Py'thon\n",
    "\n",
    "- Developed by SNLPG team, show the list  \n",
    "\n",
    "- DSPy provides general purpose modules that replace string-based \n",
    "  prompting. DSPy also provides optimizers which can optimize these \n",
    "  modules with help of following\n",
    "\n",
    "- What are the various modules DSPy has?\n",
    "  Lang Models, Signatures, Modules, Data, Metrics, Optimizers, Assertions\n",
    "\n",
    "- Can you talk about use cases of DSPy?\n",
    "  QA, Classification, Summarisatio, RAGs / Multi-Hop rags, \n",
    "  Reasoning\n",
    "\n",
    "- Can we see a basic example of the DSPy code?\n",
    "    Has a LM, Signature, Module and execution. \n",
    "    Code follows below\n",
    "\n",
    "\n"
   ]
  },
  {
   "cell_type": "markdown",
   "metadata": {},
   "source": [
    "#### Basic Example of DSPy"
   ]
  },
  {
   "cell_type": "code",
   "execution_count": 4,
   "metadata": {},
   "outputs": [],
   "source": [
    "from dotenv import load_dotenv\n",
    "load_dotenv('D:\\\\gitFolders\\\\python_de_learners_data\\\\.env')\n",
    "import openai\n",
    "import os\n",
    "from dspy import (\n",
    "    Signature,\n",
    "    OpenAI,\n",
    "    Predict,\n",
    "    settings\n",
    ")\n",
    "import warnings\n",
    "warnings.filterwarnings('ignore')"
   ]
  },
  {
   "cell_type": "code",
   "execution_count": 3,
   "metadata": {},
   "outputs": [],
   "source": [
    "openai.api_key = os.environ['OPENAI_API_KEY']\n",
    "# openai.api_key"
   ]
  },
  {
   "cell_type": "code",
   "execution_count": 9,
   "metadata": {},
   "outputs": [],
   "source": [
    "turbo  = OpenAI(model='gpt-3.5-turbo',)\n",
    "settings.configure(lm=turbo)\n",
    "# settings.configure(turbo)"
   ]
  },
  {
   "cell_type": "code",
   "execution_count": 6,
   "metadata": {},
   "outputs": [
    {
     "data": {
      "text/plain": [
       "['Hello! How can I assist you today?']"
      ]
     },
     "execution_count": 6,
     "metadata": {},
     "output_type": "execute_result"
    }
   ],
   "source": [
    "# can access the LM directly as below\n",
    "turbo(\"Hi there, I am using DSPY...\")"
   ]
  },
  {
   "cell_type": "code",
   "execution_count": null,
   "metadata": {},
   "outputs": [],
   "source": [
    "# Best way is to use the Modules \n",
    "pred_mod = Predict('question -> answer')\n",
    "model_out = pred_mod(question='WHere is Lunar landing happend the first time?')"
   ]
  },
  {
   "cell_type": "code",
   "execution_count": 21,
   "metadata": {},
   "outputs": [
    {
     "data": {
      "text/plain": [
       "Prediction(\n",
       "    answer='Question: Where is Lunar landing happened the first time?\\nAnswer: The first Lunar landing happened on the Moon.'\n",
       ")"
      ]
     },
     "execution_count": 21,
     "metadata": {},
     "output_type": "execute_result"
    }
   ],
   "source": [
    "model_out"
   ]
  },
  {
   "cell_type": "code",
   "execution_count": 13,
   "metadata": {},
   "outputs": [
    {
     "name": "stdout",
     "output_type": "stream",
     "text": [
      "Question: Where is Lunar landing happened the first time?\n",
      "Answer: The first Lunar landing happened on the Moon.\n"
     ]
    }
   ],
   "source": [
    "print(model_out.answer)"
   ]
  },
  {
   "cell_type": "code",
   "execution_count": 18,
   "metadata": {
    "collapsed": true,
    "jupyter": {
     "outputs_hidden": true
    }
   },
   "outputs": [
    {
     "data": {
      "text/plain": [
       "[{'prompt': 'Given the fields `question`, produce the fields `answer`.\\n\\n---\\n\\nFollow the following format.\\n\\nQuestion: ${question}\\nAnswer: ${answer}\\n\\n---\\n\\nQuestion: WHere is Lunar landing happend the first time?\\nAnswer:',\n",
       "  'response': {'id': 'chatcmpl-8yvKkXsAN5lNoKIrXwpL5P9j23jd2',\n",
       "   'choices': [{'finish_reason': 'stop',\n",
       "     'index': 0,\n",
       "     'logprobs': None,\n",
       "     'message': {'content': 'Question: Where is Lunar landing happened the first time?\\nAnswer: The first Lunar landing happened on the Moon.',\n",
       "      'role': 'assistant',\n",
       "      'function_call': None,\n",
       "      'tool_calls': None}}],\n",
       "   'created': 1709530762,\n",
       "   'model': 'gpt-3.5-turbo-0125',\n",
       "   'object': 'chat.completion',\n",
       "   'system_fingerprint': 'fp_2b778c6b35',\n",
       "   'usage': {'completion_tokens': 22,\n",
       "    'prompt_tokens': 51,\n",
       "    'total_tokens': 73}},\n",
       "  'kwargs': {'stringify_request': '{\"temperature\": 0.0, \"max_tokens\": 150, \"top_p\": 1, \"frequency_penalty\": 0, \"presence_penalty\": 0, \"n\": 1, \"model\": \"gpt-3.5-turbo\", \"messages\": [{\"role\": \"user\", \"content\": \"Given the fields `question`, produce the fields `answer`.\\\\n\\\\n---\\\\n\\\\nFollow the following format.\\\\n\\\\nQuestion: ${question}\\\\nAnswer: ${answer}\\\\n\\\\n---\\\\n\\\\nQuestion: WHere is Lunar landing happend the first time?\\\\nAnswer:\"}]}'},\n",
       "  'raw_kwargs': {}},\n",
       " {'prompt': 'Given the fields `question`, produce the fields `answer`.\\n\\n---\\n\\nFollow the following format.\\n\\nQuestion: ${question}\\nAnswer: ${answer}\\n\\n---\\n\\nQuestion: WHere is Lunar landing happend the first time?\\nAnswer:',\n",
       "  'response': {'id': 'chatcmpl-8yvKkXsAN5lNoKIrXwpL5P9j23jd2',\n",
       "   'choices': [{'finish_reason': 'stop',\n",
       "     'index': 0,\n",
       "     'logprobs': None,\n",
       "     'message': {'content': 'Question: Where is Lunar landing happened the first time?\\nAnswer: The first Lunar landing happened on the Moon.',\n",
       "      'role': 'assistant',\n",
       "      'function_call': None,\n",
       "      'tool_calls': None}}],\n",
       "   'created': 1709530762,\n",
       "   'model': 'gpt-3.5-turbo-0125',\n",
       "   'object': 'chat.completion',\n",
       "   'system_fingerprint': 'fp_2b778c6b35',\n",
       "   'usage': {'completion_tokens': 22,\n",
       "    'prompt_tokens': 51,\n",
       "    'total_tokens': 73}},\n",
       "  'kwargs': {'stringify_request': '{\"temperature\": 0.0, \"max_tokens\": 150, \"top_p\": 1, \"frequency_penalty\": 0, \"presence_penalty\": 0, \"n\": 1, \"model\": \"gpt-3.5-turbo\", \"messages\": [{\"role\": \"user\", \"content\": \"Given the fields `question`, produce the fields `answer`.\\\\n\\\\n---\\\\n\\\\nFollow the following format.\\\\n\\\\nQuestion: ${question}\\\\nAnswer: ${answer}\\\\n\\\\n---\\\\n\\\\nQuestion: WHere is Lunar landing happend the first time?\\\\nAnswer:\"}]}'},\n",
       "  'raw_kwargs': {}}]"
      ]
     },
     "execution_count": 18,
     "metadata": {},
     "output_type": "execute_result"
    }
   ],
   "source": [
    "turbo.history"
   ]
  },
  {
   "cell_type": "code",
   "execution_count": 19,
   "metadata": {},
   "outputs": [
    {
     "name": "stdout",
     "output_type": "stream",
     "text": [
      "\n",
      "\n",
      "\n",
      "\n",
      "Given the fields `question`, produce the fields `answer`.\n",
      "\n",
      "---\n",
      "\n",
      "Follow the following format.\n",
      "\n",
      "Question: ${question}\n",
      "Answer: ${answer}\n",
      "\n",
      "---\n",
      "\n",
      "Question: WHere is Lunar landing happend the first time?\n",
      "Answer:\u001b[32m Question: Where is Lunar landing happened the first time?\n",
      "Answer: The first Lunar landing happened on the Moon.\u001b[0m\n",
      "\n",
      "\n",
      "\n"
     ]
    }
   ],
   "source": [
    "turbo.inspect_history(n=3)"
   ]
  },
  {
   "cell_type": "markdown",
   "metadata": {},
   "source": [
    "### But can you tell me Why DSPy?\n",
    "\n",
    "- Streamline the process of prompt-engineering with input and objective \n",
    "\n",
    "- Create Modules of LMs that can work to achieve objective \n",
    "\n",
    "- Then train the modules by using Datasets built by hand, and with LLMs \n",
    "\n",
    "- Evalute the modules with the Metrics that is custom coded in DSPy\n",
    "\n",
    "- Including Fine-tuning smaller models like T5 and Bert"
   ]
  },
  {
   "cell_type": "markdown",
   "metadata": {},
   "source": [
    "#### Can you Tell me how to use Open Source Model Integration with Dspy \n",
    "\n",
    "- Can you tell me How to configure LMs in DSPy \n",
    "  OpenAI, HF_Models, Ollama_models\n",
    "\n",
    "- Can you show some tasks we can perform with these models?\n",
    "    Creating a minimal code example to show how the models \n",
    "perform on QA, Classification and Summarisation tasks\n",
    "\n",
    "##### Before that Why?\n",
    "\n",
    "- DSPy process makes it possible to use smaller, cheaper model by the way of Optimizing the Modules\n",
    "\n",
    "- Depending the tasks, the LMs can be fine-tuned using the DSPy objects also.\n",
    "\n",
    "- Learn about supporting application like HuggingFace Hub, Ollama, TGI etc"
   ]
  },
  {
   "cell_type": "markdown",
   "metadata": {},
   "source": [
    "#### Executing Basic DSPy code"
   ]
  },
  {
   "cell_type": "code",
   "execution_count": 1,
   "metadata": {},
   "outputs": [
    {
     "data": {
      "text/plain": [
       "True"
      ]
     },
     "execution_count": 1,
     "metadata": {},
     "output_type": "execute_result"
    }
   ],
   "source": [
    "from dotenv import load_dotenv\n",
    "load_dotenv(\"/home/aicoder/gitfolder/python_de_learners_data/code_script_notebooks/.env\")"
   ]
  },
  {
   "cell_type": "code",
   "execution_count": 2,
   "metadata": {},
   "outputs": [],
   "source": [
    "import openai\n",
    "import os\n",
    "\n",
    "openai.api_key = os.environ['OPENAI_API_KEY']\n",
    "# openai.api_key"
   ]
  },
  {
   "cell_type": "code",
   "execution_count": 4,
   "metadata": {},
   "outputs": [],
   "source": [
    "from dspy import (\n",
    "    OpenAI,\n",
    "    OllamaLocal,\n",
    "    HFModel,\n",
    "    Predict,\n",
    "    Signature,\n",
    "    settings,\n",
    "    context\n",
    ")"
   ]
  },
  {
   "cell_type": "code",
   "execution_count": 5,
   "metadata": {},
   "outputs": [],
   "source": [
    "turbo = OpenAI(model='gpt-3.5-turbo')\n",
    "settings.configure(lm=turbo)"
   ]
  },
  {
   "cell_type": "code",
   "execution_count": 6,
   "metadata": {},
   "outputs": [],
   "source": [
    "# only a single Predict is required\n",
    "pred_qa = Predict('question -> answer')"
   ]
  },
  {
   "cell_type": "code",
   "execution_count": 8,
   "metadata": {},
   "outputs": [
    {
     "name": "stdout",
     "output_type": "stream",
     "text": [
      "Response by OpenAI:  Question: Who is the world's fastest man and woman?\n",
      "Answer: The world's fastest man is Usain Bolt from Jamaica, and the world's fastest woman is Florence Griffith-Joyner from the United States.\n"
     ]
    }
   ],
   "source": [
    "question = \"Who is the world fastest man and woman\"\n",
    "\n",
    "with context(lm=turbo):\n",
    "    resp = pred_qa(question=question)\n",
    "    print(\"Response by OpenAI: \", resp.answer)"
   ]
  },
  {
   "cell_type": "code",
   "execution_count": 9,
   "metadata": {
    "scrolled": true
   },
   "outputs": [],
   "source": [
    "# First lets check the ollama python interface\n",
    "mistral_ollama = OllamaLocal(model='mistralq4',\n",
    "                            model_type='text',\n",
    "                            base_url='http://localhost:11434',\n",
    "                            temperature=0.7)"
   ]
  },
  {
   "cell_type": "code",
   "execution_count": 10,
   "metadata": {},
   "outputs": [
    {
     "name": "stdout",
     "output_type": "stream",
     "text": [
      "Mistral Response:  [INSTR]\n",
      "  Given a question, produce the answer by looking up the answer in a database.\n",
      "[/INSTR]\n",
      "\n",
      "[/INST]\n"
     ]
    }
   ],
   "source": [
    "with context(lm=mistral_ollama):\n",
    "    resp = pred_qa(question=question)\n",
    "    print(\"Mistral Response: \", resp.answer)"
   ]
  },
  {
   "cell_type": "code",
   "execution_count": 11,
   "metadata": {},
   "outputs": [],
   "source": [
    "gemma_ollama = OllamaLocal(model='gemma:2b')"
   ]
  },
  {
   "cell_type": "code",
   "execution_count": 12,
   "metadata": {},
   "outputs": [
    {
     "name": "stdout",
     "output_type": "stream",
     "text": [
      "Gemma Response:  Prediction(\n",
      "    answer=\"Question: Who is the world fastest man and woman\\nAnswer: This context does not provide any information about the world's fastest man and woman, so I cannot generate the requested fields from the context.\"\n",
      ")\n"
     ]
    }
   ],
   "source": [
    "with context(lm=gemma_ollama):\n",
    "    resp = pred_qa(question=question)\n",
    "    print(\"Gemma Response: \", resp)"
   ]
  },
  {
   "cell_type": "code",
   "execution_count": 13,
   "metadata": {},
   "outputs": [
    {
     "data": {
      "application/vnd.jupyter.widget-view+json": {
       "model_id": "f3914b69df674988b3460b6f2bc7bc07",
       "version_major": 2,
       "version_minor": 0
      },
      "text/plain": [
       "Loading checkpoint shards:   0%|          | 0/2 [00:00<?, ?it/s]"
      ]
     },
     "metadata": {},
     "output_type": "display_data"
    }
   ],
   "source": [
    "# lets load HF Model\n",
    "gemma_hf = HFModel(\"google/gemma-2b-it\",)"
   ]
  },
  {
   "cell_type": "code",
   "execution_count": 15,
   "metadata": {},
   "outputs": [
    {
     "data": {
      "text/plain": [
       "[\"As of October 26, 2023, the world's fastest man is **Usain Bolt**, with a recorded speed of 10.31 seconds in the 200 meters race.\\n\\nThe world's fastest woman is **Florence Griffith-Joyner**, with a recorded speed of 11.34 seconds in the 100 meters race.\"]"
      ]
     },
     "execution_count": 15,
     "metadata": {},
     "output_type": "execute_result"
    }
   ],
   "source": [
    "gemma_ollama(question)"
   ]
  },
  {
   "cell_type": "code",
   "execution_count": 14,
   "metadata": {},
   "outputs": [
    {
     "name": "stderr",
     "output_type": "stream",
     "text": [
      "/home/aicoder/aimachine/lib/python3.10/site-packages/transformers/generation/configuration_utils.py:410: UserWarning: `do_sample` is set to `False`. However, `temperature` is set to `0.0` -- this flag is only used in sample-based generation modes. You should set `do_sample=True` or unset `temperature`.\n",
      "  warnings.warn(\n"
     ]
    },
    {
     "name": "stdout",
     "output_type": "stream",
     "text": [
      "Gemma HF Response:  Given the fields `question`, produce the fields `answer`.\n",
      "\n",
      "---\n",
      "\n",
      "Follow the following format.\n",
      "\n",
      "Question: ${question}\n",
      "Answer: ${answer}\n",
      "\n",
      "---\n",
      "\n",
      "Question: Who is the world fastest man and woman\n",
      "Answer: N/A\n"
     ]
    }
   ],
   "source": [
    "with context(lm=gemma_hf):\n",
    "    resp = pred_qa(question=question)\n",
    "    print(\"Gemma HF Response: \", resp.answer)"
   ]
  },
  {
   "cell_type": "code",
   "execution_count": null,
   "metadata": {},
   "outputs": [],
   "source": [
    "n_pred_qa = Predict('question -> answer', n=2)\n",
    "\n",
    "with context(lm=turbo):\n",
    "    resp = n_pred_qa(question=question)\n",
    "    for resp_elem in resp.completions:\n",
    "        print(\"Turbo Multi Response: \", resp_elem.answer)\n",
    "        print(\"\\n\")"
   ]
  },
  {
   "cell_type": "markdown",
   "metadata": {},
   "source": [
    "Following are other clients present\n",
    "\n",
    "- HFClientTGI\n",
    "\n",
    "- HFClientVLLM\n",
    "\n",
    "- ChatModuleClient"
   ]
  },
  {
   "cell_type": "markdown",
   "metadata": {},
   "source": [
    "#### Can you Tell me about DSPy Signatures\n",
    "\n",
    "- What are DSPy Signatures\n",
    "  > Framework / Template for prompts, to which the fixed inputs and outputs \n",
    "  > Define and Control the behavior of the modules that follows\n",
    "  > Field names matter, and carry semantic roles in plain english \n",
    "\n",
    "- What are the parts inside the Signatures\n",
    "  > Inline Signatures:\n",
    "    * Used inside the Modules directly\n",
    "    * Follows the \"Input -> Output\" pattern\n",
    "  > Class Based:\n",
    "    * Clarify about the task to be done with Docstring\n",
    "    * Supply hints on nature of input fields with desc args \n",
    "    * Supply constraints on nature of output fields with desc args \n",
    "\n",
    "- How they help in Programming LLMs\n",
    "    * Can be represented as classes / objects\n",
    "    * Assigned to variables\n",
    "    * Modified with Programmatically\n",
    "    * Used in Modules Directly as Classes \n",
    "\n",
    "##### Before that Why?\n",
    "\n",
    "- DSPy takes a Modular approach to achieve the task that is to be completed. Which is to Optimize the prompts / models to get best results most of the time.\n",
    "\n",
    "- Building the prompts from variables provided to Signature, can make it easy for LLMs themselves to modify the prompts\n",
    "\n",
    "- Each NLP Task can be implemented as Signatures. Then Optimized to yield better results with both generated and real world data.\n",
    "\n",
    "- Signatures are Integrated with Modules like Predict, ChainOfThought, React, ProgramOfThought, MultiChainComparison and Majority\n",
    "\n"
   ]
  },
  {
   "cell_type": "markdown",
   "metadata": {},
   "source": [
    "#### Executing DSPy Signatures"
   ]
  },
  {
   "cell_type": "code",
   "execution_count": 20,
   "metadata": {},
   "outputs": [
    {
     "data": {
      "text/plain": [
       "True"
      ]
     },
     "execution_count": 20,
     "metadata": {},
     "output_type": "execute_result"
    }
   ],
   "source": [
    "from dspy import (\n",
    "    OpenAI,\n",
    "    Signature,\n",
    "    Predict,\n",
    "    settings,\n",
    "    ChainOfThought,\n",
    "    context\n",
    ")\n",
    "import os\n",
    "from dotenv import load_dotenv\n",
    "load_dotenv(\"D:\\gitFolders\\python_de_learners_data\\.env\")"
   ]
  },
  {
   "cell_type": "code",
   "execution_count": 4,
   "metadata": {},
   "outputs": [],
   "source": [
    "import openai\n",
    "openai.api_key = os.environ['OPENAI_API_KEY']"
   ]
  },
  {
   "cell_type": "code",
   "execution_count": 10,
   "metadata": {},
   "outputs": [],
   "source": [
    "from rich import print"
   ]
  },
  {
   "cell_type": "code",
   "execution_count": 5,
   "metadata": {},
   "outputs": [],
   "source": [
    "turbo = OpenAI(model='gpt-3.5-turbo')"
   ]
  },
  {
   "cell_type": "code",
   "execution_count": 6,
   "metadata": {},
   "outputs": [],
   "source": [
    "signatures={\"QuestionAnswering\":\"question -> answer\",\n",
    "            \"SentimentClassification\":\"sentence -> sentiment\",\n",
    "            \"Summarization\": [\"document -> summary\",\n",
    "                              \"text -> gist\",\n",
    "                              \"long_context -> tldr\"],\n",
    "            \"RAG\": \"context, question -> answer\",\n",
    "            \"Multi-Choice\":\"question, choices -> reasoning, selection\"}"
   ]
  },
  {
   "cell_type": "code",
   "execution_count": 7,
   "metadata": {},
   "outputs": [
    {
     "data": {
      "text/plain": [
       "'question -> answer'"
      ]
     },
     "execution_count": 7,
     "metadata": {},
     "output_type": "execute_result"
    }
   ],
   "source": [
    "signatures['QuestionAnswering']"
   ]
  },
  {
   "cell_type": "code",
   "execution_count": 29,
   "metadata": {},
   "outputs": [],
   "source": [
    "qa_pred = Predict('question -> answer')"
   ]
  },
  {
   "cell_type": "code",
   "execution_count": 11,
   "metadata": {},
   "outputs": [
    {
     "data": {
      "text/html": [
       "<pre style=\"white-space:pre;overflow-x:auto;line-height:normal;font-family:Menlo,'DejaVu Sans Mono',consolas,'Courier New',monospace\"><span style=\"color: #800080; text-decoration-color: #800080; font-weight: bold\">Predict</span><span style=\"font-weight: bold\">(</span><span style=\"color: #800080; text-decoration-color: #800080; font-weight: bold\">Signature</span><span style=\"font-weight: bold\">(</span>question -&gt; answer\n",
       "    <span style=\"color: #808000; text-decoration-color: #808000\">instructions</span>=<span style=\"color: #008000; text-decoration-color: #008000\">'Given the fields `question`, produce the fields `answer`.'</span>\n",
       "    question = <span style=\"color: #800080; text-decoration-color: #800080; font-weight: bold\">Field</span><span style=\"font-weight: bold\">(</span><span style=\"color: #808000; text-decoration-color: #808000\">annotation</span>=<span style=\"color: #800080; text-decoration-color: #800080\">str</span> <span style=\"color: #808000; text-decoration-color: #808000\">required</span>=<span style=\"color: #00ff00; text-decoration-color: #00ff00; font-style: italic\">True</span> <span style=\"color: #808000; text-decoration-color: #808000\">json_schema_extra</span>=<span style=\"font-weight: bold\">{</span><span style=\"color: #008000; text-decoration-color: #008000\">'__dspy_field_type'</span>: <span style=\"color: #008000; text-decoration-color: #008000\">'input'</span>, <span style=\"color: #008000; text-decoration-color: #008000\">'prefix'</span>: \n",
       "<span style=\"color: #008000; text-decoration-color: #008000\">'Question:'</span>, <span style=\"color: #008000; text-decoration-color: #008000\">'desc'</span>: <span style=\"color: #008000; text-decoration-color: #008000\">'${question}'</span><span style=\"font-weight: bold\">})</span>\n",
       "    answer = <span style=\"color: #800080; text-decoration-color: #800080; font-weight: bold\">Field</span><span style=\"font-weight: bold\">(</span><span style=\"color: #808000; text-decoration-color: #808000\">annotation</span>=<span style=\"color: #800080; text-decoration-color: #800080\">str</span> <span style=\"color: #808000; text-decoration-color: #808000\">required</span>=<span style=\"color: #00ff00; text-decoration-color: #00ff00; font-style: italic\">True</span> <span style=\"color: #808000; text-decoration-color: #808000\">json_schema_extra</span>=<span style=\"font-weight: bold\">{</span><span style=\"color: #008000; text-decoration-color: #008000\">'__dspy_field_type'</span>: <span style=\"color: #008000; text-decoration-color: #008000\">'output'</span>, <span style=\"color: #008000; text-decoration-color: #008000\">'prefix'</span>: \n",
       "<span style=\"color: #008000; text-decoration-color: #008000\">'Answer:'</span>, <span style=\"color: #008000; text-decoration-color: #008000\">'desc'</span>: <span style=\"color: #008000; text-decoration-color: #008000\">'${answer}'</span><span style=\"font-weight: bold\">})</span>\n",
       "<span style=\"font-weight: bold\">))</span>\n",
       "</pre>\n"
      ],
      "text/plain": [
       "\u001b[1;35mPredict\u001b[0m\u001b[1m(\u001b[0m\u001b[1;35mSignature\u001b[0m\u001b[1m(\u001b[0mquestion -> answer\n",
       "    \u001b[33minstructions\u001b[0m=\u001b[32m'Given the fields `question`, produce the fields `answer`.'\u001b[0m\n",
       "    question = \u001b[1;35mField\u001b[0m\u001b[1m(\u001b[0m\u001b[33mannotation\u001b[0m=\u001b[35mstr\u001b[0m \u001b[33mrequired\u001b[0m=\u001b[3;92mTrue\u001b[0m \u001b[33mjson_schema_extra\u001b[0m=\u001b[1m{\u001b[0m\u001b[32m'__dspy_field_type'\u001b[0m: \u001b[32m'input'\u001b[0m, \u001b[32m'prefix'\u001b[0m: \n",
       "\u001b[32m'Question:'\u001b[0m, \u001b[32m'desc'\u001b[0m: \u001b[32m'$\u001b[0m\u001b[32m{\u001b[0m\u001b[32mquestion\u001b[0m\u001b[32m}\u001b[0m\u001b[32m'\u001b[0m\u001b[1m}\u001b[0m\u001b[1m)\u001b[0m\n",
       "    answer = \u001b[1;35mField\u001b[0m\u001b[1m(\u001b[0m\u001b[33mannotation\u001b[0m=\u001b[35mstr\u001b[0m \u001b[33mrequired\u001b[0m=\u001b[3;92mTrue\u001b[0m \u001b[33mjson_schema_extra\u001b[0m=\u001b[1m{\u001b[0m\u001b[32m'__dspy_field_type'\u001b[0m: \u001b[32m'output'\u001b[0m, \u001b[32m'prefix'\u001b[0m: \n",
       "\u001b[32m'Answer:'\u001b[0m, \u001b[32m'desc'\u001b[0m: \u001b[32m'$\u001b[0m\u001b[32m{\u001b[0m\u001b[32manswer\u001b[0m\u001b[32m}\u001b[0m\u001b[32m'\u001b[0m\u001b[1m}\u001b[0m\u001b[1m)\u001b[0m\n",
       "\u001b[1m)\u001b[0m\u001b[1m)\u001b[0m\n"
      ]
     },
     "metadata": {},
     "output_type": "display_data"
    }
   ],
   "source": [
    "print(qa_pred)"
   ]
  },
  {
   "cell_type": "code",
   "execution_count": 12,
   "metadata": {},
   "outputs": [],
   "source": [
    "sum_pred = Predict('document -> summary')"
   ]
  },
  {
   "cell_type": "code",
   "execution_count": 13,
   "metadata": {},
   "outputs": [
    {
     "data": {
      "text/html": [
       "<pre style=\"white-space:pre;overflow-x:auto;line-height:normal;font-family:Menlo,'DejaVu Sans Mono',consolas,'Courier New',monospace\"><span style=\"color: #800080; text-decoration-color: #800080; font-weight: bold\">Predict</span><span style=\"font-weight: bold\">(</span><span style=\"color: #800080; text-decoration-color: #800080; font-weight: bold\">Signature</span><span style=\"font-weight: bold\">(</span>document -&gt; summary\n",
       "    <span style=\"color: #808000; text-decoration-color: #808000\">instructions</span>=<span style=\"color: #008000; text-decoration-color: #008000\">'Given the fields `document`, produce the fields `summary`.'</span>\n",
       "    document = <span style=\"color: #800080; text-decoration-color: #800080; font-weight: bold\">Field</span><span style=\"font-weight: bold\">(</span><span style=\"color: #808000; text-decoration-color: #808000\">annotation</span>=<span style=\"color: #800080; text-decoration-color: #800080\">str</span> <span style=\"color: #808000; text-decoration-color: #808000\">required</span>=<span style=\"color: #00ff00; text-decoration-color: #00ff00; font-style: italic\">True</span> <span style=\"color: #808000; text-decoration-color: #808000\">json_schema_extra</span>=<span style=\"font-weight: bold\">{</span><span style=\"color: #008000; text-decoration-color: #008000\">'__dspy_field_type'</span>: <span style=\"color: #008000; text-decoration-color: #008000\">'input'</span>, <span style=\"color: #008000; text-decoration-color: #008000\">'prefix'</span>: \n",
       "<span style=\"color: #008000; text-decoration-color: #008000\">'Document:'</span>, <span style=\"color: #008000; text-decoration-color: #008000\">'desc'</span>: <span style=\"color: #008000; text-decoration-color: #008000\">'${document}'</span><span style=\"font-weight: bold\">})</span>\n",
       "    summary = <span style=\"color: #800080; text-decoration-color: #800080; font-weight: bold\">Field</span><span style=\"font-weight: bold\">(</span><span style=\"color: #808000; text-decoration-color: #808000\">annotation</span>=<span style=\"color: #800080; text-decoration-color: #800080\">str</span> <span style=\"color: #808000; text-decoration-color: #808000\">required</span>=<span style=\"color: #00ff00; text-decoration-color: #00ff00; font-style: italic\">True</span> <span style=\"color: #808000; text-decoration-color: #808000\">json_schema_extra</span>=<span style=\"font-weight: bold\">{</span><span style=\"color: #008000; text-decoration-color: #008000\">'__dspy_field_type'</span>: <span style=\"color: #008000; text-decoration-color: #008000\">'output'</span>, <span style=\"color: #008000; text-decoration-color: #008000\">'prefix'</span>: \n",
       "<span style=\"color: #008000; text-decoration-color: #008000\">'Summary:'</span>, <span style=\"color: #008000; text-decoration-color: #008000\">'desc'</span>: <span style=\"color: #008000; text-decoration-color: #008000\">'${summary}'</span><span style=\"font-weight: bold\">})</span>\n",
       "<span style=\"font-weight: bold\">))</span>\n",
       "</pre>\n"
      ],
      "text/plain": [
       "\u001b[1;35mPredict\u001b[0m\u001b[1m(\u001b[0m\u001b[1;35mSignature\u001b[0m\u001b[1m(\u001b[0mdocument -> summary\n",
       "    \u001b[33minstructions\u001b[0m=\u001b[32m'Given the fields `document`, produce the fields `summary`.'\u001b[0m\n",
       "    document = \u001b[1;35mField\u001b[0m\u001b[1m(\u001b[0m\u001b[33mannotation\u001b[0m=\u001b[35mstr\u001b[0m \u001b[33mrequired\u001b[0m=\u001b[3;92mTrue\u001b[0m \u001b[33mjson_schema_extra\u001b[0m=\u001b[1m{\u001b[0m\u001b[32m'__dspy_field_type'\u001b[0m: \u001b[32m'input'\u001b[0m, \u001b[32m'prefix'\u001b[0m: \n",
       "\u001b[32m'Document:'\u001b[0m, \u001b[32m'desc'\u001b[0m: \u001b[32m'$\u001b[0m\u001b[32m{\u001b[0m\u001b[32mdocument\u001b[0m\u001b[32m}\u001b[0m\u001b[32m'\u001b[0m\u001b[1m}\u001b[0m\u001b[1m)\u001b[0m\n",
       "    summary = \u001b[1;35mField\u001b[0m\u001b[1m(\u001b[0m\u001b[33mannotation\u001b[0m=\u001b[35mstr\u001b[0m \u001b[33mrequired\u001b[0m=\u001b[3;92mTrue\u001b[0m \u001b[33mjson_schema_extra\u001b[0m=\u001b[1m{\u001b[0m\u001b[32m'__dspy_field_type'\u001b[0m: \u001b[32m'output'\u001b[0m, \u001b[32m'prefix'\u001b[0m: \n",
       "\u001b[32m'Summary:'\u001b[0m, \u001b[32m'desc'\u001b[0m: \u001b[32m'$\u001b[0m\u001b[32m{\u001b[0m\u001b[32msummary\u001b[0m\u001b[32m}\u001b[0m\u001b[32m'\u001b[0m\u001b[1m}\u001b[0m\u001b[1m)\u001b[0m\n",
       "\u001b[1m)\u001b[0m\u001b[1m)\u001b[0m\n"
      ]
     },
     "metadata": {},
     "output_type": "display_data"
    }
   ],
   "source": [
    "print(sum_pred)"
   ]
  },
  {
   "cell_type": "code",
   "execution_count": 15,
   "metadata": {},
   "outputs": [],
   "source": [
    "sum_cot = ChainOfThought('document -> summary')"
   ]
  },
  {
   "cell_type": "code",
   "execution_count": 16,
   "metadata": {},
   "outputs": [
    {
     "data": {
      "text/html": [
       "<pre style=\"white-space:pre;overflow-x:auto;line-height:normal;font-family:Menlo,'DejaVu Sans Mono',consolas,'Courier New',monospace\"><span style=\"color: #800080; text-decoration-color: #800080; font-weight: bold\">ChainOfThought</span><span style=\"font-weight: bold\">(</span><span style=\"color: #800080; text-decoration-color: #800080; font-weight: bold\">Signature</span><span style=\"font-weight: bold\">(</span>document -&gt; summary\n",
       "    <span style=\"color: #808000; text-decoration-color: #808000\">instructions</span>=<span style=\"color: #008000; text-decoration-color: #008000\">'Given the fields `document`, produce the fields `summary`.'</span>\n",
       "    document = <span style=\"color: #800080; text-decoration-color: #800080; font-weight: bold\">Field</span><span style=\"font-weight: bold\">(</span><span style=\"color: #808000; text-decoration-color: #808000\">annotation</span>=<span style=\"color: #800080; text-decoration-color: #800080\">str</span> <span style=\"color: #808000; text-decoration-color: #808000\">required</span>=<span style=\"color: #00ff00; text-decoration-color: #00ff00; font-style: italic\">True</span> <span style=\"color: #808000; text-decoration-color: #808000\">json_schema_extra</span>=<span style=\"font-weight: bold\">{</span><span style=\"color: #008000; text-decoration-color: #008000\">'__dspy_field_type'</span>: <span style=\"color: #008000; text-decoration-color: #008000\">'input'</span>, <span style=\"color: #008000; text-decoration-color: #008000\">'prefix'</span>: \n",
       "<span style=\"color: #008000; text-decoration-color: #008000\">'Document:'</span>, <span style=\"color: #008000; text-decoration-color: #008000\">'desc'</span>: <span style=\"color: #008000; text-decoration-color: #008000\">'${document}'</span><span style=\"font-weight: bold\">})</span>\n",
       "    summary = <span style=\"color: #800080; text-decoration-color: #800080; font-weight: bold\">Field</span><span style=\"font-weight: bold\">(</span><span style=\"color: #808000; text-decoration-color: #808000\">annotation</span>=<span style=\"color: #800080; text-decoration-color: #800080\">str</span> <span style=\"color: #808000; text-decoration-color: #808000\">required</span>=<span style=\"color: #00ff00; text-decoration-color: #00ff00; font-style: italic\">True</span> <span style=\"color: #808000; text-decoration-color: #808000\">json_schema_extra</span>=<span style=\"font-weight: bold\">{</span><span style=\"color: #008000; text-decoration-color: #008000\">'__dspy_field_type'</span>: <span style=\"color: #008000; text-decoration-color: #008000\">'output'</span>, <span style=\"color: #008000; text-decoration-color: #008000\">'prefix'</span>: \n",
       "<span style=\"color: #008000; text-decoration-color: #008000\">'Summary:'</span>, <span style=\"color: #008000; text-decoration-color: #008000\">'desc'</span>: <span style=\"color: #008000; text-decoration-color: #008000\">'${summary}'</span><span style=\"font-weight: bold\">})</span>\n",
       "<span style=\"font-weight: bold\">))</span>\n",
       "</pre>\n"
      ],
      "text/plain": [
       "\u001b[1;35mChainOfThought\u001b[0m\u001b[1m(\u001b[0m\u001b[1;35mSignature\u001b[0m\u001b[1m(\u001b[0mdocument -> summary\n",
       "    \u001b[33minstructions\u001b[0m=\u001b[32m'Given the fields `document`, produce the fields `summary`.'\u001b[0m\n",
       "    document = \u001b[1;35mField\u001b[0m\u001b[1m(\u001b[0m\u001b[33mannotation\u001b[0m=\u001b[35mstr\u001b[0m \u001b[33mrequired\u001b[0m=\u001b[3;92mTrue\u001b[0m \u001b[33mjson_schema_extra\u001b[0m=\u001b[1m{\u001b[0m\u001b[32m'__dspy_field_type'\u001b[0m: \u001b[32m'input'\u001b[0m, \u001b[32m'prefix'\u001b[0m: \n",
       "\u001b[32m'Document:'\u001b[0m, \u001b[32m'desc'\u001b[0m: \u001b[32m'$\u001b[0m\u001b[32m{\u001b[0m\u001b[32mdocument\u001b[0m\u001b[32m}\u001b[0m\u001b[32m'\u001b[0m\u001b[1m}\u001b[0m\u001b[1m)\u001b[0m\n",
       "    summary = \u001b[1;35mField\u001b[0m\u001b[1m(\u001b[0m\u001b[33mannotation\u001b[0m=\u001b[35mstr\u001b[0m \u001b[33mrequired\u001b[0m=\u001b[3;92mTrue\u001b[0m \u001b[33mjson_schema_extra\u001b[0m=\u001b[1m{\u001b[0m\u001b[32m'__dspy_field_type'\u001b[0m: \u001b[32m'output'\u001b[0m, \u001b[32m'prefix'\u001b[0m: \n",
       "\u001b[32m'Summary:'\u001b[0m, \u001b[32m'desc'\u001b[0m: \u001b[32m'$\u001b[0m\u001b[32m{\u001b[0m\u001b[32msummary\u001b[0m\u001b[32m}\u001b[0m\u001b[32m'\u001b[0m\u001b[1m}\u001b[0m\u001b[1m)\u001b[0m\n",
       "\u001b[1m)\u001b[0m\u001b[1m)\u001b[0m\n"
      ]
     },
     "metadata": {},
     "output_type": "display_data"
    }
   ],
   "source": [
    "print(sum_cot)"
   ]
  },
  {
   "cell_type": "code",
   "execution_count": 17,
   "metadata": {},
   "outputs": [],
   "source": [
    "# developing Custom Signatures\n",
    "from dspy import (\n",
    "    InputField,\n",
    "    OutputField\n",
    ")\n",
    "\n",
    "class MultiClass(Signature):\n",
    "    \"\"\"Classify the given data into Address, Human's Name, Location, Building, Amount\"\"\"\n",
    "    sentence = InputField(desc=\"data to be classified\")\n",
    "    data_type = OutputField(desc=\"falls in one of categories\")"
   ]
  },
  {
   "cell_type": "code",
   "execution_count": 25,
   "metadata": {},
   "outputs": [],
   "source": [
    "# predict with Signature Class\n",
    "\n",
    "pred_class = Predict(MultiClass)"
   ]
  },
  {
   "cell_type": "code",
   "execution_count": 26,
   "metadata": {},
   "outputs": [
    {
     "data": {
      "text/html": [
       "<pre style=\"white-space:pre;overflow-x:auto;line-height:normal;font-family:Menlo,'DejaVu Sans Mono',consolas,'Courier New',monospace\"><span style=\"color: #800080; text-decoration-color: #800080; font-weight: bold\">Predict</span><span style=\"font-weight: bold\">(</span><span style=\"color: #800080; text-decoration-color: #800080; font-weight: bold\">Signature</span><span style=\"font-weight: bold\">(</span>sentence -&gt; data_type\n",
       "    <span style=\"color: #808000; text-decoration-color: #808000\">instructions</span>=<span style=\"color: #008000; text-decoration-color: #008000\">\"Classify the given data into Address, Human's Name, Location, Building, Amount\"</span>\n",
       "    sentence = <span style=\"color: #800080; text-decoration-color: #800080; font-weight: bold\">Field</span><span style=\"font-weight: bold\">(</span><span style=\"color: #808000; text-decoration-color: #808000\">annotation</span>=<span style=\"color: #800080; text-decoration-color: #800080\">str</span> <span style=\"color: #808000; text-decoration-color: #808000\">required</span>=<span style=\"color: #00ff00; text-decoration-color: #00ff00; font-style: italic\">True</span> <span style=\"color: #808000; text-decoration-color: #808000\">json_schema_extra</span>=<span style=\"font-weight: bold\">{</span><span style=\"color: #008000; text-decoration-color: #008000\">'desc'</span>: <span style=\"color: #008000; text-decoration-color: #008000\">'data to be classified'</span>, \n",
       "<span style=\"color: #008000; text-decoration-color: #008000\">'__dspy_field_type'</span>: <span style=\"color: #008000; text-decoration-color: #008000\">'input'</span>, <span style=\"color: #008000; text-decoration-color: #008000\">'prefix'</span>: <span style=\"color: #008000; text-decoration-color: #008000\">'Sentence:'</span><span style=\"font-weight: bold\">})</span>\n",
       "    data_type = <span style=\"color: #800080; text-decoration-color: #800080; font-weight: bold\">Field</span><span style=\"font-weight: bold\">(</span><span style=\"color: #808000; text-decoration-color: #808000\">annotation</span>=<span style=\"color: #800080; text-decoration-color: #800080\">str</span> <span style=\"color: #808000; text-decoration-color: #808000\">required</span>=<span style=\"color: #00ff00; text-decoration-color: #00ff00; font-style: italic\">True</span> <span style=\"color: #808000; text-decoration-color: #808000\">json_schema_extra</span>=<span style=\"font-weight: bold\">{</span><span style=\"color: #008000; text-decoration-color: #008000\">'desc'</span>: <span style=\"color: #008000; text-decoration-color: #008000\">'falls in one of categories'</span>, \n",
       "<span style=\"color: #008000; text-decoration-color: #008000\">'__dspy_field_type'</span>: <span style=\"color: #008000; text-decoration-color: #008000\">'output'</span>, <span style=\"color: #008000; text-decoration-color: #008000\">'prefix'</span>: <span style=\"color: #008000; text-decoration-color: #008000\">'Data Type:'</span><span style=\"font-weight: bold\">})</span>\n",
       "<span style=\"font-weight: bold\">))</span>\n",
       "</pre>\n"
      ],
      "text/plain": [
       "\u001b[1;35mPredict\u001b[0m\u001b[1m(\u001b[0m\u001b[1;35mSignature\u001b[0m\u001b[1m(\u001b[0msentence -> data_type\n",
       "    \u001b[33minstructions\u001b[0m=\u001b[32m\"Classify\u001b[0m\u001b[32m the given data into Address, Human's Name, Location, Building, Amount\"\u001b[0m\n",
       "    sentence = \u001b[1;35mField\u001b[0m\u001b[1m(\u001b[0m\u001b[33mannotation\u001b[0m=\u001b[35mstr\u001b[0m \u001b[33mrequired\u001b[0m=\u001b[3;92mTrue\u001b[0m \u001b[33mjson_schema_extra\u001b[0m=\u001b[1m{\u001b[0m\u001b[32m'desc'\u001b[0m: \u001b[32m'data to be classified'\u001b[0m, \n",
       "\u001b[32m'__dspy_field_type'\u001b[0m: \u001b[32m'input'\u001b[0m, \u001b[32m'prefix'\u001b[0m: \u001b[32m'Sentence:'\u001b[0m\u001b[1m}\u001b[0m\u001b[1m)\u001b[0m\n",
       "    data_type = \u001b[1;35mField\u001b[0m\u001b[1m(\u001b[0m\u001b[33mannotation\u001b[0m=\u001b[35mstr\u001b[0m \u001b[33mrequired\u001b[0m=\u001b[3;92mTrue\u001b[0m \u001b[33mjson_schema_extra\u001b[0m=\u001b[1m{\u001b[0m\u001b[32m'desc'\u001b[0m: \u001b[32m'falls in one of categories'\u001b[0m, \n",
       "\u001b[32m'__dspy_field_type'\u001b[0m: \u001b[32m'output'\u001b[0m, \u001b[32m'prefix'\u001b[0m: \u001b[32m'Data Type:'\u001b[0m\u001b[1m}\u001b[0m\u001b[1m)\u001b[0m\n",
       "\u001b[1m)\u001b[0m\u001b[1m)\u001b[0m\n"
      ]
     },
     "metadata": {},
     "output_type": "display_data"
    }
   ],
   "source": [
    "print(pred_class)"
   ]
  },
  {
   "cell_type": "code",
   "execution_count": 21,
   "metadata": {},
   "outputs": [
    {
     "data": {
      "text/html": [
       "<pre style=\"white-space:pre;overflow-x:auto;line-height:normal;font-family:Menlo,'DejaVu Sans Mono',consolas,'Courier New',monospace\"><span style=\"color: #800080; text-decoration-color: #800080; font-weight: bold\">Prediction</span><span style=\"font-weight: bold\">(</span>\n",
       "    <span style=\"color: #808000; text-decoration-color: #808000\">json_output</span>=<span style=\"color: #008000; text-decoration-color: #008000\">'{\\n  \"Address\": \"123 Main Street\",\\n  \"Location\": \"New York City\",\\n  \"Human Name\": \"John Doe\",\\n </span>\n",
       "<span style=\"color: #008000; text-decoration-color: #008000\">\"Building Name\": \"Empire State Building\",\\n  \"Amount\": \"$100\"\\n}'</span>\n",
       "<span style=\"font-weight: bold\">)</span>\n",
       "</pre>\n"
      ],
      "text/plain": [
       "\u001b[1;35mPrediction\u001b[0m\u001b[1m(\u001b[0m\n",
       "    \u001b[33mjson_output\u001b[0m=\u001b[32m'\u001b[0m\u001b[32m{\u001b[0m\u001b[32m\\n  \"Address\": \"123 Main Street\",\\n  \"Location\": \"New York City\",\\n  \"Human Name\": \"John Doe\",\\n \u001b[0m\n",
       "\u001b[32m\"Building Name\": \"Empire State Building\",\\n  \"Amount\": \"$100\"\\n\u001b[0m\u001b[32m}\u001b[0m\u001b[32m'\u001b[0m\n",
       "\u001b[1m)\u001b[0m\n"
      ]
     },
     "metadata": {},
     "output_type": "display_data"
    }
   ],
   "source": [
    "# Say I want to get some data from OpenAI, lets create a predict signature\n",
    "\n",
    "get_json_data = Predict('required_data -> json_output')\n",
    "\n",
    "prompt = \"provide one example of Address, Location, Human Name, Building Name and Amount\"\n",
    "\n",
    "with context(lm=turbo):\n",
    "    resp = get_json_data(required_data=prompt)\n",
    "    print(resp)"
   ]
  },
  {
   "cell_type": "code",
   "execution_count": 24,
   "metadata": {},
   "outputs": [
    {
     "data": {
      "text/plain": [
       "{'Address': '123 Main Street',\n",
       " 'Location': 'New York City',\n",
       " 'Human Name': 'John Doe',\n",
       " 'Building Name': 'Empire State Building',\n",
       " 'Amount': '$100'}"
      ]
     },
     "execution_count": 24,
     "metadata": {},
     "output_type": "execute_result"
    }
   ],
   "source": [
    "import json\n",
    "\n",
    "recd_data = json.loads(resp.json_output)\n",
    "recd_data"
   ]
  },
  {
   "cell_type": "code",
   "execution_count": 30,
   "metadata": {},
   "outputs": [
    {
     "data": {
      "text/plain": [
       "dict_values(['123 Main Street', 'New York City', 'John Doe', 'Empire State Building', '$100'])"
      ]
     },
     "execution_count": 30,
     "metadata": {},
     "output_type": "execute_result"
    }
   ],
   "source": [
    "recd_data.values()"
   ]
  },
  {
   "cell_type": "code",
   "execution_count": null,
   "metadata": {},
   "outputs": [],
   "source": [
    "with context(lm=turbo):\n",
    "    for vals in recd_data.values():\n",
    "        print(\"Classifying: \", vals)\n",
    "        class_resp = pred_class(sentence=vals) \n",
    "        print(\"Output class is: \", class_resp.data_type)"
   ]
  },
  {
   "cell_type": "markdown",
   "metadata": {},
   "source": [
    "#### Can you tell me about DSPy Modules\n",
    "\n",
    "> Why Modules:\n",
    "\n",
    "    * Modules are Python Class which \n",
    "\n",
    "    * Abstract prompting techniques\n",
    "\n",
    "    * Contain Learnable Parameters (This differs for each module class)\n",
    "\n",
    "    * Can be combined to build complex modules\n",
    "\n",
    "    * Some modules emit additional information\n",
    "\n",
    "> How To use: 2 Ways\n",
    "\n",
    "    * Create object with Single module like Predict / ChainOfThought\n",
    "\n",
    "    * Create chained / modularized object that contains more than one Module\n",
    "\n",
    "> What modules are present\n",
    "\n",
    "    * Predict: Basic predictor. Does not modify the signature. Handles the key forms of learning (i.e., storing the instructions and demonstrations and updates to the LM).\n",
    "\n",
    "    * ChainOfThought: Teaches the LM to think step-by-step before committing to the signature's response.\n",
    "\n",
    "    * ProgramOfThought: Teaches the LM to output code, whose execution results will dictate the response. It is designed to generate and execute Python code based on input fields, producing a single output field through iterative refinement. It supports multiple iterations to refine the code in case of errors.\n",
    "\n",
    "    * ReAct: An agent that can use tools to implement the given signature.\n",
    "\n",
    "    * MultiChainComparison: Can compare multiple outputs from ChainOfThought to produce a final prediction. Method aggregates all the student reasoning attempts and calls the predict method with extended signatures to get the best reasoning.\n",
    "\n",
    "    * Retrieve: The constructor initializes the Retrieve class and sets up its attributes, taking in k number of retrieval passages to return for a query.\n",
    "\n",
    "    * majority: Can do basic voting to return the most popular response from a set of predictions.\n",
    "\n",
    "https://dspy-docs.vercel.app/api/category/modules/"
   ]
  },
  {
   "cell_type": "code",
   "execution_count": 1,
   "metadata": {},
   "outputs": [],
   "source": [
    "module_params = {\"Predict\":[\"Signature\", \"**config_dict\"],\n",
    "                 \"ChainOfThought\":[\"Signature\", \"rationale_type\",\n",
    "                                   \"activated\", \"**config_dict\"],\n",
    "                \"ChainOfThoughtWithHint\":[\"Signature\", \"rationale_type\",\n",
    "                                   \"activated\", \"**config_dict\"],\n",
    "                \"MultiChainComparison\":[\"signatures\", \"M\", \"temperature\",\n",
    "                                        \"**config_dict\"],\n",
    "                \"ProgramOfThougt\":[\"signature\", \"max_iters\"],\n",
    "                \"ReAct\":[\"signature\", \"max_iters\", \"num_results\", \n",
    "                         \"tools\"],\n",
    "                \"Retrieve\":['k']\n",
    "                }"
   ]
  },
  {
   "cell_type": "markdown",
   "metadata": {},
   "source": [
    "##### Predict Class"
   ]
  },
  {
   "cell_type": "code",
   "execution_count": 2,
   "metadata": {},
   "outputs": [],
   "source": [
    "from dspy import (\n",
    "    InputField,\n",
    "    OutputField,\n",
    "    infer_prefix,\n",
    ")\n",
    "from dspy.predict.parameter import Parameter\n",
    "import random\n",
    "from dsp import Template\n",
    "\n",
    "class Predict(Parameter):\n",
    "    def __init__(self, signature, **config):\n",
    "        self.stage = random.randbytes(8).hex()\n",
    "        self.signature = signature\n",
    "        self.config = config\n",
    "        self.reset()\n",
    "\n",
    "        if isinstance(signature, str):\n",
    "            inputs, outputs = signature.split(\"->\")\n",
    "            inputs, outputs = inputs.split(\",\"), outputs.split(\",\")\n",
    "            inputs, outputs = [field.strip() for field in inputs], [field.strip() for field in outputs]\n",
    "\n",
    "            assert all(len(field.split()) == 1 for field in (inputs + outputs))\n",
    "\n",
    "            inputs_ = ', '.join([f\"`{field}`\" for field in inputs])\n",
    "            outputs_ = ', '.join([f\"`{field}`\" for field in outputs])\n",
    "\n",
    "            instructions = f\"\"\"Given the fields {inputs_}, produce the fields {outputs_}.\"\"\"\n",
    "\n",
    "            inputs = {k: InputField() for k in inputs}\n",
    "            outputs = {k: OutputField() for k in outputs}\n",
    "\n",
    "            for k, v in inputs.items():\n",
    "                v.finalize(k, infer_prefix(k))\n",
    "            \n",
    "            for k, v in outputs.items():\n",
    "                v.finalize(k, infer_prefix(k))\n",
    "\n",
    "            self.signature = Template(instructions, **inputs, **outputs)"
   ]
  },
  {
   "cell_type": "markdown",
   "metadata": {},
   "source": [
    "If the signature is a string, it processes the input and output fields, generates instructions, and creates a template for the specified signature type."
   ]
  },
  {
   "cell_type": "markdown",
   "metadata": {},
   "source": [
    "Chain OF Thought"
   ]
  },
  {
   "cell_type": "code",
   "execution_count": null,
   "metadata": {},
   "outputs": [],
   "source": [
    "from dsp import Type\n",
    "class ChainOfThought(Predict):\n",
    "    def __init__(self, signature, rationale_type=None, activated=True, **config):\n",
    "        super().__init__(signature, **config)\n",
    "\n",
    "        self.activated = activated\n",
    "\n",
    "        signature = self.signature\n",
    "        *keys, last_key = signature.kwargs.keys()\n",
    "\n",
    "        DEFAULT_RATIONALE_TYPE = Type(prefix=\"Reasoning: Let's think step by step in order to\",\n",
    "                                          desc=\"${produce the \" + last_key + \"}. We ...\")\n",
    "\n",
    "        rationale_type = rationale_type or DEFAULT_RATIONALE_TYPE\n",
    "        \n",
    "        extended_kwargs = {key: signature.kwargs[key] for key in keys}\n",
    "        extended_kwargs.update({'rationale': rationale_type, last_key: signature.kwargs[last_key]})\n",
    "        \n",
    "        self.extended_signature = Template(signature.instructions, **extended_kwargs)"
   ]
  },
  {
   "cell_type": "markdown",
   "metadata": {},
   "source": [
    "Chain Of Thought with Hint"
   ]
  },
  {
   "cell_type": "code",
   "execution_count": null,
   "metadata": {},
   "outputs": [],
   "source": [
    "class ChainOfThoughtWithHint(Predict):\n",
    "    def __init__(self, signature, rationale_type=None, activated=True, **config):\n",
    "        super().__init__(signature, **config)\n",
    "\n",
    "        self.activated = activated\n",
    "\n",
    "        signature = self.signature\n",
    "        *keys, last_key = signature.kwargs.keys()\n",
    "\n",
    "        DEFAULT_HINT_TYPE = Type(prefix=\"Hint:\", desc=\"${hint}\")\n",
    "\n",
    "        DEFAULT_RATIONALE_TYPE = Type(prefix=\"Reasoning: Let's think step by step in order to\",\n",
    "                                          desc=\"${produce the \" + last_key + \"}. We ...\")\n",
    "\n",
    "        rationale_type = rationale_type or DEFAULT_RATIONALE_TYPE\n",
    "        \n",
    "        extended_kwargs1 = {key: signature.kwargs[key] for key in keys}\n",
    "        extended_kwargs1.update({'rationale': rationale_type, last_key: signature.kwargs[last_key]})\n",
    "\n",
    "        extended_kwargs2 = {key: signature.kwargs[key] for key in keys}\n",
    "        extended_kwargs2.update({'hint': DEFAULT_HINT_TYPE, 'rationale': rationale_type, last_key: signature.kwargs[last_key]})\n",
    "        \n",
    "        self.extended_signature1 = Template(signature.instructions, **extended_kwargs1)\n",
    "        self.extended_signature2 = Template(signature.instructions, **extended_kwargs2)"
   ]
  },
  {
   "cell_type": "markdown",
   "metadata": {},
   "source": [
    "MultiChainComparison"
   ]
  },
  {
   "cell_type": "code",
   "execution_count": 34,
   "metadata": {},
   "outputs": [],
   "source": [
    "from dspy.primitives.program import Module\n",
    "\n",
    "class MultiChainComparison(Module):\n",
    "    def __init__(self, signature, M=3, temperature=0.7, **config):\n",
    "        super().__init__()\n",
    "\n",
    "        self.M = M\n",
    "        signature = Predict(signature).signature\n",
    "        *keys, last_key = signature.kwargs.keys()\n",
    "\n",
    "        extended_kwargs = {key: signature.kwargs[key] for key in keys}\n",
    "\n",
    "        for idx in range(M):\n",
    "            candidate_type = Type(prefix=f\"Student Attempt #{idx+1}:\", \n",
    "                                  desc=\"${reasoning attempt}\")\n",
    "            extended_kwargs.update({f'reasoning_attempt_{idx+1}': candidate_type})\n",
    "        \n",
    "        rationale_type = Type(prefix=\"Accurate Reasoning: Thank you everyone. Let's now holistically\", \n",
    "                                  desc=\"${corrected reasoning}\")\n",
    "        extended_kwargs.update({'rationale': rationale_type, \n",
    "                                last_key: signature.kwargs[last_key]})\n",
    "\n",
    "        signature = Template(signature.instructions, **extended_kwargs)\n",
    "        self.predict = Predict(signature, temperature=temperature, **config)\n",
    "        self.last_key = last_key"
   ]
  },
  {
   "cell_type": "code",
   "execution_count": null,
   "metadata": {},
   "outputs": [],
   "source": [
    "from dspy import Prediction\n",
    "\n",
    "class BasicQA(Signature):\n",
    "    \"\"\"Answer questions with short factoid answers.\"\"\"\n",
    "    question = InputField()\n",
    "    answer = OutputField(desc=\"often between 1 and 5 words\")\n",
    "\n",
    "# Example completions generated by a model for reference\n",
    "completions = [\n",
    "    Prediction(rationale=\"I recall that during clear days, the sky often appears this color.\",\n",
    "               answer=\"blue\"),\n",
    "    Prediction(rationale=\"Based on common knowledge, I believe the sky is typically seen as this color.\",\n",
    "               answer=\"green\"),\n",
    "    Prediction(rationale=\"From images and depictions in media, the sky is frequently represented with this hue.\",\n",
    "               answer=\"blue\"),\n",
    "]\n",
    "\n",
    "# Pass signature to MultiChainComparison module\n",
    "compare_answers = MultiChainComparison(BasicQA)\n",
    "\n",
    "# Call the MultiChainComparison on the completions\n",
    "question = 'What is the color of the sky?'\n",
    "final_pred = compare_answers(completions, question=question)\n",
    "\n",
    "print(f\"Question: {question}\")\n",
    "print(f\"Final Predicted Answer (after comparison): {final_pred.answer}\")\n",
    "print(f\"Final Rationale: {final_pred.rationale}\")"
   ]
  },
  {
   "cell_type": "markdown",
   "metadata": {},
   "source": [
    "##### Program of Thought"
   ]
  },
  {
   "cell_type": "markdown",
   "metadata": {},
   "source": [
    "Generates a signature dict for different modes: generate, regenerate, and answer.\n",
    "\n",
    "> The generate mode serves as an initial generation of Python code with the signature (question -> generated_code). \n",
    "\n",
    "> The regenerate mode serves as a refining generation of Python code, accounting for the past generated code and existing error with the signature (question, previous_code, error -> generated_code). \n",
    "\n",
    "> The answer mode serves to execute the last stored generated code and output the final answer to the question with the signature (question, final_generated_code, code_output -> answer)."
   ]
  },
  {
   "cell_type": "code",
   "execution_count": 17,
   "metadata": {},
   "outputs": [
    {
     "data": {
      "text/html": [
       "<pre style=\"white-space:pre;overflow-x:auto;line-height:normal;font-family:Menlo,'DejaVu Sans Mono',consolas,'Courier New',monospace\">Question: Sarah has <span style=\"color: #008080; text-decoration-color: #008080; font-weight: bold\">5</span> apples. She buys <span style=\"color: #008080; text-decoration-color: #008080; font-weight: bold\">7</span> more apples from the store. How many apples does Sarah have now?\n",
       "</pre>\n"
      ],
      "text/plain": [
       "Question: Sarah has \u001b[1;36m5\u001b[0m apples. She buys \u001b[1;36m7\u001b[0m more apples from the store. How many apples does Sarah have now?\n"
      ]
     },
     "metadata": {},
     "output_type": "display_data"
    },
    {
     "data": {
      "text/html": [
       "<pre style=\"white-space:pre;overflow-x:auto;line-height:normal;font-family:Menlo,'DejaVu Sans Mono',consolas,'Courier New',monospace\">Final Predicted Answer <span style=\"font-weight: bold\">(</span>after ProgramOfThought process<span style=\"font-weight: bold\">)</span>: Sarah now has <span style=\"color: #008080; text-decoration-color: #008080; font-weight: bold\">12</span> apples.\n",
       "</pre>\n"
      ],
      "text/plain": [
       "Final Predicted Answer \u001b[1m(\u001b[0mafter ProgramOfThought process\u001b[1m)\u001b[0m: Sarah now has \u001b[1;36m12\u001b[0m apples.\n"
      ]
     },
     "metadata": {},
     "output_type": "display_data"
    }
   ],
   "source": [
    "from dspy import ProgramOfThought\n",
    "\n",
    "# Define a simple signature for basic question answering\n",
    "generate_answer_signature = Signature(\"question -> answer\")\n",
    "# generate_answer_signature.attach(question=(\"Question:\", \"\")).attach(answer=(\"Answer:\", \"often between 1 and 5 words\"))\n",
    "\n",
    "# Pass signature to ProgramOfThought Module\n",
    "pot = ProgramOfThought(generate_answer_signature)\n",
    "\n",
    "#Call the ProgramOfThought module on a particular input\n",
    "question = 'Sarah has 5 apples. She buys 7 more apples from the store. How many apples does Sarah have now?'\n",
    "result = pot(question=question)\n",
    "\n",
    "print(f\"Question: {question}\")\n",
    "print(f\"Final Predicted Answer (after ProgramOfThought process): {result.answer}\")"
   ]
  },
  {
   "cell_type": "code",
   "execution_count": 18,
   "metadata": {},
   "outputs": [
    {
     "name": "stdout",
     "output_type": "stream",
     "text": [
      "\n",
      "\n",
      "\n",
      "\n",
      "Given the fields `question`, produce the fields `answer_as_json`.\n",
      "\n",
      "---\n",
      "\n",
      "Follow the following format.\n",
      "\n",
      "Question: ${question}\n",
      "Answer As Json: ${answer_as_json}\n",
      "\n",
      "---\n",
      "\n",
      "Question: Provide me the top 2 countries and their GDP for past 3 years\n",
      "Answer As Json:\u001b[32m {\n",
      "  \"countries\": [\n",
      "    {\n",
      "      \"name\": \"United States\",\n",
      "      \"GDP\": {\n",
      "        \"2019\": 21427700,\n",
      "        \"2020\": 21427700,\n",
      "        \"2021\": 21427700\n",
      "      }\n",
      "    },\n",
      "    {\n",
      "      \"name\": \"China\",\n",
      "      \"GDP\": {\n",
      "        \"2019\": 14342903,\n",
      "        \"2020\": 14342903,\n",
      "        \"2021\": 14342903\n",
      "      }\n",
      "    }\n",
      "  ]\n",
      "}\u001b[0m\n",
      "\n",
      "\n",
      "\n",
      "\n",
      "\n",
      "\n",
      "\n",
      "Given the fields `question`, produce the fields `answer_as_json`.\n",
      "\n",
      "---\n",
      "\n",
      "Follow the following format.\n",
      "\n",
      "Question: ${question}\n",
      "Reasoning: Let's think step by step in order to ${produce the answer_as_json}. We ...\n",
      "Answer As Json: ${answer_as_json}\n",
      "\n",
      "---\n",
      "\n",
      "Question: Provide me the top 2 countries and their GDP for past 3 years\n",
      "Reasoning: Let's think step by step in order to\u001b[32m produce the answer as json. We need to first find the GDP of all countries for the past 3 years, then rank them accordingly to get the top 2 countries.\n",
      "Answer As Json: \n",
      "{\n",
      "  \"top_countries\": [\n",
      "    {\n",
      "      \"country\": \"United States\",\n",
      "      \"GDP\": {\n",
      "        \"2019\": \"$21.43 trillion\",\n",
      "        \"2020\": \"$21.43 trillion\",\n",
      "        \"2021\": \"$22.67 trillion\"\n",
      "      }\n",
      "    },\n",
      "    {\n",
      "      \"country\": \"China\",\n",
      "      \"GDP\": {\n",
      "        \"2019\": \"$14.34 trillion\",\n",
      "        \"2020\": \"$15.42 trillion\",\n",
      "        \"2021\": \"$16.64 trillion\"\n",
      "      }\u001b[0m\u001b[31m \t (and 1 other completions)\u001b[0m\n",
      "\n",
      "\n",
      "\n",
      "\n",
      "\n",
      "\n",
      "\n",
      "Given the fields `question`, produce the fields `answer`.\n",
      "\n",
      "---\n",
      "\n",
      "Follow the following format.\n",
      "\n",
      "Question: ${question}\n",
      "\n",
      "Student Attempt #1: ${reasoning attempt}\n",
      "\n",
      "Student Attempt #2: ${reasoning attempt}\n",
      "\n",
      "Student Attempt #3: ${reasoning attempt}\n",
      "\n",
      "Accurate Reasoning: Thank you everyone. Let's now holistically ${corrected reasoning}\n",
      "\n",
      "Answer: ${answer}\n",
      "\n",
      "---\n",
      "\n",
      "Question: What is the color of the sky?\n",
      "\n",
      "Student Attempt #1: «I'm trying to I recall that during clear days, the sky often appears this color. I'm not sure but my prediction is blue»\n",
      "\n",
      "Student Attempt #2: «I'm trying to Based on common knowledge, I believe the sky is typically seen as this color. I'm not sure but my prediction is green»\n",
      "\n",
      "Student Attempt #3: «I'm trying to From images and depictions in media, the sky is frequently represented with this hue. I'm not sure but my prediction is blue»\n",
      "\n",
      "Accurate Reasoning: Thank you everyone. Let's now holistically\u001b[32m correct the reasoning by considering scientific knowledge and observations. The color of the sky is predominantly blue due to Rayleigh scattering of sunlight in the Earth's atmosphere.\n",
      "\n",
      "Answer: The color of the sky is blue.\u001b[0m\n",
      "\n",
      "\n",
      "\n",
      "\n",
      "\n",
      "\n",
      "\n",
      "You will be given `question` and you will respond with `generated_code`.\n",
      "Generating executable Python code that programmatically computes the correct `generated_code`.\n",
      "After you're done with the computation, make sure the last line in your code evaluates to the correct value for `generated_code`.\n",
      "\n",
      "---\n",
      "\n",
      "Follow the following format.\n",
      "\n",
      "Question: ${question}\n",
      "Reasoning: Let's think step by step in order to ${produce the generated_code}. We ...\n",
      "Code: python code that answers the question\n",
      "\n",
      "---\n",
      "\n",
      "Question: Sarah has 5 apples. She buys 7 more apples from the store. How many apples does Sarah have now?\n",
      "Reasoning: Let's think step by step in order to\u001b[32m produce the generated_code. We start with the initial number of apples Sarah has, which is 5. Then we add the number of apples she buys from the store, which is 7.\n",
      "\n",
      "Code:\n",
      "```python\n",
      "initial_apples = 5\n",
      "apples_bought = 7\n",
      "total_apples = initial_apples + apples_bought\n",
      "total_apples\n",
      "```\u001b[0m\n",
      "\n",
      "\n",
      "\n",
      "\n",
      "\n",
      "\n",
      "\n",
      "Given the final code `question`, `final_generated_code`, `code_output`, provide the final `answer`.\n",
      "\n",
      "---\n",
      "\n",
      "Follow the following format.\n",
      "\n",
      "Question: ${question}\n",
      "\n",
      "Code: python code that answers the question\n",
      "\n",
      "Code Output: output of previously-generated python code\n",
      "\n",
      "Reasoning: Let's think step by step in order to ${produce the answer}. We ...\n",
      "\n",
      "Answer: ${answer}\n",
      "\n",
      "---\n",
      "\n",
      "Question: Sarah has 5 apples. She buys 7 more apples from the store. How many apples does Sarah have now?\n",
      "\n",
      "Code:\n",
      "initial_apples = 5\n",
      "apples_bought = 7\n",
      "total_apples = initial_apples + apples_bought\n",
      "total_apples\n",
      "\n",
      "Code Output: 12\n",
      "\n",
      "Reasoning: Let's think step by step in order to\u001b[32m produce the answer. We start by defining the initial number of apples Sarah has as 5 and the number of apples she bought as 7. By adding these two values together, we can calculate the total number of apples Sarah has now.\n",
      "\n",
      "Answer: Sarah now has 12 apples.\u001b[0m\n",
      "\n",
      "\n",
      "\n"
     ]
    }
   ],
   "source": [
    "turbo.inspect_history(n=6)"
   ]
  },
  {
   "cell_type": "markdown",
   "metadata": {},
   "source": [
    "#### ReAct"
   ]
  },
  {
   "cell_type": "code",
   "execution_count": null,
   "metadata": {},
   "outputs": [],
   "source": [
    "import dsp\n",
    "import dspy\n",
    "from ..primitives.program import Module\n",
    "from .predict import Predict\n",
    "\n",
    "class ReAct(Module):\n",
    "    def __init__(self, signature, max_iters=5, num_results=3, tools=None):\n",
    "        ..."
   ]
  },
  {
   "cell_type": "code",
   "execution_count": null,
   "metadata": {},
   "outputs": [],
   "source": [
    "# Define a simple signature for basic question answering\n",
    "class BasicQA(dspy.Signature):\n",
    "    \"\"\"Answer questions with short factoid answers.\"\"\"\n",
    "    question = dspy.InputField()\n",
    "    answer = dspy.OutputField(desc=\"often between 1 and 5 words\")\n",
    "\n",
    "# Pass signature to ReAct module\n",
    "react_module = dspy.ReAct(BasicQA)\n",
    "\n",
    "# Call the ReAct module on a particular input\n",
    "question = 'What is the color of the sky?'\n",
    "result = react_module(question=question)\n",
    "\n",
    "print(f\"Question: {question}\")\n",
    "print(f\"Final Predicted Answer (after ReAct process): {result.answer}\")"
   ]
  },
  {
   "cell_type": "markdown",
   "metadata": {},
   "source": [
    "#### Rertrieve"
   ]
  },
  {
   "cell_type": "code",
   "execution_count": null,
   "metadata": {},
   "outputs": [],
   "source": [
    "class Retrieve(Parameter):\n",
    "    def __init__(self, k=3):\n",
    "        self.stage = random.randbytes(8).hex()\n",
    "        self.k = k\n",
    "\n",
    "query='When was the first FIFA World Cup held?'\n",
    "\n",
    "# Call the retriever on a particular query.\n",
    "retrieve = dspy.Retrieve(k=3)\n",
    "topK_passages = retrieve(query).passages\n",
    "\n",
    "print(f\"Top {retrieve.k} passages for question: {query} \\n\", '-' * 30, '\\n')\n",
    "\n",
    "for idx, passage in enumerate(topK_passages):\n",
    "    print(f'{idx+1}]', passage, '\\n')"
   ]
  },
  {
   "cell_type": "markdown",
   "metadata": {},
   "source": [
    "#### Executing and reviewing modules"
   ]
  },
  {
   "cell_type": "code",
   "execution_count": 2,
   "metadata": {},
   "outputs": [],
   "source": [
    "from dotenv import load_dotenv\n",
    "import openai\n",
    "import os\n",
    "load_dotenv(\"D:\\\\gitFolders\\\\python_de_learners_data\\\\.env\")\n",
    "openai.api_key = os.environ['OPENAI_API_KEY']"
   ]
  },
  {
   "cell_type": "code",
   "execution_count": 3,
   "metadata": {},
   "outputs": [
    {
     "name": "stderr",
     "output_type": "stream",
     "text": [
      "d:\\dspyenv\\Lib\\site-packages\\tqdm\\auto.py:21: TqdmWarning: IProgress not found. Please update jupyter and ipywidgets. See https://ipywidgets.readthedocs.io/en/stable/user_install.html\n",
      "  from .autonotebook import tqdm as notebook_tqdm\n"
     ]
    }
   ],
   "source": [
    "from dspy import (\n",
    "    Predict,\n",
    "    settings,\n",
    "    InputField,\n",
    "    OutputField,\n",
    "    ChainOfThought,\n",
    "    ChainOfThoughtWithHint,\n",
    "    ProgramOfThought,\n",
    "    ReAct,\n",
    "    MultiChainComparison,\n",
    "    Retrieve,\n",
    "    OpenAI,\n",
    "    Prediction,\n",
    "    Signature\n",
    ")"
   ]
  },
  {
   "cell_type": "code",
   "execution_count": 4,
   "metadata": {},
   "outputs": [],
   "source": [
    "turbo = OpenAI(model='gpt-3.5-turbo')\n",
    "settings.configure(lm=turbo)"
   ]
  },
  {
   "cell_type": "markdown",
   "metadata": {},
   "source": [
    "The Modules in DSPy can take signatures with similar input / output variables. Depending on the modules parameters, additional inputs might be required. \n",
    "\n",
    "We have seen the Modules implementation above, so if you stumble in the code below then, feel free to review the implementation"
   ]
  },
  {
   "cell_type": "code",
   "execution_count": 6,
   "metadata": {},
   "outputs": [],
   "source": [
    "from rich import print  # provides a readable print function"
   ]
  },
  {
   "cell_type": "code",
   "execution_count": 7,
   "metadata": {},
   "outputs": [
    {
     "data": {
      "text/html": [
       "<pre style=\"white-space:pre;overflow-x:auto;line-height:normal;font-family:Menlo,'DejaVu Sans Mono',consolas,'Courier New',monospace\"><span style=\"color: #800080; text-decoration-color: #800080; font-weight: bold\">Predict</span><span style=\"font-weight: bold\">(</span><span style=\"color: #800080; text-decoration-color: #800080; font-weight: bold\">Signature</span><span style=\"font-weight: bold\">(</span>question -&gt; answer_as_json\n",
       "    <span style=\"color: #808000; text-decoration-color: #808000\">instructions</span>=<span style=\"color: #008000; text-decoration-color: #008000\">'Given the fields `question`, produce the fields `answer_as_json`.'</span>\n",
       "    question = <span style=\"color: #800080; text-decoration-color: #800080; font-weight: bold\">Field</span><span style=\"font-weight: bold\">(</span><span style=\"color: #808000; text-decoration-color: #808000\">annotation</span>=<span style=\"color: #800080; text-decoration-color: #800080\">str</span> <span style=\"color: #808000; text-decoration-color: #808000\">required</span>=<span style=\"color: #00ff00; text-decoration-color: #00ff00; font-style: italic\">True</span> <span style=\"color: #808000; text-decoration-color: #808000\">json_schema_extra</span>=<span style=\"font-weight: bold\">{</span><span style=\"color: #008000; text-decoration-color: #008000\">'__dspy_field_type'</span>: <span style=\"color: #008000; text-decoration-color: #008000\">'input'</span>, <span style=\"color: #008000; text-decoration-color: #008000\">'prefix'</span>: \n",
       "<span style=\"color: #008000; text-decoration-color: #008000\">'Question:'</span>, <span style=\"color: #008000; text-decoration-color: #008000\">'desc'</span>: <span style=\"color: #008000; text-decoration-color: #008000\">'${question}'</span><span style=\"font-weight: bold\">})</span>\n",
       "    answer_as_json = <span style=\"color: #800080; text-decoration-color: #800080; font-weight: bold\">Field</span><span style=\"font-weight: bold\">(</span><span style=\"color: #808000; text-decoration-color: #808000\">annotation</span>=<span style=\"color: #800080; text-decoration-color: #800080\">str</span> <span style=\"color: #808000; text-decoration-color: #808000\">required</span>=<span style=\"color: #00ff00; text-decoration-color: #00ff00; font-style: italic\">True</span> <span style=\"color: #808000; text-decoration-color: #808000\">json_schema_extra</span>=<span style=\"font-weight: bold\">{</span><span style=\"color: #008000; text-decoration-color: #008000\">'__dspy_field_type'</span>: <span style=\"color: #008000; text-decoration-color: #008000\">'output'</span>, <span style=\"color: #008000; text-decoration-color: #008000\">'prefix'</span>:\n",
       "<span style=\"color: #008000; text-decoration-color: #008000\">'Answer As Json:'</span>, <span style=\"color: #008000; text-decoration-color: #008000\">'desc'</span>: <span style=\"color: #008000; text-decoration-color: #008000\">'${answer_as_json}'</span><span style=\"font-weight: bold\">})</span>\n",
       "<span style=\"font-weight: bold\">))</span>\n",
       "</pre>\n"
      ],
      "text/plain": [
       "\u001b[1;35mPredict\u001b[0m\u001b[1m(\u001b[0m\u001b[1;35mSignature\u001b[0m\u001b[1m(\u001b[0mquestion -> answer_as_json\n",
       "    \u001b[33minstructions\u001b[0m=\u001b[32m'Given the fields `question`, produce the fields `answer_as_json`.'\u001b[0m\n",
       "    question = \u001b[1;35mField\u001b[0m\u001b[1m(\u001b[0m\u001b[33mannotation\u001b[0m=\u001b[35mstr\u001b[0m \u001b[33mrequired\u001b[0m=\u001b[3;92mTrue\u001b[0m \u001b[33mjson_schema_extra\u001b[0m=\u001b[1m{\u001b[0m\u001b[32m'__dspy_field_type'\u001b[0m: \u001b[32m'input'\u001b[0m, \u001b[32m'prefix'\u001b[0m: \n",
       "\u001b[32m'Question:'\u001b[0m, \u001b[32m'desc'\u001b[0m: \u001b[32m'$\u001b[0m\u001b[32m{\u001b[0m\u001b[32mquestion\u001b[0m\u001b[32m}\u001b[0m\u001b[32m'\u001b[0m\u001b[1m}\u001b[0m\u001b[1m)\u001b[0m\n",
       "    answer_as_json = \u001b[1;35mField\u001b[0m\u001b[1m(\u001b[0m\u001b[33mannotation\u001b[0m=\u001b[35mstr\u001b[0m \u001b[33mrequired\u001b[0m=\u001b[3;92mTrue\u001b[0m \u001b[33mjson_schema_extra\u001b[0m=\u001b[1m{\u001b[0m\u001b[32m'__dspy_field_type'\u001b[0m: \u001b[32m'output'\u001b[0m, \u001b[32m'prefix'\u001b[0m:\n",
       "\u001b[32m'Answer As Json:'\u001b[0m, \u001b[32m'desc'\u001b[0m: \u001b[32m'$\u001b[0m\u001b[32m{\u001b[0m\u001b[32manswer_as_json\u001b[0m\u001b[32m}\u001b[0m\u001b[32m'\u001b[0m\u001b[1m}\u001b[0m\u001b[1m)\u001b[0m\n",
       "\u001b[1m)\u001b[0m\u001b[1m)\u001b[0m\n"
      ]
     },
     "metadata": {},
     "output_type": "display_data"
    }
   ],
   "source": [
    "pred_basic_qa = Predict('question -> answer_as_json')  # Experiment with words\n",
    "print(pred_basic_qa)"
   ]
  },
  {
   "cell_type": "code",
   "execution_count": 8,
   "metadata": {},
   "outputs": [],
   "source": [
    "question = \"Provide me the top 2 countries and their GDP for past 3 years\"\n",
    "response = pred_basic_qa(question=question)"
   ]
  },
  {
   "cell_type": "code",
   "execution_count": 9,
   "metadata": {},
   "outputs": [
    {
     "data": {
      "text/html": [
       "<pre style=\"white-space:pre;overflow-x:auto;line-height:normal;font-family:Menlo,'DejaVu Sans Mono',consolas,'Courier New',monospace\"><span style=\"font-weight: bold\">{</span>\n",
       "  <span style=\"color: #008000; text-decoration-color: #008000\">\"countries\"</span>: <span style=\"font-weight: bold\">[</span>\n",
       "    <span style=\"font-weight: bold\">{</span>\n",
       "      <span style=\"color: #008000; text-decoration-color: #008000\">\"name\"</span>: <span style=\"color: #008000; text-decoration-color: #008000\">\"United States\"</span>,\n",
       "      <span style=\"color: #008000; text-decoration-color: #008000\">\"GDP\"</span>: <span style=\"font-weight: bold\">{</span>\n",
       "        <span style=\"color: #008000; text-decoration-color: #008000\">\"2019\"</span>: <span style=\"color: #008080; text-decoration-color: #008080; font-weight: bold\">21427700</span>,\n",
       "        <span style=\"color: #008000; text-decoration-color: #008000\">\"2020\"</span>: <span style=\"color: #008080; text-decoration-color: #008080; font-weight: bold\">21427700</span>,\n",
       "        <span style=\"color: #008000; text-decoration-color: #008000\">\"2021\"</span>: <span style=\"color: #008080; text-decoration-color: #008080; font-weight: bold\">21427700</span>\n",
       "      <span style=\"font-weight: bold\">}</span>\n",
       "    <span style=\"font-weight: bold\">}</span>,\n",
       "    <span style=\"font-weight: bold\">{</span>\n",
       "      <span style=\"color: #008000; text-decoration-color: #008000\">\"name\"</span>: <span style=\"color: #008000; text-decoration-color: #008000\">\"China\"</span>,\n",
       "      <span style=\"color: #008000; text-decoration-color: #008000\">\"GDP\"</span>: <span style=\"font-weight: bold\">{</span>\n",
       "        <span style=\"color: #008000; text-decoration-color: #008000\">\"2019\"</span>: <span style=\"color: #008080; text-decoration-color: #008080; font-weight: bold\">14342903</span>,\n",
       "        <span style=\"color: #008000; text-decoration-color: #008000\">\"2020\"</span>: <span style=\"color: #008080; text-decoration-color: #008080; font-weight: bold\">14342903</span>,\n",
       "        <span style=\"color: #008000; text-decoration-color: #008000\">\"2021\"</span>: <span style=\"color: #008080; text-decoration-color: #008080; font-weight: bold\">14342903</span>\n",
       "      <span style=\"font-weight: bold\">}</span>\n",
       "    <span style=\"font-weight: bold\">}</span>\n",
       "  <span style=\"font-weight: bold\">]</span>\n",
       "<span style=\"font-weight: bold\">}</span>\n",
       "</pre>\n"
      ],
      "text/plain": [
       "\u001b[1m{\u001b[0m\n",
       "  \u001b[32m\"countries\"\u001b[0m: \u001b[1m[\u001b[0m\n",
       "    \u001b[1m{\u001b[0m\n",
       "      \u001b[32m\"name\"\u001b[0m: \u001b[32m\"United States\"\u001b[0m,\n",
       "      \u001b[32m\"GDP\"\u001b[0m: \u001b[1m{\u001b[0m\n",
       "        \u001b[32m\"2019\"\u001b[0m: \u001b[1;36m21427700\u001b[0m,\n",
       "        \u001b[32m\"2020\"\u001b[0m: \u001b[1;36m21427700\u001b[0m,\n",
       "        \u001b[32m\"2021\"\u001b[0m: \u001b[1;36m21427700\u001b[0m\n",
       "      \u001b[1m}\u001b[0m\n",
       "    \u001b[1m}\u001b[0m,\n",
       "    \u001b[1m{\u001b[0m\n",
       "      \u001b[32m\"name\"\u001b[0m: \u001b[32m\"China\"\u001b[0m,\n",
       "      \u001b[32m\"GDP\"\u001b[0m: \u001b[1m{\u001b[0m\n",
       "        \u001b[32m\"2019\"\u001b[0m: \u001b[1;36m14342903\u001b[0m,\n",
       "        \u001b[32m\"2020\"\u001b[0m: \u001b[1;36m14342903\u001b[0m,\n",
       "        \u001b[32m\"2021\"\u001b[0m: \u001b[1;36m14342903\u001b[0m\n",
       "      \u001b[1m}\u001b[0m\n",
       "    \u001b[1m}\u001b[0m\n",
       "  \u001b[1m]\u001b[0m\n",
       "\u001b[1m}\u001b[0m\n"
      ]
     },
     "metadata": {},
     "output_type": "display_data"
    }
   ],
   "source": [
    "print(response.answer_as_json)  \n",
    "# this is a well formed JSON, can check by loading into python dictionary "
   ]
  },
  {
   "cell_type": "code",
   "execution_count": 13,
   "metadata": {},
   "outputs": [
    {
     "name": "stdout",
     "output_type": "stream",
     "text": [
      "\n",
      "\n",
      "\n",
      "\n",
      "Given the fields `question`, produce the fields `answer_as_json`.\n",
      "\n",
      "---\n",
      "\n",
      "Follow the following format.\n",
      "\n",
      "Question: ${question}\n",
      "Answer As Json: ${answer_as_json}\n",
      "\n",
      "---\n",
      "\n",
      "Question: Provide me the top 2 countries and their GDP for past 3 years\n",
      "Answer As Json:\u001b[32m {\n",
      "  \"countries\": [\n",
      "    {\n",
      "      \"name\": \"United States\",\n",
      "      \"GDP\": {\n",
      "        \"2019\": 21427700,\n",
      "        \"2020\": 21427700,\n",
      "        \"2021\": 21427700\n",
      "      }\n",
      "    },\n",
      "    {\n",
      "      \"name\": \"China\",\n",
      "      \"GDP\": {\n",
      "        \"2019\": 14342903,\n",
      "        \"2020\": 14342903,\n",
      "        \"2021\": 14342903\n",
      "      }\n",
      "    }\n",
      "  ]\n",
      "}\u001b[0m\n",
      "\n",
      "\n",
      "\n",
      "\n",
      "\n",
      "\n",
      "\n",
      "Given the fields `question`, produce the fields `answer_as_json`.\n",
      "\n",
      "---\n",
      "\n",
      "Follow the following format.\n",
      "\n",
      "Question: ${question}\n",
      "Reasoning: Let's think step by step in order to ${produce the answer_as_json}. We ...\n",
      "Answer As Json: ${answer_as_json}\n",
      "\n",
      "---\n",
      "\n",
      "Question: Provide me the top 2 countries and their GDP for past 3 years\n",
      "Reasoning: Let's think step by step in order to\u001b[32m produce the answer as json. We need to first find the GDP of all countries for the past 3 years, then rank them accordingly to get the top 2 countries.\n",
      "Answer As Json: \n",
      "{\n",
      "  \"top_countries\": [\n",
      "    {\n",
      "      \"country\": \"United States\",\n",
      "      \"GDP\": {\n",
      "        \"2019\": \"$21.43 trillion\",\n",
      "        \"2020\": \"$21.43 trillion\",\n",
      "        \"2021\": \"$22.67 trillion\"\n",
      "      }\n",
      "    },\n",
      "    {\n",
      "      \"country\": \"China\",\n",
      "      \"GDP\": {\n",
      "        \"2019\": \"$14.34 trillion\",\n",
      "        \"2020\": \"$15.42 trillion\",\n",
      "        \"2021\": \"$16.64 trillion\"\n",
      "      }\u001b[0m\u001b[31m \t (and 1 other completions)\u001b[0m\n",
      "\n",
      "\n",
      "\n"
     ]
    }
   ],
   "source": [
    "turbo.inspect_history(n = 3)"
   ]
  },
  {
   "cell_type": "code",
   "execution_count": 10,
   "metadata": {},
   "outputs": [],
   "source": [
    "# creating ChainOfThought object \n",
    "cot_qa = ChainOfThought('question -> answer_as_json', temperature=0.7,\n",
    "                        n=2)"
   ]
  },
  {
   "cell_type": "code",
   "execution_count": 11,
   "metadata": {},
   "outputs": [],
   "source": [
    "cot_resp = cot_qa(question=question)"
   ]
  },
  {
   "cell_type": "code",
   "execution_count": 12,
   "metadata": {},
   "outputs": [
    {
     "data": {
      "text/html": [
       "<pre style=\"white-space:pre;overflow-x:auto;line-height:normal;font-family:Menlo,'DejaVu Sans Mono',consolas,'Courier New',monospace\"><span style=\"font-weight: bold\">{</span>\n",
       "  <span style=\"color: #008000; text-decoration-color: #008000\">\"top_countries\"</span>: <span style=\"font-weight: bold\">[</span>\n",
       "    <span style=\"font-weight: bold\">{</span>\n",
       "      <span style=\"color: #008000; text-decoration-color: #008000\">\"country\"</span>: <span style=\"color: #008000; text-decoration-color: #008000\">\"United States\"</span>,\n",
       "      <span style=\"color: #008000; text-decoration-color: #008000\">\"GDP\"</span>: <span style=\"font-weight: bold\">{</span>\n",
       "        <span style=\"color: #008000; text-decoration-color: #008000\">\"2019\"</span>: <span style=\"color: #008000; text-decoration-color: #008000\">\"$21.43 trillion\"</span>,\n",
       "        <span style=\"color: #008000; text-decoration-color: #008000\">\"2020\"</span>: <span style=\"color: #008000; text-decoration-color: #008000\">\"$21.43 trillion\"</span>,\n",
       "        <span style=\"color: #008000; text-decoration-color: #008000\">\"2021\"</span>: <span style=\"color: #008000; text-decoration-color: #008000\">\"$22.67 trillion\"</span>\n",
       "      <span style=\"font-weight: bold\">}</span>\n",
       "    <span style=\"font-weight: bold\">}</span>,\n",
       "    <span style=\"font-weight: bold\">{</span>\n",
       "      <span style=\"color: #008000; text-decoration-color: #008000\">\"country\"</span>: <span style=\"color: #008000; text-decoration-color: #008000\">\"China\"</span>,\n",
       "      <span style=\"color: #008000; text-decoration-color: #008000\">\"GDP\"</span>: <span style=\"font-weight: bold\">{</span>\n",
       "        <span style=\"color: #008000; text-decoration-color: #008000\">\"2019\"</span>: <span style=\"color: #008000; text-decoration-color: #008000\">\"$14.34 trillion\"</span>,\n",
       "        <span style=\"color: #008000; text-decoration-color: #008000\">\"2020\"</span>: <span style=\"color: #008000; text-decoration-color: #008000\">\"$15.42 trillion\"</span>,\n",
       "        <span style=\"color: #008000; text-decoration-color: #008000\">\"2021\"</span>: <span style=\"color: #008000; text-decoration-color: #008000\">\"$16.64 trillion\"</span>\n",
       "      <span style=\"font-weight: bold\">}</span>\n",
       "</pre>\n"
      ],
      "text/plain": [
       "\u001b[1m{\u001b[0m\n",
       "  \u001b[32m\"top_countries\"\u001b[0m: \u001b[1m[\u001b[0m\n",
       "    \u001b[1m{\u001b[0m\n",
       "      \u001b[32m\"country\"\u001b[0m: \u001b[32m\"United States\"\u001b[0m,\n",
       "      \u001b[32m\"GDP\"\u001b[0m: \u001b[1m{\u001b[0m\n",
       "        \u001b[32m\"2019\"\u001b[0m: \u001b[32m\"$21.43 trillion\"\u001b[0m,\n",
       "        \u001b[32m\"2020\"\u001b[0m: \u001b[32m\"$21.43 trillion\"\u001b[0m,\n",
       "        \u001b[32m\"2021\"\u001b[0m: \u001b[32m\"$22.67 trillion\"\u001b[0m\n",
       "      \u001b[1m}\u001b[0m\n",
       "    \u001b[1m}\u001b[0m,\n",
       "    \u001b[1m{\u001b[0m\n",
       "      \u001b[32m\"country\"\u001b[0m: \u001b[32m\"China\"\u001b[0m,\n",
       "      \u001b[32m\"GDP\"\u001b[0m: \u001b[1m{\u001b[0m\n",
       "        \u001b[32m\"2019\"\u001b[0m: \u001b[32m\"$14.34 trillion\"\u001b[0m,\n",
       "        \u001b[32m\"2020\"\u001b[0m: \u001b[32m\"$15.42 trillion\"\u001b[0m,\n",
       "        \u001b[32m\"2021\"\u001b[0m: \u001b[32m\"$16.64 trillion\"\u001b[0m\n",
       "      \u001b[1m}\u001b[0m\n"
      ]
     },
     "metadata": {},
     "output_type": "display_data"
    },
    {
     "data": {
      "text/html": [
       "<pre style=\"white-space:pre;overflow-x:auto;line-height:normal;font-family:Menlo,'DejaVu Sans Mono',consolas,'Courier New',monospace\"><span style=\"font-weight: bold\">{</span>\n",
       "  <span style=\"color: #008000; text-decoration-color: #008000\">\"2019\"</span>: <span style=\"font-weight: bold\">[</span>\n",
       "    <span style=\"font-weight: bold\">{</span><span style=\"color: #008000; text-decoration-color: #008000\">\"country\"</span>: <span style=\"color: #008000; text-decoration-color: #008000\">\"United States\"</span>, <span style=\"color: #008000; text-decoration-color: #008000\">\"GDP\"</span>: <span style=\"color: #008000; text-decoration-color: #008000\">\"21.43 trillion USD\"</span><span style=\"font-weight: bold\">}</span>,\n",
       "    <span style=\"font-weight: bold\">{</span><span style=\"color: #008000; text-decoration-color: #008000\">\"country\"</span>: <span style=\"color: #008000; text-decoration-color: #008000\">\"China\"</span>, <span style=\"color: #008000; text-decoration-color: #008000\">\"GDP\"</span>: <span style=\"color: #008000; text-decoration-color: #008000\">\"14.34 trillion USD\"</span><span style=\"font-weight: bold\">}</span>\n",
       "  <span style=\"font-weight: bold\">]</span>,\n",
       "  <span style=\"color: #008000; text-decoration-color: #008000\">\"2020\"</span>: <span style=\"font-weight: bold\">[</span>\n",
       "    <span style=\"font-weight: bold\">{</span><span style=\"color: #008000; text-decoration-color: #008000\">\"country\"</span>: <span style=\"color: #008000; text-decoration-color: #008000\">\"United States\"</span>, <span style=\"color: #008000; text-decoration-color: #008000\">\"GDP\"</span>: <span style=\"color: #008000; text-decoration-color: #008000\">\"21.43 trillion USD\"</span><span style=\"font-weight: bold\">}</span>,\n",
       "    <span style=\"font-weight: bold\">{</span><span style=\"color: #008000; text-decoration-color: #008000\">\"country\"</span>: <span style=\"color: #008000; text-decoration-color: #008000\">\"China\"</span>, <span style=\"color: #008000; text-decoration-color: #008000\">\"GDP\"</span>: <span style=\"color: #008000; text-decoration-color: #008000\">\"14.34 trillion USD\"</span><span style=\"font-weight: bold\">}</span>\n",
       "  <span style=\"font-weight: bold\">]</span>,\n",
       "  <span style=\"color: #008000; text-decoration-color: #008000\">\"2021\"</span>: <span style=\"font-weight: bold\">[</span>\n",
       "    <span style=\"font-weight: bold\">{</span><span style=\"color: #008000; text-decoration-color: #008000\">\"country\"</span>: <span style=\"color: #008000; text-decoration-color: #008000\">\"United States\"</span>, <span style=\"color: #008000; text-decoration-color: #008000\">\"GDP\"</span>: <span style=\"color: #008000; text-decoration-color: #008000\">\"22.67 trillion USD\"</span><span style=\"font-weight: bold\">}</span>,\n",
       "    <span style=\"font-weight: bold\">{</span>\"\n",
       "</pre>\n"
      ],
      "text/plain": [
       "\u001b[1m{\u001b[0m\n",
       "  \u001b[32m\"2019\"\u001b[0m: \u001b[1m[\u001b[0m\n",
       "    \u001b[1m{\u001b[0m\u001b[32m\"country\"\u001b[0m: \u001b[32m\"United States\"\u001b[0m, \u001b[32m\"GDP\"\u001b[0m: \u001b[32m\"21.43 trillion USD\"\u001b[0m\u001b[1m}\u001b[0m,\n",
       "    \u001b[1m{\u001b[0m\u001b[32m\"country\"\u001b[0m: \u001b[32m\"China\"\u001b[0m, \u001b[32m\"GDP\"\u001b[0m: \u001b[32m\"14.34 trillion USD\"\u001b[0m\u001b[1m}\u001b[0m\n",
       "  \u001b[1m]\u001b[0m,\n",
       "  \u001b[32m\"2020\"\u001b[0m: \u001b[1m[\u001b[0m\n",
       "    \u001b[1m{\u001b[0m\u001b[32m\"country\"\u001b[0m: \u001b[32m\"United States\"\u001b[0m, \u001b[32m\"GDP\"\u001b[0m: \u001b[32m\"21.43 trillion USD\"\u001b[0m\u001b[1m}\u001b[0m,\n",
       "    \u001b[1m{\u001b[0m\u001b[32m\"country\"\u001b[0m: \u001b[32m\"China\"\u001b[0m, \u001b[32m\"GDP\"\u001b[0m: \u001b[32m\"14.34 trillion USD\"\u001b[0m\u001b[1m}\u001b[0m\n",
       "  \u001b[1m]\u001b[0m,\n",
       "  \u001b[32m\"2021\"\u001b[0m: \u001b[1m[\u001b[0m\n",
       "    \u001b[1m{\u001b[0m\u001b[32m\"country\"\u001b[0m: \u001b[32m\"United States\"\u001b[0m, \u001b[32m\"GDP\"\u001b[0m: \u001b[32m\"22.67 trillion USD\"\u001b[0m\u001b[1m}\u001b[0m,\n",
       "    \u001b[1m{\u001b[0m\"\n"
      ]
     },
     "metadata": {},
     "output_type": "display_data"
    }
   ],
   "source": [
    "print(cot_resp.completions.answer_as_json[0])\n",
    "print(cot_resp.completions.answer_as_json[1])"
   ]
  },
  {
   "cell_type": "code",
   "execution_count": 24,
   "metadata": {},
   "outputs": [
    {
     "data": {
      "text/html": [
       "<pre style=\"white-space:pre;overflow-x:auto;line-height:normal;font-family:Menlo,'DejaVu Sans Mono',consolas,'Courier New',monospace\">produce the answer as json. We need to first find the GDP of all countries for the past <span style=\"color: #008080; text-decoration-color: #008080; font-weight: bold\">3</span> years, then rank them \n",
       "accordingly to get the top <span style=\"color: #008080; text-decoration-color: #008080; font-weight: bold\">2</span> countries.\n",
       "</pre>\n"
      ],
      "text/plain": [
       "produce the answer as json. We need to first find the GDP of all countries for the past \u001b[1;36m3\u001b[0m years, then rank them \n",
       "accordingly to get the top \u001b[1;36m2\u001b[0m countries.\n"
      ]
     },
     "metadata": {},
     "output_type": "display_data"
    }
   ],
   "source": [
    "print(cot_resp.rationale)"
   ]
  },
  {
   "cell_type": "code",
   "execution_count": 26,
   "metadata": {},
   "outputs": [
    {
     "data": {
      "text/html": [
       "<pre style=\"white-space:pre;overflow-x:auto;line-height:normal;font-family:Menlo,'DejaVu Sans Mono',consolas,'Courier New',monospace\"><span style=\"font-weight: bold\">{</span>\n",
       "  <span style=\"color: #008000; text-decoration-color: #008000\">\"top_countries\"</span>: <span style=\"font-weight: bold\">[</span>\n",
       "    <span style=\"font-weight: bold\">{</span>\n",
       "      <span style=\"color: #008000; text-decoration-color: #008000\">\"country\"</span>: <span style=\"color: #008000; text-decoration-color: #008000\">\"United States\"</span>,\n",
       "      <span style=\"color: #008000; text-decoration-color: #008000\">\"GDP\"</span>: <span style=\"font-weight: bold\">{</span>\n",
       "        <span style=\"color: #008000; text-decoration-color: #008000\">\"2019\"</span>: <span style=\"color: #008000; text-decoration-color: #008000\">\"$21.43 trillion\"</span>,\n",
       "        <span style=\"color: #008000; text-decoration-color: #008000\">\"2020\"</span>: <span style=\"color: #008000; text-decoration-color: #008000\">\"$21.43 trillion\"</span>,\n",
       "        <span style=\"color: #008000; text-decoration-color: #008000\">\"2021\"</span>: <span style=\"color: #008000; text-decoration-color: #008000\">\"$22.67 trillion\"</span>\n",
       "      <span style=\"font-weight: bold\">}</span>\n",
       "    <span style=\"font-weight: bold\">}</span>,\n",
       "    <span style=\"font-weight: bold\">{</span>\n",
       "      <span style=\"color: #008000; text-decoration-color: #008000\">\"country\"</span>: <span style=\"color: #008000; text-decoration-color: #008000\">\"China\"</span>,\n",
       "      <span style=\"color: #008000; text-decoration-color: #008000\">\"GDP\"</span>: <span style=\"font-weight: bold\">{</span>\n",
       "        <span style=\"color: #008000; text-decoration-color: #008000\">\"2019\"</span>: <span style=\"color: #008000; text-decoration-color: #008000\">\"$14.34 trillion\"</span>,\n",
       "        <span style=\"color: #008000; text-decoration-color: #008000\">\"2020\"</span>: <span style=\"color: #008000; text-decoration-color: #008000\">\"$15.42 trillion\"</span>,\n",
       "        <span style=\"color: #008000; text-decoration-color: #008000\">\"2021\"</span>: <span style=\"color: #008000; text-decoration-color: #008000\">\"$16.64 trillion\"</span>\n",
       "      <span style=\"font-weight: bold\">}</span>\n",
       "</pre>\n"
      ],
      "text/plain": [
       "\u001b[1m{\u001b[0m\n",
       "  \u001b[32m\"top_countries\"\u001b[0m: \u001b[1m[\u001b[0m\n",
       "    \u001b[1m{\u001b[0m\n",
       "      \u001b[32m\"country\"\u001b[0m: \u001b[32m\"United States\"\u001b[0m,\n",
       "      \u001b[32m\"GDP\"\u001b[0m: \u001b[1m{\u001b[0m\n",
       "        \u001b[32m\"2019\"\u001b[0m: \u001b[32m\"$21.43 trillion\"\u001b[0m,\n",
       "        \u001b[32m\"2020\"\u001b[0m: \u001b[32m\"$21.43 trillion\"\u001b[0m,\n",
       "        \u001b[32m\"2021\"\u001b[0m: \u001b[32m\"$22.67 trillion\"\u001b[0m\n",
       "      \u001b[1m}\u001b[0m\n",
       "    \u001b[1m}\u001b[0m,\n",
       "    \u001b[1m{\u001b[0m\n",
       "      \u001b[32m\"country\"\u001b[0m: \u001b[32m\"China\"\u001b[0m,\n",
       "      \u001b[32m\"GDP\"\u001b[0m: \u001b[1m{\u001b[0m\n",
       "        \u001b[32m\"2019\"\u001b[0m: \u001b[32m\"$14.34 trillion\"\u001b[0m,\n",
       "        \u001b[32m\"2020\"\u001b[0m: \u001b[32m\"$15.42 trillion\"\u001b[0m,\n",
       "        \u001b[32m\"2021\"\u001b[0m: \u001b[32m\"$16.64 trillion\"\u001b[0m\n",
       "      \u001b[1m}\u001b[0m\n"
      ]
     },
     "metadata": {},
     "output_type": "display_data"
    }
   ],
   "source": [
    "print(cot_resp.answer_as_json)"
   ]
  },
  {
   "cell_type": "code",
   "execution_count": 28,
   "metadata": {},
   "outputs": [
    {
     "data": {
      "text/html": [
       "<pre style=\"white-space:pre;overflow-x:auto;line-height:normal;font-family:Menlo,'DejaVu Sans Mono',consolas,'Courier New',monospace\">produce the answer_as_json. We need to look up the GDP data for the top countries for each of the past <span style=\"color: #008080; text-decoration-color: #008080; font-weight: bold\">3</span> years.\n",
       "</pre>\n"
      ],
      "text/plain": [
       "produce the answer_as_json. We need to look up the GDP data for the top countries for each of the past \u001b[1;36m3\u001b[0m years.\n"
      ]
     },
     "metadata": {},
     "output_type": "display_data"
    },
    {
     "data": {
      "text/html": [
       "<pre style=\"white-space:pre;overflow-x:auto;line-height:normal;font-family:Menlo,'DejaVu Sans Mono',consolas,'Courier New',monospace\">produce the answer as json. We need to first find the GDP of all countries for the past <span style=\"color: #008080; text-decoration-color: #008080; font-weight: bold\">3</span> years, then rank them \n",
       "accordingly to get the top <span style=\"color: #008080; text-decoration-color: #008080; font-weight: bold\">2</span> countries.\n",
       "</pre>\n"
      ],
      "text/plain": [
       "produce the answer as json. We need to first find the GDP of all countries for the past \u001b[1;36m3\u001b[0m years, then rank them \n",
       "accordingly to get the top \u001b[1;36m2\u001b[0m countries.\n"
      ]
     },
     "metadata": {},
     "output_type": "display_data"
    }
   ],
   "source": [
    "print(cot_resp.completions[1].rationale)\n",
    "print(cot_resp.completions[0].rationale)"
   ]
  },
  {
   "cell_type": "code",
   "execution_count": 31,
   "metadata": {},
   "outputs": [
    {
     "name": "stdout",
     "output_type": "stream",
     "text": [
      "\n",
      "\n",
      "\n",
      "\n",
      "Given the fields `question`, produce the fields `answer_as_json`.\n",
      "\n",
      "---\n",
      "\n",
      "Follow the following format.\n",
      "\n",
      "Question: ${question}\n",
      "Answer As Json: ${answer_as_json}\n",
      "\n",
      "---\n",
      "\n",
      "Question: Provide me the top 2 countries and their GDP for past 3 years\n",
      "Answer As Json:\u001b[32m {\n",
      "  \"countries\": [\n",
      "    {\n",
      "      \"name\": \"United States\",\n",
      "      \"GDP\": {\n",
      "        \"2019\": 21427700,\n",
      "        \"2020\": 21427700,\n",
      "        \"2021\": 21427700\n",
      "      }\n",
      "    },\n",
      "    {\n",
      "      \"name\": \"China\",\n",
      "      \"GDP\": {\n",
      "        \"2019\": 14342903,\n",
      "        \"2020\": 14342903,\n",
      "        \"2021\": 14342903\n",
      "      }\n",
      "    }\n",
      "  ]\n",
      "}\u001b[0m\n",
      "\n",
      "\n",
      "\n",
      "\n",
      "\n",
      "\n",
      "\n",
      "Given the fields `question`, produce the fields `answer_as_json`.\n",
      "\n",
      "---\n",
      "\n",
      "Follow the following format.\n",
      "\n",
      "Question: ${question}\n",
      "Reasoning: Let's think step by step in order to ${produce the answer_as_json}. We ...\n",
      "Answer As Json: ${answer_as_json}\n",
      "\n",
      "---\n",
      "\n",
      "Question: Provide me the top 2 countries and their GDP for past 3 years\n",
      "Reasoning: Let's think step by step in order to\u001b[32m produce the answer as json. We need to first find the GDP of all countries for the past 3 years, then rank them accordingly to get the top 2 countries.\n",
      "Answer As Json: \n",
      "{\n",
      "  \"top_countries\": [\n",
      "    {\n",
      "      \"country\": \"United States\",\n",
      "      \"GDP\": {\n",
      "        \"2019\": \"$21.43 trillion\",\n",
      "        \"2020\": \"$21.43 trillion\",\n",
      "        \"2021\": \"$22.67 trillion\"\n",
      "      }\n",
      "    },\n",
      "    {\n",
      "      \"country\": \"China\",\n",
      "      \"GDP\": {\n",
      "        \"2019\": \"$14.34 trillion\",\n",
      "        \"2020\": \"$15.42 trillion\",\n",
      "        \"2021\": \"$16.64 trillion\"\n",
      "      }\u001b[0m\u001b[31m \t (and 1 other completions)\u001b[0m\n",
      "\n",
      "\n",
      "\n",
      "\n",
      "\n",
      "\n",
      "\n",
      "Given the fields `question`, produce the fields `answer_as_json`.\n",
      "\n",
      "---\n",
      "\n",
      "Follow the following format.\n",
      "\n",
      "Question: ${question}\n",
      "\n",
      "Reasoning: Let's think step by step in order to ${produce the answer_as_json}. We ...\n",
      "\n",
      "Hint: ${hint}\n",
      "\n",
      "Answer As Json: ${answer_as_json}\n",
      "\n",
      "---\n",
      "\n",
      "Question: Provide me the top 2 countries and their GDP for past 3 years\n",
      "\n",
      "Hint: GDP data can be located in Open Govt Data portal.\n",
      "\n",
      "Answer As Json:\u001b[32m {\n",
      "  \"country1\": {\n",
      "    \"name\": \"United States\",\n",
      "    \"GDP\": {\n",
      "      \"2019\": 21433225,\n",
      "      \"2020\": 21433225,\n",
      "      \"2021\": 21433225\n",
      "    }\n",
      "  },\n",
      "  \"country2\": {\n",
      "    \"name\": \"China\",\n",
      "    \"GDP\": {\n",
      "      \"2019\": 14342931,\n",
      "      \"2020\": 14342931,\n",
      "      \"2021\": 14342931\n",
      "    }\n",
      "  }\n",
      "}\u001b[0m\n",
      "\n",
      "\n",
      "\n",
      "\n",
      "\n",
      "\n",
      "\n",
      "Given the fields `question`, produce the fields `answer_as_json`.\n",
      "\n",
      "---\n",
      "\n",
      "Follow the following format.\n",
      "\n",
      "Question: ${question}\n",
      "\n",
      "Reasoning: Let's think step by step in order to ${produce the answer_as_json}. We ...\n",
      "\n",
      "Hint: ${hint}\n",
      "\n",
      "Answer As Json: ${answer_as_json}\n",
      "\n",
      "---\n",
      "\n",
      "Question: Provide me the top 2 countries and their GDP for past 3 years\n",
      "\n",
      "Reasoning: Let's think step by step in order to { \"country1\": { \"name\": \"United States\", \"GDP\": { \"2019\": 21433225, \"2020\": 21433225, \"2021\": 21433225 } }, \"country2\": { \"name\": \"China\", \"GDP\": { \"2019\": 14342931, \"2020\": 14342931, \"2021\": 14342931 } } }\n",
      "\n",
      "Hint: GDP data can be located in Open Govt Data portal.\n",
      "\n",
      "Answer As Json:\u001b[32m {\n",
      "  \"country1\": {\n",
      "    \"name\": \"United States\",\n",
      "    \"GDP\": {\n",
      "      \"2019\": 21433225,\n",
      "      \"2020\": 21433225,\n",
      "      \"2021\": 21433225\n",
      "    }\n",
      "  },\n",
      "  \"country2\": {\n",
      "    \"name\": \"China\",\n",
      "    \"GDP\": {\u001b[0m\n",
      "\n",
      "\n",
      "\n"
     ]
    }
   ],
   "source": [
    "turbo.inspect_history(n=4)"
   ]
  },
  {
   "cell_type": "code",
   "execution_count": 29,
   "metadata": {},
   "outputs": [],
   "source": [
    "### building chain of thought with Hint\n",
    "hint = \"GDP is revealed by the Central Statistics Office.\"\n",
    "hint = \"GDP data can be located in Open Govt Data portal.\"\n",
    "coth_qa = ChainOfThoughtWithHint('question -> answer_as_json')\n",
    "\n",
    "coth_pred = coth_qa(question=question, hint=hint)"
   ]
  },
  {
   "cell_type": "code",
   "execution_count": 30,
   "metadata": {},
   "outputs": [
    {
     "data": {
      "text/html": [
       "<pre style=\"white-space:pre;overflow-x:auto;line-height:normal;font-family:Menlo,'DejaVu Sans Mono',consolas,'Courier New',monospace\"><span style=\"color: #800080; text-decoration-color: #800080; font-weight: bold\">Prediction</span><span style=\"font-weight: bold\">(</span>\n",
       "    <span style=\"color: #808000; text-decoration-color: #808000\">rationale</span>=<span style=\"color: #008000; text-decoration-color: #008000\">'{\\n  \"country1\": {\\n    \"name\": \"United States\",\\n    \"GDP\": {\\n      \"2019\": 21433225,\\n      </span>\n",
       "<span style=\"color: #008000; text-decoration-color: #008000\">\"2020\": 21433225,\\n      \"2021\": 21433225\\n    }\\n  },\\n  \"country2\": {\\n    \"name\": \"China\",\\n    \"GDP\": {\\n      </span>\n",
       "<span style=\"color: #008000; text-decoration-color: #008000\">\"2019\": 14342931,\\n      \"2020\": 14342931,\\n      \"2021\": 14342931\\n    }\\n  }\\n}'</span>,\n",
       "    <span style=\"color: #808000; text-decoration-color: #808000\">answer_as_json</span>=<span style=\"color: #008000; text-decoration-color: #008000\">'{\\n  \"country1\": {\\n    \"name\": \"United States\",\\n    \"GDP\": {\\n      \"2019\": 21433225,\\n      </span>\n",
       "<span style=\"color: #008000; text-decoration-color: #008000\">\"2020\": 21433225,\\n      \"2021\": 21433225\\n    }\\n  },\\n  \"country2\": {\\n    \"name\": \"China\",\\n    \"GDP\": {'</span>\n",
       "<span style=\"font-weight: bold\">)</span>\n",
       "</pre>\n"
      ],
      "text/plain": [
       "\u001b[1;35mPrediction\u001b[0m\u001b[1m(\u001b[0m\n",
       "    \u001b[33mrationale\u001b[0m=\u001b[32m'\u001b[0m\u001b[32m{\u001b[0m\u001b[32m\\n  \"country1\": \u001b[0m\u001b[32m{\u001b[0m\u001b[32m\\n    \"name\": \"United States\",\\n    \"GDP\": \u001b[0m\u001b[32m{\u001b[0m\u001b[32m\\n      \"2019\": 21433225,\\n      \u001b[0m\n",
       "\u001b[32m\"2020\": 21433225,\\n      \"2021\": 21433225\\n    \u001b[0m\u001b[32m}\u001b[0m\u001b[32m\\n  \u001b[0m\u001b[32m}\u001b[0m\u001b[32m,\\n  \"country2\": \u001b[0m\u001b[32m{\u001b[0m\u001b[32m\\n    \"name\": \"China\",\\n    \"GDP\": \u001b[0m\u001b[32m{\u001b[0m\u001b[32m\\n      \u001b[0m\n",
       "\u001b[32m\"2019\": 14342931,\\n      \"2020\": 14342931,\\n      \"2021\": 14342931\\n    \u001b[0m\u001b[32m}\u001b[0m\u001b[32m\\n  \u001b[0m\u001b[32m}\u001b[0m\u001b[32m\\n\u001b[0m\u001b[32m}\u001b[0m\u001b[32m'\u001b[0m,\n",
       "    \u001b[33manswer_as_json\u001b[0m=\u001b[32m'\u001b[0m\u001b[32m{\u001b[0m\u001b[32m\\n  \"country1\": \u001b[0m\u001b[32m{\u001b[0m\u001b[32m\\n    \"name\": \"United States\",\\n    \"GDP\": \u001b[0m\u001b[32m{\u001b[0m\u001b[32m\\n      \"2019\": 21433225,\\n      \u001b[0m\n",
       "\u001b[32m\"2020\": 21433225,\\n      \"2021\": 21433225\\n    \u001b[0m\u001b[32m}\u001b[0m\u001b[32m\\n  \u001b[0m\u001b[32m}\u001b[0m\u001b[32m,\\n  \"country2\": \u001b[0m\u001b[32m{\u001b[0m\u001b[32m\\n    \"name\": \"China\",\\n    \"GDP\": \u001b[0m\u001b[32m{\u001b[0m\u001b[32m'\u001b[0m\n",
       "\u001b[1m)\u001b[0m\n"
      ]
     },
     "metadata": {},
     "output_type": "display_data"
    }
   ],
   "source": [
    "print(coth_pred)"
   ]
  },
  {
   "cell_type": "code",
   "execution_count": 14,
   "metadata": {},
   "outputs": [],
   "source": [
    "\n",
    "completions = [\n",
    "    Prediction(rationale=\"I recall that during clear days, the sky often appears this color.\", answer=\"blue\"),\n",
    "    Prediction(rationale=\"Based on common knowledge, I believe the sky is typically seen as this color.\", answer=\"green\"),\n",
    "    Prediction(rationale=\"From images and depictions in media, the sky is frequently represented with this hue.\", answer=\"blue\"),\n",
    "]\n",
    "# Completions are given as side inputs, not part of the signature\n",
    "question = \"What is the color of the sky?\"\n",
    "multi_pred_comparion = MultiChainComparison('question -> answer')\n",
    "\n",
    "# compared_resp\n",
    "final_resp = multi_pred_comparion(completions,\n",
    "                                  question=question,) "
   ]
  },
  {
   "cell_type": "code",
   "execution_count": 15,
   "metadata": {},
   "outputs": [
    {
     "data": {
      "text/plain": [
       "Prediction(\n",
       "    rationale=\"correct the reasoning by considering scientific knowledge and observations. The color of the sky is predominantly blue due to Rayleigh scattering of sunlight in the Earth's atmosphere.\",\n",
       "    answer='The color of the sky is blue.'\n",
       ")"
      ]
     },
     "execution_count": 15,
     "metadata": {},
     "output_type": "execute_result"
    }
   ],
   "source": [
    "final_resp"
   ]
  },
  {
   "cell_type": "code",
   "execution_count": 16,
   "metadata": {},
   "outputs": [
    {
     "name": "stdout",
     "output_type": "stream",
     "text": [
      "\n",
      "\n",
      "\n",
      "\n",
      "Given the fields `question`, produce the fields `answer_as_json`.\n",
      "\n",
      "---\n",
      "\n",
      "Follow the following format.\n",
      "\n",
      "Question: ${question}\n",
      "Answer As Json: ${answer_as_json}\n",
      "\n",
      "---\n",
      "\n",
      "Question: Provide me the top 2 countries and their GDP for past 3 years\n",
      "Answer As Json:\u001b[32m {\n",
      "  \"countries\": [\n",
      "    {\n",
      "      \"name\": \"United States\",\n",
      "      \"GDP\": {\n",
      "        \"2019\": 21427700,\n",
      "        \"2020\": 21427700,\n",
      "        \"2021\": 21427700\n",
      "      }\n",
      "    },\n",
      "    {\n",
      "      \"name\": \"China\",\n",
      "      \"GDP\": {\n",
      "        \"2019\": 14342903,\n",
      "        \"2020\": 14342903,\n",
      "        \"2021\": 14342903\n",
      "      }\n",
      "    }\n",
      "  ]\n",
      "}\u001b[0m\n",
      "\n",
      "\n",
      "\n",
      "\n",
      "\n",
      "\n",
      "\n",
      "Given the fields `question`, produce the fields `answer_as_json`.\n",
      "\n",
      "---\n",
      "\n",
      "Follow the following format.\n",
      "\n",
      "Question: ${question}\n",
      "Reasoning: Let's think step by step in order to ${produce the answer_as_json}. We ...\n",
      "Answer As Json: ${answer_as_json}\n",
      "\n",
      "---\n",
      "\n",
      "Question: Provide me the top 2 countries and their GDP for past 3 years\n",
      "Reasoning: Let's think step by step in order to\u001b[32m produce the answer as json. We need to first find the GDP of all countries for the past 3 years, then rank them accordingly to get the top 2 countries.\n",
      "Answer As Json: \n",
      "{\n",
      "  \"top_countries\": [\n",
      "    {\n",
      "      \"country\": \"United States\",\n",
      "      \"GDP\": {\n",
      "        \"2019\": \"$21.43 trillion\",\n",
      "        \"2020\": \"$21.43 trillion\",\n",
      "        \"2021\": \"$22.67 trillion\"\n",
      "      }\n",
      "    },\n",
      "    {\n",
      "      \"country\": \"China\",\n",
      "      \"GDP\": {\n",
      "        \"2019\": \"$14.34 trillion\",\n",
      "        \"2020\": \"$15.42 trillion\",\n",
      "        \"2021\": \"$16.64 trillion\"\n",
      "      }\u001b[0m\u001b[31m \t (and 1 other completions)\u001b[0m\n",
      "\n",
      "\n",
      "\n",
      "\n",
      "\n",
      "\n",
      "\n",
      "Given the fields `question`, produce the fields `answer`.\n",
      "\n",
      "---\n",
      "\n",
      "Follow the following format.\n",
      "\n",
      "Question: ${question}\n",
      "\n",
      "Student Attempt #1: ${reasoning attempt}\n",
      "\n",
      "Student Attempt #2: ${reasoning attempt}\n",
      "\n",
      "Student Attempt #3: ${reasoning attempt}\n",
      "\n",
      "Accurate Reasoning: Thank you everyone. Let's now holistically ${corrected reasoning}\n",
      "\n",
      "Answer: ${answer}\n",
      "\n",
      "---\n",
      "\n",
      "Question: What is the color of the sky?\n",
      "\n",
      "Student Attempt #1: «I'm trying to I recall that during clear days, the sky often appears this color. I'm not sure but my prediction is blue»\n",
      "\n",
      "Student Attempt #2: «I'm trying to Based on common knowledge, I believe the sky is typically seen as this color. I'm not sure but my prediction is green»\n",
      "\n",
      "Student Attempt #3: «I'm trying to From images and depictions in media, the sky is frequently represented with this hue. I'm not sure but my prediction is blue»\n",
      "\n",
      "Accurate Reasoning: Thank you everyone. Let's now holistically\u001b[32m correct the reasoning by considering scientific knowledge and observations. The color of the sky is predominantly blue due to Rayleigh scattering of sunlight in the Earth's atmosphere.\n",
      "\n",
      "Answer: The color of the sky is blue.\u001b[0m\n",
      "\n",
      "\n",
      "\n"
     ]
    }
   ],
   "source": [
    "turbo.inspect_history(n=5)"
   ]
  },
  {
   "cell_type": "code",
   "execution_count": 44,
   "metadata": {},
   "outputs": [
    {
     "data": {
      "text/html": [
       "<pre style=\"white-space:pre;overflow-x:auto;line-height:normal;font-family:Menlo,'DejaVu Sans Mono',consolas,'Courier New',monospace\"><span style=\"color: #800080; text-decoration-color: #800080; font-weight: bold\">Signature</span><span style=\"font-weight: bold\">(</span>question -&gt; answer\n",
       "    <span style=\"color: #808000; text-decoration-color: #808000\">instructions</span>=<span style=\"color: #008000; text-decoration-color: #008000\">'Given the fields `question`, produce the fields `answer`.'</span>\n",
       "    question = <span style=\"color: #800080; text-decoration-color: #800080; font-weight: bold\">Field</span><span style=\"font-weight: bold\">(</span><span style=\"color: #808000; text-decoration-color: #808000\">annotation</span>=<span style=\"color: #800080; text-decoration-color: #800080\">str</span> <span style=\"color: #808000; text-decoration-color: #808000\">required</span>=<span style=\"color: #00ff00; text-decoration-color: #00ff00; font-style: italic\">True</span> <span style=\"color: #808000; text-decoration-color: #808000\">json_schema_extra</span>=<span style=\"font-weight: bold\">{</span><span style=\"color: #008000; text-decoration-color: #008000\">'__dspy_field_type'</span>: <span style=\"color: #008000; text-decoration-color: #008000\">'input'</span>, <span style=\"color: #008000; text-decoration-color: #008000\">'prefix'</span>: \n",
       "<span style=\"color: #008000; text-decoration-color: #008000\">'Question:'</span>, <span style=\"color: #008000; text-decoration-color: #008000\">'desc'</span>: <span style=\"color: #008000; text-decoration-color: #008000\">'${question}'</span><span style=\"font-weight: bold\">})</span>\n",
       "    answer = <span style=\"color: #800080; text-decoration-color: #800080; font-weight: bold\">Field</span><span style=\"font-weight: bold\">(</span><span style=\"color: #808000; text-decoration-color: #808000\">annotation</span>=<span style=\"color: #800080; text-decoration-color: #800080\">str</span> <span style=\"color: #808000; text-decoration-color: #808000\">required</span>=<span style=\"color: #00ff00; text-decoration-color: #00ff00; font-style: italic\">True</span> <span style=\"color: #808000; text-decoration-color: #808000\">json_schema_extra</span>=<span style=\"font-weight: bold\">{</span><span style=\"color: #008000; text-decoration-color: #008000\">'__dspy_field_type'</span>: <span style=\"color: #008000; text-decoration-color: #008000\">'output'</span>, <span style=\"color: #008000; text-decoration-color: #008000\">'prefix'</span>: \n",
       "<span style=\"color: #008000; text-decoration-color: #008000\">'Answer:'</span>, <span style=\"color: #008000; text-decoration-color: #008000\">'desc'</span>: <span style=\"color: #008000; text-decoration-color: #008000\">'${answer}'</span><span style=\"font-weight: bold\">})</span>\n",
       "<span style=\"font-weight: bold\">)</span>\n",
       "</pre>\n"
      ],
      "text/plain": [
       "\u001b[1;35mSignature\u001b[0m\u001b[1m(\u001b[0mquestion -> answer\n",
       "    \u001b[33minstructions\u001b[0m=\u001b[32m'Given the fields `question`, produce the fields `answer`.'\u001b[0m\n",
       "    question = \u001b[1;35mField\u001b[0m\u001b[1m(\u001b[0m\u001b[33mannotation\u001b[0m=\u001b[35mstr\u001b[0m \u001b[33mrequired\u001b[0m=\u001b[3;92mTrue\u001b[0m \u001b[33mjson_schema_extra\u001b[0m=\u001b[1m{\u001b[0m\u001b[32m'__dspy_field_type'\u001b[0m: \u001b[32m'input'\u001b[0m, \u001b[32m'prefix'\u001b[0m: \n",
       "\u001b[32m'Question:'\u001b[0m, \u001b[32m'desc'\u001b[0m: \u001b[32m'$\u001b[0m\u001b[32m{\u001b[0m\u001b[32mquestion\u001b[0m\u001b[32m}\u001b[0m\u001b[32m'\u001b[0m\u001b[1m}\u001b[0m\u001b[1m)\u001b[0m\n",
       "    answer = \u001b[1;35mField\u001b[0m\u001b[1m(\u001b[0m\u001b[33mannotation\u001b[0m=\u001b[35mstr\u001b[0m \u001b[33mrequired\u001b[0m=\u001b[3;92mTrue\u001b[0m \u001b[33mjson_schema_extra\u001b[0m=\u001b[1m{\u001b[0m\u001b[32m'__dspy_field_type'\u001b[0m: \u001b[32m'output'\u001b[0m, \u001b[32m'prefix'\u001b[0m: \n",
       "\u001b[32m'Answer:'\u001b[0m, \u001b[32m'desc'\u001b[0m: \u001b[32m'$\u001b[0m\u001b[32m{\u001b[0m\u001b[32manswer\u001b[0m\u001b[32m}\u001b[0m\u001b[32m'\u001b[0m\u001b[1m}\u001b[0m\u001b[1m)\u001b[0m\n",
       "\u001b[1m)\u001b[0m\n"
      ]
     },
     "metadata": {},
     "output_type": "display_data"
    }
   ],
   "source": [
    "#Define a simple signature for basic question answering\n",
    "generate_answer_signature = Signature(\"question -> answer\")\n",
    "# generate_answer_signature.attach(question=(\"Question:\", \"\"))\n",
    "# generate_answer_signature.attach(answer=(\"Answer:\", \"often between 1 and 5 words\"))\n",
    "print(generate_answer_signature)"
   ]
  },
  {
   "cell_type": "code",
   "execution_count": 47,
   "metadata": {},
   "outputs": [
    {
     "data": {
      "text/html": [
       "<pre style=\"white-space:pre;overflow-x:auto;line-height:normal;font-family:Menlo,'DejaVu Sans Mono',consolas,'Courier New',monospace\">Question: Sarah has <span style=\"color: #008080; text-decoration-color: #008080; font-weight: bold\">5</span> apples. She buys <span style=\"color: #008080; text-decoration-color: #008080; font-weight: bold\">7</span> more apples from the store. How many apples does Sarah have now?\n",
       "</pre>\n"
      ],
      "text/plain": [
       "Question: Sarah has \u001b[1;36m5\u001b[0m apples. She buys \u001b[1;36m7\u001b[0m more apples from the store. How many apples does Sarah have now?\n"
      ]
     },
     "metadata": {},
     "output_type": "display_data"
    },
    {
     "data": {
      "text/html": [
       "<pre style=\"white-space:pre;overflow-x:auto;line-height:normal;font-family:Menlo,'DejaVu Sans Mono',consolas,'Courier New',monospace\">Final Predicted Answer <span style=\"font-weight: bold\">(</span>after ProgramOfThought process<span style=\"font-weight: bold\">)</span>: Sarah now has <span style=\"color: #008080; text-decoration-color: #008080; font-weight: bold\">12</span> apples.\n",
       "</pre>\n"
      ],
      "text/plain": [
       "Final Predicted Answer \u001b[1m(\u001b[0mafter ProgramOfThought process\u001b[1m)\u001b[0m: Sarah now has \u001b[1;36m12\u001b[0m apples.\n"
      ]
     },
     "metadata": {},
     "output_type": "display_data"
    }
   ],
   "source": [
    "# Pass signature to ProgramOfThought Module\n",
    "pot = ProgramOfThought(generate_answer_signature)\n",
    "\n",
    "#Call the ProgramOfThought module on a particular input\n",
    "question = 'Sarah has 5 apples. She buys 7 more apples from the store. How many apples does Sarah have now?'\n",
    "result = pot(question=question)\n",
    "\n",
    "print(f\"Question: {question}\")\n",
    "print(f\"Final Predicted Answer (after ProgramOfThought process): {result.answer}\")"
   ]
  },
  {
   "cell_type": "code",
   "execution_count": 48,
   "metadata": {},
   "outputs": [
    {
     "name": "stdout",
     "output_type": "stream",
     "text": [
      "\n",
      "\n",
      "\n",
      "\n",
      "Given the fields `question`, produce the fields `answer_as_json`.\n",
      "\n",
      "---\n",
      "\n",
      "Follow the following format.\n",
      "\n",
      "Question: ${question}\n",
      "Answer As Json: ${answer_as_json}\n",
      "\n",
      "---\n",
      "\n",
      "Question: Provide me the top 10 countries and their GDP for past 5 years\n",
      "Answer As Json:\u001b[32m {\n",
      "  \"countries\": [\n",
      "    {\n",
      "      \"name\": \"United States\",\n",
      "      \"gdp\": [ \n",
      "        {\"year\": 2021, \"value\": 22.675},\n",
      "        {\"year\": 2020, \"value\": 21.433},\n",
      "        {\"year\": 2019, \"value\": 21.433},\n",
      "        {\"year\": 2018, \"value\": 20.494},\n",
      "        {\"year\": 2017, \"value\": 19.485}\n",
      "      ]\n",
      "    },\n",
      "    {\n",
      "      \"name\": \"China\",\n",
      "      \"gdp\": [ \n",
      "        {\"year\": 2021, \"value\": 17.720},\n",
      "        {\"year\": 2020, \"value\":\u001b[0m\n",
      "\n",
      "\n",
      "\n",
      "\n",
      "\n",
      "\n",
      "\n",
      "Given the fields `question`, produce the fields `answer_as_json`.\n",
      "\n",
      "---\n",
      "\n",
      "Follow the following format.\n",
      "\n",
      "Question: ${question}\n",
      "Answer As Json: ${answer_as_json}\n",
      "\n",
      "---\n",
      "\n",
      "Question: Provide me the top 2 countries and their GDP for past 3 years\n",
      "Answer As Json:\u001b[32m {\n",
      "  \"countries\": [\n",
      "    {\n",
      "      \"name\": \"United States\",\n",
      "      \"GDP\": {\n",
      "        \"2019\": 21427700,\n",
      "        \"2020\": 21427700,\n",
      "        \"2021\": 21427700\n",
      "      }\n",
      "    },\n",
      "    {\n",
      "      \"name\": \"China\",\n",
      "      \"GDP\": {\n",
      "        \"2019\": 14342903,\n",
      "        \"2020\": 14342903,\n",
      "        \"2021\": 14342903\n",
      "      }\n",
      "    }\n",
      "  ]\n",
      "}\u001b[0m\n",
      "\n",
      "\n",
      "\n",
      "\n",
      "\n",
      "\n",
      "\n",
      "Given the fields `question`, produce the fields `answer_as_json`.\n",
      "\n",
      "---\n",
      "\n",
      "Follow the following format.\n",
      "\n",
      "Question: ${question}\n",
      "Reasoning: Let's think step by step in order to ${produce the answer_as_json}. We ...\n",
      "Answer As Json: ${answer_as_json}\n",
      "\n",
      "---\n",
      "\n",
      "Question: Provide me the top 2 countries and their GDP for past 3 years\n",
      "Reasoning: Let's think step by step in order to\u001b[32m produce the answer as json. We need to first find the GDP of all countries for the past 3 years, then rank them accordingly to get the top 2 countries.\n",
      "Answer As Json: \n",
      "{\n",
      "  \"top_countries\": [\n",
      "    {\n",
      "      \"country\": \"United States\",\n",
      "      \"GDP\": {\n",
      "        \"2019\": \"$21.43 trillion\",\n",
      "        \"2020\": \"$21.43 trillion\",\n",
      "        \"2021\": \"$22.67 trillion\"\n",
      "      }\n",
      "    },\n",
      "    {\n",
      "      \"country\": \"China\",\n",
      "      \"GDP\": {\n",
      "        \"2019\": \"$14.34 trillion\",\n",
      "        \"2020\": \"$15.42 trillion\",\n",
      "        \"2021\": \"$16.64 trillion\"\n",
      "      }\u001b[0m\u001b[31m \t (and 1 other completions)\u001b[0m\n",
      "\n",
      "\n",
      "\n",
      "\n",
      "\n",
      "\n",
      "\n",
      "Given the fields `question`, produce the fields `answer_as_json`.\n",
      "\n",
      "---\n",
      "\n",
      "Follow the following format.\n",
      "\n",
      "Question: ${question}\n",
      "\n",
      "Reasoning: Let's think step by step in order to ${produce the answer_as_json}. We ...\n",
      "\n",
      "Hint: ${hint}\n",
      "\n",
      "Answer As Json: ${answer_as_json}\n",
      "\n",
      "---\n",
      "\n",
      "Question: Provide me the top 2 countries and their GDP for past 3 years\n",
      "\n",
      "Hint: GDP data can be located in Open Govt Data portal.\n",
      "\n",
      "Answer As Json:\u001b[32m {\n",
      "  \"country1\": {\n",
      "    \"name\": \"United States\",\n",
      "    \"GDP\": {\n",
      "      \"2019\": 21433225,\n",
      "      \"2020\": 21433225,\n",
      "      \"2021\": 21433225\n",
      "    }\n",
      "  },\n",
      "  \"country2\": {\n",
      "    \"name\": \"China\",\n",
      "    \"GDP\": {\n",
      "      \"2019\": 14342931,\n",
      "      \"2020\": 14342931,\n",
      "      \"2021\": 14342931\n",
      "    }\n",
      "  }\n",
      "}\u001b[0m\n",
      "\n",
      "\n",
      "\n",
      "\n",
      "\n",
      "\n",
      "\n",
      "Given the fields `question`, produce the fields `answer_as_json`.\n",
      "\n",
      "---\n",
      "\n",
      "Follow the following format.\n",
      "\n",
      "Question: ${question}\n",
      "\n",
      "Reasoning: Let's think step by step in order to ${produce the answer_as_json}. We ...\n",
      "\n",
      "Hint: ${hint}\n",
      "\n",
      "Answer As Json: ${answer_as_json}\n",
      "\n",
      "---\n",
      "\n",
      "Question: Provide me the top 2 countries and their GDP for past 3 years\n",
      "\n",
      "Reasoning: Let's think step by step in order to { \"country1\": { \"name\": \"United States\", \"GDP\": { \"2019\": 21433225, \"2020\": 21433225, \"2021\": 21433225 } }, \"country2\": { \"name\": \"China\", \"GDP\": { \"2019\": 14342931, \"2020\": 14342931, \"2021\": 14342931 } } }\n",
      "\n",
      "Hint: GDP data can be located in Open Govt Data portal.\n",
      "\n",
      "Answer As Json:\u001b[32m {\n",
      "  \"country1\": {\n",
      "    \"name\": \"United States\",\n",
      "    \"GDP\": {\n",
      "      \"2019\": 21433225,\n",
      "      \"2020\": 21433225,\n",
      "      \"2021\": 21433225\n",
      "    }\n",
      "  },\n",
      "  \"country2\": {\n",
      "    \"name\": \"China\",\n",
      "    \"GDP\": {\u001b[0m\n",
      "\n",
      "\n",
      "\n",
      "\n",
      "\n",
      "\n",
      "\n",
      "Given the fields `question`, produce the fields `answer`.\n",
      "\n",
      "---\n",
      "\n",
      "Follow the following format.\n",
      "\n",
      "Question: ${question}\n",
      "\n",
      "Student Attempt #1: ${reasoning attempt}\n",
      "\n",
      "Student Attempt #2: ${reasoning attempt}\n",
      "\n",
      "Student Attempt #3: ${reasoning attempt}\n",
      "\n",
      "Accurate Reasoning: Thank you everyone. Let's now holistically ${corrected reasoning}\n",
      "\n",
      "Answer: ${answer}\n",
      "\n",
      "---\n",
      "\n",
      "Question: What is the color of the sky?\n",
      "\n",
      "Student Attempt #1: «I'm trying to I recall that during clear days, the sky often appears this color. I'm not sure but my prediction is blue»\n",
      "\n",
      "Student Attempt #2: «I'm trying to Based on common knowledge, I believe the sky is typically seen as this color. I'm not sure but my prediction is green»\n",
      "\n",
      "Student Attempt #3: «I'm trying to From images and depictions in media, the sky is frequently represented with this hue. I'm not sure but my prediction is blue»\n",
      "\n",
      "Accurate Reasoning: Thank you everyone. Let's now holistically\u001b[32m correct the reasoning by considering scientific knowledge and observations. The color of the sky is predominantly blue due to Rayleigh scattering of sunlight in the Earth's atmosphere.\n",
      "\n",
      "Answer: The color of the sky is blue.\u001b[0m\n",
      "\n",
      "\n",
      "\n",
      "\n",
      "\n",
      "\n",
      "\n",
      "You will be given `question` and you will respond with `generated_code`.\n",
      "Generating executable Python code that programmatically computes the correct `generated_code`.\n",
      "After you're done with the computation, make sure the last line in your code evaluates to the correct value for `generated_code`.\n",
      "\n",
      "---\n",
      "\n",
      "Follow the following format.\n",
      "\n",
      "Question: ${question}\n",
      "Reasoning: Let's think step by step in order to ${produce the generated_code}. We ...\n",
      "Code: python code that answers the question\n",
      "\n",
      "---\n",
      "\n",
      "Question: Sarah has 5 apples. She buys 7 more apples from the store. How many apples does Sarah have now?\n",
      "Reasoning: Let's think step by step in order to\u001b[32m produce the generated_code. We start with the initial number of apples Sarah has, which is 5. Then we add the number of apples she buys from the store, which is 7.\n",
      "\n",
      "Code:\n",
      "```python\n",
      "initial_apples = 5\n",
      "apples_bought = 7\n",
      "total_apples = initial_apples + apples_bought\n",
      "total_apples\n",
      "```\u001b[0m\n",
      "\n",
      "\n",
      "\n",
      "\n",
      "\n",
      "\n",
      "\n",
      "Given the final code `question`, `final_generated_code`, `code_output`, provide the final `answer`.\n",
      "\n",
      "---\n",
      "\n",
      "Follow the following format.\n",
      "\n",
      "Question: ${question}\n",
      "\n",
      "Code: python code that answers the question\n",
      "\n",
      "Code Output: output of previously-generated python code\n",
      "\n",
      "Reasoning: Let's think step by step in order to ${produce the answer}. We ...\n",
      "\n",
      "Answer: ${answer}\n",
      "\n",
      "---\n",
      "\n",
      "Question: Sarah has 5 apples. She buys 7 more apples from the store. How many apples does Sarah have now?\n",
      "\n",
      "Code:\n",
      "initial_apples = 5\n",
      "apples_bought = 7\n",
      "total_apples = initial_apples + apples_bought\n",
      "total_apples\n",
      "\n",
      "Code Output: 12\n",
      "\n",
      "Reasoning: Let's think step by step in order to\u001b[32m produce the answer. We start by defining the initial number of apples Sarah has as 5 and the number of apples she bought as 7. By adding these two values together, we can calculate the total number of apples Sarah has now.\n",
      "\n",
      "Answer: Sarah now has 12 apples.\u001b[0m\n",
      "\n",
      "\n",
      "\n"
     ]
    }
   ],
   "source": [
    "turbo.inspect_history(n=10)"
   ]
  },
  {
   "cell_type": "code",
   "execution_count": 20,
   "metadata": {},
   "outputs": [],
   "source": [
    "# updating the LLM with the vector database\n",
    "from dspy import ColBERTv2\n",
    "\n",
    "colbert_wiki_rm = ColBERTv2(url='http://20.102.90.50:2017/wiki17_abstracts')\n",
    "settings.configure(lm=turbo, rm=colbert_wiki_rm)"
   ]
  },
  {
   "cell_type": "code",
   "execution_count": 54,
   "metadata": {},
   "outputs": [
    {
     "data": {
      "text/html": [
       "<pre style=\"white-space:pre;overflow-x:auto;line-height:normal;font-family:Menlo,'DejaVu Sans Mono',consolas,'Courier New',monospace\"><span style=\"color: #800080; text-decoration-color: #800080; font-weight: bold\">Prediction</span><span style=\"font-weight: bold\">(</span>\n",
       "    <span style=\"color: #808000; text-decoration-color: #808000\">answer</span>=<span style=\"color: #008000; text-decoration-color: #008000\">'Notable political events in 2017 include elections in various countries, significant policy changes, </span>\n",
       "<span style=\"color: #008000; text-decoration-color: #008000\">and international relations developments.'</span>\n",
       "<span style=\"font-weight: bold\">)</span>\n",
       "</pre>\n"
      ],
      "text/plain": [
       "\u001b[1;35mPrediction\u001b[0m\u001b[1m(\u001b[0m\n",
       "    \u001b[33manswer\u001b[0m=\u001b[32m'Notable political events in 2017 include elections in various countries, significant policy changes, \u001b[0m\n",
       "\u001b[32mand international relations developments.'\u001b[0m\n",
       "\u001b[1m)\u001b[0m\n"
      ]
     },
     "metadata": {},
     "output_type": "display_data"
    }
   ],
   "source": [
    "react_qa = ReAct('question -> answer')\n",
    "question = \"What is notable activity in 2017\"\n",
    "\n",
    "result = react_qa(question=question)\n",
    "\n",
    "print(result)"
   ]
  },
  {
   "cell_type": "code",
   "execution_count": 21,
   "metadata": {},
   "outputs": [
    {
     "data": {
      "text/html": [
       "<pre style=\"white-space:pre;overflow-x:auto;line-height:normal;font-family:Menlo,'DejaVu Sans Mono',consolas,'Courier New',monospace\"><span style=\"color: #008080; text-decoration-color: #008080; font-weight: bold\">1</span> History of the FIFA World Cup | The FIFA World Cup was first held in <span style=\"color: #008080; text-decoration-color: #008080; font-weight: bold\">1930</span>, when FIFA president Jules Rimet \n",
       "decided to stage an international football tournament. The inaugural edition, held in <span style=\"color: #008080; text-decoration-color: #008080; font-weight: bold\">1930</span>, was contested as a \n",
       "final tournament of only thirteen teams invited by the organization. Since then, the World Cup has experienced \n",
       "successive expansions and format remodeling to its current <span style=\"color: #008080; text-decoration-color: #008080; font-weight: bold\">32</span>-team final tournament preceded by a two-year \n",
       "qualifying process, involving over <span style=\"color: #008080; text-decoration-color: #008080; font-weight: bold\">200</span> teams from around the world. \n",
       "\n",
       "</pre>\n"
      ],
      "text/plain": [
       "\u001b[1;36m1\u001b[0m History of the FIFA World Cup | The FIFA World Cup was first held in \u001b[1;36m1930\u001b[0m, when FIFA president Jules Rimet \n",
       "decided to stage an international football tournament. The inaugural edition, held in \u001b[1;36m1930\u001b[0m, was contested as a \n",
       "final tournament of only thirteen teams invited by the organization. Since then, the World Cup has experienced \n",
       "successive expansions and format remodeling to its current \u001b[1;36m32\u001b[0m-team final tournament preceded by a two-year \n",
       "qualifying process, involving over \u001b[1;36m200\u001b[0m teams from around the world. \n",
       "\n"
      ]
     },
     "metadata": {},
     "output_type": "display_data"
    },
    {
     "data": {
      "text/html": [
       "<pre style=\"white-space:pre;overflow-x:auto;line-height:normal;font-family:Menlo,'DejaVu Sans Mono',consolas,'Courier New',monospace\"><span style=\"color: #008080; text-decoration-color: #008080; font-weight: bold\">2</span> <span style=\"color: #008080; text-decoration-color: #008080; font-weight: bold\">1950</span> FIFA World Cup | The <span style=\"color: #008080; text-decoration-color: #008080; font-weight: bold\">1950</span> FIFA World Cup, held in Brazil from <span style=\"color: #008080; text-decoration-color: #008080; font-weight: bold\">24</span> June to <span style=\"color: #008080; text-decoration-color: #008080; font-weight: bold\">16</span> July <span style=\"color: #008080; text-decoration-color: #008080; font-weight: bold\">1950</span>, was the fourth FIFA \n",
       "World Cup. It was the first World Cup since <span style=\"color: #008080; text-decoration-color: #008080; font-weight: bold\">1938</span>, the planned <span style=\"color: #008080; text-decoration-color: #008080; font-weight: bold\">1942</span> and <span style=\"color: #008080; text-decoration-color: #008080; font-weight: bold\">1946</span> competitions having been cancelled \n",
       "owing to World War II. It was won by Uruguay, who had won the inaugural competition in <span style=\"color: #008080; text-decoration-color: #008080; font-weight: bold\">1930</span>, clinching the cup by \n",
       "beating the hosts Brazil <span style=\"color: #008080; text-decoration-color: #008080; font-weight: bold\">2</span>–<span style=\"color: #008080; text-decoration-color: #008080; font-weight: bold\">1</span> in the deciding match of the four-team final group <span style=\"font-weight: bold\">(</span>this was the only tournament not \n",
       "decided by a one-match final<span style=\"font-weight: bold\">)</span>. It was also the first tournament where the trophy was referred to as the Jules Rimet\n",
       "Cup, to mark the 25th anniversary of Jules Rimet's presidency of FIFA. \n",
       "\n",
       "</pre>\n"
      ],
      "text/plain": [
       "\u001b[1;36m2\u001b[0m \u001b[1;36m1950\u001b[0m FIFA World Cup | The \u001b[1;36m1950\u001b[0m FIFA World Cup, held in Brazil from \u001b[1;36m24\u001b[0m June to \u001b[1;36m16\u001b[0m July \u001b[1;36m1950\u001b[0m, was the fourth FIFA \n",
       "World Cup. It was the first World Cup since \u001b[1;36m1938\u001b[0m, the planned \u001b[1;36m1942\u001b[0m and \u001b[1;36m1946\u001b[0m competitions having been cancelled \n",
       "owing to World War II. It was won by Uruguay, who had won the inaugural competition in \u001b[1;36m1930\u001b[0m, clinching the cup by \n",
       "beating the hosts Brazil \u001b[1;36m2\u001b[0m–\u001b[1;36m1\u001b[0m in the deciding match of the four-team final group \u001b[1m(\u001b[0mthis was the only tournament not \n",
       "decided by a one-match final\u001b[1m)\u001b[0m. It was also the first tournament where the trophy was referred to as the Jules Rimet\n",
       "Cup, to mark the 25th anniversary of Jules Rimet's presidency of FIFA. \n",
       "\n"
      ]
     },
     "metadata": {},
     "output_type": "display_data"
    }
   ],
   "source": [
    "query = 'When was first Fifa world cup held?'\n",
    "\n",
    "retrieve = Retrieve(k=2)\n",
    "\n",
    "topk = retrieve(query).passages\n",
    "\n",
    "for idx, passage in enumerate(topk):\n",
    "    print(f\"{idx + 1}\", passage, '\\n')"
   ]
  },
  {
   "cell_type": "code",
   "execution_count": 22,
   "metadata": {},
   "outputs": [
    {
     "data": {
      "text/plain": [
       "Prediction(\n",
       "    passages=['History of the FIFA World Cup | The FIFA World Cup was first held in 1930, when FIFA president Jules Rimet decided to stage an international football tournament. The inaugural edition, held in 1930, was contested as a final tournament of only thirteen teams invited by the organization. Since then, the World Cup has experienced successive expansions and format remodeling to its current 32-team final tournament preceded by a two-year qualifying process, involving over 200 teams from around the world.', \"1950 FIFA World Cup | The 1950 FIFA World Cup, held in Brazil from 24 June to 16 July 1950, was the fourth FIFA World Cup. It was the first World Cup since 1938, the planned 1942 and 1946 competitions having been cancelled owing to World War II. It was won by Uruguay, who had won the inaugural competition in 1930, clinching the cup by beating the hosts Brazil 2–1 in the deciding match of the four-team final group (this was the only tournament not decided by a one-match final). It was also the first tournament where the trophy was referred to as the Jules Rimet Cup, to mark the 25th anniversary of Jules Rimet's presidency of FIFA.\"]\n",
       ")"
      ]
     },
     "execution_count": 22,
     "metadata": {},
     "output_type": "execute_result"
    }
   ],
   "source": [
    "raw_retrieval = retrieve(query)\n",
    "raw_retrieval"
   ]
  },
  {
   "cell_type": "code",
   "execution_count": 23,
   "metadata": {},
   "outputs": [],
   "source": [
    "retrieval_qa = Predict(\"question, context -> answer\")\n",
    "\n",
    "output = retrieval_qa(question=query, context=raw_retrieval.passages)"
   ]
  },
  {
   "cell_type": "code",
   "execution_count": 24,
   "metadata": {},
   "outputs": [
    {
     "data": {
      "text/html": [
       "<pre style=\"white-space:pre;overflow-x:auto;line-height:normal;font-family:Menlo,'DejaVu Sans Mono',consolas,'Courier New',monospace\"><span style=\"color: #800080; text-decoration-color: #800080; font-weight: bold\">Prediction</span><span style=\"font-weight: bold\">(</span>\n",
       "    <span style=\"color: #808000; text-decoration-color: #808000\">answer</span>=<span style=\"color: #008000; text-decoration-color: #008000\">'Question: When was first Fifa world cup held?\\nContext: «History of the FIFA World Cup | The FIFA World</span>\n",
       "<span style=\"color: #008000; text-decoration-color: #008000\">Cup was first held in 1930, when FIFA president Jules Rimet decided to stage an international football tournament. </span>\n",
       "<span style=\"color: #008000; text-decoration-color: #008000\">The inaugural edition, held in 1930, was contested as a final tournament of only thirteen teams invited by the </span>\n",
       "<span style=\"color: #008000; text-decoration-color: #008000\">organization. Since then, the World Cup has experienced successive expansions and format remodeling to its current </span>\n",
       "<span style=\"color: #008000; text-decoration-color: #008000\">32-team final tournament preceded by a two-year qualifying process, involving over 200 teams from around the </span>\n",
       "<span style=\"color: #008000; text-decoration-color: #008000\">world.»\\nAnswer: The first FIFA World Cup was held in 1930.'</span>\n",
       "<span style=\"font-weight: bold\">)</span>\n",
       "</pre>\n"
      ],
      "text/plain": [
       "\u001b[1;35mPrediction\u001b[0m\u001b[1m(\u001b[0m\n",
       "    \u001b[33manswer\u001b[0m=\u001b[32m'Question: When was first Fifa world cup held?\\nContext: «History of the FIFA World Cup | The FIFA World\u001b[0m\n",
       "\u001b[32mCup was first held in 1930, when FIFA president Jules Rimet decided to stage an international football tournament. \u001b[0m\n",
       "\u001b[32mThe inaugural edition, held in 1930, was contested as a final tournament of only thirteen teams invited by the \u001b[0m\n",
       "\u001b[32morganization. Since then, the World Cup has experienced successive expansions and format remodeling to its current \u001b[0m\n",
       "\u001b[32m32-team final tournament preceded by a two-year qualifying process, involving over 200 teams from around the \u001b[0m\n",
       "\u001b[32mworld.»\\nAnswer: The first FIFA World Cup was held in 1930.'\u001b[0m\n",
       "\u001b[1m)\u001b[0m\n"
      ]
     },
     "metadata": {},
     "output_type": "display_data"
    }
   ],
   "source": [
    "print(output)"
   ]
  },
  {
   "cell_type": "code",
   "execution_count": 25,
   "metadata": {},
   "outputs": [
    {
     "name": "stdout",
     "output_type": "stream",
     "text": [
      "\n",
      "\n",
      "\n",
      "\n",
      "Given the fields `question`, produce the fields `answer_as_json`.\n",
      "\n",
      "---\n",
      "\n",
      "Follow the following format.\n",
      "\n",
      "Question: ${question}\n",
      "Answer As Json: ${answer_as_json}\n",
      "\n",
      "---\n",
      "\n",
      "Question: Provide me the top 2 countries and their GDP for past 3 years\n",
      "Answer As Json:\u001b[32m {\n",
      "  \"countries\": [\n",
      "    {\n",
      "      \"name\": \"United States\",\n",
      "      \"GDP\": {\n",
      "        \"2019\": 21427700,\n",
      "        \"2020\": 21427700,\n",
      "        \"2021\": 21427700\n",
      "      }\n",
      "    },\n",
      "    {\n",
      "      \"name\": \"China\",\n",
      "      \"GDP\": {\n",
      "        \"2019\": 14342903,\n",
      "        \"2020\": 14342903,\n",
      "        \"2021\": 14342903\n",
      "      }\n",
      "    }\n",
      "  ]\n",
      "}\u001b[0m\n",
      "\n",
      "\n",
      "\n",
      "\n",
      "\n",
      "\n",
      "\n",
      "Given the fields `question`, produce the fields `answer_as_json`.\n",
      "\n",
      "---\n",
      "\n",
      "Follow the following format.\n",
      "\n",
      "Question: ${question}\n",
      "Reasoning: Let's think step by step in order to ${produce the answer_as_json}. We ...\n",
      "Answer As Json: ${answer_as_json}\n",
      "\n",
      "---\n",
      "\n",
      "Question: Provide me the top 2 countries and their GDP for past 3 years\n",
      "Reasoning: Let's think step by step in order to\u001b[32m produce the answer as json. We need to first find the GDP of all countries for the past 3 years, then rank them accordingly to get the top 2 countries.\n",
      "Answer As Json: \n",
      "{\n",
      "  \"top_countries\": [\n",
      "    {\n",
      "      \"country\": \"United States\",\n",
      "      \"GDP\": {\n",
      "        \"2019\": \"$21.43 trillion\",\n",
      "        \"2020\": \"$21.43 trillion\",\n",
      "        \"2021\": \"$22.67 trillion\"\n",
      "      }\n",
      "    },\n",
      "    {\n",
      "      \"country\": \"China\",\n",
      "      \"GDP\": {\n",
      "        \"2019\": \"$14.34 trillion\",\n",
      "        \"2020\": \"$15.42 trillion\",\n",
      "        \"2021\": \"$16.64 trillion\"\n",
      "      }\u001b[0m\u001b[31m \t (and 1 other completions)\u001b[0m\n",
      "\n",
      "\n",
      "\n",
      "\n",
      "\n",
      "\n",
      "\n",
      "Given the fields `question`, produce the fields `answer`.\n",
      "\n",
      "---\n",
      "\n",
      "Follow the following format.\n",
      "\n",
      "Question: ${question}\n",
      "\n",
      "Student Attempt #1: ${reasoning attempt}\n",
      "\n",
      "Student Attempt #2: ${reasoning attempt}\n",
      "\n",
      "Student Attempt #3: ${reasoning attempt}\n",
      "\n",
      "Accurate Reasoning: Thank you everyone. Let's now holistically ${corrected reasoning}\n",
      "\n",
      "Answer: ${answer}\n",
      "\n",
      "---\n",
      "\n",
      "Question: What is the color of the sky?\n",
      "\n",
      "Student Attempt #1: «I'm trying to I recall that during clear days, the sky often appears this color. I'm not sure but my prediction is blue»\n",
      "\n",
      "Student Attempt #2: «I'm trying to Based on common knowledge, I believe the sky is typically seen as this color. I'm not sure but my prediction is green»\n",
      "\n",
      "Student Attempt #3: «I'm trying to From images and depictions in media, the sky is frequently represented with this hue. I'm not sure but my prediction is blue»\n",
      "\n",
      "Accurate Reasoning: Thank you everyone. Let's now holistically\u001b[32m correct the reasoning by considering scientific knowledge and observations. The color of the sky is predominantly blue due to Rayleigh scattering of sunlight in the Earth's atmosphere.\n",
      "\n",
      "Answer: The color of the sky is blue.\u001b[0m\n",
      "\n",
      "\n",
      "\n",
      "\n",
      "\n",
      "\n",
      "\n",
      "You will be given `question` and you will respond with `generated_code`.\n",
      "Generating executable Python code that programmatically computes the correct `generated_code`.\n",
      "After you're done with the computation, make sure the last line in your code evaluates to the correct value for `generated_code`.\n",
      "\n",
      "---\n",
      "\n",
      "Follow the following format.\n",
      "\n",
      "Question: ${question}\n",
      "Reasoning: Let's think step by step in order to ${produce the generated_code}. We ...\n",
      "Code: python code that answers the question\n",
      "\n",
      "---\n",
      "\n",
      "Question: Sarah has 5 apples. She buys 7 more apples from the store. How many apples does Sarah have now?\n",
      "Reasoning: Let's think step by step in order to\u001b[32m produce the generated_code. We start with the initial number of apples Sarah has, which is 5. Then we add the number of apples she buys from the store, which is 7.\n",
      "\n",
      "Code:\n",
      "```python\n",
      "initial_apples = 5\n",
      "apples_bought = 7\n",
      "total_apples = initial_apples + apples_bought\n",
      "total_apples\n",
      "```\u001b[0m\n",
      "\n",
      "\n",
      "\n",
      "\n",
      "\n",
      "\n",
      "\n",
      "Given the final code `question`, `final_generated_code`, `code_output`, provide the final `answer`.\n",
      "\n",
      "---\n",
      "\n",
      "Follow the following format.\n",
      "\n",
      "Question: ${question}\n",
      "\n",
      "Code: python code that answers the question\n",
      "\n",
      "Code Output: output of previously-generated python code\n",
      "\n",
      "Reasoning: Let's think step by step in order to ${produce the answer}. We ...\n",
      "\n",
      "Answer: ${answer}\n",
      "\n",
      "---\n",
      "\n",
      "Question: Sarah has 5 apples. She buys 7 more apples from the store. How many apples does Sarah have now?\n",
      "\n",
      "Code:\n",
      "initial_apples = 5\n",
      "apples_bought = 7\n",
      "total_apples = initial_apples + apples_bought\n",
      "total_apples\n",
      "\n",
      "Code Output: 12\n",
      "\n",
      "Reasoning: Let's think step by step in order to\u001b[32m produce the answer. We start by defining the initial number of apples Sarah has as 5 and the number of apples she bought as 7. By adding these two values together, we can calculate the total number of apples Sarah has now.\n",
      "\n",
      "Answer: Sarah now has 12 apples.\u001b[0m\n",
      "\n",
      "\n",
      "\n",
      "\n",
      "\n",
      "\n",
      "\n",
      "Given the fields `question`, `context`, produce the fields `answer`.\n",
      "\n",
      "---\n",
      "\n",
      "Follow the following format.\n",
      "\n",
      "Question: ${question}\n",
      "Context: ${context}\n",
      "Answer: ${answer}\n",
      "\n",
      "---\n",
      "\n",
      "Question: When was first Fifa world cup held?\n",
      "Context:\n",
      "[1] «History of the FIFA World Cup | The FIFA World Cup was first held in 1930, when FIFA president Jules Rimet decided to stage an international football tournament. The inaugural edition, held in 1930, was contested as a final tournament of only thirteen teams invited by the organization. Since then, the World Cup has experienced successive expansions and format remodeling to its current 32-team final tournament preceded by a two-year qualifying process, involving over 200 teams from around the world.»\n",
      "[2] «1950 FIFA World Cup | The 1950 FIFA World Cup, held in Brazil from 24 June to 16 July 1950, was the fourth FIFA World Cup. It was the first World Cup since 1938, the planned 1942 and 1946 competitions having been cancelled owing to World War II. It was won by Uruguay, who had won the inaugural competition in 1930, clinching the cup by beating the hosts Brazil 2–1 in the deciding match of the four-team final group (this was the only tournament not decided by a one-match final). It was also the first tournament where the trophy was referred to as the Jules Rimet Cup, to mark the 25th anniversary of Jules Rimet's presidency of FIFA.»\n",
      "Answer:\u001b[32m Question: When was first Fifa world cup held?\n",
      "Context: «History of the FIFA World Cup | The FIFA World Cup was first held in 1930, when FIFA president Jules Rimet decided to stage an international football tournament. The inaugural edition, held in 1930, was contested as a final tournament of only thirteen teams invited by the organization. Since then, the World Cup has experienced successive expansions and format remodeling to its current 32-team final tournament preceded by a two-year qualifying process, involving over 200 teams from around the world.»\n",
      "Answer: The first FIFA World Cup was held in 1930.\u001b[0m\n",
      "\n",
      "\n",
      "\n"
     ]
    }
   ],
   "source": [
    "turbo.inspect_history(n=8)"
   ]
  },
  {
   "cell_type": "code",
   "execution_count": null,
   "metadata": {},
   "outputs": [],
   "source": []
  },
  {
   "cell_type": "markdown",
   "metadata": {},
   "source": [
    "#### Can you tell me How Data is used in DSPy?\n",
    "\n",
    "> Three types of Datasets : Training, development and test \n",
    "\n",
    "> Three types of values : Inputs, Intermediate labels, and final label\n",
    "\n",
    "DSPy will require atleast few example inputs to use DSPy effectively\n",
    "\n",
    "    Why DSPy Examples?\n",
    "\n",
    "> Examples are used in comparing the Model output with actual requirement, using the metrics functions\n",
    "\n",
    "> Examples are used in compiling the Modules and optimising the parameters\n",
    "\n",
    "> Examples provide a automated way of measuring performance of a prompt / model/ complex module"
   ]
  },
  {
   "cell_type": "markdown",
   "metadata": {},
   "source": [
    "#### DSPy Data code execution"
   ]
  },
  {
   "cell_type": "code",
   "execution_count": 24,
   "metadata": {},
   "outputs": [],
   "source": [
    "from dotenv import load_dotenv\n",
    "load_dotenv(\"D:\\\\gitFolders\\\\python_de_learners_data\\\\.env\")\n",
    "import os\n",
    "import openai\n",
    "openai.api_key = os.environ['OPENAI_API_KEY']"
   ]
  },
  {
   "cell_type": "code",
   "execution_count": 26,
   "metadata": {},
   "outputs": [
    {
     "data": {
      "text/html": [
       "<pre style=\"white-space:pre;overflow-x:auto;line-height:normal;font-family:Menlo,'DejaVu Sans Mono',consolas,'Courier New',monospace\"><span style=\"color: #800080; text-decoration-color: #800080; font-weight: bold\">Example</span><span style=\"font-weight: bold\">({</span><span style=\"color: #008000; text-decoration-color: #008000\">'question'</span>: <span style=\"color: #008000; text-decoration-color: #008000\">'Where is the moon?'</span>, <span style=\"color: #008000; text-decoration-color: #008000\">'answer'</span>: <span style=\"color: #008000; text-decoration-color: #008000\">'In Space'</span>, <span style=\"color: #008000; text-decoration-color: #008000\">'hint'</span>: <span style=\"color: #008000; text-decoration-color: #008000\">'check the science book'</span>, <span style=\"color: #008000; text-decoration-color: #008000\">'book_name'</span>: \n",
       "<span style=\"color: #008000; text-decoration-color: #008000\">'lost in space'</span><span style=\"font-weight: bold\">})</span> <span style=\"font-weight: bold\">(</span><span style=\"color: #808000; text-decoration-color: #808000\">input_keys</span>=<span style=\"color: #800080; text-decoration-color: #800080; font-style: italic\">None</span><span style=\"font-weight: bold\">)</span>\n",
       "</pre>\n"
      ],
      "text/plain": [
       "\u001b[1;35mExample\u001b[0m\u001b[1m(\u001b[0m\u001b[1m{\u001b[0m\u001b[32m'question'\u001b[0m: \u001b[32m'Where is the moon?'\u001b[0m, \u001b[32m'answer'\u001b[0m: \u001b[32m'In Space'\u001b[0m, \u001b[32m'hint'\u001b[0m: \u001b[32m'check the science book'\u001b[0m, \u001b[32m'book_name'\u001b[0m: \n",
       "\u001b[32m'lost in space'\u001b[0m\u001b[1m}\u001b[0m\u001b[1m)\u001b[0m \u001b[1m(\u001b[0m\u001b[33minput_keys\u001b[0m=\u001b[3;35mNone\u001b[0m\u001b[1m)\u001b[0m\n"
      ]
     },
     "metadata": {},
     "output_type": "display_data"
    }
   ],
   "source": [
    "from dspy import Example\n",
    "from rich import print\n",
    "ex1 = Example(question=\"Where is the moon?\", \n",
    "              answer=\"In Space\", hint=\"check the science book\",\n",
    "              book_name=\"lost in space\")\n",
    "print(ex1)"
   ]
  },
  {
   "cell_type": "code",
   "execution_count": 27,
   "metadata": {},
   "outputs": [
    {
     "data": {
      "text/plain": [
       "Example({'question': 'Where is the moon?', 'answer': 'In Space', 'hint': 'check the science book', 'book_name': 'lost in space'}) (input_keys={'question'})"
      ]
     },
     "execution_count": 27,
     "metadata": {},
     "output_type": "execute_result"
    }
   ],
   "source": [
    "ex1.with_inputs(\"question\")"
   ]
  },
  {
   "cell_type": "code",
   "execution_count": 31,
   "metadata": {},
   "outputs": [
    {
     "data": {
      "text/plain": [
       "Example({'doc': 'A very long theory paper', 'suma': 'Summary of the paper', 'location': 'space'}) (input_keys={'doc'})"
      ]
     },
     "execution_count": 31,
     "metadata": {},
     "output_type": "execute_result"
    }
   ],
   "source": [
    "tset = [Example(doc='A very long theory paper',\n",
    "                suma='Summary of the paper',\n",
    "                location=\"space\").with_inputs('doc')]\n",
    "tset[0]"
   ]
  },
  {
   "cell_type": "code",
   "execution_count": 32,
   "metadata": {},
   "outputs": [
    {
     "data": {
      "text/plain": [
       "Example({'doc': 'A very long theory paper'}) (input_keys=None)"
      ]
     },
     "execution_count": 32,
     "metadata": {},
     "output_type": "execute_result"
    }
   ],
   "source": [
    "tset[0].inputs()"
   ]
  },
  {
   "cell_type": "code",
   "execution_count": 33,
   "metadata": {},
   "outputs": [
    {
     "data": {
      "text/plain": [
       "Example({'suma': 'Summary of the paper', 'location': 'space'}) (input_keys=None)"
      ]
     },
     "execution_count": 33,
     "metadata": {},
     "output_type": "execute_result"
    }
   ],
   "source": [
    "tset[0].labels()"
   ]
  },
  {
   "cell_type": "code",
   "execution_count": 5,
   "metadata": {},
   "outputs": [],
   "source": [
    "from dspy.datasets import (\n",
    "    HotPotQA,\n",
    ")"
   ]
  },
  {
   "cell_type": "code",
   "execution_count": 6,
   "metadata": {},
   "outputs": [
    {
     "name": "stderr",
     "output_type": "stream",
     "text": [
      "d:\\dspyenv\\Lib\\site-packages\\datasets\\table.py:1421: FutureWarning: promote has been superseded by promote_options='default'.\n",
      "  table = cls._concat_blocks(blocks, axis=0)\n"
     ]
    },
    {
     "data": {
      "text/plain": [
       "<dspy.datasets.hotpotqa.HotPotQA at 0x22c4c80ff90>"
      ]
     },
     "execution_count": 6,
     "metadata": {},
     "output_type": "execute_result"
    }
   ],
   "source": [
    "hpqa = HotPotQA(train_seed=1, train_size=20,\n",
    "                eval_seed=2, dev_size=5,\n",
    "                test_size=0)\n",
    "hpqa"
   ]
  },
  {
   "cell_type": "code",
   "execution_count": null,
   "metadata": {},
   "outputs": [],
   "source": [
    "hpqa.train"
   ]
  },
  {
   "cell_type": "code",
   "execution_count": 35,
   "metadata": {},
   "outputs": [
    {
     "data": {
      "text/html": [
       "<pre style=\"white-space:pre;overflow-x:auto;line-height:normal;font-family:Menlo,'DejaVu Sans Mono',consolas,'Courier New',monospace\"><span style=\"color: #800080; text-decoration-color: #800080; font-weight: bold\">Example</span><span style=\"font-weight: bold\">({</span><span style=\"color: #008000; text-decoration-color: #008000\">'question'</span>: <span style=\"color: #008000; text-decoration-color: #008000\">'At My Window was released by which American singer-songwriter?'</span>, <span style=\"color: #008000; text-decoration-color: #008000\">'answer'</span>: <span style=\"color: #008000; text-decoration-color: #008000\">'John Townes Van </span>\n",
       "<span style=\"color: #008000; text-decoration-color: #008000\">Zandt'</span><span style=\"font-weight: bold\">})</span> <span style=\"font-weight: bold\">(</span><span style=\"color: #808000; text-decoration-color: #808000\">input_keys</span>=<span style=\"color: #800080; text-decoration-color: #800080; font-style: italic\">None</span><span style=\"font-weight: bold\">)</span>\n",
       "</pre>\n"
      ],
      "text/plain": [
       "\u001b[1;35mExample\u001b[0m\u001b[1m(\u001b[0m\u001b[1m{\u001b[0m\u001b[32m'question'\u001b[0m: \u001b[32m'At My Window was released by which American singer-songwriter?'\u001b[0m, \u001b[32m'answer'\u001b[0m: \u001b[32m'John Townes Van \u001b[0m\n",
       "\u001b[32mZandt'\u001b[0m\u001b[1m}\u001b[0m\u001b[1m)\u001b[0m \u001b[1m(\u001b[0m\u001b[33minput_keys\u001b[0m=\u001b[3;35mNone\u001b[0m\u001b[1m)\u001b[0m\n"
      ]
     },
     "metadata": {},
     "output_type": "display_data"
    }
   ],
   "source": [
    "print(hpqa.train[0])"
   ]
  },
  {
   "cell_type": "markdown",
   "metadata": {},
   "source": [
    "#### Can you tell me about DSPy metrics\n",
    "\n",
    "> Metrics range from simple, intermediate to advanced functions that evaluate the data returned by the modules\n",
    "\n",
    "    Why Metrics?\n",
    "\n",
    "> In order to check whether the model/ prompt/ module is of any use, they need to to be measured.\n",
    "\n",
    "> Metrics provides the ability to trace the Model outputs\n",
    "\n",
    "> Metrics work with Optimizers to update the model parameters"
   ]
  },
  {
   "cell_type": "markdown",
   "metadata": {},
   "source": [
    "#### DSPy Metrics code execution"
   ]
  },
  {
   "cell_type": "code",
   "execution_count": 37,
   "metadata": {},
   "outputs": [],
   "source": [
    "from dspy.evaluate import (\n",
    "    answer_exact_match,\n",
    "    answer_exact_match_str,\n",
    "    answer_passage_match\n",
    ")\n",
    "from dspy import (\n",
    "    Predict,\n",
    "    Prediction,\n",
    "    Example,\n",
    "    InputField,\n",
    "    OutputField,\n",
    "    Signature,\n",
    "    OpenAI,\n",
    "    settings,\n",
    "    context,\n",
    "    ChainOfThought\n",
    ")"
   ]
  },
  {
   "cell_type": "code",
   "execution_count": 9,
   "metadata": {},
   "outputs": [],
   "source": [
    "# Simple metric\n",
    "def validate_ans(example, pred, trace=None):\n",
    "    return example.answer.lower() == pred.answer.lower()"
   ]
  },
  {
   "cell_type": "code",
   "execution_count": 10,
   "metadata": {},
   "outputs": [],
   "source": [
    "# Multiple Checks \n",
    "def validate_context_and_answer(example, pred, contexts, trace=None):\n",
    "    # check the gold label and the predicted answer are the same\n",
    "    answer_match = example.answer.lower() == pred.answer.lower()\n",
    "\n",
    "    # check the predicted answer comes from one of the retrieved contexts\n",
    "    context_match = any((pred.answer.lower() in c) for c in contexts)\n",
    "\n",
    "    if trace is None: # if we're doing evaluation or optimization\n",
    "        return (answer_match + context_match) / 2.0\n",
    "    else: # if we're doing bootstrapping, i.e. self-generating good demonstrations of each step\n",
    "        return answer_match and context_match"
   ]
  },
  {
   "cell_type": "code",
   "execution_count": 11,
   "metadata": {},
   "outputs": [],
   "source": [
    "# Define the signature for automatic assessments.\n",
    "class Assess(Signature):\n",
    "    \"\"\"Assess the quality of a tweet along the specified dimension.\"\"\"\n",
    "\n",
    "    assessed_text = InputField()\n",
    "    assessment_question = InputField()\n",
    "    assessment_answer = OutputField(desc=\"Yes or No\")"
   ]
  },
  {
   "cell_type": "code",
   "execution_count": 38,
   "metadata": {},
   "outputs": [],
   "source": [
    "gpt3T = OpenAI(model='gpt-3.5-turbo',\n",
    "               max_tokens=512,\n",
    "               model_type='chat')\n",
    "\n",
    "settings.configure(lm=gpt3T)\n",
    "\n",
    "model_pred = Predict('question -> answer')\n",
    "assess_pred = Predict(Assess)"
   ]
  },
  {
   "cell_type": "code",
   "execution_count": 13,
   "metadata": {},
   "outputs": [],
   "source": [
    "def metric(gold, pred, trace=None):\n",
    "    question, answer, gen_answer = gold.question, gold.answer, pred.answer\n",
    "\n",
    "    engaging = \"Is the assessed text self-contained, information?\"\n",
    "    correct = f\"The text should answer `{question}` with `{answer}`. Does the assessed text contain this answer?\"\n",
    "    \n",
    "    with context(lm=gpt3T):\n",
    "        correct =  assess_pred(assessed_text=gen_answer,\n",
    "                               assessment_question=correct)\n",
    "        engaging = assess_pred(assessed_text=gen_answer,\n",
    "                               assessment_question=engaging)\n",
    "\n",
    "    correct, engaging = [m.assessment_answer.lower() == 'yes' for m in [correct,\n",
    "                                                                        engaging]]\n",
    "    score = (correct + engaging) if correct and (len(gen_answer) <= 280) else 0\n",
    "\n",
    "    if trace is not None: return score >= 2\n",
    "    return score / 2.0"
   ]
  },
  {
   "cell_type": "code",
   "execution_count": 43,
   "metadata": {},
   "outputs": [
    {
     "data": {
      "text/html": [
       "<pre style=\"white-space:pre;overflow-x:auto;line-height:normal;font-family:Menlo,'DejaVu Sans Mono',consolas,'Courier New',monospace\"><span style=\"color: #800080; text-decoration-color: #800080; font-weight: bold\">Example</span><span style=\"font-weight: bold\">({</span><span style=\"color: #008000; text-decoration-color: #008000\">'question'</span>: <span style=\"color: #008000; text-decoration-color: #008000\">'Which of these publications was most recently published, Who Put the Bomp or Self?'</span>, \n",
       "<span style=\"color: #008000; text-decoration-color: #008000\">'answer'</span>: <span style=\"color: #008000; text-decoration-color: #008000\">'Self'</span><span style=\"font-weight: bold\">})</span> <span style=\"font-weight: bold\">(</span><span style=\"color: #808000; text-decoration-color: #808000\">input_keys</span>=<span style=\"color: #800080; text-decoration-color: #800080; font-style: italic\">None</span><span style=\"font-weight: bold\">)</span>\n",
       "</pre>\n"
      ],
      "text/plain": [
       "\u001b[1;35mExample\u001b[0m\u001b[1m(\u001b[0m\u001b[1m{\u001b[0m\u001b[32m'question'\u001b[0m: \u001b[32m'Which of these publications was most recently published, Who Put the Bomp or Self?'\u001b[0m, \n",
       "\u001b[32m'answer'\u001b[0m: \u001b[32m'Self'\u001b[0m\u001b[1m}\u001b[0m\u001b[1m)\u001b[0m \u001b[1m(\u001b[0m\u001b[33minput_keys\u001b[0m=\u001b[3;35mNone\u001b[0m\u001b[1m)\u001b[0m\n"
      ]
     },
     "metadata": {},
     "output_type": "display_data"
    }
   ],
   "source": [
    "tdata0 = hpqa.train[2]\n",
    "print(tdata0)"
   ]
  },
  {
   "cell_type": "code",
   "execution_count": 40,
   "metadata": {},
   "outputs": [
    {
     "data": {
      "text/plain": [
       "Prediction(\n",
       "    answer='Bob Dylan'\n",
       ")"
      ]
     },
     "execution_count": 40,
     "metadata": {},
     "output_type": "execute_result"
    }
   ],
   "source": [
    "output = model_pred(question=tdata0.question)\n",
    "output"
   ]
  },
  {
   "cell_type": "code",
   "execution_count": 41,
   "metadata": {},
   "outputs": [
    {
     "data": {
      "text/plain": [
       "False"
      ]
     },
     "execution_count": 41,
     "metadata": {},
     "output_type": "execute_result"
    }
   ],
   "source": [
    "validate_ans(tdata0, output)"
   ]
  },
  {
   "cell_type": "code",
   "execution_count": 42,
   "metadata": {},
   "outputs": [
    {
     "data": {
      "text/plain": [
       "0.0"
      ]
     },
     "execution_count": 42,
     "metadata": {},
     "output_type": "execute_result"
    }
   ],
   "source": [
    "metric(tdata0, output)"
   ]
  },
  {
   "cell_type": "code",
   "execution_count": 21,
   "metadata": {},
   "outputs": [],
   "source": [
    "devset = [ex.with_inputs('question') for ex in hpqa.dev]\n",
    "trainset = [ex.with_inputs('question') for ex in hpqa.train]"
   ]
  },
  {
   "cell_type": "code",
   "execution_count": 44,
   "metadata": {},
   "outputs": [],
   "source": [
    "# Evaluating a dataset \n",
    "from dspy.evaluate import Evaluate\n",
    "test_hpqa = Evaluate(metric=validate_ans,\n",
    "                     devset=devset,\n",
    "                     num_threads=4,\n",
    "                     display_progress=True,\n",
    "                     display_table=5)"
   ]
  },
  {
   "cell_type": "code",
   "execution_count": 45,
   "metadata": {},
   "outputs": [
    {
     "data": {
      "text/plain": [
       "5"
      ]
     },
     "execution_count": 45,
     "metadata": {},
     "output_type": "execute_result"
    }
   ],
   "source": [
    "len(devset)"
   ]
  },
  {
   "cell_type": "code",
   "execution_count": 47,
   "metadata": {},
   "outputs": [
    {
     "data": {
      "text/plain": [
       "[Example({'question': 'Angela Diniz was born in Belo Horizonte which is the capital of which Brazilian state?', 'answer': 'Minas Gerais', 'gold_titles': {'Ângela Diniz', 'Belo Horizonte'}}) (input_keys={'question'}),\n",
       " Example({'question': 'Which Indian symphonic conductor serves on the Anotonin Dvorak Music Festival named after the world-renowned Czech composer?', 'answer': 'Debashish Chaudhuri', 'gold_titles': {'Antonín Dvořák', 'Debashish Chaudhuri'}}) (input_keys={'question'}),\n",
       " Example({'question': 'When was the American comedian, musician and Tony Award-nominated actor that headlined at Carolines on Broadway born?', 'answer': '1971', 'gold_titles': {'Stephen Lynch (musician)', 'Carolines on Broadway'}}) (input_keys={'question'}),\n",
       " Example({'question': ' Suzana S. Drobnjaković Ponti acted in a film loosely based on a book by who?', 'answer': 'Danny Wallace', 'gold_titles': {'Sasha Alexander', 'Yes Man (film)'}}) (input_keys={'question'}),\n",
       " Example({'question': 'Kentucky is located in a region of america which constitutes as what?', 'answer': 'one of the nine Census Bureau Divisions', 'gold_titles': {'Kentucky', 'East South Central States'}}) (input_keys={'question'})]"
      ]
     },
     "execution_count": 47,
     "metadata": {},
     "output_type": "execute_result"
    }
   ],
   "source": [
    "devset"
   ]
  },
  {
   "cell_type": "code",
   "execution_count": null,
   "metadata": {},
   "outputs": [],
   "source": [
    "tem_data = test_hpqa(model_pred)"
   ]
  },
  {
   "cell_type": "code",
   "execution_count": 49,
   "metadata": {},
   "outputs": [],
   "source": [
    "# LM with RM\n",
    "from dspy import ColBERTv2, Retrieve\n",
    "colb = ColBERTv2(url=\"http://20.102.90.50:2017/wiki17_abstracts\")\n",
    "settings.configure(lm=gpt3T, rm=colb)"
   ]
  },
  {
   "cell_type": "code",
   "execution_count": 50,
   "metadata": {},
   "outputs": [],
   "source": [
    "context_pred = ChainOfThought('question, context -> answer')\n",
    "\n",
    "retrieve = Retrieve(k=2)"
   ]
  },
  {
   "cell_type": "code",
   "execution_count": 51,
   "metadata": {},
   "outputs": [],
   "source": [
    "contexts = retrieve(tdata0.question)\n",
    "\n",
    "context_output = context_pred(question=tdata0.question,\n",
    "                              context=contexts.passages)"
   ]
  },
  {
   "cell_type": "code",
   "execution_count": 52,
   "metadata": {},
   "outputs": [
    {
     "data": {
      "text/html": [
       "<pre style=\"white-space:pre;overflow-x:auto;line-height:normal;font-family:Menlo,'DejaVu Sans Mono',consolas,'Courier New',monospace\"><span style=\"color: #800080; text-decoration-color: #800080; font-weight: bold\">Prediction</span><span style=\"font-weight: bold\">(</span>\n",
       "    <span style=\"color: #808000; text-decoration-color: #808000\">rationale</span>=<span style=\"color: #008000; text-decoration-color: #008000\">'determine which publication was most recently published. First, we need to establish the publication</span>\n",
       "<span style=\"color: #008000; text-decoration-color: #008000\">dates of each. \"Who Put the Bomp\" was a fanzine published from 1970 to 1979, while Bompiani, an Italian publishing </span>\n",
       "<span style=\"color: #008000; text-decoration-color: #008000\">house, was founded in 1929. Therefore, \"Who Put the Bomp\" was most recently published.'</span>,\n",
       "    <span style=\"color: #808000; text-decoration-color: #808000\">answer</span>=<span style=\"color: #008000; text-decoration-color: #008000\">'Who Put the Bomp'</span>\n",
       "<span style=\"font-weight: bold\">)</span>\n",
       "</pre>\n"
      ],
      "text/plain": [
       "\u001b[1;35mPrediction\u001b[0m\u001b[1m(\u001b[0m\n",
       "    \u001b[33mrationale\u001b[0m=\u001b[32m'determine which publication was most recently published. First, we need to establish the publication\u001b[0m\n",
       "\u001b[32mdates of each. \"Who Put the Bomp\" was a fanzine published from 1970 to 1979, while Bompiani, an Italian publishing \u001b[0m\n",
       "\u001b[32mhouse, was founded in 1929. Therefore, \"Who Put the Bomp\" was most recently published.'\u001b[0m,\n",
       "    \u001b[33manswer\u001b[0m=\u001b[32m'Who Put the Bomp'\u001b[0m\n",
       "\u001b[1m)\u001b[0m\n"
      ]
     },
     "metadata": {},
     "output_type": "display_data"
    }
   ],
   "source": [
    "print(context_output)"
   ]
  },
  {
   "cell_type": "code",
   "execution_count": 53,
   "metadata": {},
   "outputs": [
    {
     "data": {
      "text/plain": [
       "0.0"
      ]
     },
     "execution_count": 53,
     "metadata": {},
     "output_type": "execute_result"
    }
   ],
   "source": [
    "validate_context_and_answer(tdata0, context_output, contexts)"
   ]
  },
  {
   "cell_type": "markdown",
   "metadata": {},
   "source": [
    "##### Can you Tell me about Optimizers\n",
    "\n",
    "    Why Optimizers?\n",
    "\n",
    "> Tune the prarameters of the DSPy modules, like the Prompts, Config params of language models and model weights\n",
    "\n",
    "    What they need?\n",
    "    \n",
    "> DSPy Program, Metrics and Few training inputs\n",
    "\n",
    "    What exactly does Optimizers Tune?\n",
    "\n",
    "> LM weights, Instructions and Demonstations of the i/o behaviour in modules\n",
    "\n",
    "    How the do the tuning?\n",
    "\n",
    "> Gradient descent is used in case of LM Weights. LM driven optimization to update the instruction & demonstrations"
   ]
  },
  {
   "cell_type": "markdown",
   "metadata": {},
   "source": [
    "#### What are the different types of optimizers available\n",
    "\n",
    "    4 types\n",
    "\n",
    "> Automatic Few Shots Learning\n",
    "\n",
    "> Automatic Instruction Optimisation\n",
    "\n",
    "> Automatic Finetuning\n",
    "\n",
    "> Program Transformation\n",
    "\n",
    "    Automatic FewShots Learning\n",
    "> Labeled Fewshots\n",
    "\n",
    "> Bootstrap Fewshots\n",
    "\n",
    "> Bootstrap Fewshots with RandomSearch\n",
    "\n",
    "> Bootstrap Fewshots with Optuna\n",
    "\n",
    "    Automatic Instruction Optimisation\n",
    "> Signature Optimizer\n",
    "\n",
    "> Bayesian Signature Optimizer\n",
    "\n",
    "    Automatic FineTuning\n",
    "\n",
    "> Bootstrap FineTune\n",
    "\n",
    "    Program Transformation\n",
    "> KNNFew Shot\n",
    "\n",
    "> Ensemble\n",
    "\n",
    "https://dspy-docs.vercel.app/api/category/optimizers"
   ]
  },
  {
   "cell_type": "markdown",
   "metadata": {},
   "source": [
    "Which Optimizer to Use\n",
    "\n",
    "> 10 examples : BootstrapFewShot\n",
    "\n",
    "> 50 examples : BootstrapFewShotWithRandSearch\n",
    "\n",
    "> 300+ examples : BayesianSignatureOptimizer\n",
    "\n",
    "> Working with LM: BootstrapFineTune"
   ]
  },
  {
   "cell_type": "code",
   "execution_count": null,
   "metadata": {},
   "outputs": [],
   "source": []
  },
  {
   "cell_type": "code",
   "execution_count": null,
   "metadata": {},
   "outputs": [],
   "source": []
  }
 ],
 "metadata": {
  "kernelspec": {
   "display_name": "Python 3 (ipykernel)",
   "language": "python",
   "name": "python3"
  },
  "language_info": {
   "codemirror_mode": {
    "name": "ipython",
    "version": 3
   },
   "file_extension": ".py",
   "mimetype": "text/x-python",
   "name": "python",
   "nbconvert_exporter": "python",
   "pygments_lexer": "ipython3",
   "version": "3.11.4"
  }
 },
 "nbformat": 4,
 "nbformat_minor": 4
}
