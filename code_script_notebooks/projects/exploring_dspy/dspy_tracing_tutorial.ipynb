{
  "cells": [
    {
      "cell_type": "markdown",
      "metadata": {
        "id": "HX2Pu3U5n_5d"
      },
      "source": [
        "<center>\n",
        "    <p style=\"text-align:center\">\n",
        "        <img alt=\"phoenix logo\" src=\"https://storage.googleapis.com/arize-phoenix-assets/assets/phoenix-logo-light.svg\" width=\"200\"/>\n",
        "        <br>\n",
        "        <a href=\"https://docs.arize.com/phoenix/\">Docs</a>\n",
        "        |\n",
        "        <a href=\"https://github.com/Arize-ai/phoenix\">GitHub</a>\n",
        "        |\n",
        "        <a href=\"https://join.slack.com/t/arize-ai/shared_invite/zt-1px8dcmlf-fmThhDFD_V_48oU7ALan4Q\">Community</a>\n",
        "    </p>\n",
        "</center>\n",
        "<h1 align=\"center\">Tracing and Evaluating a DSPy Application</h1>\n",
        "\n",
        "DSPy is a framework for automatically prompting and fine-tuning language models. It provides:\n",
        "\n",
        "- Composable and declarative APIs that allow developers to describe the architecture of their LLM application in the form of a \"module\" (inspired by PyTorch's `nn.Module`),\n",
        "- Compilers known as \"teleprompters\" that optimize a user-defined module for a particular task. The term \"teleprompter\" is meant to evoke \"prompting at a distance,\" and could involve selecting few-shot examples, generating prompts, or fine-tuning language models.\n",
        "\n",
        "Phoenix makes your DSPy applications *observable* by visualizing the underlying structure of each call to your compiled DSPy module and surfacing problematic spans of execution based on latency, token count, or other evaluation metrics.\n",
        "\n",
        "In this tutorial, you will:\n",
        "- Build and compile a  DSPy module that uses retrieval-augmented generation to answer questions over the [HotpotQA dataset](https://hotpotqa.github.io/wiki-readme.html),\n",
        "- Instrument your application using [OpenInference](https://github.com/Arize-ai/openinference), and open standard for recording your LLM telemetry data,\n",
        "- Inspect the traces and spans of your application to understand the inner works of a DSPy forward pass.\n",
        "\n",
        "ℹ️ This notebook requires an OpenAI API key.\n"
      ]
    },
    {
      "cell_type": "markdown",
      "metadata": {
        "id": "5K6eQ3eln_5i"
      },
      "source": [
        "## 1. Install Dependencies and Import Libraries\n",
        "\n",
        "Install Phoenix, DSPy, and other dependencies."
      ]
    },
    {
      "cell_type": "code",
      "execution_count": null,
      "metadata": {
        "id": "3cMiPjcZn_5k"
      },
      "outputs": [],
      "source": [
        "!pip install \"regex~=2023.10.3\" dspy-ai  # DSPy requires an old version of regex that conflicts with the installed version on Colab\n",
        "!pip install arize-phoenix openinference-instrumentation-dspy opentelemetry-exporter-otlp"
      ]
    },
    {
      "cell_type": "markdown",
      "metadata": {
        "id": "AdkthoSln_5l"
      },
      "source": [
        "⚠️ DSPy conflicts with the default version of the `regex` module that comes pre-installed on Google Colab. If you are running this notebook in Google Colab, you will likely need to restart the kernel after running the installation step above and before proceeding to the rest of the notebook, otherwise, your instrumentation will fail."
      ]
    },
    {
      "cell_type": "markdown",
      "metadata": {
        "id": "oTlJUrl7n_5m"
      },
      "source": [
        "Import libraries."
      ]
    },
    {
      "cell_type": "code",
      "execution_count": 1,
      "metadata": {
        "id": "0LC4ALDwn_5n"
      },
      "outputs": [
        {
          "name": "stderr",
          "output_type": "stream",
          "text": [
            "d:\\dspyenv\\Lib\\site-packages\\tqdm\\auto.py:21: TqdmWarning: IProgress not found. Please update jupyter and ipywidgets. See https://ipywidgets.readthedocs.io/en/stable/user_install.html\n",
            "  from .autonotebook import tqdm as notebook_tqdm\n"
          ]
        }
      ],
      "source": [
        "import os\n",
        "from getpass import getpass\n",
        "\n",
        "import dspy\n",
        "import openai\n",
        "import phoenix as px"
      ]
    },
    {
      "cell_type": "markdown",
      "metadata": {
        "id": "YZCNfR9Nn_5o"
      },
      "source": [
        "## 2. Configure Your OpenAI API Key\n",
        "\n",
        "Set your OpenAI API key if it is not already set as an environment variable."
      ]
    },
    {
      "cell_type": "code",
      "execution_count": 2,
      "metadata": {
        "id": "FXqEghJ0n_5o"
      },
      "outputs": [],
      "source": [
        "from dotenv import load_dotenv\n",
        "load_dotenv(\"D:\\gitFolders\\python_de_learners_data\\.env\")\n",
        "openai.api_key = os.environ[\"OPENAI_API_KEY\"]"
      ]
    },
    {
      "cell_type": "markdown",
      "metadata": {
        "id": "8GSunmhPn_5p"
      },
      "source": [
        "## 3. Configure Module Components\n",
        "\n",
        "A module consists of components such as a language model (in this case, OpenAI's GPT 3.5 turbo), akin to the layers of a PyTorch module and a retriever (in this case, ColBERTv2)."
      ]
    },
    {
      "cell_type": "code",
      "execution_count": 3,
      "metadata": {
        "id": "yWHBwggvn_5q"
      },
      "outputs": [],
      "source": [
        "turbo = dspy.OpenAI(model=\"gpt-3.5-turbo\")\n",
        "colbertv2_wiki17_abstracts = dspy.ColBERTv2(\n",
        "    url=\"http://20.102.90.50:2017/wiki17_abstracts\"  # endpoint for a hosted ColBERTv2 service\n",
        ")\n",
        "\n",
        "dspy.settings.configure(lm=turbo, rm=colbertv2_wiki17_abstracts)"
      ]
    },
    {
      "cell_type": "markdown",
      "metadata": {
        "id": "1tEnXeAbn_5q"
      },
      "source": [
        "## 4. Load Data\n",
        "\n",
        "Load a subset of the HotpotQA dataset."
      ]
    },
    {
      "cell_type": "code",
      "execution_count": 4,
      "metadata": {
        "id": "z5TV1KoGn_5q"
      },
      "outputs": [
        {
          "name": "stderr",
          "output_type": "stream",
          "text": [
            "d:\\dspyenv\\Lib\\site-packages\\datasets\\table.py:1421: FutureWarning: promote has been superseded by promote_options='default'.\n",
            "  table = cls._concat_blocks(blocks, axis=0)\n"
          ]
        },
        {
          "name": "stdout",
          "output_type": "stream",
          "text": [
            "Train set size: 20\n",
            "Dev set size: 50\n"
          ]
        }
      ],
      "source": [
        "from dspy.datasets import HotPotQA\n",
        "\n",
        "# Load the dataset.\n",
        "dataset = HotPotQA(train_seed=1, train_size=20, eval_seed=2023, dev_size=50, test_size=10)\n",
        "\n",
        "# Tell DSPy that the 'question' field is the input. Any other fields are labels and/or metadata.\n",
        "trainset = [x.with_inputs(\"question\") for x in dataset.train]\n",
        "devset = [x.with_inputs(\"question\") for x in dataset.dev]\n",
        "\n",
        "print(f\"Train set size: {len(trainset)}\")\n",
        "print(f\"Dev set size: {len(devset)}\")"
      ]
    },
    {
      "cell_type": "markdown",
      "metadata": {
        "id": "1tzwWDUCn_5r"
      },
      "source": [
        "Each example in our training set has a question and a human-annotated answer."
      ]
    },
    {
      "cell_type": "code",
      "execution_count": 5,
      "metadata": {
        "id": "62f0xl-mn_5r"
      },
      "outputs": [
        {
          "data": {
            "text/plain": [
              "Example({'question': 'At My Window was released by which American singer-songwriter?', 'answer': 'John Townes Van Zandt'}) (input_keys={'question'})"
            ]
          },
          "execution_count": 5,
          "metadata": {},
          "output_type": "execute_result"
        }
      ],
      "source": [
        "train_example = trainset[0]\n",
        "train_example"
      ]
    },
    {
      "cell_type": "markdown",
      "metadata": {
        "id": "rJE6AorXn_5s"
      },
      "source": [
        "Examples in the dev set have a third field containing titles of relevant Wikipedia articles."
      ]
    },
    {
      "cell_type": "code",
      "execution_count": 6,
      "metadata": {
        "id": "ilo8dBbgn_5s"
      },
      "outputs": [
        {
          "data": {
            "text/plain": [
              "Example({'question': 'What is the nationality of the chef and restaurateur featured in Restaurant: Impossible?', 'answer': 'English', 'gold_titles': {'Restaurant: Impossible', 'Robert Irvine'}}) (input_keys={'question'})"
            ]
          },
          "execution_count": 6,
          "metadata": {},
          "output_type": "execute_result"
        }
      ],
      "source": [
        "dev_example = devset[18]\n",
        "dev_example"
      ]
    },
    {
      "cell_type": "markdown",
      "metadata": {
        "id": "hy2uTq-An_5s"
      },
      "source": [
        "## 5. Define Your RAG Module\n",
        "\n",
        "Define a signature that takes in two inputs, `context` and `question`, and outputs an `answer`. The signature provides:\n",
        "\n",
        "- A description of the sub-task the language model is supposed to solve.\n",
        "- A description of the input fields to the language model.\n",
        "- A description of the output fields the language model must produce."
      ]
    },
    {
      "cell_type": "code",
      "execution_count": 5,
      "metadata": {
        "id": "--_qUo-Kn_5t"
      },
      "outputs": [],
      "source": [
        "class GenerateAnswer(dspy.Signature):\n",
        "    \"\"\"Answer questions with short factoid answers.\"\"\"\n",
        "\n",
        "    context = dspy.InputField(desc=\"may contain relevant facts\")\n",
        "    question = dspy.InputField()\n",
        "    answer = dspy.OutputField(desc=\"often between 1 and 5 words\")"
      ]
    },
    {
      "cell_type": "code",
      "execution_count": 19,
      "metadata": {},
      "outputs": [
        {
          "data": {
            "text/plain": [
              "{'context': FieldInfo(annotation=str, required=True, json_schema_extra={'desc': 'may contain relevant facts', '__dspy_field_type': 'input', 'prefix': 'Context:'}),\n",
              " 'question': FieldInfo(annotation=str, required=True, json_schema_extra={'__dspy_field_type': 'input', 'prefix': 'Question:', 'desc': '${question}'}),\n",
              " 'answer': FieldInfo(annotation=str, required=True, json_schema_extra={'desc': 'often between 1 and 5 words', '__dspy_field_type': 'output', 'prefix': 'Answer:'})}"
            ]
          },
          "execution_count": 19,
          "metadata": {},
          "output_type": "execute_result"
        }
      ],
      "source": [
        "GenerateAnswer.fields"
      ]
    },
    {
      "cell_type": "markdown",
      "metadata": {
        "id": "8JLe67Kon_5t"
      },
      "source": [
        "Define your module by subclassing `dspy.Module` and overriding the `forward` method."
      ]
    },
    {
      "cell_type": "code",
      "execution_count": 6,
      "metadata": {
        "id": "BnG1Q6Lbn_5t"
      },
      "outputs": [],
      "source": [
        "class RAG(dspy.Module):\n",
        "    def __init__(self, num_passages=3):\n",
        "        super().__init__()\n",
        "        self.retrieve = dspy.Retrieve(k=num_passages)\n",
        "        self.generate_answer = dspy.ChainOfThought(GenerateAnswer)\n",
        "\n",
        "    def forward(self, question):\n",
        "        context = self.retrieve(question).passages\n",
        "        prediction = self.generate_answer(context=context, question=question)\n",
        "        return dspy.Prediction(context=context, answer=prediction.answer)"
      ]
    },
    {
      "cell_type": "markdown",
      "metadata": {
        "id": "yAN-vNkCn_5t"
      },
      "source": [
        "This module uses retrieval-augmented generation (using the previously configured ColBERTv2 retriever) in tandem with chain of thought in order to generate the final answer to the user."
      ]
    },
    {
      "cell_type": "markdown",
      "metadata": {
        "id": "iq6bfv49n_5u"
      },
      "source": [
        "## 6. Compile Your RAG Module"
      ]
    },
    {
      "cell_type": "markdown",
      "metadata": {
        "id": "DCjbcMHMn_5u"
      },
      "source": [
        "In this case, we'll use the default `BootstrapFewShot` teleprompter that selects good demonstrations from the the training dataset for inclusion in the final prompt."
      ]
    },
    {
      "cell_type": "code",
      "execution_count": 7,
      "metadata": {
        "id": "nXqG2iuxn_5u"
      },
      "outputs": [],
      "source": [
        "from dspy.teleprompt import BootstrapFewShot\n",
        "# Validation logic: check that the predicted answer is correct.\n",
        "# Also check that the retrieved context does actually contain that answer.\n",
        "def validate_context_and_answer(example, pred, trace=None):\n",
        "    answer_EM = dspy.evaluate.answer_exact_match(example, pred)\n",
        "    answer_PM = dspy.evaluate.answer_passage_match(example, pred)\n",
        "    return answer_EM and answer_PM\n",
        "\n",
        "\n",
        "input_module = RAG()\n",
        "teleprompter = BootstrapFewShot(metric=validate_context_and_answer)"
      ]
    },
    {
      "cell_type": "code",
      "execution_count": null,
      "metadata": {},
      "outputs": [],
      "source": [
        "input_module(devset[0]['question'])"
      ]
    },
    {
      "cell_type": "code",
      "execution_count": null,
      "metadata": {},
      "outputs": [],
      "source": [
        "compiled_module = teleprompter.compile(input_module, trainset=trainset)"
      ]
    },
    {
      "cell_type": "markdown",
      "metadata": {
        "id": "ho4ukQcrn_5u"
      },
      "source": [
        "## 7. Instrument DSPy and Launch Phoenix"
      ]
    },
    {
      "cell_type": "markdown",
      "metadata": {
        "id": "t8geUVPzn_5u"
      },
      "source": [
        "Now that we've compiled our RAG program, let's see what's going on under the hood.\n",
        "\n",
        "Launch Phoenix, which will run in the background and collect spans and traces from your instrumented DSPy application."
      ]
    },
    {
      "cell_type": "code",
      "execution_count": 10,
      "metadata": {
        "id": "kAAadyEEn_5v"
      },
      "outputs": [
        {
          "name": "stdout",
          "output_type": "stream",
          "text": [
            "🌍 To view the Phoenix app in your browser, visit http://localhost:6006/\n",
            "📺 To view the Phoenix app in a notebook, run `px.active_session().view()`\n",
            "📖 For more information on how to use Phoenix, check out https://docs.arize.com/phoenix\n"
          ]
        }
      ],
      "source": [
        "phoenix_session = px.launch_app()"
      ]
    },
    {
      "cell_type": "markdown",
      "metadata": {
        "id": "EpxXqjoVn_5v"
      },
      "source": [
        "Then instrument your application with [OpenInference](https://github.com/Arize-ai/openinference/tree/main/spec), an open standard build atop [OpenTelemetry](https://opentelemetry.io/) that captures and stores LLM application executions. OpenInference provides telemetry data to help you understand the invocation of your LLMs and the surrounding application context, including retrieval from vector stores, the usage of external tools or APIs, etc."
      ]
    },
    {
      "cell_type": "code",
      "execution_count": 11,
      "metadata": {
        "id": "bZacMc7gn_5v"
      },
      "outputs": [],
      "source": [
        "from openinference.instrumentation.dspy import DSPyInstrumentor\n",
        "from opentelemetry import trace as trace_api\n",
        "from opentelemetry.exporter.otlp.proto.http.trace_exporter import OTLPSpanExporter\n",
        "from opentelemetry.sdk import trace as trace_sdk\n",
        "from opentelemetry.sdk.resources import Resource\n",
        "from opentelemetry.sdk.trace.export import SimpleSpanProcessor\n",
        "\n",
        "endpoint = \"http://127.0.0.1:6006/v1/traces\"\n",
        "resource = Resource(attributes={})\n",
        "tracer_provider = trace_sdk.TracerProvider(resource=resource)\n",
        "span_otlp_exporter = OTLPSpanExporter(endpoint=endpoint)\n",
        "tracer_provider.add_span_processor(SimpleSpanProcessor(span_exporter=span_otlp_exporter))\n",
        "\n",
        "trace_api.set_tracer_provider(tracer_provider=tracer_provider)\n",
        "DSPyInstrumentor().instrument()"
      ]
    },
    {
      "cell_type": "markdown",
      "metadata": {
        "id": "ePfz3pEgn_5v"
      },
      "source": [
        "## 8. Run Your Application"
      ]
    },
    {
      "cell_type": "markdown",
      "metadata": {
        "id": "Hv2fMnR6n_5v"
      },
      "source": [
        "Let's run our DSPy application on the dev set."
      ]
    },
    {
      "cell_type": "code",
      "execution_count": 14,
      "metadata": {},
      "outputs": [
        {
          "data": {
            "text/plain": [
              "'Are both Cangzhou and Qionghai in the Hebei province of China?'"
            ]
          },
          "execution_count": 14,
          "metadata": {},
          "output_type": "execute_result"
        }
      ],
      "source": [
        "devset[0]['question']"
      ]
    },
    {
      "cell_type": "code",
      "execution_count": 20,
      "metadata": {},
      "outputs": [
        {
          "ename": "AttributeError",
          "evalue": "'str' object has no attribute 'output_variable'",
          "output_type": "error",
          "traceback": [
            "\u001b[1;31m---------------------------------------------------------------------------\u001b[0m",
            "\u001b[1;31mAttributeError\u001b[0m                            Traceback (most recent call last)",
            "\u001b[1;32md:\\gitFolders\\python_de_learners_data\\code_script_notebooks\\projects\\exploring_dspy\\dspy_tracing_tutorial.ipynb Cell 34\u001b[0m line \u001b[0;36m1\n\u001b[1;32m----> <a href='vscode-notebook-cell:/d%3A/gitFolders/python_de_learners_data/code_script_notebooks/projects/exploring_dspy/dspy_tracing_tutorial.ipynb#X54sZmlsZQ%3D%3D?line=0'>1</a>\u001b[0m input_module(question\u001b[39m=\u001b[39;49mdevset[\u001b[39m0\u001b[39;49m][\u001b[39m'\u001b[39;49m\u001b[39mquestion\u001b[39;49m\u001b[39m'\u001b[39;49m])\n",
            "File \u001b[1;32md:\\dspyenv\\Lib\\site-packages\\openinference\\instrumentation\\dspy\\__init__.py:294\u001b[0m, in \u001b[0;36m_ModuleForwardWrapper.__call__\u001b[1;34m(self, wrapped, instance, args, kwargs)\u001b[0m\n\u001b[0;32m    274\u001b[0m \u001b[39mwith\u001b[39;00m \u001b[39mself\u001b[39m\u001b[39m.\u001b[39m_tracer\u001b[39m.\u001b[39mstart_as_current_span(\n\u001b[0;32m    275\u001b[0m     span_name,\n\u001b[0;32m    276\u001b[0m     attributes\u001b[39m=\u001b[39m\u001b[39mdict\u001b[39m(\n\u001b[1;32m   (...)\u001b[0m\n\u001b[0;32m    291\u001b[0m     ),\n\u001b[0;32m    292\u001b[0m ) \u001b[39mas\u001b[39;00m span:\n\u001b[0;32m    293\u001b[0m     \u001b[39mtry\u001b[39;00m:\n\u001b[1;32m--> 294\u001b[0m         prediction \u001b[39m=\u001b[39m wrapped(\u001b[39m*\u001b[39;49margs, \u001b[39m*\u001b[39;49m\u001b[39m*\u001b[39;49mkwargs)\n\u001b[0;32m    295\u001b[0m     \u001b[39mexcept\u001b[39;00m \u001b[39mException\u001b[39;00m \u001b[39mas\u001b[39;00m exception:\n\u001b[0;32m    296\u001b[0m         span\u001b[39m.\u001b[39mset_status(trace_api\u001b[39m.\u001b[39mStatus(trace_api\u001b[39m.\u001b[39mStatusCode\u001b[39m.\u001b[39mERROR, \u001b[39mstr\u001b[39m(exception)))\n",
            "File \u001b[1;32md:\\dspyenv\\Lib\\site-packages\\dspy\\primitives\\program.py:29\u001b[0m, in \u001b[0;36mModule.__call__\u001b[1;34m(self, *args, **kwargs)\u001b[0m\n\u001b[0;32m     28\u001b[0m \u001b[39mdef\u001b[39;00m \u001b[39m__call__\u001b[39m(\u001b[39mself\u001b[39m, \u001b[39m*\u001b[39margs, \u001b[39m*\u001b[39m\u001b[39m*\u001b[39mkwargs):\n\u001b[1;32m---> 29\u001b[0m     \u001b[39mreturn\u001b[39;00m \u001b[39mself\u001b[39;49m\u001b[39m.\u001b[39;49mforward(\u001b[39m*\u001b[39;49margs, \u001b[39m*\u001b[39;49m\u001b[39m*\u001b[39;49mkwargs)\n",
            "\u001b[1;32md:\\gitFolders\\python_de_learners_data\\code_script_notebooks\\projects\\exploring_dspy\\dspy_tracing_tutorial.ipynb Cell 34\u001b[0m line \u001b[0;36m9\n\u001b[0;32m      <a href='vscode-notebook-cell:/d%3A/gitFolders/python_de_learners_data/code_script_notebooks/projects/exploring_dspy/dspy_tracing_tutorial.ipynb#X54sZmlsZQ%3D%3D?line=6'>7</a>\u001b[0m \u001b[39mdef\u001b[39;00m \u001b[39mforward\u001b[39m(\u001b[39mself\u001b[39m, question):\n\u001b[0;32m      <a href='vscode-notebook-cell:/d%3A/gitFolders/python_de_learners_data/code_script_notebooks/projects/exploring_dspy/dspy_tracing_tutorial.ipynb#X54sZmlsZQ%3D%3D?line=7'>8</a>\u001b[0m     context \u001b[39m=\u001b[39m \u001b[39mself\u001b[39m\u001b[39m.\u001b[39mretrieve(question)\u001b[39m.\u001b[39mpassages\n\u001b[1;32m----> <a href='vscode-notebook-cell:/d%3A/gitFolders/python_de_learners_data/code_script_notebooks/projects/exploring_dspy/dspy_tracing_tutorial.ipynb#X54sZmlsZQ%3D%3D?line=8'>9</a>\u001b[0m     prediction \u001b[39m=\u001b[39m \u001b[39mself\u001b[39;49m\u001b[39m.\u001b[39;49mgenerate_answer(context\u001b[39m=\u001b[39;49mcontext, question\u001b[39m=\u001b[39;49mquestion)\n\u001b[0;32m     <a href='vscode-notebook-cell:/d%3A/gitFolders/python_de_learners_data/code_script_notebooks/projects/exploring_dspy/dspy_tracing_tutorial.ipynb#X54sZmlsZQ%3D%3D?line=9'>10</a>\u001b[0m     \u001b[39mreturn\u001b[39;00m dspy\u001b[39m.\u001b[39mPrediction(context\u001b[39m=\u001b[39mcontext, answer\u001b[39m=\u001b[39mprediction\u001b[39m.\u001b[39manswer)\n",
            "File \u001b[1;32md:\\dspyenv\\Lib\\site-packages\\dspy\\predict\\predict.py:49\u001b[0m, in \u001b[0;36mPredict.__call__\u001b[1;34m(self, **kwargs)\u001b[0m\n\u001b[0;32m     48\u001b[0m \u001b[39mdef\u001b[39;00m \u001b[39m__call__\u001b[39m(\u001b[39mself\u001b[39m, \u001b[39m*\u001b[39m\u001b[39m*\u001b[39mkwargs):\n\u001b[1;32m---> 49\u001b[0m     \u001b[39mreturn\u001b[39;00m \u001b[39mself\u001b[39;49m\u001b[39m.\u001b[39;49mforward(\u001b[39m*\u001b[39;49m\u001b[39m*\u001b[39;49mkwargs)\n",
            "File \u001b[1;32md:\\dspyenv\\Lib\\site-packages\\openinference\\instrumentation\\dspy\\__init__.py:237\u001b[0m, in \u001b[0;36m_PredictForwardWrapper.__call__\u001b[1;34m(self, wrapped, instance, args, kwargs)\u001b[0m\n\u001b[0;32m    230\u001b[0m         span\u001b[39m.\u001b[39mrecord_exception(exception)\n\u001b[0;32m    231\u001b[0m         \u001b[39mraise\u001b[39;00m\n\u001b[0;32m    232\u001b[0m     span\u001b[39m.\u001b[39mset_attributes(\n\u001b[0;32m    233\u001b[0m         \u001b[39mdict\u001b[39m(\n\u001b[0;32m    234\u001b[0m             _flatten(\n\u001b[0;32m    235\u001b[0m                 {\n\u001b[0;32m    236\u001b[0m                     OUTPUT_VALUE: json\u001b[39m.\u001b[39mdumps(\n\u001b[1;32m--> 237\u001b[0m                         \u001b[39mself\u001b[39;49m\u001b[39m.\u001b[39;49m_prediction_to_output_dict(prediction, signature)\n\u001b[0;32m    238\u001b[0m                     ),\n\u001b[0;32m    239\u001b[0m                     OUTPUT_MIME_TYPE: OpenInferenceMimeTypeValues\u001b[39m.\u001b[39mJSON\u001b[39m.\u001b[39mvalue,\n\u001b[0;32m    240\u001b[0m                 }\n\u001b[0;32m    241\u001b[0m             )\n\u001b[0;32m    242\u001b[0m         )\n\u001b[0;32m    243\u001b[0m     )\n\u001b[0;32m    244\u001b[0m     span\u001b[39m.\u001b[39mset_status(trace_api\u001b[39m.\u001b[39mStatusCode\u001b[39m.\u001b[39mOK)\n\u001b[0;32m    245\u001b[0m \u001b[39mreturn\u001b[39;00m prediction\n",
            "File \u001b[1;32md:\\dspyenv\\Lib\\site-packages\\openinference\\instrumentation\\dspy\\__init__.py:253\u001b[0m, in \u001b[0;36m_PredictForwardWrapper._prediction_to_output_dict\u001b[1;34m(self, prediction, signature)\u001b[0m\n\u001b[0;32m    251\u001b[0m output \u001b[39m=\u001b[39m {}\n\u001b[0;32m    252\u001b[0m \u001b[39mfor\u001b[39;00m field \u001b[39min\u001b[39;00m signature\u001b[39m.\u001b[39mfields:\n\u001b[1;32m--> 253\u001b[0m     \u001b[39mif\u001b[39;00m field\u001b[39m.\u001b[39;49moutput_variable \u001b[39mand\u001b[39;00m field\u001b[39m.\u001b[39moutput_variable \u001b[39min\u001b[39;00m prediction:\n\u001b[0;32m    254\u001b[0m         output[field\u001b[39m.\u001b[39moutput_variable] \u001b[39m=\u001b[39m prediction\u001b[39m.\u001b[39mget(field\u001b[39m.\u001b[39moutput_variable)\n\u001b[0;32m    255\u001b[0m \u001b[39mreturn\u001b[39;00m output\n",
            "\u001b[1;31mAttributeError\u001b[0m: 'str' object has no attribute 'output_variable'"
          ]
        }
      ],
      "source": [
        "input_module(question=devset[0]['question'])"
      ]
    },
    {
      "cell_type": "code",
      "execution_count": 15,
      "metadata": {},
      "outputs": [
        {
          "ename": "AttributeError",
          "evalue": "'str' object has no attribute 'output_variable'",
          "output_type": "error",
          "traceback": [
            "\u001b[1;31m---------------------------------------------------------------------------\u001b[0m",
            "\u001b[1;31mAttributeError\u001b[0m                            Traceback (most recent call last)",
            "\u001b[1;32md:\\gitFolders\\python_de_learners_data\\code_script_notebooks\\projects\\exploring_dspy\\dspy_tracing_tutorial.ipynb Cell 33\u001b[0m line \u001b[0;36m1\n\u001b[1;32m----> <a href='vscode-notebook-cell:/d%3A/gitFolders/python_de_learners_data/code_script_notebooks/projects/exploring_dspy/dspy_tracing_tutorial.ipynb#X52sZmlsZQ%3D%3D?line=0'>1</a>\u001b[0m compiled_module(devset[\u001b[39m0\u001b[39;49m][\u001b[39m'\u001b[39;49m\u001b[39mquestion\u001b[39;49m\u001b[39m'\u001b[39;49m])\n",
            "File \u001b[1;32md:\\dspyenv\\Lib\\site-packages\\openinference\\instrumentation\\dspy\\__init__.py:294\u001b[0m, in \u001b[0;36m_ModuleForwardWrapper.__call__\u001b[1;34m(self, wrapped, instance, args, kwargs)\u001b[0m\n\u001b[0;32m    274\u001b[0m \u001b[39mwith\u001b[39;00m \u001b[39mself\u001b[39m\u001b[39m.\u001b[39m_tracer\u001b[39m.\u001b[39mstart_as_current_span(\n\u001b[0;32m    275\u001b[0m     span_name,\n\u001b[0;32m    276\u001b[0m     attributes\u001b[39m=\u001b[39m\u001b[39mdict\u001b[39m(\n\u001b[1;32m   (...)\u001b[0m\n\u001b[0;32m    291\u001b[0m     ),\n\u001b[0;32m    292\u001b[0m ) \u001b[39mas\u001b[39;00m span:\n\u001b[0;32m    293\u001b[0m     \u001b[39mtry\u001b[39;00m:\n\u001b[1;32m--> 294\u001b[0m         prediction \u001b[39m=\u001b[39m wrapped(\u001b[39m*\u001b[39;49margs, \u001b[39m*\u001b[39;49m\u001b[39m*\u001b[39;49mkwargs)\n\u001b[0;32m    295\u001b[0m     \u001b[39mexcept\u001b[39;00m \u001b[39mException\u001b[39;00m \u001b[39mas\u001b[39;00m exception:\n\u001b[0;32m    296\u001b[0m         span\u001b[39m.\u001b[39mset_status(trace_api\u001b[39m.\u001b[39mStatus(trace_api\u001b[39m.\u001b[39mStatusCode\u001b[39m.\u001b[39mERROR, \u001b[39mstr\u001b[39m(exception)))\n",
            "File \u001b[1;32md:\\dspyenv\\Lib\\site-packages\\dspy\\primitives\\program.py:29\u001b[0m, in \u001b[0;36mModule.__call__\u001b[1;34m(self, *args, **kwargs)\u001b[0m\n\u001b[0;32m     28\u001b[0m \u001b[39mdef\u001b[39;00m \u001b[39m__call__\u001b[39m(\u001b[39mself\u001b[39m, \u001b[39m*\u001b[39margs, \u001b[39m*\u001b[39m\u001b[39m*\u001b[39mkwargs):\n\u001b[1;32m---> 29\u001b[0m     \u001b[39mreturn\u001b[39;00m \u001b[39mself\u001b[39;49m\u001b[39m.\u001b[39;49mforward(\u001b[39m*\u001b[39;49margs, \u001b[39m*\u001b[39;49m\u001b[39m*\u001b[39;49mkwargs)\n",
            "\u001b[1;32md:\\gitFolders\\python_de_learners_data\\code_script_notebooks\\projects\\exploring_dspy\\dspy_tracing_tutorial.ipynb Cell 33\u001b[0m line \u001b[0;36m9\n\u001b[0;32m      <a href='vscode-notebook-cell:/d%3A/gitFolders/python_de_learners_data/code_script_notebooks/projects/exploring_dspy/dspy_tracing_tutorial.ipynb#X52sZmlsZQ%3D%3D?line=6'>7</a>\u001b[0m \u001b[39mdef\u001b[39;00m \u001b[39mforward\u001b[39m(\u001b[39mself\u001b[39m, question):\n\u001b[0;32m      <a href='vscode-notebook-cell:/d%3A/gitFolders/python_de_learners_data/code_script_notebooks/projects/exploring_dspy/dspy_tracing_tutorial.ipynb#X52sZmlsZQ%3D%3D?line=7'>8</a>\u001b[0m     context \u001b[39m=\u001b[39m \u001b[39mself\u001b[39m\u001b[39m.\u001b[39mretrieve(question)\u001b[39m.\u001b[39mpassages\n\u001b[1;32m----> <a href='vscode-notebook-cell:/d%3A/gitFolders/python_de_learners_data/code_script_notebooks/projects/exploring_dspy/dspy_tracing_tutorial.ipynb#X52sZmlsZQ%3D%3D?line=8'>9</a>\u001b[0m     prediction \u001b[39m=\u001b[39m \u001b[39mself\u001b[39;49m\u001b[39m.\u001b[39;49mgenerate_answer(context\u001b[39m=\u001b[39;49mcontext, question\u001b[39m=\u001b[39;49mquestion)\n\u001b[0;32m     <a href='vscode-notebook-cell:/d%3A/gitFolders/python_de_learners_data/code_script_notebooks/projects/exploring_dspy/dspy_tracing_tutorial.ipynb#X52sZmlsZQ%3D%3D?line=9'>10</a>\u001b[0m     \u001b[39mreturn\u001b[39;00m dspy\u001b[39m.\u001b[39mPrediction(context\u001b[39m=\u001b[39mcontext, answer\u001b[39m=\u001b[39mprediction\u001b[39m.\u001b[39manswer)\n",
            "File \u001b[1;32md:\\dspyenv\\Lib\\site-packages\\dspy\\predict\\predict.py:49\u001b[0m, in \u001b[0;36mPredict.__call__\u001b[1;34m(self, **kwargs)\u001b[0m\n\u001b[0;32m     48\u001b[0m \u001b[39mdef\u001b[39;00m \u001b[39m__call__\u001b[39m(\u001b[39mself\u001b[39m, \u001b[39m*\u001b[39m\u001b[39m*\u001b[39mkwargs):\n\u001b[1;32m---> 49\u001b[0m     \u001b[39mreturn\u001b[39;00m \u001b[39mself\u001b[39;49m\u001b[39m.\u001b[39;49mforward(\u001b[39m*\u001b[39;49m\u001b[39m*\u001b[39;49mkwargs)\n",
            "File \u001b[1;32md:\\dspyenv\\Lib\\site-packages\\openinference\\instrumentation\\dspy\\__init__.py:237\u001b[0m, in \u001b[0;36m_PredictForwardWrapper.__call__\u001b[1;34m(self, wrapped, instance, args, kwargs)\u001b[0m\n\u001b[0;32m    230\u001b[0m         span\u001b[39m.\u001b[39mrecord_exception(exception)\n\u001b[0;32m    231\u001b[0m         \u001b[39mraise\u001b[39;00m\n\u001b[0;32m    232\u001b[0m     span\u001b[39m.\u001b[39mset_attributes(\n\u001b[0;32m    233\u001b[0m         \u001b[39mdict\u001b[39m(\n\u001b[0;32m    234\u001b[0m             _flatten(\n\u001b[0;32m    235\u001b[0m                 {\n\u001b[0;32m    236\u001b[0m                     OUTPUT_VALUE: json\u001b[39m.\u001b[39mdumps(\n\u001b[1;32m--> 237\u001b[0m                         \u001b[39mself\u001b[39;49m\u001b[39m.\u001b[39;49m_prediction_to_output_dict(prediction, signature)\n\u001b[0;32m    238\u001b[0m                     ),\n\u001b[0;32m    239\u001b[0m                     OUTPUT_MIME_TYPE: OpenInferenceMimeTypeValues\u001b[39m.\u001b[39mJSON\u001b[39m.\u001b[39mvalue,\n\u001b[0;32m    240\u001b[0m                 }\n\u001b[0;32m    241\u001b[0m             )\n\u001b[0;32m    242\u001b[0m         )\n\u001b[0;32m    243\u001b[0m     )\n\u001b[0;32m    244\u001b[0m     span\u001b[39m.\u001b[39mset_status(trace_api\u001b[39m.\u001b[39mStatusCode\u001b[39m.\u001b[39mOK)\n\u001b[0;32m    245\u001b[0m \u001b[39mreturn\u001b[39;00m prediction\n",
            "File \u001b[1;32md:\\dspyenv\\Lib\\site-packages\\openinference\\instrumentation\\dspy\\__init__.py:253\u001b[0m, in \u001b[0;36m_PredictForwardWrapper._prediction_to_output_dict\u001b[1;34m(self, prediction, signature)\u001b[0m\n\u001b[0;32m    251\u001b[0m output \u001b[39m=\u001b[39m {}\n\u001b[0;32m    252\u001b[0m \u001b[39mfor\u001b[39;00m field \u001b[39min\u001b[39;00m signature\u001b[39m.\u001b[39mfields:\n\u001b[1;32m--> 253\u001b[0m     \u001b[39mif\u001b[39;00m field\u001b[39m.\u001b[39;49moutput_variable \u001b[39mand\u001b[39;00m field\u001b[39m.\u001b[39moutput_variable \u001b[39min\u001b[39;00m prediction:\n\u001b[0;32m    254\u001b[0m         output[field\u001b[39m.\u001b[39moutput_variable] \u001b[39m=\u001b[39m prediction\u001b[39m.\u001b[39mget(field\u001b[39m.\u001b[39moutput_variable)\n\u001b[0;32m    255\u001b[0m \u001b[39mreturn\u001b[39;00m output\n",
            "\u001b[1;31mAttributeError\u001b[0m: 'str' object has no attribute 'output_variable'"
          ]
        }
      ],
      "source": [
        "compiled_module(devset[0]['question'])"
      ]
    },
    {
      "cell_type": "code",
      "execution_count": 12,
      "metadata": {
        "id": "kGTePGrwn_5v"
      },
      "outputs": [
        {
          "ename": "AttributeError",
          "evalue": "'str' object has no attribute 'output_variable'",
          "output_type": "error",
          "traceback": [
            "\u001b[1;31m---------------------------------------------------------------------------\u001b[0m",
            "\u001b[1;31mAttributeError\u001b[0m                            Traceback (most recent call last)",
            "\u001b[1;32md:\\gitFolders\\python_de_learners_data\\code_script_notebooks\\projects\\exploring_dspy\\dspy_tracing_tutorial.ipynb Cell 32\u001b[0m line \u001b[0;36m3\n\u001b[0;32m      <a href='vscode-notebook-cell:/d%3A/gitFolders/python_de_learners_data/code_script_notebooks/projects/exploring_dspy/dspy_tracing_tutorial.ipynb#X43sZmlsZQ%3D%3D?line=0'>1</a>\u001b[0m \u001b[39mfor\u001b[39;00m example \u001b[39min\u001b[39;00m devset[:\u001b[39m2\u001b[39m]:\n\u001b[0;32m      <a href='vscode-notebook-cell:/d%3A/gitFolders/python_de_learners_data/code_script_notebooks/projects/exploring_dspy/dspy_tracing_tutorial.ipynb#X43sZmlsZQ%3D%3D?line=1'>2</a>\u001b[0m     question \u001b[39m=\u001b[39m example[\u001b[39m\"\u001b[39m\u001b[39mquestion\u001b[39m\u001b[39m\"\u001b[39m]\n\u001b[1;32m----> <a href='vscode-notebook-cell:/d%3A/gitFolders/python_de_learners_data/code_script_notebooks/projects/exploring_dspy/dspy_tracing_tutorial.ipynb#X43sZmlsZQ%3D%3D?line=2'>3</a>\u001b[0m     prediction \u001b[39m=\u001b[39m compiled_module(question)\n\u001b[0;32m      <a href='vscode-notebook-cell:/d%3A/gitFolders/python_de_learners_data/code_script_notebooks/projects/exploring_dspy/dspy_tracing_tutorial.ipynb#X43sZmlsZQ%3D%3D?line=3'>4</a>\u001b[0m     \u001b[39mprint\u001b[39m(\u001b[39m\"\u001b[39m\u001b[39mQuestion\u001b[39m\u001b[39m\"\u001b[39m)\n\u001b[0;32m      <a href='vscode-notebook-cell:/d%3A/gitFolders/python_de_learners_data/code_script_notebooks/projects/exploring_dspy/dspy_tracing_tutorial.ipynb#X43sZmlsZQ%3D%3D?line=4'>5</a>\u001b[0m     \u001b[39mprint\u001b[39m(\u001b[39m\"\u001b[39m\u001b[39m========\u001b[39m\u001b[39m\"\u001b[39m)\n",
            "File \u001b[1;32md:\\dspyenv\\Lib\\site-packages\\openinference\\instrumentation\\dspy\\__init__.py:294\u001b[0m, in \u001b[0;36m_ModuleForwardWrapper.__call__\u001b[1;34m(self, wrapped, instance, args, kwargs)\u001b[0m\n\u001b[0;32m    274\u001b[0m \u001b[39mwith\u001b[39;00m \u001b[39mself\u001b[39m\u001b[39m.\u001b[39m_tracer\u001b[39m.\u001b[39mstart_as_current_span(\n\u001b[0;32m    275\u001b[0m     span_name,\n\u001b[0;32m    276\u001b[0m     attributes\u001b[39m=\u001b[39m\u001b[39mdict\u001b[39m(\n\u001b[1;32m   (...)\u001b[0m\n\u001b[0;32m    291\u001b[0m     ),\n\u001b[0;32m    292\u001b[0m ) \u001b[39mas\u001b[39;00m span:\n\u001b[0;32m    293\u001b[0m     \u001b[39mtry\u001b[39;00m:\n\u001b[1;32m--> 294\u001b[0m         prediction \u001b[39m=\u001b[39m wrapped(\u001b[39m*\u001b[39;49margs, \u001b[39m*\u001b[39;49m\u001b[39m*\u001b[39;49mkwargs)\n\u001b[0;32m    295\u001b[0m     \u001b[39mexcept\u001b[39;00m \u001b[39mException\u001b[39;00m \u001b[39mas\u001b[39;00m exception:\n\u001b[0;32m    296\u001b[0m         span\u001b[39m.\u001b[39mset_status(trace_api\u001b[39m.\u001b[39mStatus(trace_api\u001b[39m.\u001b[39mStatusCode\u001b[39m.\u001b[39mERROR, \u001b[39mstr\u001b[39m(exception)))\n",
            "File \u001b[1;32md:\\dspyenv\\Lib\\site-packages\\dspy\\primitives\\program.py:29\u001b[0m, in \u001b[0;36mModule.__call__\u001b[1;34m(self, *args, **kwargs)\u001b[0m\n\u001b[0;32m     28\u001b[0m \u001b[39mdef\u001b[39;00m \u001b[39m__call__\u001b[39m(\u001b[39mself\u001b[39m, \u001b[39m*\u001b[39margs, \u001b[39m*\u001b[39m\u001b[39m*\u001b[39mkwargs):\n\u001b[1;32m---> 29\u001b[0m     \u001b[39mreturn\u001b[39;00m \u001b[39mself\u001b[39;49m\u001b[39m.\u001b[39;49mforward(\u001b[39m*\u001b[39;49margs, \u001b[39m*\u001b[39;49m\u001b[39m*\u001b[39;49mkwargs)\n",
            "\u001b[1;32md:\\gitFolders\\python_de_learners_data\\code_script_notebooks\\projects\\exploring_dspy\\dspy_tracing_tutorial.ipynb Cell 32\u001b[0m line \u001b[0;36m9\n\u001b[0;32m      <a href='vscode-notebook-cell:/d%3A/gitFolders/python_de_learners_data/code_script_notebooks/projects/exploring_dspy/dspy_tracing_tutorial.ipynb#X43sZmlsZQ%3D%3D?line=6'>7</a>\u001b[0m \u001b[39mdef\u001b[39;00m \u001b[39mforward\u001b[39m(\u001b[39mself\u001b[39m, question):\n\u001b[0;32m      <a href='vscode-notebook-cell:/d%3A/gitFolders/python_de_learners_data/code_script_notebooks/projects/exploring_dspy/dspy_tracing_tutorial.ipynb#X43sZmlsZQ%3D%3D?line=7'>8</a>\u001b[0m     context \u001b[39m=\u001b[39m \u001b[39mself\u001b[39m\u001b[39m.\u001b[39mretrieve(question)\u001b[39m.\u001b[39mpassages\n\u001b[1;32m----> <a href='vscode-notebook-cell:/d%3A/gitFolders/python_de_learners_data/code_script_notebooks/projects/exploring_dspy/dspy_tracing_tutorial.ipynb#X43sZmlsZQ%3D%3D?line=8'>9</a>\u001b[0m     prediction \u001b[39m=\u001b[39m \u001b[39mself\u001b[39;49m\u001b[39m.\u001b[39;49mgenerate_answer(context\u001b[39m=\u001b[39;49mcontext, question\u001b[39m=\u001b[39;49mquestion)\n\u001b[0;32m     <a href='vscode-notebook-cell:/d%3A/gitFolders/python_de_learners_data/code_script_notebooks/projects/exploring_dspy/dspy_tracing_tutorial.ipynb#X43sZmlsZQ%3D%3D?line=9'>10</a>\u001b[0m     \u001b[39mreturn\u001b[39;00m dspy\u001b[39m.\u001b[39mPrediction(context\u001b[39m=\u001b[39mcontext, answer\u001b[39m=\u001b[39mprediction\u001b[39m.\u001b[39manswer)\n",
            "File \u001b[1;32md:\\dspyenv\\Lib\\site-packages\\dspy\\predict\\predict.py:49\u001b[0m, in \u001b[0;36mPredict.__call__\u001b[1;34m(self, **kwargs)\u001b[0m\n\u001b[0;32m     48\u001b[0m \u001b[39mdef\u001b[39;00m \u001b[39m__call__\u001b[39m(\u001b[39mself\u001b[39m, \u001b[39m*\u001b[39m\u001b[39m*\u001b[39mkwargs):\n\u001b[1;32m---> 49\u001b[0m     \u001b[39mreturn\u001b[39;00m \u001b[39mself\u001b[39;49m\u001b[39m.\u001b[39;49mforward(\u001b[39m*\u001b[39;49m\u001b[39m*\u001b[39;49mkwargs)\n",
            "File \u001b[1;32md:\\dspyenv\\Lib\\site-packages\\openinference\\instrumentation\\dspy\\__init__.py:237\u001b[0m, in \u001b[0;36m_PredictForwardWrapper.__call__\u001b[1;34m(self, wrapped, instance, args, kwargs)\u001b[0m\n\u001b[0;32m    230\u001b[0m         span\u001b[39m.\u001b[39mrecord_exception(exception)\n\u001b[0;32m    231\u001b[0m         \u001b[39mraise\u001b[39;00m\n\u001b[0;32m    232\u001b[0m     span\u001b[39m.\u001b[39mset_attributes(\n\u001b[0;32m    233\u001b[0m         \u001b[39mdict\u001b[39m(\n\u001b[0;32m    234\u001b[0m             _flatten(\n\u001b[0;32m    235\u001b[0m                 {\n\u001b[0;32m    236\u001b[0m                     OUTPUT_VALUE: json\u001b[39m.\u001b[39mdumps(\n\u001b[1;32m--> 237\u001b[0m                         \u001b[39mself\u001b[39;49m\u001b[39m.\u001b[39;49m_prediction_to_output_dict(prediction, signature)\n\u001b[0;32m    238\u001b[0m                     ),\n\u001b[0;32m    239\u001b[0m                     OUTPUT_MIME_TYPE: OpenInferenceMimeTypeValues\u001b[39m.\u001b[39mJSON\u001b[39m.\u001b[39mvalue,\n\u001b[0;32m    240\u001b[0m                 }\n\u001b[0;32m    241\u001b[0m             )\n\u001b[0;32m    242\u001b[0m         )\n\u001b[0;32m    243\u001b[0m     )\n\u001b[0;32m    244\u001b[0m     span\u001b[39m.\u001b[39mset_status(trace_api\u001b[39m.\u001b[39mStatusCode\u001b[39m.\u001b[39mOK)\n\u001b[0;32m    245\u001b[0m \u001b[39mreturn\u001b[39;00m prediction\n",
            "File \u001b[1;32md:\\dspyenv\\Lib\\site-packages\\openinference\\instrumentation\\dspy\\__init__.py:253\u001b[0m, in \u001b[0;36m_PredictForwardWrapper._prediction_to_output_dict\u001b[1;34m(self, prediction, signature)\u001b[0m\n\u001b[0;32m    251\u001b[0m output \u001b[39m=\u001b[39m {}\n\u001b[0;32m    252\u001b[0m \u001b[39mfor\u001b[39;00m field \u001b[39min\u001b[39;00m signature\u001b[39m.\u001b[39mfields:\n\u001b[1;32m--> 253\u001b[0m     \u001b[39mif\u001b[39;00m field\u001b[39m.\u001b[39;49moutput_variable \u001b[39mand\u001b[39;00m field\u001b[39m.\u001b[39moutput_variable \u001b[39min\u001b[39;00m prediction:\n\u001b[0;32m    254\u001b[0m         output[field\u001b[39m.\u001b[39moutput_variable] \u001b[39m=\u001b[39m prediction\u001b[39m.\u001b[39mget(field\u001b[39m.\u001b[39moutput_variable)\n\u001b[0;32m    255\u001b[0m \u001b[39mreturn\u001b[39;00m output\n",
            "\u001b[1;31mAttributeError\u001b[0m: 'str' object has no attribute 'output_variable'"
          ]
        }
      ],
      "source": [
        "for example in devset[:2]:\n",
        "    question = example[\"question\"]\n",
        "    prediction = compiled_module(question)\n",
        "    print(\"Question\")\n",
        "    print(\"========\")\n",
        "    print(question)\n",
        "    print()\n",
        "    print(\"Predicted Answer\")\n",
        "    print(\"================\")\n",
        "    print(prediction.answer)\n",
        "    print()\n",
        "    print(\"Retrieved Contexts (truncated)\")\n",
        "    print(f\"{[c[:200] + '...' for c in prediction.context]}\")\n",
        "    print()\n",
        "    print()"
      ]
    },
    {
      "cell_type": "markdown",
      "metadata": {
        "id": "8iV30Xyjn_5w"
      },
      "source": [
        "Check the Phoenix UI to inspect the architecture of your DSPy module."
      ]
    },
    {
      "cell_type": "code",
      "execution_count": null,
      "metadata": {
        "id": "QvwKoabzn_5w"
      },
      "outputs": [],
      "source": [
        "print(phoenix_session.url)"
      ]
    },
    {
      "cell_type": "markdown",
      "metadata": {
        "id": "TK3PwYVOn_5w"
      },
      "source": [
        "A few things to note:\n",
        "\n",
        "- The spans in each trace correspond to the steps in the `forward` method of our custom subclass of `dspy.Module`,\n",
        "- The call to `ColBERTv2` appears as a retriever span with retrieved documents and scores displayed for each forward pass,\n",
        "- The LLM span includes the fully-formatted prompt containing few-shot examples computed by DSPy during compilation.\n",
        "\n",
        "![a tour of your traces and spans in DSPy, highlighting retriever and LLM spans in particular](https://storage.googleapis.com/arize-phoenix-assets/assets/docs/notebooks/dspy-tracing-tutorial/dspy_spans_and_traces.gif)"
      ]
    },
    {
      "cell_type": "markdown",
      "metadata": {
        "id": "5pw-o2TLn_5w"
      },
      "source": [
        "Congrats! You've used DSPy to bootstrap a multishot prompt with hard negative passages and chain of thought, and you've used Phoenix to observe the inner workings of DSPy and understand the internals of the forward pass."
      ]
    }
  ],
  "metadata": {
    "colab": {
      "provenance": []
    },
    "kernelspec": {
      "display_name": "dspyenv",
      "language": "python",
      "name": "python3"
    },
    "language_info": {
      "codemirror_mode": {
        "name": "ipython",
        "version": 3
      },
      "file_extension": ".py",
      "mimetype": "text/x-python",
      "name": "python",
      "nbconvert_exporter": "python",
      "pygments_lexer": "ipython3",
      "version": "3.11.4"
    }
  },
  "nbformat": 4,
  "nbformat_minor": 0
}
