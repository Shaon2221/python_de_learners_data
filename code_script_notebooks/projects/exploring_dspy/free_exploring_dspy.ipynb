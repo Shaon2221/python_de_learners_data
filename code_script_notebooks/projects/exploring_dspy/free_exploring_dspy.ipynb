{
 "cells": [
  {
   "cell_type": "markdown",
   "metadata": {},
   "source": [
    "#### Lang Models : \n",
    "\n",
    "Connects with Local & Remote models\n",
    "\n",
    "\n"
   ]
  },
  {
   "cell_type": "code",
   "execution_count": 1,
   "metadata": {},
   "outputs": [],
   "source": [
    "from dotenv import load_dotenv\n",
    "import openai\n",
    "import os\n",
    "\n",
    "load_dotenv(\"D:\\\\gitFolders\\\\python_de_learners_data\\\\.env\")\n",
    "openai.api_key = os.environ['OPENAI_API_KEY']\n",
    "# openai.api_key"
   ]
  },
  {
   "cell_type": "code",
   "execution_count": 3,
   "metadata": {},
   "outputs": [],
   "source": [
    "from dspy import OpenAI, configure\n",
    "\n",
    "turbo = OpenAI(model='gpt-3.5-turbo',\n",
    "                max_tokens=100)\n",
    "\n",
    "configure(lm=turbo)"
   ]
  },
  {
   "cell_type": "code",
   "execution_count": 4,
   "metadata": {},
   "outputs": [
    {
     "data": {
      "text/plain": [
       "['Write a story about a young girl who discovers she has the power to control the weather. At first, she uses her powers for fun and to help her friends, but soon she realizes the responsibility that comes with such a gift. As she struggles to control her abilities and navigate the consequences of her actions, she must decide how to use her powers for the greater good.']"
      ]
     },
     "execution_count": 4,
     "metadata": {},
     "output_type": "execute_result"
    }
   ],
   "source": [
    "turbo(\"This is a raw prompt...\")"
   ]
  },
  {
   "cell_type": "code",
   "execution_count": 5,
   "metadata": {},
   "outputs": [
    {
     "name": "stdout",
     "output_type": "stream",
     "text": [
      "determine the exact number of floors in the castle.\n"
     ]
    }
   ],
   "source": [
    "from dspy import ChainOfThought\n",
    "\n",
    "qa = ChainOfThought('question -> answer')\n",
    "\n",
    "response = qa(question=\"how many floors are in castle?\")\n",
    "print(response.answer)"
   ]
  },
  {
   "cell_type": "code",
   "execution_count": 8,
   "metadata": {},
   "outputs": [
    {
     "data": {
      "text/plain": [
       "['6 floors', '7', '4', '4 floors']"
      ]
     },
     "execution_count": 8,
     "metadata": {},
     "output_type": "execute_result"
    }
   ],
   "source": [
    "qa_5 = ChainOfThought('question -> answer', n=5)\n",
    "\n",
    "response = qa_5(question=\"How many floors are in the castle David Gregory inherited?\")\n",
    "\n",
    "response.completions.answer"
   ]
  },
  {
   "cell_type": "code",
   "execution_count": 9,
   "metadata": {},
   "outputs": [
    {
     "name": "stdout",
     "output_type": "stream",
     "text": [
      "1. The number of floors in the castle David Gregory inherited can be determined by examining historical records, architectural plans, or physically counting the floors in person.\n",
      "2. 12 floors\n",
      "3. 5\n",
      "4. 4\n",
      "5. The castle David Gregory inherited likely has multiple floors, including a basement and several levels above ground.\n"
     ]
    }
   ],
   "source": [
    "for idx in range(5):\n",
    "    response = qa(question=\"How many floors are in the castle David Gregory inherited?\",\n",
    "                    config=dict(temperature=0.7+0.0001*idx))\n",
    "    \n",
    "    print(f'{idx+1}.', response.answer)"
   ]
  },
  {
   "cell_type": "code",
   "execution_count": null,
   "metadata": {},
   "outputs": [],
   "source": [
    "from dspy import OllamaLocal\n",
    "\n",
    "mistral_ollama = OllamaLocal(model='mistral')"
   ]
  },
  {
   "cell_type": "markdown",
   "metadata": {},
   "source": [
    "#### Signatures : \n",
    "\n",
    "Tell LM what it needs to do, rather than specify how we should ask the LM to do it.\n",
    "\n",
    "Define and control the behaviour of modules.\n",
    "\n",
    "Semantic roles are expressed in plain english.\n",
    "\n",
    "DSPy compiler will **figure out how to build a highly optimized prompt**, for your signature on your data, within your pipeline."
   ]
  },
  {
   "cell_type": "code",
   "execution_count": null,
   "metadata": {},
   "outputs": [],
   "source": [
    "#### Examples of Inline Signatures\n",
    "\n",
    "# > Question Answering: \"question -> answer\"\n",
    "\n",
    "# > Sentiment Classification: \"sentence -> sentiment\"\n",
    "\n",
    "# > Summarization: \"document -> summary\"\n",
    "\n",
    "# > Your signatures can also have multiple input/output fields.\n",
    "\n",
    "# > Retrieval-Augmented Question Answering: \"context, question -> answer\"\n",
    "\n",
    "# > Multiple-Choice Question Answering with Reasoning: \"question, choices -> reasoning, selection\""
   ]
  },
  {
   "cell_type": "code",
   "execution_count": 10,
   "metadata": {},
   "outputs": [
    {
     "data": {
      "text/plain": [
       "Prediction(\n",
       "    sentiment='Positive'\n",
       ")"
      ]
     },
     "execution_count": 10,
     "metadata": {},
     "output_type": "execute_result"
    }
   ],
   "source": [
    "from dspy import Predict\n",
    "\n",
    "classify = Predict(\"sentence -> sentiment\")\n",
    "\n",
    "sentence = 'The DSPy library seems to be taking a huge leap in prominance'\n",
    "\n",
    "classify(sentence=sentence)"
   ]
  },
  {
   "cell_type": "code",
   "execution_count": 11,
   "metadata": {},
   "outputs": [
    {
     "name": "stdout",
     "output_type": "stream",
     "text": [
      "A 21-year-old player who previously played for West Ham and had loan spells at Blackpool and Colchester United has signed with\n"
     ]
    }
   ],
   "source": [
    "# Example from the XSum dataset.\n",
    "document = \"\"\"The 21-year-old made seven appearances for the Hammers and netted \n",
    "        his only goal for them in a Europa League qualification round match against Andorran \n",
    "        side FC Lustrains last season. Lee had two loan spells in League One last term, with \n",
    "        Blackpool and then Colchester United. He scored twice for the U's but was unable to save \n",
    "        them from relegation. The length of Lee's contract with the promoted Tykes has not been \n",
    "        revealed. Find all the latest football transfers on our dedicated page.\"\"\"\n",
    "\n",
    "summarize = ChainOfThought('document -> summary')\n",
    "response = summarize(document=document)\n",
    "\n",
    "print(response.summary)"
   ]
  },
  {
   "cell_type": "code",
   "execution_count": 12,
   "metadata": {},
   "outputs": [
    {
     "data": {
      "text/plain": [
       "Prediction(\n",
       "    rationale='produce the summary. We have a 21-year-old player who made seven appearances and scored one goal for West Ham in a Europa League match. He had loan spells at Blackpool and Colchester United, scoring twice for the latter but unable to prevent their relegation. He has now signed with Barnsley, although the length of his contract is unknown.',\n",
       "    summary='A 21-year-old player who previously played for West Ham and had loan spells at Blackpool and Colchester United has signed with'\n",
       ")"
      ]
     },
     "execution_count": 12,
     "metadata": {},
     "output_type": "execute_result"
    }
   ],
   "source": [
    "response"
   ]
  },
  {
   "cell_type": "code",
   "execution_count": 13,
   "metadata": {},
   "outputs": [
    {
     "data": {
      "text/plain": [
       "Prediction(\n",
       "    senti='Fear'\n",
       ")"
      ]
     },
     "execution_count": 13,
     "metadata": {},
     "output_type": "execute_result"
    }
   ],
   "source": [
    "# creating signatures with classes\n",
    "from dspy import (\n",
    "    Signature,\n",
    "    InputField,\n",
    "    OutputField\n",
    ")\n",
    "\n",
    "class Emotion(Signature):\n",
    "    \"\"\"Classify the emotion among Fear, Happiness, Anger, Frustration, Surprise\"\"\"\n",
    "    sentence = InputField() \n",
    "    senti = OutputField() \n",
    "\n",
    "sentence = \"It was cold and dark outside, and the bright light appearing suddenly jolted me\"\n",
    "\n",
    "classify = Predict(Emotion)  # instead of giving inline sentence -> classification, its given as class\n",
    "classify(sentence=sentence)"
   ]
  },
  {
   "cell_type": "code",
   "execution_count": 14,
   "metadata": {},
   "outputs": [],
   "source": [
    "class CheckCitationFaithfulness(Signature):\n",
    "    \"\"\"Verify that text is based on provided context\"\"\"\n",
    "    context = InputField(desc=\"Facts assumed here are true.\")\n",
    "    text = InputField()\n",
    "    faithfulness = OutputField(desc=\"True/False indicating if text is faithful to context\")\n"
   ]
  },
  {
   "cell_type": "code",
   "execution_count": 15,
   "metadata": {},
   "outputs": [
    {
     "data": {
      "text/plain": [
       "Prediction(\n",
       "    rationale='produce the faithfulness. We know from the context that Lee scored twice for Colchester United, not three times.',\n",
       "    faithfulness='False'\n",
       ")"
      ]
     },
     "execution_count": 15,
     "metadata": {},
     "output_type": "execute_result"
    }
   ],
   "source": [
    "context = \"The 21-year-old made seven appearances for the Hammers and netted his only goal for them in a Europa League qualification round match against Andorran side FC Lustrains last season. Lee had two loan spells in League One last term, with Blackpool and then Colchester United. He scored twice for the U's but was unable to save them from relegation. The length of Lee's contract with the promoted Tykes has not been revealed. Find all the latest football transfers on our dedicated page.\"\n",
    "\n",
    "text = \"Lee scored 3 goals for Colchester United.\"\n",
    "\n",
    "faithfulness = ChainOfThought(CheckCitationFaithfulness)\n",
    "\n",
    "faithfulness(context=context, text=text)"
   ]
  },
  {
   "cell_type": "markdown",
   "metadata": {},
   "source": [
    "You should compose multiple signatures into bigger [DSPy modules] and [compile] these modules into optimized prompts and finetunes.\n",
    "\n",
    "### A DSPy module is a building block for programs that use LMs.\n",
    "\n",
    "Each built-in module abstracts a prompting technique (like chain of thought or ReAct). Crucially, they are generalized to handle any [DSPy Signature].\n",
    "\n",
    "A DSPy module has learnable parameters (i.e., the little pieces comprising the prompt and the LM weights) and can be invoked (called) to process inputs and return outputs.\n",
    "\n",
    "Multiple modules can be composed into bigger modules (programs). DSPy modules are inspired directly by NN modules in PyTorch, but applied to LM programs."
   ]
  },
  {
   "cell_type": "markdown",
   "metadata": {},
   "source": [
    "### Internally, all other DSPy modules are just built using dspy.Predict.\n",
    "\n",
    "Simply swapping dspy.ChainOfThought in place of dspy.Predict improves quality."
   ]
  },
  {
   "cell_type": "code",
   "execution_count": 17,
   "metadata": {},
   "outputs": [
    {
     "data": {
      "text/plain": [
       "['One great aspect of the ColBERT retrieval model is its efficiency and effectiveness in handling large-scale information retrieval tasks.',\n",
       " 'One great aspect of the ColBERT retrieval model is its ability to efficiently retrieve relevant information in large-scale systems.']"
      ]
     },
     "execution_count": 17,
     "metadata": {},
     "output_type": "execute_result"
    }
   ],
   "source": [
    "question = \"What's something great about the ColBERT retrieval model?\"\n",
    "\n",
    "# 1) Declare with a signature, and pass some config.\n",
    "answer = ChainOfThought('question -> answer', n=5)\n",
    "\n",
    "# 2) Call with input argument.\n",
    "response = answer(question=question)\n",
    "\n",
    "# 3) Access the outputs.\n",
    "response.completions.answer"
   ]
  },
  {
   "cell_type": "markdown",
   "metadata": {},
   "source": [
    "-> Predict: Basic predictor. Does not modify the signature. Handles the key forms of learning (i.e., storing the instructions and demonstrations and updates to the LM).\n",
    "\n",
    "-> ChainOfThought: Teaches the LM to think step-by-step before committing to the signature's response.\n",
    "\n",
    "-> ProgramOfThought: Teaches the LM to output code, whose execution results will dictate the response.\n",
    "\n",
    "-> ReAct: An agent that can use tools to implement the given signature.\n",
    "\n",
    "-> MultiChainComparison: Can compare multiple outputs from ChainOfThought to produce a final prediction.\n",
    "\n",
    "We also have some function-style modules:\n",
    "\n",
    "-> majority: Can do basic voting to return the most popular response from a set of predictions.\n",
    "\n",
    "Basically PyTorch's design approach for define-by-run / dynamic computation "
   ]
  },
  {
   "cell_type": "markdown",
   "metadata": {},
   "source": [
    "#### Data Sets\n",
    "\n",
    "> Three types of datasets, train, development and test sets.\n",
    "\n",
    "> There are 3 part of the data, Inputs, Intermediate and Final Labels\n",
    "\n",
    "How to get the Data?\n",
    "\n",
    "> Invest time in creating the data manually\n",
    "\n",
    "> Use adjacent datasets inside HF\n",
    "\n",
    "> Demo / deploy the the system and collect the data\n",
    "\n",
    "#### Example is the Core DType in DSPy\n",
    "\n",
    "> Any number and types of fields are acceptable \n",
    "\n",
    "obj = Example(field1='val1', field2='val2', field='val3'...)\n"
   ]
  },
  {
   "cell_type": "code",
   "execution_count": 1,
   "metadata": {},
   "outputs": [
    {
     "name": "stderr",
     "output_type": "stream",
     "text": [
      "d:\\dspyenv\\Lib\\site-packages\\tqdm\\auto.py:21: TqdmWarning: IProgress not found. Please update jupyter and ipywidgets. See https://ipywidgets.readthedocs.io/en/stable/user_install.html\n",
      "  from .autonotebook import tqdm as notebook_tqdm\n"
     ]
    },
    {
     "name": "stdout",
     "output_type": "stream",
     "text": [
      "Example({'question': 'What is super nova?', 'answer': 'Its a star explosion'}) (input_keys=None)\n"
     ]
    }
   ],
   "source": [
    "from dspy import Example\n",
    "\n",
    "qa_pair = Example(question=\"What is super nova?\",\n",
    "                  answer='Its a star explosion')\n",
    "\n",
    "print(qa_pair)"
   ]
  },
  {
   "cell_type": "code",
   "execution_count": 2,
   "metadata": {},
   "outputs": [],
   "source": [
    "train = [Example(report='LONG Report', summary='short sentence')]"
   ]
  },
  {
   "cell_type": "code",
   "execution_count": 3,
   "metadata": {},
   "outputs": [
    {
     "name": "stdout",
     "output_type": "stream",
     "text": [
      "Example({'question': 'What is super nova?', 'answer': 'Its a star explosion'}) (input_keys={'question'})\n"
     ]
    }
   ],
   "source": [
    "print(qa_pair.with_inputs(\"question\"))  # this marks the fields as inputs, rest are labels"
   ]
  },
  {
   "cell_type": "code",
   "execution_count": 7,
   "metadata": {},
   "outputs": [
    {
     "name": "stdout",
     "output_type": "stream",
     "text": [
      "Example({'report': 'long line'}) (input_keys=None)\n",
      "Example({'summary': 'short simel'}) (input_keys=None)\n"
     ]
    }
   ],
   "source": [
    "sum_pair = Example(report='long line', summary='short simel').with_inputs('report')\n",
    "print(sum_pair.inputs())\n",
    "print(sum_pair.labels())"
   ]
  },
  {
   "cell_type": "markdown",
   "metadata": {},
   "source": [
    "### Metrics \n",
    "\n",
    "Are functions that takes examples from the data, recieves output from system and returns score that quantifies how good the output is\n",
    "\n",
    "Example + Recieved Data ==> Sent to Metric ==> Quantify / rank\n",
    "\n",
    "The long_form output must be checked at multiple points with the functions. Can be done using LLMs\n",
    "\n",
    "Metric signature is : \n",
    "\n",
    "    def metric(example, pred): -> float/int/bool\n"
   ]
  },
  {
   "cell_type": "code",
   "execution_count": 8,
   "metadata": {},
   "outputs": [],
   "source": [
    "def validate_answer(example, pred, trace=None):\n",
    "    return example.answer.lower() == pred.answer.lower()"
   ]
  },
  {
   "cell_type": "code",
   "execution_count": 10,
   "metadata": {},
   "outputs": [],
   "source": [
    "from dspy.evaluate.metrics import (\n",
    "    answer_exact_match,\n",
    "    answer_passage_match\n",
    ")\n",
    "from dspy.evaluate import Evaluate\n",
    "\n",
    "def validate_context_and_answer(example, pred, trace=None):\n",
    "    # check the gold label and the predicted answer are the same\n",
    "    answer_match = example.answer.lower() == pred.answer.lower()\n",
    "\n",
    "    # check the predicted answer comes from one of the retrieved contexts\n",
    "    context_match = any((pred.answer.lower() in c) for c in pred.context)\n",
    "\n",
    "    if trace is None: # if we're doing evaluation or optimization\n",
    "        return (answer_match + context_match) / 2.0\n",
    "    else: # if we're doing bootstrapping, i.e. self-generating good demonstrations of each step\n",
    "        return answer_match and context_match"
   ]
  },
  {
   "cell_type": "code",
   "execution_count": null,
   "metadata": {},
   "outputs": [],
   "source": [
    "scores = []\n",
    "\n",
    "for x in devset:  # eval set enumerated\n",
    "    pred = program(**x.inputs())  # eval inputs are used to predict \n",
    "    score = metric(x, pred)  # metric is calculated\n",
    "    scores.append(score)  # score is calculated"
   ]
  },
  {
   "cell_type": "markdown",
   "metadata": {},
   "source": [
    "#### How to check multiple dims of preds using AI"
   ]
  },
  {
   "cell_type": "code",
   "execution_count": null,
   "metadata": {},
   "outputs": [],
   "source": [
    "from dspy import InputField, OutputField, Signature\n",
    "\n",
    "class Assess(Signature):\n",
    "    \"\"\"Assess the quality of a tweet along the specified dimension.\"\"\"\n",
    "\n",
    "    assessed_text = InputField()\n",
    "    assessment_question = InputField()\n",
    "    assessment_answer = OutputField(desc=\"Yes or No\")"
   ]
  },
  {
   "cell_type": "code",
   "execution_count": null,
   "metadata": {},
   "outputs": [],
   "source": [
    "from dspy import (\n",
    "    OpenAI,\n",
    "    Predict,\n",
    "    context\n",
    ")\n",
    "\n",
    "gpt4T = OpenAI(model='gpt-4-1106-preview', max_tokens=1000, model_type='chat')\n",
    "\n",
    "def metric(gold, pred, trace=None):\n",
    "    question, answer, tweet = gold.question, gold.answer, pred.output\n",
    "\n",
    "    engaging = \"Does the assessed text make for a self-contained, engaging tweet?\"\n",
    "    correct = f\"The text should answer `{question}` with `{answer}`. Does the assessed text contain this answer?\"\n",
    "    \n",
    "    with context(lm=gpt4T):\n",
    "        c_ckt =  Predict(Assess)(assessed_text=tweet, assessment_question=correct)\n",
    "        # assess if the tweet is correct, and the value is yes / no\n",
    "        e_eng = Predict(Assess)(assessed_text=tweet, assessment_question=engaging)\n",
    "        # assess if the tweet is engaging and value is yes or no\n",
    "\n",
    "    correct, engaging = [m.assessment_answer.lower() == 'yes' for m in [c_ckt, e_eng]]\n",
    "    # get True / False into the above vars\n",
    "    score = (correct + engaging) if correct and (len(tweet) <= 280) else 0\n",
    "    # based on the correct  and tweet len, decide the score\n",
    "\n",
    "    if trace is not None: return score >= 2  # Return True  / False during Compiling\n",
    "    return score / 2.0  # returns True"
   ]
  },
  {
   "cell_type": "code",
   "execution_count": null,
   "metadata": {},
   "outputs": [],
   "source": [
    "\n",
    "# But during compiling (optimization), DSPy will trace your LM calls. The trace will contain inputs/outputs\n",
    "# to each DSPy predictor and you can leverage that to validate intermediate steps for optimization.\n",
    "\n",
    "def validate_hops(example, pred, trace=None):\n",
    "    hops = [example.question] + [outputs.query for *_, outputs in trace if 'query' in outputs]\n",
    "\n",
    "    if max([len(h) for h in hops]) > 100: return False\n",
    "    if any(dspy.evaluate.answer_exact_match_str(hops[idx], hops[:idx], frac=0.8) for idx in range(2, len(hops))): return False\n",
    "\n",
    "    return True"
   ]
  },
  {
   "cell_type": "markdown",
   "metadata": {},
   "source": [
    "#### Optimizers \n",
    "\n",
    "An algo that tunes the parameters of the DSPy program (prompts / LM weights) to maximize metrics\n",
    "\n",
    "Optimizer Inputs:\n",
    "\n",
    "    - Simple to Complex multi-module program.\n",
    "\n",
    "    - Metric\n",
    "\n",
    "    - Training Inputs [small datasets are also good] \n",
    "\n",
    "\n",
    "What do they Tune?\n",
    "\n",
    "    - Module parameters. There are 3 kinds of it\n",
    "\n",
    "    - LM weights\n",
    "\n",
    "    - Instructions (Prompts / requests)\n",
    "\n",
    "    - Input / Output Behaviour (Demonstations)\n",
    "\n",
    "How do they Tune?\n",
    "\n",
    "    - Gradient Descent algo for LM weights\n",
    "\n",
    "    - Discrete LM Driven Optimization for updating Instructions / Demo\n",
    "\n",
    "- Optimizers try more things, systematically and update metric"
   ]
  },
  {
   "cell_type": "markdown",
   "metadata": {},
   "source": [
    "    LabeledFewShot: Simply constructs few-shot examples from provided labeled Q/A pairs.\n",
    "\n",
    "    BootstrapFewShot: Uses your program to self-generate complete demonstrations for every stage of your program. Will simply use the generated demonstrations (if they pass the metric) without any further optimization. Advanced: Supports using a teacher program (a different DSPy program that has compatible structure) and a teacher LM, for harder tasks.\n",
    "\n",
    "    BootstrapFewShotWithRandomSearch: Applies BootstrapFewShot several times with random search over generated demonstrations, and selects the best program.\n",
    "\n",
    "    BootstrapFewShotWithOptuna: Applies BootstrapFewShot through Optuna hyperparameter optimization across demonstration sets, running trials to maximize evaluation metrics.\n",
    "\n",
    "    SignatureOptimizer: Generates and refines new instructions for each step, and optimizes them with coordinate ascent.\n",
    "\n",
    "    BayesianSignatureOptimizer: Generates instructions and few-shot examples in each step. The instruction generation is data-aware and demonstration-aware. Uses Bayesian Optimization to effectively search over the space of generation instructions/demonstrations across your modules.\n",
    "\n",
    "    BootstrapFinetune: Distills a prompt-based DSPy program into weight updates (for smaller LMs). The output is a DSPy program that has the same steps, but where each step is conducted by a finetuned model instead of a prompted LM.\n",
    "\n",
    "\n",
    "    KNNFewShot. Selects demonstrations through k-Nearest Neighbors algorithm integrating BootstrapFewShot for bootstrapping/selection process.\n",
    "\n",
    "    Ensemble: Ensembles a set of DSPy programs and either uses the full set or randomly samples a subset into a single program.\n",
    "\n",
    "Suggestion is to use BootstrapFewShot, BootstrapFewShotWithRandomSearch, BayesianSignatureOptimizer and BootstrapFineTune"
   ]
  },
  {
   "cell_type": "code",
   "execution_count": null,
   "metadata": {},
   "outputs": [],
   "source": [
    "from dspy.teleprompt import BootstrapFewShotWithRandomSearch\n",
    "\n",
    "# Set up the optimizer: we want to \"bootstrap\" (i.e., self-generate) 8-shot examples of your program's steps.\n",
    "# The optimizer will repeat this 10 times (plus some initial attempts) before selecting its best attempt on the devset.\n",
    "config = dict(max_bootstrapped_demos=3, \n",
    "              max_labeled_demos=3, \n",
    "              num_candidate_programs=10, \n",
    "              num_threads=4)\n",
    "\n",
    "teleprompter = BootstrapFewShotWithRandomSearch(metric=YOUR_METRIC_HERE, **config)\n",
    "optimized_program = teleprompter.compile(YOUR_PROGRAM_HERE, trainset=YOUR_TRAINSET_HERE)"
   ]
  },
  {
   "cell_type": "markdown",
   "metadata": {},
   "source": [
    "#### Assertions in DSPy\n",
    "\n",
    "Constraining the output of LLMs is still a challenge. \n",
    "\n",
    "Assertions in DSPY guides the LLMs to provide the required outputs, with manual interventions\n",
    "\n",
    "Objective is Reliability, Predictability and Correctness\n",
    "\n",
    "Assert : \n",
    "\n",
    "    Parameters : \n",
    "\n",
    "        - Constraint : python defined boolean validation check\n",
    "\n",
    "        - msg : User Defined message providing feedback or correction \n",
    "\n",
    "        - backtrack : Specifies target module, upon contraint failure. This is last module\n",
    "\n",
    "Suggest:\n",
    "\n",
    "    - Parameters : Same as Assert\n",
    "\n",
    "    - Behaviour : Encourages self-refinement through retries w/o enforcing hard stops. Logs failure max backtracking\n",
    "\n",
    "\n",
    "Specifically, when a constraint is not met:\n",
    "\n",
    "Backtracking Mechanism: An under-the-hood backtracking is initiated, offering the model a chance to self-refine and proceed, which is done through\n",
    "\n",
    "Dynamic Signature Modification: internally modifying your DSPy program’s Signature by adding the following fields:\n",
    "\n",
    "    Past Output: your model's past output that did not pass the validation_fn\n",
    "\n",
    "    Instruction: your user-defined feedback message on what went wrong and what possibly to fi"
   ]
  },
  {
   "cell_type": "markdown",
   "metadata": {},
   "source": [
    "### Starting out the RAG Tutorial"
   ]
  },
  {
   "cell_type": "code",
   "execution_count": 9,
   "metadata": {},
   "outputs": [],
   "source": [
    "from dotenv import load_dotenv\n",
    "import openai\n",
    "import os\n",
    "from dspy import ColBERTv2, OpenAI\n",
    "from dspy.datasets import HotPotQA \n",
    "\n",
    "load_dotenv(\"D:\\\\gitFolders\\\\python_de_learners_data\\\\.env\")\n",
    "\n",
    "openai.api_key = os.environ['OPENAI_API_KEY']\n",
    "# openai.api_key"
   ]
  },
  {
   "cell_type": "code",
   "execution_count": 12,
   "metadata": {},
   "outputs": [],
   "source": [
    "from dspy import settings\n",
    "\n",
    "turbo = OpenAI(model='gpt-3.5-turbo')\n",
    "colbert_wiki17 = ColBERTv2(url='http://20.102.90.50:2017/wiki17_abstracts')\n",
    "\n",
    "settings.configure(lm=turbo,rm=colbert_wiki17)"
   ]
  },
  {
   "cell_type": "code",
   "execution_count": null,
   "metadata": {},
   "outputs": [],
   "source": [
    "dataset = HotPotQA(train_seed=1,\n",
    "                   train_size=20,\n",
    "                   eval_seed=42,\n",
    "                   dev_size=50,\n",
    "                   test_size=0)"
   ]
  },
  {
   "cell_type": "code",
   "execution_count": 16,
   "metadata": {},
   "outputs": [
    {
     "data": {
      "text/plain": [
       "(20, 50)"
      ]
     },
     "execution_count": 16,
     "metadata": {},
     "output_type": "execute_result"
    }
   ],
   "source": [
    "trainset = [x.with_inputs('question') for x in dataset.train]\n",
    "evalset = [x.with_inputs('question') for x in dataset.dev]\n",
    "\n",
    "len(trainset), len(evalset)"
   ]
  },
  {
   "cell_type": "code",
   "execution_count": 74,
   "metadata": {},
   "outputs": [
    {
     "name": "stdout",
     "output_type": "stream",
     "text": [
      "At My Window was released by which American singer-songwriter?\n",
      "John Townes Van Zandt\n"
     ]
    }
   ],
   "source": [
    "print(trainset[0].question)\n",
    "print(trainset[0].answer)"
   ]
  },
  {
   "cell_type": "code",
   "execution_count": 77,
   "metadata": {},
   "outputs": [
    {
     "name": "stdout",
     "output_type": "stream",
     "text": [
      "Which canal is located in Washington D.C, Washington City Canal or Beardsley Canal?\n",
      "Washington City Canal\n",
      "{'Washington City Canal', 'Beardsley Canal'}\n"
     ]
    }
   ],
   "source": [
    "print(evalset[11].question)\n",
    "print(evalset[11].answer)\n",
    "print(evalset[11].gold_titles)"
   ]
  },
  {
   "cell_type": "code",
   "execution_count": 78,
   "metadata": {},
   "outputs": [
    {
     "name": "stdout",
     "output_type": "stream",
     "text": [
      "For this dataset, training examples have input keys ['question'] and label keys ['answer']\n",
      "For this dataset, dev examples have input keys ['question'] and label keys ['answer', 'gold_titles']\n"
     ]
    }
   ],
   "source": [
    "print(f\"For this dataset, training examples have input keys {trainset[0].inputs().keys()} and label keys {trainset[0].labels().keys()}\")\n",
    "print(f\"For this dataset, dev examples have input keys {trainset[0].inputs().keys()} and label keys {evalset[0].labels().keys()}\")"
   ]
  },
  {
   "cell_type": "code",
   "execution_count": 18,
   "metadata": {},
   "outputs": [],
   "source": [
    "# Generate Rag Pipeline\n",
    "from dspy import (\n",
    "    Signature,\n",
    "    InputField,\n",
    "    OutputField,\n",
    "    Module,\n",
    "    Retrieve,\n",
    "    ChainOfThought,\n",
    "    Prediction\n",
    ")\n",
    "\n",
    "class GenerateAnswer(Signature):\n",
    "    \"\"\"Answer question with short factoid answers.\"\"\"\n",
    "    context = InputField(desc=\"may contain relevant facts\")\n",
    "    question = InputField()\n",
    "    answer = OutputField(desc=\"Often between 1 and 5 words\")"
   ]
  },
  {
   "cell_type": "code",
   "execution_count": 19,
   "metadata": {},
   "outputs": [],
   "source": [
    "class RAG(Module):\n",
    "    def __init__(self, num_passages=3):\n",
    "        super().__init__()\n",
    "        self.retrieve = Retrieve(k=num_passages)\n",
    "        self.generate_answer = ChainOfThought(GenerateAnswer)\n",
    "\n",
    "    def forward(self, question):\n",
    "        context = self.retrieve(question).passages\n",
    "        prediction = self.generate_answer(context=context, \n",
    "                                          question=question)\n",
    "        return Prediction(context=context,\n",
    "                          answer=prediction.answer)"
   ]
  },
  {
   "cell_type": "code",
   "execution_count": 20,
   "metadata": {},
   "outputs": [],
   "source": [
    "from dspy.teleprompt import BootstrapFewShot\n",
    "from dspy.evaluate import (\n",
    "    answer_exact_match,\n",
    "    answer_passage_match\n",
    ")\n",
    "\n",
    "def validate_context_and_answer(example, pred, trace=None):\n",
    "    answer_EM = answer_exact_match(example, pred)\n",
    "    answer_PM = answer_passage_match(example, pred)\n",
    "    return answer_EM and answer_PM"
   ]
  },
  {
   "cell_type": "code",
   "execution_count": 26,
   "metadata": {},
   "outputs": [
    {
     "name": "stdout",
     "output_type": "stream",
     "text": [
      "def answer_exact_match(example, pred, trace=None, frac=1.0):\n",
      "    assert(type(example.answer) is str or type(example.answer) is list)\n",
      "    \n",
      "    if type(example.answer) is str:\n",
      "        return dsp.answer_match(pred.answer, [example.answer], frac=frac)\n",
      "    else: # type(example.answer) is list\n",
      "        return dsp.answer_match(pred.answer, example.answer, frac=frac)\n",
      "\n"
     ]
    }
   ],
   "source": [
    "import inspect\n",
    "print(inspect.getsource(answer_exact_match))"
   ]
  },
  {
   "cell_type": "code",
   "execution_count": 29,
   "metadata": {},
   "outputs": [
    {
     "name": "stdout",
     "output_type": "stream",
     "text": [
      "def answer_match(prediction, answers, frac=1.0):\n",
      "    # pred = example.prediction\n",
      "    # answers = example.answers\n",
      "\n",
      "    if frac >= 1.0:\n",
      "        return EM(prediction, answers)\n",
      "\n",
      "    return F1(prediction, answers) >= frac\n",
      "\n"
     ]
    }
   ],
   "source": [
    "from dsp import answer_match\n",
    "print(inspect.getsource(answer_match))"
   ]
  },
  {
   "cell_type": "code",
   "execution_count": 31,
   "metadata": {},
   "outputs": [
    {
     "data": {
      "text/plain": [
       "Prediction(\n",
       "    passages=['At My Window (album) | At My Window is an album released by Folk/country singer-songwriter Townes Van Zandt in 1987. This was Van Zandt\\'s first studio album in the nine years that followed 1978\\'s \"Flyin\\' Shoes\", and his only studio album recorded in the 1980s. Although the songwriter had become less prolific, this release showed that the quality of his material remained high.', 'Little Window | Little Window is the debut album of American singer-songwriter Baby Dee. The album was released in 2002 on the Durtro label. It was produced, composed, and performed entirely by Dee.', 'Windows and Walls | Windows and Walls is the eighth album by American singer-songwriter Dan Fogelberg, released in 1984 (see 1984 in music). The first single, \"The Language of Love\", reached 13 on the U.S. \"Billboard\" Hot 100 chart. Although the follow-up, \"Believe in Me\", missed the Top 40 of the pop chart, peaking at No. 48, it became the singer\\'s fourth No. 1 song on the \"Billboard\" adult contemporary chart.']\n",
       ")"
      ]
     },
     "execution_count": 31,
     "metadata": {},
     "output_type": "execute_result"
    }
   ],
   "source": [
    "rag_1 = RAG()\n",
    "trainset[0].question\n",
    "# sending through retriever \n",
    "retriev_out = rag_1.retrieve(trainset[0].question)\n",
    "retriev_out  # gives a prediction object, with the passage"
   ]
  },
  {
   "cell_type": "code",
   "execution_count": 34,
   "metadata": {},
   "outputs": [
    {
     "data": {
      "text/plain": [
       "Prediction(\n",
       "    rationale='produce the answer. We know that the album \"At My Window\" was released by an American singer-songwriter in 1987.',\n",
       "    answer='Townes Van Zandt'\n",
       ")"
      ]
     },
     "execution_count": 34,
     "metadata": {},
     "output_type": "execute_result"
    }
   ],
   "source": [
    "cot_out = rag_1.generate_answer(context=retriev_out.passages,\n",
    "                                question=trainset[0].question)\n",
    "cot_out"
   ]
  },
  {
   "cell_type": "code",
   "execution_count": 35,
   "metadata": {},
   "outputs": [
    {
     "data": {
      "text/plain": [
       "Prediction(\n",
       "    context=['At My Window (album) | At My Window is an album released by Folk/country singer-songwriter Townes Van Zandt in 1987. This was Van Zandt\\'s first studio album in the nine years that followed 1978\\'s \"Flyin\\' Shoes\", and his only studio album recorded in the 1980s. Although the songwriter had become less prolific, this release showed that the quality of his material remained high.', 'Little Window | Little Window is the debut album of American singer-songwriter Baby Dee. The album was released in 2002 on the Durtro label. It was produced, composed, and performed entirely by Dee.', 'Windows and Walls | Windows and Walls is the eighth album by American singer-songwriter Dan Fogelberg, released in 1984 (see 1984 in music). The first single, \"The Language of Love\", reached 13 on the U.S. \"Billboard\" Hot 100 chart. Although the follow-up, \"Believe in Me\", missed the Top 40 of the pop chart, peaking at No. 48, it became the singer\\'s fourth No. 1 song on the \"Billboard\" adult contemporary chart.'],\n",
       "    answer='Townes Van Zandt'\n",
       ")"
      ]
     },
     "execution_count": 35,
     "metadata": {},
     "output_type": "execute_result"
    }
   ],
   "source": [
    "output = Prediction(context=retriev_out.passages,\n",
    "           answer=cot_out.answer)\n",
    "output"
   ]
  },
  {
   "cell_type": "code",
   "execution_count": 21,
   "metadata": {},
   "outputs": [
    {
     "name": "stderr",
     "output_type": "stream",
     "text": [
      " 50%|█████     | 10/20 [00:21<00:21,  2.17s/it]"
     ]
    },
    {
     "name": "stdout",
     "output_type": "stream",
     "text": [
      "Bootstrapped 4 full traces after 11 examples in round 0.\n"
     ]
    },
    {
     "name": "stderr",
     "output_type": "stream",
     "text": [
      "\n"
     ]
    }
   ],
   "source": [
    "# A trainingset.\n",
    "# A metric for validation. \n",
    "# A specific teleprompter.\n",
    "\n",
    "teleprompter = BootstrapFewShot(metric=validate_context_and_answer)\n",
    "\n",
    "compiled_rag = teleprompter.compile(RAG(),\n",
    "                                    trainset=trainset)"
   ]
  },
  {
   "cell_type": "code",
   "execution_count": 40,
   "metadata": {},
   "outputs": [
    {
     "data": {
      "text/plain": [
       "{'k': 3}"
      ]
     },
     "execution_count": 40,
     "metadata": {},
     "output_type": "execute_result"
    }
   ],
   "source": [
    "rag_1.retrieve.dump_state()"
   ]
  },
  {
   "cell_type": "code",
   "execution_count": 42,
   "metadata": {},
   "outputs": [
    {
     "data": {
      "text/plain": [
       "{'retrieve': {'k': 3},\n",
       " 'generate_answer': {'lm': None,\n",
       "  'traces': [],\n",
       "  'train': [],\n",
       "  'demos': [],\n",
       "  'signature_instructions': 'Answer question with short factoid answers.',\n",
       "  'signature_prefix': 'Answer:',\n",
       "  'extended_signature_instructions': 'Answer question with short factoid answers.',\n",
       "  'extended_signature_prefix': 'Answer:'}}"
      ]
     },
     "execution_count": 42,
     "metadata": {},
     "output_type": "execute_result"
    }
   ],
   "source": [
    "rag_1.dump_state()"
   ]
  },
  {
   "cell_type": "code",
   "execution_count": 49,
   "metadata": {},
   "outputs": [
    {
     "data": {
      "text/plain": [
       "True"
      ]
     },
     "execution_count": 49,
     "metadata": {},
     "output_type": "execute_result"
    }
   ],
   "source": [
    "rag_1.generate_answer.activated"
   ]
  },
  {
   "cell_type": "code",
   "execution_count": 22,
   "metadata": {},
   "outputs": [
    {
     "name": "stdout",
     "output_type": "stream",
     "text": [
      "Question: What castle did David Gregory Inherit?\n",
      "Question: Kinnairdy Castle\n",
      "Retrieved Contexts: ['David Gregory (physician) | David Gregory (20 December 1625 – 1720) was a Scottish physician and inventor. His surname is sometimes spelt as Gregorie, the original Scottish spelling. He inherited Kinn...', 'Gregory Tarchaneiotes | Gregory Tarchaneiotes (Greek: Γρηγόριος Ταρχανειώτης , Italian: \"Gregorio Tracanioto\" or \"Tracamoto\" ) was a \"protospatharius\" and the long-reigning catepan of Italy from 998 t...', 'David Gregory (mathematician) | David Gregory (originally spelt Gregorie) FRS (? 1659 – 10 October 1708) was a Scottish mathematician and astronomer. He was professor of mathematics at the University ...']\n"
     ]
    }
   ],
   "source": [
    "my_question = 'What castle did David Gregory Inherit?'\n",
    "\n",
    "pred = compiled_rag(my_question)\n",
    "\n",
    "print(f\"Question: {my_question}\")\n",
    "print(f\"Question: {pred.answer}\")\n",
    "print(f\"Retrieved Contexts: {[c[:200] + '...' for c in pred.context]}\")"
   ]
  },
  {
   "cell_type": "code",
   "execution_count": 50,
   "metadata": {},
   "outputs": [
    {
     "name": "stdout",
     "output_type": "stream",
     "text": [
      "generate_answer\n",
      "Example({'augmented': True, 'context': ['Candace Kita | Kita\\'s first role was as a news anchor in the 1991 movie \"Stealth Hunters\". Kita\\'s first recurring television role was in Fox\\'s \"Masked Rider\", from 1995 to 1996. She appeared as a series regular lead in all 40 episodes. Kita also portrayed a frantic stewardess in a music video directed by Mark Pellington for the British group, Catherine Wheel, titled, \"Waydown\" in 1995. In 1996, Kita also appeared in the film \"Barb Wire\" (1996) and guest starred on \"The Wayans Bros.\". She also guest starred in \"Miriam Teitelbaum: Homicide\" with \"Saturday Night Live\" alumni Nora Dunn, \"Wall To Wall Records\" with Jordan Bridges, \"Even Stevens\", \"Felicity\" with Keri Russell, \"V.I.P.\" with Pamela Anderson, \"Girlfriends\", \"The Sweet Spot\" with Bill Murray, and \"Movies at Our House\". She also had recurring roles on the FX spoof, \"Son of the Beach\" from 2001 to 2002, ABC-Family\\'s \"Dance Fever\" and Oxygen Network\\'s \"Running with Scissors\". Kita also appeared in the films \"Little Heroes\" (2002) and \"Rennie\\'s Landing\" (2001).', 'Jilly Kitzinger | Jilly Kitzinger is a fictional character in the science fiction series \"Torchwood\", portrayed by American actress Lauren Ambrose. The character was promoted as one of five new main characters to join \"Torchwood\" in its fourth series, \"\" (2011), as part of a new co-production between \"Torchwood\"\\' s British network, BBC One, and its American financiers on US premium television network Starz. Ambrose appears in seven of the ten episodes, and is credited as a \"special guest star\" throughout. Whilst reaction to the serial was mixed, Ambrose\\' portrayal was often singled out by critics for particular praise and in 2012 she received a Saturn Award nomination for Best Supporting Actress on Television.', 'Candace Brown | Candace June Brown (born June 15, 1980) is an American actress and comedian best known for her work on shows such as \"Grey\\'s Anatomy\", \"Desperate Housewives\", \"Head Case\", The \"Wizards Of Waverly Place\". In 2011, she joined the guest cast for \"Torchwood\"\\' s fourth series\\' \"\", airing on BBC One in the United Kingdom and premium television network Starz.'], 'question': 'which  American actor was Candace Kita  guest starred with ', 'rationale': 'produce the answer. We know that Candace Kita guest starred with various actors in different TV shows and movies.', 'answer': 'Bill Murray'}) (input_keys=None)\n",
      "\n"
     ]
    }
   ],
   "source": [
    "for name, parameter in compiled_rag.named_predictors():\n",
    "    print(name)\n",
    "    print(parameter.demos[0])\n",
    "    print()"
   ]
  },
  {
   "cell_type": "code",
   "execution_count": 23,
   "metadata": {},
   "outputs": [
    {
     "name": "stdout",
     "output_type": "stream",
     "text": [
      "\n",
      "\n",
      "\n",
      "\n",
      "Answer question with short factoid answers.\n",
      "\n",
      "---\n",
      "\n",
      "Question: At My Window was released by which American singer-songwriter?\n",
      "Answer: John Townes Van Zandt\n",
      "\n",
      "Question: \"Everything Has Changed\" is a song from an album released under which record label ?\n",
      "Answer: Big Machine Records\n",
      "\n",
      "Question: In what year was the club founded that played Manchester City in the 1972 FA Charity Shield\n",
      "Answer: 1874\n",
      "\n",
      "Question: Which Pakistani cricket umpire who won 3 consecutive ICC umpire of the year awards in 2009, 2010, and 2011 will be in the ICC World Twenty20?\n",
      "Answer: Aleem Sarwar Dar\n",
      "\n",
      "Question: Having the combination of excellent foot speed and bat speed helped Eric Davis, create what kind of outfield for the Los Angeles Dodgers?\n",
      "Answer: \"Outfield of Dreams\"\n",
      "\n",
      "Question: Who is older, Aleksandr Danilovich Aleksandrov or Anatoly Fomenko?\n",
      "Answer: Aleksandr Danilovich Aleksandrov\n",
      "\n",
      "Question: The Organisation that allows a community to influence their operation or use and to enjoy the benefits arisingwas founded in what year?\n",
      "Answer: 2010\n",
      "\n",
      "Question: Who acted in the shot film The Shore and is also the youngest actress ever to play Ophelia in a Royal Shakespeare Company production of \"Hamlet.\" ?\n",
      "Answer: Kerry Condon\n",
      "\n",
      "Question: Which is taller, the Empire State Building or the Bank of America Tower?\n",
      "Answer: The Empire State Building\n",
      "\n",
      "Question: Which of these publications was most recently published, Who Put the Bomp or Self?\n",
      "Answer: Self\n",
      "\n",
      "Question: Tombstone stared an actor born May 17, 1955 known as who?\n",
      "Answer: Bill Paxton\n",
      "\n",
      "Question: Which company distributed this 1977 American animated film produced by Walt Disney Productions for which Sherman Brothers wrote songs?\n",
      "Answer: Buena Vista Distribution\n",
      "\n",
      "---\n",
      "\n",
      "Follow the following format.\n",
      "\n",
      "Context: may contain relevant facts\n",
      "\n",
      "Question: ${question}\n",
      "\n",
      "Reasoning: Let's think step by step in order to ${produce the answer}. We ...\n",
      "\n",
      "Answer: Often between 1 and 5 words\n",
      "\n",
      "---\n",
      "\n",
      "Context:\n",
      "[1] «Candace Kita | Kita's first role was as a news anchor in the 1991 movie \"Stealth Hunters\". Kita's first recurring television role was in Fox's \"Masked Rider\", from 1995 to 1996. She appeared as a series regular lead in all 40 episodes. Kita also portrayed a frantic stewardess in a music video directed by Mark Pellington for the British group, Catherine Wheel, titled, \"Waydown\" in 1995. In 1996, Kita also appeared in the film \"Barb Wire\" (1996) and guest starred on \"The Wayans Bros.\". She also guest starred in \"Miriam Teitelbaum: Homicide\" with \"Saturday Night Live\" alumni Nora Dunn, \"Wall To Wall Records\" with Jordan Bridges, \"Even Stevens\", \"Felicity\" with Keri Russell, \"V.I.P.\" with Pamela Anderson, \"Girlfriends\", \"The Sweet Spot\" with Bill Murray, and \"Movies at Our House\". She also had recurring roles on the FX spoof, \"Son of the Beach\" from 2001 to 2002, ABC-Family's \"Dance Fever\" and Oxygen Network's \"Running with Scissors\". Kita also appeared in the films \"Little Heroes\" (2002) and \"Rennie's Landing\" (2001).»\n",
      "[2] «Jilly Kitzinger | Jilly Kitzinger is a fictional character in the science fiction series \"Torchwood\", portrayed by American actress Lauren Ambrose. The character was promoted as one of five new main characters to join \"Torchwood\" in its fourth series, \"\" (2011), as part of a new co-production between \"Torchwood\"' s British network, BBC One, and its American financiers on US premium television network Starz. Ambrose appears in seven of the ten episodes, and is credited as a \"special guest star\" throughout. Whilst reaction to the serial was mixed, Ambrose' portrayal was often singled out by critics for particular praise and in 2012 she received a Saturn Award nomination for Best Supporting Actress on Television.»\n",
      "[3] «Candace Brown | Candace June Brown (born June 15, 1980) is an American actress and comedian best known for her work on shows such as \"Grey's Anatomy\", \"Desperate Housewives\", \"Head Case\", The \"Wizards Of Waverly Place\". In 2011, she joined the guest cast for \"Torchwood\"' s fourth series' \"\", airing on BBC One in the United Kingdom and premium television network Starz.»\n",
      "\n",
      "Question: which American actor was Candace Kita guest starred with\n",
      "\n",
      "Reasoning: Let's think step by step in order to produce the answer. We know that Candace Kita guest starred with various actors in different TV shows and movies.\n",
      "\n",
      "Answer: Bill Murray\n",
      "\n",
      "---\n",
      "\n",
      "Context:\n",
      "[1] «Tae Kwon Do Times | Tae Kwon Do Times is a magazine devoted to the martial art of taekwondo, and is published in the United States of America. While the title suggests that it focuses on taekwondo exclusively, the magazine also covers other Korean martial arts. \"Tae Kwon Do Times\" has published articles by a wide range of authors, including He-Young Kimm, Thomas Kurz, Scott Shaw, and Mark Van Schuyver.»\n",
      "[2] «Kwon Tae-man | Kwon Tae-man (born 1941) was an early Korean hapkido practitioner and a pioneer of the art, first in Korea and then in the United States. He formed one of the earliest dojang's for hapkido in the United States in Torrance, California, and has been featured in many magazine articles promoting the art.»\n",
      "[3] «Hee Il Cho | Cho Hee Il (born October 13, 1940) is a prominent Korean-American master of taekwondo, holding the rank of 9th \"dan\" in the martial art. He has written 11 martial art books, produced 70 martial art training videos, and has appeared on more than 70 martial arts magazine covers. Cho won several national and international competitions as a taekwondo competitor, and has appeared in several films, including \"Fight to Win\", \"Best of the Best\", \"Bloodsport II\", and \"Bloodsport III\". He founded the Action International Martial Arts Association (AIMAA) in 1980, and is its President. Cho is a member of both \"Black Belt\" magazine's Hall of Fame and \"Tae Kwon Do Times\" magazine's Hall of Fame.»\n",
      "\n",
      "Question: Which magazine has published articles by Scott Shaw, Tae Kwon Do Times or Southwest Art?\n",
      "\n",
      "Reasoning: Let's think step by step in order to produce the answer. We know that \"Tae Kwon Do Times\" has published articles by Scott Shaw, as mentioned in the context.\n",
      "\n",
      "Answer: Tae Kwon Do Times\n",
      "\n",
      "---\n",
      "\n",
      "Context:\n",
      "[1] «Rosario Dawson | Rosario Isabel Dawson (born May 9, 1979) is an American actress, producer, singer, comic book writer, and political activist. She made her film debut in the 1995 teen drama \"Kids\". Her subsequent film roles include \"He Got Game\", \"Men in Black II\", \"25th Hour\", \"Rent\", \"Sin City\", \"Death Proof\", \"Seven Pounds\", \"\", and \"Top Five\". Dawson has also provided voice-over work for Disney and DC.»\n",
      "[2] «Sarai Gonzalez | Sarai Isaura Gonzalez (born 2005) is an American Latina child actress who made her professional debut at the age of 11 on the Spanish-language \"\"Soy Yo\"\" (\"That's Me\") music video by Bomba Estéreo. Cast as a \"nerdy\" tween with a \"sassy\" and \"confident\" attitude, her performance turned her into a \"Latina icon\" for \"female empowerment, identity and self-worth\". She subsequently appeared in two get out the vote videos for Latinos in advance of the 2016 United States elections.»\n",
      "[3] «Gabriela (2001 film) | Gabriela is a 2001 American romance film, starring Seidy Lopez in the title role alongside Jaime Gomez as her admirer Mike. The film has been cited as an inspiration behind the Premiere Weekend Club, which supports Latino film-making.»\n",
      "\n",
      "Question: Which American actress who made their film debut in the 1995 teen drama \"Kids\" was the co-founder of Voto Latino?\n",
      "\n",
      "Reasoning: Let's think step by step in order to produce the answer. We know that the actress made her film debut in 1995 and is involved in political activism, so she must be Rosario Dawson.\n",
      "\n",
      "Answer: Rosario Dawson\n",
      "\n",
      "---\n",
      "\n",
      "Context:\n",
      "[1] «Battle of Kursk | The Battle of Kursk was a Second World War engagement between German and Soviet forces on the Eastern Front near Kursk (450 km south-west of Moscow) in the Soviet Union during July and August 1943. The battle began with the launch of the German offensive, Operation Citadel (German: \"Unternehmen Zitadelle\" ), on 5 July, which had the objective of pinching off the Kursk salient with attacks on the base of the salient from north and south simultaneously. After the German offensive stalled on the northern side of the salient, on 12 July the Soviets commenced their Kursk Strategic Offensive Operation with the launch of Operation Kutuzov (Russian: Кутузов ) against the rear of the German forces in the northern side. On the southern side, the Soviets also launched powerful counterattacks the same day, one of which led to a large armoured clash, the Battle of Prokhorovka. On 3 August, the Soviets began the second phase of the Kursk Strategic Offensive Operation with the launch of Operation Polkovodets Rumyantsev (Russian: Полководец Румянцев ) against the German forces in the southern side of the Kursk salient.»\n",
      "[2] «Operation Mars | Operation Mars, also known as the Second Rzhev-Sychevka Offensive Operation (Russian: Вторая Ржевско-Сычёвская наступательная операция), was the codename for an offensive launched by Soviet forces against German forces during World War II. It took place between 25 November and 20 December 1942 around the Rzhev salient in the vicinity of Moscow.»\n",
      "[3] «Kholm Pocket | The Kholm Pocket (German: \"Kessel von Cholm\" ; Russian: Холмский котёл ) was the name given for the encirclement of German troops by the Red Army around Kholm south of Leningrad, during World War II on the Eastern Front, from 23 January 1942 until 5 May 1942. A much larger pocket was simultaneously surrounded in Demyansk, about 100 km to the northeast. These were the results of German retreat following their defeat during the Battle of Moscow.»\n",
      "\n",
      "Question: What is the code name for the German offensive that started this Second World War engagement on the Eastern Front (a few hundred kilometers from Moscow) between Soviet and German forces, which included 102nd Infantry Division?\n",
      "\n",
      "Reasoning: Let's think step by step in order to produce the answer. We know that the German offensive that started the Battle of Kursk was codenamed Operation Citadel, so the code name for the German offensive in this engagement is...\n",
      "\n",
      "Answer: Operation Citadel\n",
      "\n",
      "---\n",
      "\n",
      "Context:\n",
      "[1] «David Gregory (physician) | David Gregory (20 December 1625 – 1720) was a Scottish physician and inventor. His surname is sometimes spelt as Gregorie, the original Scottish spelling. He inherited Kinnairdy Castle in 1664. Three of his twenty-nine children became mathematics professors. He is credited with inventing a military cannon that Isaac Newton described as \"being destructive to the human species\". Copies and details of the model no longer exist. Gregory's use of a barometer to predict farming-related weather conditions led him to be accused of witchcraft by Presbyterian ministers from Aberdeen, although he was never convicted.»\n",
      "[2] «Gregory Tarchaneiotes | Gregory Tarchaneiotes (Greek: Γρηγόριος Ταρχανειώτης , Italian: \"Gregorio Tracanioto\" or \"Tracamoto\" ) was a \"protospatharius\" and the long-reigning catepan of Italy from 998 to 1006. In December 999, and again on February 2, 1002, he reinstituted and confirmed the possessions of the abbey and monks of Monte Cassino in Ascoli. In 1004, he fortified and expanded the castle of Dragonara on the Fortore. He gave it three circular towers and one square one. He also strengthened Lucera.»\n",
      "[3] «David Gregory (mathematician) | David Gregory (originally spelt Gregorie) FRS (? 1659 – 10 October 1708) was a Scottish mathematician and astronomer. He was professor of mathematics at the University of Edinburgh, Savilian Professor of Astronomy at the University of Oxford, and a commentator on Isaac Newton's \"Principia\".»\n",
      "\n",
      "Question: What castle did David Gregory Inherit?\n",
      "\n",
      "Reasoning: Let's think step by step in order to\u001b[32m produce the answer. We know that David Gregory inherited Kinnairdy Castle in 1664.\n",
      "\n",
      "Answer: Kinnairdy Castle\u001b[0m\n",
      "\n",
      "\n",
      "\n"
     ]
    }
   ],
   "source": [
    "turbo.inspect_history(n=1)"
   ]
  },
  {
   "cell_type": "code",
   "execution_count": 51,
   "metadata": {},
   "outputs": [
    {
     "data": {
      "text/plain": [
       "[('retrieve', <dspy.retrieve.retrieve.Retrieve at 0x2765a02e290>),\n",
       " ('generate_answer',\n",
       "  ChainOfThought(Signature(context, question -> answer\n",
       "      instructions='Answer question with short factoid answers.'\n",
       "      context = Field(annotation=str required=True json_schema_extra={'desc': 'may contain relevant facts', '__dspy_field_type': 'input', 'prefix': 'Context:'})\n",
       "      question = Field(annotation=str required=True json_schema_extra={'__dspy_field_type': 'input', 'prefix': 'Question:', 'desc': '${question}'})\n",
       "      answer = Field(annotation=str required=True json_schema_extra={'desc': 'Often between 1 and 5 words', '__dspy_field_type': 'output', 'prefix': 'Answer:'})\n",
       "  )))]"
      ]
     },
     "execution_count": 51,
     "metadata": {},
     "output_type": "execute_result"
    }
   ],
   "source": [
    "compiled_rag.named_parameters()\n"
   ]
  },
  {
   "cell_type": "code",
   "execution_count": 52,
   "metadata": {},
   "outputs": [],
   "source": [
    "from dspy.evaluate.evaluate import Evaluate\n",
    "\n",
    "eval_hpqa = Evaluate(devset=evalset,\n",
    "                     num_threads=1, display_progress=False,\n",
    "                     display_table=5)"
   ]
  },
  {
   "cell_type": "code",
   "execution_count": 56,
   "metadata": {},
   "outputs": [
    {
     "name": "stdout",
     "output_type": "stream",
     "text": [
      "Average Metric: 25 / 50  (50.0%)\n"
     ]
    },
    {
     "name": "stderr",
     "output_type": "stream",
     "text": [
      "d:\\dspyenv\\Lib\\site-packages\\dspy\\evaluate\\evaluate.py:143: FutureWarning: DataFrame.applymap has been deprecated. Use DataFrame.map instead.\n",
      "  df = df.applymap(truncate_cell)\n",
      "d:\\dspyenv\\Lib\\site-packages\\dspy\\evaluate\\evaluate.py:217: FutureWarning: Setting an item of incompatible dtype is deprecated and will raise in a future error of pandas. Value '['✔️ [True]' '✔️ [True]' '✔️ [True]' '✔️ [True]' '✔️ [True]']' has dtype incompatible with bool, please explicitly cast to a compatible dtype first.\n",
      "  df.loc[:, metric_name] = df[metric_name].apply(lambda x: f'✔️ [{x}]' if x is True else f'{x}')\n"
     ]
    },
    {
     "data": {
      "text/html": [
       "<style type=\"text/css\">\n",
       "#T_d7ae2 th {\n",
       "  text-align: left;\n",
       "}\n",
       "#T_d7ae2 td {\n",
       "  text-align: left;\n",
       "}\n",
       "#T_d7ae2_row0_col0, #T_d7ae2_row0_col1, #T_d7ae2_row0_col2, #T_d7ae2_row0_col3, #T_d7ae2_row0_col4, #T_d7ae2_row0_col5, #T_d7ae2_row1_col0, #T_d7ae2_row1_col1, #T_d7ae2_row1_col2, #T_d7ae2_row1_col3, #T_d7ae2_row1_col4, #T_d7ae2_row1_col5, #T_d7ae2_row2_col0, #T_d7ae2_row2_col1, #T_d7ae2_row2_col2, #T_d7ae2_row2_col3, #T_d7ae2_row2_col4, #T_d7ae2_row2_col5, #T_d7ae2_row3_col0, #T_d7ae2_row3_col1, #T_d7ae2_row3_col2, #T_d7ae2_row3_col3, #T_d7ae2_row3_col4, #T_d7ae2_row3_col5, #T_d7ae2_row4_col0, #T_d7ae2_row4_col1, #T_d7ae2_row4_col2, #T_d7ae2_row4_col3, #T_d7ae2_row4_col4, #T_d7ae2_row4_col5 {\n",
       "  text-align: left;\n",
       "  white-space: pre-wrap;\n",
       "  word-wrap: break-word;\n",
       "  max-width: 400px;\n",
       "}\n",
       "</style>\n",
       "<table id=\"T_d7ae2\">\n",
       "  <thead>\n",
       "    <tr>\n",
       "      <th class=\"blank level0\" >&nbsp;</th>\n",
       "      <th id=\"T_d7ae2_level0_col0\" class=\"col_heading level0 col0\" >question</th>\n",
       "      <th id=\"T_d7ae2_level0_col1\" class=\"col_heading level0 col1\" >example_answer</th>\n",
       "      <th id=\"T_d7ae2_level0_col2\" class=\"col_heading level0 col2\" >gold_titles</th>\n",
       "      <th id=\"T_d7ae2_level0_col3\" class=\"col_heading level0 col3\" >context</th>\n",
       "      <th id=\"T_d7ae2_level0_col4\" class=\"col_heading level0 col4\" >pred_answer</th>\n",
       "      <th id=\"T_d7ae2_level0_col5\" class=\"col_heading level0 col5\" >answer_exact_match</th>\n",
       "    </tr>\n",
       "  </thead>\n",
       "  <tbody>\n",
       "    <tr>\n",
       "      <th id=\"T_d7ae2_level0_row0\" class=\"row_heading level0 row0\" >0</th>\n",
       "      <td id=\"T_d7ae2_row0_col0\" class=\"data row0 col0\" >What is T. J. Lottie's husband's nickname?</td>\n",
       "      <td id=\"T_d7ae2_row0_col1\" class=\"data row0 col1\" >Rip</td>\n",
       "      <td id=\"T_d7ae2_row0_col2\" class=\"data row0 col2\" >{'Richard Hamilton (basketball)', 'T. J. Lottie'}</td>\n",
       "      <td id=\"T_d7ae2_row0_col3\" class=\"data row0 col3\" >['T. J. Lottie | T. J. Lottie is an American singer. She was a member of the R&B group So Plush, which was on the...</td>\n",
       "      <td id=\"T_d7ae2_row0_col4\" class=\"data row0 col4\" >Rip</td>\n",
       "      <td id=\"T_d7ae2_row0_col5\" class=\"data row0 col5\" >✔️ [True]</td>\n",
       "    </tr>\n",
       "    <tr>\n",
       "      <th id=\"T_d7ae2_level0_row1\" class=\"row_heading level0 row1\" >1</th>\n",
       "      <td id=\"T_d7ae2_row1_col0\" class=\"data row1 col0\" >Aniki-Bóbó is akin to a children's counting rhyme that has existed in various forms since well before when?</td>\n",
       "      <td id=\"T_d7ae2_row1_col1\" class=\"data row1 col1\" >1820</td>\n",
       "      <td id=\"T_d7ae2_row1_col2\" class=\"data row1 col2\" >{'Eeny, meeny, miny, moe', 'Aniki-Bóbó'}</td>\n",
       "      <td id=\"T_d7ae2_row1_col3\" class=\"data row1 col3\" >['Aniki-Bóbó | Aniki-Bóbó is a 1942 Portuguese film directed by Manoel de Oliveira. It is his first feature-length film. The actors are mostly children from...</td>\n",
       "      <td id=\"T_d7ae2_row1_col4\" class=\"data row1 col4\" >1820</td>\n",
       "      <td id=\"T_d7ae2_row1_col5\" class=\"data row1 col5\" >✔️ [True]</td>\n",
       "    </tr>\n",
       "    <tr>\n",
       "      <th id=\"T_d7ae2_level0_row2\" class=\"row_heading level0 row2\" >2</th>\n",
       "      <td id=\"T_d7ae2_row2_col0\" class=\"data row2 col0\" >Estonian Philharmonic Chamber Choir won the grammy Award for Best Choral Performance for two songs by a composer born in what year ?</td>\n",
       "      <td id=\"T_d7ae2_row2_col1\" class=\"data row2 col1\" >1935</td>\n",
       "      <td id=\"T_d7ae2_row2_col2\" class=\"data row2 col2\" >{'Estonian Philharmonic Chamber Choir', 'Arvo Pärt'}</td>\n",
       "      <td id=\"T_d7ae2_row2_col3\" class=\"data row2 col3\" >['Estonian Philharmonic Chamber Choir | The Estonian Philharmonic Chamber Choir (EPCC) is a professional choir based in Estonia. It was founded in 1981 by Tõnu...</td>\n",
       "      <td id=\"T_d7ae2_row2_col4\" class=\"data row2 col4\" >1935</td>\n",
       "      <td id=\"T_d7ae2_row2_col5\" class=\"data row2 col5\" >✔️ [True]</td>\n",
       "    </tr>\n",
       "    <tr>\n",
       "      <th id=\"T_d7ae2_level0_row3\" class=\"row_heading level0 row3\" >3</th>\n",
       "      <td id=\"T_d7ae2_row3_col0\" class=\"data row3 col0\" >What is the nationality of the woman who performed \"A Message to Your Heart\" at the Eurovision Song Contest in 1991?</td>\n",
       "      <td id=\"T_d7ae2_row3_col1\" class=\"data row3 col1\" >British</td>\n",
       "      <td id=\"T_d7ae2_row3_col2\" class=\"data row3 col2\" >{'A Message to Your Heart', 'Samantha Womack'}</td>\n",
       "      <td id=\"T_d7ae2_row3_col3\" class=\"data row3 col3\" >['A Message to Your Heart | \"A Message to Your Heart\", written and composed by Paul Curtis, was the United Kingdom\\'s entry at the Eurovision...</td>\n",
       "      <td id=\"T_d7ae2_row3_col4\" class=\"data row3 col4\" >British</td>\n",
       "      <td id=\"T_d7ae2_row3_col5\" class=\"data row3 col5\" >✔️ [True]</td>\n",
       "    </tr>\n",
       "    <tr>\n",
       "      <th id=\"T_d7ae2_level0_row4\" class=\"row_heading level0 row4\" >4</th>\n",
       "      <td id=\"T_d7ae2_row4_col0\" class=\"data row4 col0\" >What musical was based on the 2003 film directed by Jon Favreau?</td>\n",
       "      <td id=\"T_d7ae2_row4_col1\" class=\"data row4 col1\" >Elf</td>\n",
       "      <td id=\"T_d7ae2_row4_col2\" class=\"data row4 col2\" >{'Elf: The Musical', 'Elf (film)'}</td>\n",
       "      <td id=\"T_d7ae2_row4_col3\" class=\"data row4 col3\" >['The Big Empty (2003 film) | The Big Empty is a 2003 drama film directed and written by Steve Anderson. It stars Jon Favreau as...</td>\n",
       "      <td id=\"T_d7ae2_row4_col4\" class=\"data row4 col4\" >Elf</td>\n",
       "      <td id=\"T_d7ae2_row4_col5\" class=\"data row4 col5\" >✔️ [True]</td>\n",
       "    </tr>\n",
       "  </tbody>\n",
       "</table>\n"
      ],
      "text/plain": [
       "<pandas.io.formats.style.Styler at 0x2767f056d50>"
      ]
     },
     "metadata": {},
     "output_type": "display_data"
    },
    {
     "data": {
      "text/html": [
       "\n",
       "                <div style='\n",
       "                    text-align: center; \n",
       "                    font-size: 16px; \n",
       "                    font-weight: bold; \n",
       "                    color: #555; \n",
       "                    margin: 10px 0;'>\n",
       "                    ... 45 more rows not displayed ...\n",
       "                </div>\n",
       "                "
      ],
      "text/plain": [
       "<IPython.core.display.HTML object>"
      ]
     },
     "metadata": {},
     "output_type": "display_data"
    },
    {
     "data": {
      "text/plain": [
       "50.0"
      ]
     },
     "execution_count": 56,
     "metadata": {},
     "output_type": "execute_result"
    }
   ],
   "source": [
    "eval_hpqa(compiled_rag, metric=answer_exact_match)"
   ]
  },
  {
   "cell_type": "code",
   "execution_count": 57,
   "metadata": {},
   "outputs": [],
   "source": [
    "from dspy.evaluate import normalize_text\n",
    "\n",
    "def gold_passages_retrieved(example, pred, trace=None):\n",
    "    gold_titles = set(map(normalize_text, example['gold_titles']))\n",
    "    found_titles = set(map(normalize_text, [c.split(' | ')[0] for c in pred.context]))\n",
    "\n",
    "    return gold_titles.issubset(found_titles)\n"
   ]
  },
  {
   "cell_type": "code",
   "execution_count": 58,
   "metadata": {},
   "outputs": [
    {
     "name": "stdout",
     "output_type": "stream",
     "text": [
      "Average Metric: 13 / 50  (26.0%)\n"
     ]
    },
    {
     "name": "stderr",
     "output_type": "stream",
     "text": [
      "d:\\dspyenv\\Lib\\site-packages\\dspy\\evaluate\\evaluate.py:143: FutureWarning: DataFrame.applymap has been deprecated. Use DataFrame.map instead.\n",
      "  df = df.applymap(truncate_cell)\n",
      "d:\\dspyenv\\Lib\\site-packages\\dspy\\evaluate\\evaluate.py:217: FutureWarning: Setting an item of incompatible dtype is deprecated and will raise in a future error of pandas. Value '['False' '✔️ [True]' 'False' 'False' 'False']' has dtype incompatible with bool, please explicitly cast to a compatible dtype first.\n",
      "  df.loc[:, metric_name] = df[metric_name].apply(lambda x: f'✔️ [{x}]' if x is True else f'{x}')\n"
     ]
    },
    {
     "data": {
      "text/html": [
       "<style type=\"text/css\">\n",
       "#T_9fe3e th {\n",
       "  text-align: left;\n",
       "}\n",
       "#T_9fe3e td {\n",
       "  text-align: left;\n",
       "}\n",
       "#T_9fe3e_row0_col0, #T_9fe3e_row0_col1, #T_9fe3e_row0_col2, #T_9fe3e_row0_col3, #T_9fe3e_row0_col4, #T_9fe3e_row0_col5, #T_9fe3e_row1_col0, #T_9fe3e_row1_col1, #T_9fe3e_row1_col2, #T_9fe3e_row1_col3, #T_9fe3e_row1_col4, #T_9fe3e_row1_col5, #T_9fe3e_row2_col0, #T_9fe3e_row2_col1, #T_9fe3e_row2_col2, #T_9fe3e_row2_col3, #T_9fe3e_row2_col4, #T_9fe3e_row2_col5, #T_9fe3e_row3_col0, #T_9fe3e_row3_col1, #T_9fe3e_row3_col2, #T_9fe3e_row3_col3, #T_9fe3e_row3_col4, #T_9fe3e_row3_col5, #T_9fe3e_row4_col0, #T_9fe3e_row4_col1, #T_9fe3e_row4_col2, #T_9fe3e_row4_col3, #T_9fe3e_row4_col4, #T_9fe3e_row4_col5 {\n",
       "  text-align: left;\n",
       "  white-space: pre-wrap;\n",
       "  word-wrap: break-word;\n",
       "  max-width: 400px;\n",
       "}\n",
       "</style>\n",
       "<table id=\"T_9fe3e\">\n",
       "  <thead>\n",
       "    <tr>\n",
       "      <th class=\"blank level0\" >&nbsp;</th>\n",
       "      <th id=\"T_9fe3e_level0_col0\" class=\"col_heading level0 col0\" >question</th>\n",
       "      <th id=\"T_9fe3e_level0_col1\" class=\"col_heading level0 col1\" >example_answer</th>\n",
       "      <th id=\"T_9fe3e_level0_col2\" class=\"col_heading level0 col2\" >gold_titles</th>\n",
       "      <th id=\"T_9fe3e_level0_col3\" class=\"col_heading level0 col3\" >context</th>\n",
       "      <th id=\"T_9fe3e_level0_col4\" class=\"col_heading level0 col4\" >pred_answer</th>\n",
       "      <th id=\"T_9fe3e_level0_col5\" class=\"col_heading level0 col5\" >gold_passages_retrieved</th>\n",
       "    </tr>\n",
       "  </thead>\n",
       "  <tbody>\n",
       "    <tr>\n",
       "      <th id=\"T_9fe3e_level0_row0\" class=\"row_heading level0 row0\" >0</th>\n",
       "      <td id=\"T_9fe3e_row0_col0\" class=\"data row0 col0\" >What is T. J. Lottie's husband's nickname?</td>\n",
       "      <td id=\"T_9fe3e_row0_col1\" class=\"data row0 col1\" >Rip</td>\n",
       "      <td id=\"T_9fe3e_row0_col2\" class=\"data row0 col2\" >{'Richard Hamilton (basketball)', 'T. J. Lottie'}</td>\n",
       "      <td id=\"T_9fe3e_row0_col3\" class=\"data row0 col3\" >['T. J. Lottie | T. J. Lottie is an American singer. She was a member of the R&B group So Plush, which was on the...</td>\n",
       "      <td id=\"T_9fe3e_row0_col4\" class=\"data row0 col4\" >Rip</td>\n",
       "      <td id=\"T_9fe3e_row0_col5\" class=\"data row0 col5\" >False</td>\n",
       "    </tr>\n",
       "    <tr>\n",
       "      <th id=\"T_9fe3e_level0_row1\" class=\"row_heading level0 row1\" >1</th>\n",
       "      <td id=\"T_9fe3e_row1_col0\" class=\"data row1 col0\" >Aniki-Bóbó is akin to a children's counting rhyme that has existed in various forms since well before when?</td>\n",
       "      <td id=\"T_9fe3e_row1_col1\" class=\"data row1 col1\" >1820</td>\n",
       "      <td id=\"T_9fe3e_row1_col2\" class=\"data row1 col2\" >{'Eeny, meeny, miny, moe', 'Aniki-Bóbó'}</td>\n",
       "      <td id=\"T_9fe3e_row1_col3\" class=\"data row1 col3\" >['Aniki-Bóbó | Aniki-Bóbó is a 1942 Portuguese film directed by Manoel de Oliveira. It is his first feature-length film. The actors are mostly children from...</td>\n",
       "      <td id=\"T_9fe3e_row1_col4\" class=\"data row1 col4\" >1820</td>\n",
       "      <td id=\"T_9fe3e_row1_col5\" class=\"data row1 col5\" >✔️ [True]</td>\n",
       "    </tr>\n",
       "    <tr>\n",
       "      <th id=\"T_9fe3e_level0_row2\" class=\"row_heading level0 row2\" >2</th>\n",
       "      <td id=\"T_9fe3e_row2_col0\" class=\"data row2 col0\" >Estonian Philharmonic Chamber Choir won the grammy Award for Best Choral Performance for two songs by a composer born in what year ?</td>\n",
       "      <td id=\"T_9fe3e_row2_col1\" class=\"data row2 col1\" >1935</td>\n",
       "      <td id=\"T_9fe3e_row2_col2\" class=\"data row2 col2\" >{'Estonian Philharmonic Chamber Choir', 'Arvo Pärt'}</td>\n",
       "      <td id=\"T_9fe3e_row2_col3\" class=\"data row2 col3\" >['Estonian Philharmonic Chamber Choir | The Estonian Philharmonic Chamber Choir (EPCC) is a professional choir based in Estonia. It was founded in 1981 by Tõnu...</td>\n",
       "      <td id=\"T_9fe3e_row2_col4\" class=\"data row2 col4\" >1935</td>\n",
       "      <td id=\"T_9fe3e_row2_col5\" class=\"data row2 col5\" >False</td>\n",
       "    </tr>\n",
       "    <tr>\n",
       "      <th id=\"T_9fe3e_level0_row3\" class=\"row_heading level0 row3\" >3</th>\n",
       "      <td id=\"T_9fe3e_row3_col0\" class=\"data row3 col0\" >What is the nationality of the woman who performed \"A Message to Your Heart\" at the Eurovision Song Contest in 1991?</td>\n",
       "      <td id=\"T_9fe3e_row3_col1\" class=\"data row3 col1\" >British</td>\n",
       "      <td id=\"T_9fe3e_row3_col2\" class=\"data row3 col2\" >{'A Message to Your Heart', 'Samantha Womack'}</td>\n",
       "      <td id=\"T_9fe3e_row3_col3\" class=\"data row3 col3\" >['A Message to Your Heart | \"A Message to Your Heart\", written and composed by Paul Curtis, was the United Kingdom\\'s entry at the Eurovision...</td>\n",
       "      <td id=\"T_9fe3e_row3_col4\" class=\"data row3 col4\" >British</td>\n",
       "      <td id=\"T_9fe3e_row3_col5\" class=\"data row3 col5\" >False</td>\n",
       "    </tr>\n",
       "    <tr>\n",
       "      <th id=\"T_9fe3e_level0_row4\" class=\"row_heading level0 row4\" >4</th>\n",
       "      <td id=\"T_9fe3e_row4_col0\" class=\"data row4 col0\" >What musical was based on the 2003 film directed by Jon Favreau?</td>\n",
       "      <td id=\"T_9fe3e_row4_col1\" class=\"data row4 col1\" >Elf</td>\n",
       "      <td id=\"T_9fe3e_row4_col2\" class=\"data row4 col2\" >{'Elf: The Musical', 'Elf (film)'}</td>\n",
       "      <td id=\"T_9fe3e_row4_col3\" class=\"data row4 col3\" >['The Big Empty (2003 film) | The Big Empty is a 2003 drama film directed and written by Steve Anderson. It stars Jon Favreau as...</td>\n",
       "      <td id=\"T_9fe3e_row4_col4\" class=\"data row4 col4\" >Elf</td>\n",
       "      <td id=\"T_9fe3e_row4_col5\" class=\"data row4 col5\" >False</td>\n",
       "    </tr>\n",
       "  </tbody>\n",
       "</table>\n"
      ],
      "text/plain": [
       "<pandas.io.formats.style.Styler at 0x2766e2ba410>"
      ]
     },
     "metadata": {},
     "output_type": "display_data"
    },
    {
     "data": {
      "text/html": [
       "\n",
       "                <div style='\n",
       "                    text-align: center; \n",
       "                    font-size: 16px; \n",
       "                    font-weight: bold; \n",
       "                    color: #555; \n",
       "                    margin: 10px 0;'>\n",
       "                    ... 45 more rows not displayed ...\n",
       "                </div>\n",
       "                "
      ],
      "text/plain": [
       "<IPython.core.display.HTML object>"
      ]
     },
     "metadata": {},
     "output_type": "display_data"
    }
   ],
   "source": [
    "compiled_rag_retrieval_score = eval_hpqa(compiled_rag, metric=gold_passages_retrieved)"
   ]
  },
  {
   "cell_type": "markdown",
   "metadata": {},
   "source": [
    "#### Multi-hop systems\n",
    "\n",
    "GoldEn (Qi et al., 2019) and Baleen (Khattab et al., 2021). These systems read the retrieved results and then generate additional queries to gather additional information when necessary before arriving to a final answer."
   ]
  },
  {
   "cell_type": "code",
   "execution_count": 62,
   "metadata": {},
   "outputs": [],
   "source": [
    "class GenerateSearchQuery(Signature):\n",
    "    \"\"\"Write a simple search query that help to answer complex question\"\"\"\n",
    "    context = InputField(desc=\"may contain relevant facts\")\n",
    "    # Sending in the context\n",
    "    question = InputField()  # Sending the question that we are solving\n",
    "    query = OutputField()  # we are asking for a query to LLM"
   ]
  },
  {
   "cell_type": "code",
   "execution_count": 65,
   "metadata": {},
   "outputs": [],
   "source": [
    "from dsp.utils import deduplicate\n",
    "\n",
    "class SimplifiedBaleen(Module):\n",
    "    def __init__(self, passages_per_hop=2, max_hops=2):\n",
    "        super().__init__()\n",
    "\n",
    "        self.generate_query = [ChainOfThought(GenerateSearchQuery) for _ in range(max_hops)]\n",
    "        self.retrieve = Retrieve(k=passages_per_hop)\n",
    "        self.generate_answer = ChainOfThought(GenerateAnswer)\n",
    "        self.max_hops = max_hops\n",
    "\n",
    "    def forward(self, question):\n",
    "        context = []\n",
    "\n",
    "        for hop in range(self.max_hops):\n",
    "            query = self.generate_query[hop](contex=context, question=question).query\n",
    "            # above will generate query\n",
    "            passage = self.retrieve(query).passages\n",
    "            # extract the passage for that query\n",
    "            context = deduplicate(context + passage)\n",
    "            # deduplicate the context and passages\n",
    "        \n",
    "        pred = self.generate_answer(context=context, question=question)\n",
    "        # generate the answer from the overall contexts\n",
    "        return Prediction(context=context, answer=pred.answer)"
   ]
  },
  {
   "cell_type": "code",
   "execution_count": 66,
   "metadata": {},
   "outputs": [
    {
     "name": "stdout",
     "output_type": "stream",
     "text": [
      "WARNING: Not all input fields were provided to module. Present: ['question']. Missing: ['context'].\n",
      "WARNING: Not all input fields were provided to module. Present: ['question']. Missing: ['context'].\n",
      "Question: How many storeys are in the castle that David Gregory Inherited\n",
      "Pred answser: 3\n",
      "The contexts: ['David Gregory (physician) | David Gregory (20 December 1625 – 1720) was a Scottish physician and inventor. His surname is sometimes spelt as Gregorie, the original Scottish spelling. He inherited Kinn...', 'List of owners of Warwick Castle | Warwick Castle, in Warwickshire, UK, was first constructed in 1068. Over its 950 years of history it has been owned by 36 different individuals, plus four periods as...']\n"
     ]
    }
   ],
   "source": [
    "my_que = \"How many storeys are in the castle that David Gregory Inherited\"\n",
    "\n",
    "uncompiled_baleen = SimplifiedBaleen()\n",
    "pred = uncompiled_baleen(question=my_que)\n",
    "\n",
    "print(f\"Question: {my_que}\")\n",
    "print(f\"Pred answser: {pred.answer}\")\n",
    "print(f\"The contexts: {[c[:200] + '...' for c in pred.context]}\")"
   ]
  },
  {
   "cell_type": "code",
   "execution_count": 68,
   "metadata": {},
   "outputs": [
    {
     "name": "stdout",
     "output_type": "stream",
     "text": [
      "\n",
      "\n",
      "\n",
      "\n",
      "Answer question with short factoid answers.\n",
      "\n",
      "---\n",
      "\n",
      "Follow the following format.\n",
      "\n",
      "Context: may contain relevant facts\n",
      "\n",
      "Question: ${question}\n",
      "\n",
      "Reasoning: Let's think step by step in order to ${produce the answer}. We ...\n",
      "\n",
      "Answer: Often between 1 and 5 words\n",
      "\n",
      "---\n",
      "\n",
      "Question: How many storeys are in the castle that David Gregory Inherited\n",
      "\n",
      "Reasoning: Let's think step by step in order to\u001b[32m determine the number of storeys in the castle.\n",
      "\n",
      "Answer: Three\u001b[0m\n",
      "\n",
      "\n",
      "\n",
      "\n",
      "\n",
      "\n",
      "\n",
      "Answer question with short factoid answers.\n",
      "\n",
      "---\n",
      "\n",
      "Follow the following format.\n",
      "\n",
      "Context: may contain relevant facts\n",
      "\n",
      "Question: ${question}\n",
      "\n",
      "Reasoning: Let's think step by step in order to ${produce the answer}. We ...\n",
      "\n",
      "Answer: Often between 1 and 5 words\n",
      "\n",
      "---\n",
      "\n",
      "Context:\n",
      "determine the number of storeys in the castle.\n",
      "\n",
      "Answer: Three\n",
      "\n",
      "Question: How many storeys are in the castle that David Gregory Inherited\n",
      "\n",
      "Reasoning: Let's think step by step in order to\u001b[32m produce the answer. We know that the castle David Gregory inherited has three storeys. \n",
      "\n",
      "Answer: Three\u001b[0m\n",
      "\n",
      "\n",
      "\n",
      "\n",
      "\n",
      "\n",
      "\n",
      "Write a simple search query that help to answer complex question\n",
      "\n",
      "---\n",
      "\n",
      "Follow the following format.\n",
      "\n",
      "Context: may contain relevant facts\n",
      "\n",
      "Question: ${question}\n",
      "\n",
      "Reasoning: Let's think step by step in order to ${produce the query}. We ...\n",
      "\n",
      "Query: ${query}\n",
      "\n",
      "---\n",
      "\n",
      "Question: How many storeys are in the castle that David Gregory Inherited\n",
      "\n",
      "Reasoning: Let's think step by step in order to\u001b[32m produce the query. We know that David Gregory inherited a castle, and we need to find out how many storeys it has. To do this, we can search for information about the castle's architecture and layout.\n",
      "\n",
      "Query: \"Number of storeys in castle inherited by David Gregory\"\u001b[0m\n",
      "\n",
      "\n",
      "\n",
      "\n",
      "\n",
      "\n",
      "\n",
      "Write a simple search query that help to answer complex question\n",
      "\n",
      "---\n",
      "\n",
      "Follow the following format.\n",
      "\n",
      "Context: may contain relevant facts\n",
      "\n",
      "Question: ${question}\n",
      "\n",
      "Reasoning: Let's think step by step in order to ${produce the query}. We ...\n",
      "\n",
      "Query: ${query}\n",
      "\n",
      "---\n",
      "\n",
      "Context:\n",
      "produce the query. We know that David Gregory inherited a castle, and we need to find out how many storeys it has. To do this, we can search for information about the castle's architecture and layout.\n",
      "\n",
      "Query: \"Number of storeys in castle inherited by David Gregory\"\n",
      "\n",
      "Question: How many storeys are in the castle that David Gregory Inherited\n",
      "\n",
      "Reasoning: Let's think step by step in order to\u001b[32m produce the query. We know that David Gregory inherited a castle, and we need to find out how many storeys it has. To do this, we can search for information about the castle's architecture and layout.\n",
      "\n",
      "Query: \"Number of storeys in castle inherited by David Gregory\"\u001b[0m\n",
      "\n",
      "\n",
      "\n",
      "\n",
      "\n",
      "\n",
      "\n",
      "Write a simple search query that help to answer complex question\n",
      "\n",
      "---\n",
      "\n",
      "Follow the following format.\n",
      "\n",
      "Context: may contain relevant facts\n",
      "\n",
      "Question: ${question}\n",
      "\n",
      "Reasoning: Let's think step by step in order to ${produce the query}. We ...\n",
      "\n",
      "Query: ${query}\n",
      "\n",
      "---\n",
      "\n",
      "Question: How many storeys are in the castle that David Gregory Inherited\n",
      "\n",
      "Reasoning: Let's think step by step in order to\u001b[32m produce the query. We know that David Gregory inherited a castle, and we need to find out how many storeys it has. To do this, we can search for information about the castle's architecture and layout.\n",
      "\n",
      "Query: \"Number of storeys in castle inherited by David Gregory\"\u001b[0m\n",
      "\n",
      "\n",
      "\n",
      "\n",
      "\n",
      "\n",
      "\n",
      "Write a simple search query that help to answer complex question\n",
      "\n",
      "---\n",
      "\n",
      "Follow the following format.\n",
      "\n",
      "Context: may contain relevant facts\n",
      "\n",
      "Question: ${question}\n",
      "\n",
      "Reasoning: Let's think step by step in order to ${produce the query}. We ...\n",
      "\n",
      "Query: ${query}\n",
      "\n",
      "---\n",
      "\n",
      "Context:\n",
      "produce the query. We know that David Gregory inherited a castle, and we need to find out how many storeys it has. To do this, we can search for information about the castle's architecture and layout.\n",
      "\n",
      "Query: \"Number of storeys in castle inherited by David Gregory\"\n",
      "\n",
      "Question: How many storeys are in the castle that David Gregory Inherited\n",
      "\n",
      "Reasoning: Let's think step by step in order to\u001b[32m produce the query. We know that David Gregory inherited a castle, and we need to find out how many storeys it has. To do this, we can search for information about the castle's architecture and layout.\n",
      "\n",
      "Query: \"Number of storeys in castle inherited by David Gregory\"\u001b[0m\n",
      "\n",
      "\n",
      "\n",
      "\n",
      "\n",
      "\n",
      "\n",
      "Answer question with short factoid answers.\n",
      "\n",
      "---\n",
      "\n",
      "Follow the following format.\n",
      "\n",
      "Context: may contain relevant facts\n",
      "\n",
      "Question: ${question}\n",
      "\n",
      "Reasoning: Let's think step by step in order to ${produce the answer}. We ...\n",
      "\n",
      "Answer: Often between 1 and 5 words\n",
      "\n",
      "---\n",
      "\n",
      "Context:\n",
      "[1] «David Gregory (physician) | David Gregory (20 December 1625 – 1720) was a Scottish physician and inventor. His surname is sometimes spelt as Gregorie, the original Scottish spelling. He inherited Kinnairdy Castle in 1664. Three of his twenty-nine children became mathematics professors. He is credited with inventing a military cannon that Isaac Newton described as \"being destructive to the human species\". Copies and details of the model no longer exist. Gregory's use of a barometer to predict farming-related weather conditions led him to be accused of witchcraft by Presbyterian ministers from Aberdeen, although he was never convicted.»\n",
      "[2] «List of owners of Warwick Castle | Warwick Castle, in Warwickshire, UK, was first constructed in 1068. Over its 950 years of history it has been owned by 36 different individuals, plus four periods as crown property under seven different monarchs. It was the family seat of three separate creations of the Earls of Warwick, and has been a family home for members of the Beaumont, Beauchamp, Neville, Plantagenet, Dudley and Greville families. The first creation of the Earldom, in 1088, specifically included the right of inheritance through the female line, so the castle three times had a woman (or girl) as the owner. Eleven of the owners were under 20 when they inherited, including a girl aged two and a boy aged three. At least three owners died in battle, two were executed and one was murdered.»\n",
      "\n",
      "Question: How many storeys are in the castle that David Gregory Inherited\n",
      "\n",
      "Reasoning: Let's think step by step in order to\u001b[32m Answer: 3\u001b[0m\n",
      "\n",
      "\n",
      "\n",
      "\n",
      "\n",
      "\n",
      "\n",
      "Answer question with short factoid answers.\n",
      "\n",
      "---\n",
      "\n",
      "Follow the following format.\n",
      "\n",
      "Context: may contain relevant facts\n",
      "\n",
      "Question: ${question}\n",
      "\n",
      "Reasoning: Let's think step by step in order to ${produce the answer}. We ...\n",
      "\n",
      "Answer: Often between 1 and 5 words\n",
      "\n",
      "---\n",
      "\n",
      "Context:\n",
      "[1] «David Gregory (physician) | David Gregory (20 December 1625 – 1720) was a Scottish physician and inventor. His surname is sometimes spelt as Gregorie, the original Scottish spelling. He inherited Kinnairdy Castle in 1664. Three of his twenty-nine children became mathematics professors. He is credited with inventing a military cannon that Isaac Newton described as \"being destructive to the human species\". Copies and details of the model no longer exist. Gregory's use of a barometer to predict farming-related weather conditions led him to be accused of witchcraft by Presbyterian ministers from Aberdeen, although he was never convicted.»\n",
      "[2] «List of owners of Warwick Castle | Warwick Castle, in Warwickshire, UK, was first constructed in 1068. Over its 950 years of history it has been owned by 36 different individuals, plus four periods as crown property under seven different monarchs. It was the family seat of three separate creations of the Earls of Warwick, and has been a family home for members of the Beaumont, Beauchamp, Neville, Plantagenet, Dudley and Greville families. The first creation of the Earldom, in 1088, specifically included the right of inheritance through the female line, so the castle three times had a woman (or girl) as the owner. Eleven of the owners were under 20 when they inherited, including a girl aged two and a boy aged three. At least three owners died in battle, two were executed and one was murdered.»\n",
      "\n",
      "Question: How many storeys are in the castle that David Gregory Inherited\n",
      "\n",
      "Reasoning: Let's think step by step in order to Answer: 3\n",
      "\n",
      "Answer:\u001b[32m 3\u001b[0m\n",
      "\n",
      "\n",
      "\n"
     ]
    }
   ],
   "source": [
    "turbo.inspect_history(n=8)"
   ]
  },
  {
   "cell_type": "markdown",
   "metadata": {},
   "source": [
    "#### Implementing validation logic for query, and answer generate"
   ]
  },
  {
   "cell_type": "code",
   "execution_count": 69,
   "metadata": {},
   "outputs": [],
   "source": [
    "from dspy.evaluate import answer_exact_match_str\n",
    "\n",
    "def validate_context_and_answer_and_hops(example, pred, trace=None):\n",
    "\n",
    "    # The predicted answer matches the gold answer.\n",
    "    if not answer_exact_match(example, pred): return False\n",
    "    # The retrieved context contains the gold answer.\n",
    "    if not answer_passage_match(example, pred): return False\n",
    "\n",
    "    hops = [example.question] + [outputs.query for *_, outputs in trace if 'query' in outputs]\n",
    "\n",
    "    # None of the generated queries is rambling (i.e., none exceeds 100 characters in length).\n",
    "    if max([len(h) for h in hops]) > 100: return False\n",
    "    # None of the generated queries is roughly repeated (i.e., none is within 0.8 or higher F1 score of earlier queries).\n",
    "    if any(answer_exact_match_str(hops[idx], hops[:idx], frac=0.8) for idx in range(2, len(hops))): return False\n",
    "\n",
    "    return True"
   ]
  },
  {
   "cell_type": "code",
   "execution_count": 70,
   "metadata": {},
   "outputs": [
    {
     "name": "stderr",
     "output_type": "stream",
     "text": [
      "  0%|          | 0/20 [00:00<?, ?it/s]"
     ]
    },
    {
     "name": "stdout",
     "output_type": "stream",
     "text": [
      "WARNING: Not all input fields were provided to module. Present: ['question']. Missing: ['context'].\n",
      "WARNING: Not all input fields were provided to module. Present: ['question']. Missing: ['context'].\n"
     ]
    },
    {
     "name": "stderr",
     "output_type": "stream",
     "text": [
      "  5%|▌         | 1/20 [00:04<01:19,  4.20s/it]"
     ]
    },
    {
     "name": "stdout",
     "output_type": "stream",
     "text": [
      "WARNING: Not all input fields were provided to module. Present: ['question']. Missing: ['context'].\n",
      "WARNING: Not all input fields were provided to module. Present: ['question']. Missing: ['context'].\n"
     ]
    },
    {
     "name": "stderr",
     "output_type": "stream",
     "text": [
      " 10%|█         | 2/20 [00:10<01:35,  5.29s/it]"
     ]
    },
    {
     "name": "stdout",
     "output_type": "stream",
     "text": [
      "WARNING: Not all input fields were provided to module. Present: ['question']. Missing: ['context'].\n",
      "WARNING: Not all input fields were provided to module. Present: ['question']. Missing: ['context'].\n"
     ]
    },
    {
     "name": "stderr",
     "output_type": "stream",
     "text": [
      " 15%|█▌        | 3/20 [00:15<01:27,  5.15s/it]"
     ]
    },
    {
     "name": "stdout",
     "output_type": "stream",
     "text": [
      "WARNING: Not all input fields were provided to module. Present: ['question']. Missing: ['context'].\n",
      "WARNING: Not all input fields were provided to module. Present: ['question']. Missing: ['context'].\n"
     ]
    },
    {
     "name": "stderr",
     "output_type": "stream",
     "text": [
      " 20%|██        | 4/20 [00:20<01:22,  5.16s/it]"
     ]
    },
    {
     "name": "stdout",
     "output_type": "stream",
     "text": [
      "WARNING: Not all input fields were provided to module. Present: ['question']. Missing: ['context'].\n",
      "WARNING: Not all input fields were provided to module. Present: ['question']. Missing: ['context'].\n"
     ]
    },
    {
     "name": "stderr",
     "output_type": "stream",
     "text": [
      " 25%|██▌       | 5/20 [00:24<01:14,  4.94s/it]"
     ]
    },
    {
     "name": "stdout",
     "output_type": "stream",
     "text": [
      "WARNING: Not all input fields were provided to module. Present: ['question']. Missing: ['context'].\n",
      "WARNING: Not all input fields were provided to module. Present: ['question']. Missing: ['context'].\n"
     ]
    },
    {
     "name": "stderr",
     "output_type": "stream",
     "text": [
      " 30%|███       | 6/20 [00:30<01:11,  5.12s/it]"
     ]
    },
    {
     "name": "stdout",
     "output_type": "stream",
     "text": [
      "WARNING: Not all input fields were provided to module. Present: ['question']. Missing: ['context'].\n",
      "WARNING: Not all input fields were provided to module. Present: ['question']. Missing: ['context'].\n"
     ]
    },
    {
     "name": "stderr",
     "output_type": "stream",
     "text": [
      " 35%|███▌      | 7/20 [00:35<01:05,  5.03s/it]"
     ]
    },
    {
     "name": "stdout",
     "output_type": "stream",
     "text": [
      "WARNING: Not all input fields were provided to module. Present: ['question']. Missing: ['context'].\n",
      "WARNING: Not all input fields were provided to module. Present: ['question']. Missing: ['context'].\n"
     ]
    },
    {
     "name": "stderr",
     "output_type": "stream",
     "text": [
      " 40%|████      | 8/20 [00:40<01:00,  5.08s/it]"
     ]
    },
    {
     "name": "stdout",
     "output_type": "stream",
     "text": [
      "WARNING: Not all input fields were provided to module. Present: ['question']. Missing: ['context'].\n",
      "WARNING: Not all input fields were provided to module. Present: ['question']. Missing: ['context'].\n"
     ]
    },
    {
     "name": "stderr",
     "output_type": "stream",
     "text": [
      " 45%|████▌     | 9/20 [00:45<00:55,  5.02s/it]"
     ]
    },
    {
     "name": "stdout",
     "output_type": "stream",
     "text": [
      "WARNING: Not all input fields were provided to module. Present: ['question']. Missing: ['context'].\n",
      "WARNING: Not all input fields were provided to module. Present: ['question']. Missing: ['context'].\n"
     ]
    },
    {
     "name": "stderr",
     "output_type": "stream",
     "text": [
      " 50%|█████     | 10/20 [00:50<00:49,  4.91s/it]"
     ]
    },
    {
     "name": "stdout",
     "output_type": "stream",
     "text": [
      "WARNING: Not all input fields were provided to module. Present: ['question']. Missing: ['context'].\n",
      "WARNING: Not all input fields were provided to module. Present: ['question']. Missing: ['context'].\n"
     ]
    },
    {
     "name": "stderr",
     "output_type": "stream",
     "text": [
      " 55%|█████▌    | 11/20 [00:56<00:48,  5.42s/it]"
     ]
    },
    {
     "name": "stdout",
     "output_type": "stream",
     "text": [
      "WARNING: Not all input fields were provided to module. Present: ['question']. Missing: ['context'].\n",
      "WARNING: Not all input fields were provided to module. Present: ['question']. Missing: ['context'].\n"
     ]
    },
    {
     "name": "stderr",
     "output_type": "stream",
     "text": [
      " 60%|██████    | 12/20 [01:01<00:43,  5.40s/it]"
     ]
    },
    {
     "name": "stdout",
     "output_type": "stream",
     "text": [
      "WARNING: Not all input fields were provided to module. Present: ['question']. Missing: ['context'].\n",
      "WARNING: Not all input fields were provided to module. Present: ['question']. Missing: ['context'].\n"
     ]
    },
    {
     "name": "stderr",
     "output_type": "stream",
     "text": [
      " 65%|██████▌   | 13/20 [01:07<00:37,  5.41s/it]"
     ]
    },
    {
     "name": "stdout",
     "output_type": "stream",
     "text": [
      "WARNING: Not all input fields were provided to module. Present: ['question']. Missing: ['context'].\n",
      "WARNING: Not all input fields were provided to module. Present: ['question']. Missing: ['context'].\n"
     ]
    },
    {
     "name": "stderr",
     "output_type": "stream",
     "text": [
      " 70%|███████   | 14/20 [01:11<00:30,  5.14s/it]"
     ]
    },
    {
     "name": "stdout",
     "output_type": "stream",
     "text": [
      "WARNING: Not all input fields were provided to module. Present: ['question']. Missing: ['context'].\n",
      "WARNING: Not all input fields were provided to module. Present: ['question']. Missing: ['context'].\n"
     ]
    },
    {
     "name": "stderr",
     "output_type": "stream",
     "text": [
      " 75%|███████▌  | 15/20 [01:17<00:26,  5.24s/it]"
     ]
    },
    {
     "name": "stdout",
     "output_type": "stream",
     "text": [
      "WARNING: Not all input fields were provided to module. Present: ['question']. Missing: ['context'].\n",
      "WARNING: Not all input fields were provided to module. Present: ['question']. Missing: ['context'].\n"
     ]
    },
    {
     "name": "stderr",
     "output_type": "stream",
     "text": [
      " 80%|████████  | 16/20 [01:22<00:20,  5.13s/it]"
     ]
    },
    {
     "name": "stdout",
     "output_type": "stream",
     "text": [
      "WARNING: Not all input fields were provided to module. Present: ['question']. Missing: ['context'].\n",
      "WARNING: Not all input fields were provided to module. Present: ['question']. Missing: ['context'].\n"
     ]
    },
    {
     "name": "stderr",
     "output_type": "stream",
     "text": [
      " 85%|████████▌ | 17/20 [01:26<00:14,  4.85s/it]"
     ]
    },
    {
     "name": "stdout",
     "output_type": "stream",
     "text": [
      "WARNING: Not all input fields were provided to module. Present: ['question']. Missing: ['context'].\n",
      "WARNING: Not all input fields were provided to module. Present: ['question']. Missing: ['context'].\n"
     ]
    },
    {
     "name": "stderr",
     "output_type": "stream",
     "text": [
      " 90%|█████████ | 18/20 [01:31<00:09,  4.84s/it]"
     ]
    },
    {
     "name": "stdout",
     "output_type": "stream",
     "text": [
      "WARNING: Not all input fields were provided to module. Present: ['question']. Missing: ['context'].\n",
      "WARNING: Not all input fields were provided to module. Present: ['question']. Missing: ['context'].\n"
     ]
    },
    {
     "name": "stderr",
     "output_type": "stream",
     "text": [
      " 95%|█████████▌| 19/20 [01:37<00:05,  5.12s/it]"
     ]
    },
    {
     "name": "stdout",
     "output_type": "stream",
     "text": [
      "WARNING: Not all input fields were provided to module. Present: ['question']. Missing: ['context'].\n",
      "WARNING: Not all input fields were provided to module. Present: ['question']. Missing: ['context'].\n"
     ]
    },
    {
     "name": "stderr",
     "output_type": "stream",
     "text": [
      "100%|██████████| 20/20 [01:41<00:00,  5.10s/it]"
     ]
    },
    {
     "name": "stdout",
     "output_type": "stream",
     "text": [
      "Bootstrapped 0 full traces after 20 examples in round 0.\n"
     ]
    },
    {
     "name": "stderr",
     "output_type": "stream",
     "text": [
      "\n"
     ]
    }
   ],
   "source": [
    "opti = BootstrapFewShot(metric=validate_context_and_answer_and_hops)\n",
    "\n",
    "compiled_baleen = opti.compile(SimplifiedBaleen(), \n",
    "                               teacher=SimplifiedBaleen(passages_per_hop=2),\n",
    "                               trainset=trainset)"
   ]
  },
  {
   "cell_type": "code",
   "execution_count": 71,
   "metadata": {},
   "outputs": [],
   "source": [
    "# Set up the `evaluate_on_hotpotqa` function. We'll use this many times below.\n",
    "evaluate_on_hotpotqa = Evaluate(devset=evalset,\n",
    "                                num_threads=1,\n",
    "                                display_progress=True,\n",
    "                                display_table=5)\n"
   ]
  },
  {
   "cell_type": "code",
   "execution_count": null,
   "metadata": {},
   "outputs": [],
   "source": [
    "uncompiled_baleen_retrieval_score = evaluate_on_hotpotqa(uncompiled_baleen,\n",
    "                                                         metric=gold_passages_retrieved,\n",
    "                                                         display=False)"
   ]
  },
  {
   "cell_type": "code",
   "execution_count": null,
   "metadata": {},
   "outputs": [],
   "source": [
    "print(f\"## Retrieval Score for uncompiled Baleen: {uncompiled_baleen_retrieval_score}\")"
   ]
  },
  {
   "cell_type": "code",
   "execution_count": null,
   "metadata": {},
   "outputs": [],
   "source": [
    "compiled_baleen_retrieval_score = evaluate_on_hotpotqa(compiled_baleen,\n",
    "                                                       metric=gold_passages_retrieved)\n",
    "\n",
    "\n",
    "print(f\"## Retrieval Score for compiled Baleen: {compiled_baleen_retrieval_score}\")"
   ]
  },
  {
   "cell_type": "code",
   "execution_count": null,
   "metadata": {},
   "outputs": [],
   "source": []
  }
 ],
 "metadata": {
  "kernelspec": {
   "display_name": "Python 3",
   "language": "python",
   "name": "python3"
  },
  "language_info": {
   "codemirror_mode": {
    "name": "ipython",
    "version": 3
   },
   "file_extension": ".py",
   "mimetype": "text/x-python",
   "name": "python",
   "nbconvert_exporter": "python",
   "pygments_lexer": "ipython3",
   "version": "3.11.4"
  }
 },
 "nbformat": 4,
 "nbformat_minor": 2
}
